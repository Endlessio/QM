{
 "cells": [
  {
   "cell_type": "markdown",
   "metadata": {},
   "source": [
    "# Lecture 2: Quantum States"
   ]
  },
  {
   "cell_type": "markdown",
   "metadata": {},
   "source": [
    "email: dsweetser@alum.mit.edu"
   ]
  },
  {
   "cell_type": "markdown",
   "metadata": {},
   "source": [
    "With lecture 1 in the books, this one should be pretty simple and direct. The working hypothesis is that there is an equivalence relation between the way quantum mechanics is represented using a complex-valued vector space and quaternion series. Every calculation done the standard way in lecture 1 was done with quaternion series for the companion iPython notebook. Continue that process with Lecture 2 which fortunately is shorter. It is also simpler, focusing on spin, something that can be described as best we can do with two quantum states. Set up our math tools."
   ]
  },
  {
   "cell_type": "code",
   "execution_count": 1,
   "metadata": {},
   "outputs": [],
   "source": [
    "%%capture\n",
    "%matplotlib inline\n",
    "import numpy as np\n",
    "import sympy as sp\n",
    "import matplotlib.pyplot as plt\n",
    "\n",
    "# To get equations the look like, well, equations, use the following.\n",
    "from sympy.interactive import printing\n",
    "printing.init_printing(use_latex=True)\n",
    "from IPython.display import display\n",
    "\n",
    "# Tools for manipulating quaternions.\n",
    "import Q_tools as qt;\n",
    "\n",
    "from IPython.core.display import display, HTML, Math, Latex\n",
    "display(HTML(\"<style>.container { width:100% !important; }</style>\"))"
   ]
  },
  {
   "cell_type": "markdown",
   "metadata": {},
   "source": [
    "![](images/lecture_2/lecture_2_p_35_1.50.jpg)"
   ]
  },
  {
   "cell_type": "markdown",
   "metadata": {},
   "source": [
    "Exactly. I was happy to see that phrase be written in italics. Each moment in our lives either is before another moment, after another moment, or exactly the same moment. The set of moments of our lives is a completely ordered set. Now think about a room of people. Each as their ordered set of moments, but how should one organize both the time and place of all these people? The space-time location of all these people cannot form a completely ordered set. Once could design a way to order them, but there is no universal way to do so.\n",
    "\n",
    "Hydrogen is the most abundant atom in the Universe. Its quantum behavior is exceptionally precise as indicated by the atomic spectra Balmer series. If a hydrogen atom gets excited, due to the quantization of angular momentum, it can only emit light at precise frequencies. We cannot know when it will emit light, but the frequencies are fixed."
   ]
  },
  {
   "cell_type": "markdown",
   "metadata": {},
   "source": [
    "![](images/lecture_2/lecture_2_p_36_1.50.jpg)"
   ]
  },
  {
   "cell_type": "markdown",
   "metadata": {},
   "source": [
    "I am in the second class. My montra is that quantum mechanics as done today is formally exactly right, but it is not right enough. Most of the progress that needs to be done is in phase spaces that are not even written down. Instead of just the one Schrödinger equation, there are three mixed derivative differential equations that I can write down but do not understand how to use productively. That is for another Lecture. A new proposal I have for how gravity works, quaternion gravity, is based on terms that are not in the canonical lexicon of physics. That example however is not quantum mechanical other that to say if true, the graviton as a material expression of a gravity field does not exist. Instead, special relativity sets some precise rules about what equations can be used to describe Nature. Gravity imposes a different set of rules on all equations. I know these are huge claims not back up by supporting evidence here. Bottom line: things are great, and they can become greater, but it will require a crazy amount of work, hence these notebooks."
   ]
  },
  {
   "cell_type": "markdown",
   "metadata": {},
   "source": [
    "![](images/lecture_2/lecture_2_p_38_1.50.jpg)"
   ]
  },
  {
   "cell_type": "markdown",
   "metadata": {},
   "source": [
    "![](images/lecture_2/lecture_2_p_47_1.50.jpg)"
   ]
  },
  {
   "cell_type": "markdown",
   "metadata": {},
   "source": [
    "These two clips are actually some 11 pages apart. The authors made a decision to use the abtractions of $|u>$ and $|d>$ for from page 38 to 47 so the user would know that no matter what choice was made to represent those two states, it would flow to every statement that followed. That is how abstractions work. The first time I constructed this notebook, I actually used the imaginary $i$ in place of the real number $1$, so I know the abstraction works as is. \n",
    "\n",
    "The working hypothesis a (possibly infinite) series of quaternions has the same algebraic properties of Hilbert spaces when one uses the Euclidean product, $A^* B = \\sum_{1}^{n} a_n^* b_n$. For n=2:"
   ]
  },
  {
   "cell_type": "markdown",
   "metadata": {},
   "source": [
    "![AxB.png](images/lecture_2/AxB.png)"
   ]
  },
  {
   "cell_type": "code",
   "execution_count": 17,
   "metadata": {},
   "outputs": [
    {
     "name": "stdout",
     "output_type": "stream",
     "text": [
      "|u>\n",
      "n=1: (1, 0, 0, 0) 1\n",
      "n=2: (0, 0, 0, 0) 0\n",
      "ket: 2/1\n",
      "\n",
      "|d>\n",
      "n=1: (0, 0, 0, 0) 0\n",
      "n=2: (1, 0, 0, 0) 1\n",
      "ket: 2/1\n",
      "\n"
     ]
    }
   ],
   "source": [
    "q_0, q_1, q_i, q_j, q_k = qt.QH().q_0(), qt.QH().q_1(), qt.QH().q_i(), qt.QH().q_j(), qt.QH().q_k()\n",
    "\n",
    "u = qt.QHStates([q_1, q_0])\n",
    "d = qt.QHStates([q_0, q_1])\n",
    "\n",
    "u.print_state(\"|u>\")\n",
    "d.print_state(\"|d>\")"
   ]
  },
  {
   "cell_type": "markdown",
   "metadata": {},
   "source": [
    "![](images/lecture_2/lecture_2_p_38_2.50.jpg)"
   ]
  },
  {
   "cell_type": "markdown",
   "metadata": {},
   "source": [
    "Construct a general A, not setting any values."
   ]
  },
  {
   "cell_type": "code",
   "execution_count": 16,
   "metadata": {},
   "outputs": [
    {
     "name": "stdout",
     "output_type": "stream",
     "text": [
      "|A>\n",
      "n=1: (At1, Ax1, Ay1, Az1) a₁\n",
      "n=2: (At2, Ax2, Ay2, Az2) a₂\n",
      "ket: 2/1\n",
      "\n"
     ]
    }
   ],
   "source": [
    "At1, Ax1, Ay1, Az1 = sp.symbols(\"At1 Ax1 Ay1 Az1\")\n",
    "At2, Ax2, Ay2, Az2 = sp.symbols(\"At2 Ax2 Ay2 Az2\")\n",
    "Aq1 = qt.QH([At1, Ax1, Ay1, Az1], qtype=\"a₁\")\n",
    "Aq2 = qt.QH([At2, Ax2, Ay2, Az2], qtype=\"a₂\")\n",
    "A = qt.QHStates([Aq1, Aq2])\n",
    "A.print_state(\"|A>\")"
   ]
  },
  {
   "cell_type": "markdown",
   "metadata": {},
   "source": [
    "Calculation the components."
   ]
  },
  {
   "cell_type": "code",
   "execution_count": 4,
   "metadata": {},
   "outputs": [
    {
     "name": "stdout",
     "output_type": "stream",
     "text": [
      "<u|A>\n",
      "n=1: (At1, Ax1, Ay1, Az1) +1*xa₁+0*xa₂\n",
      "scalar: 1/1\n",
      "\n",
      "<d|A>\n",
      "n=1: (At2, Ax2, Ay2, Az2) +0*xa₁+1*xa₂\n",
      "scalar: 1/1\n",
      "\n"
     ]
    }
   ],
   "source": [
    "uA = u.bra().Euclidean_product(A)\n",
    "uA.print_state(\"<u|A>\")\n",
    "dA = d.bra().Euclidean_product(A)\n",
    "dA.print_state(\"<d|A>\")"
   ]
  },
  {
   "cell_type": "markdown",
   "metadata": {},
   "source": [
    "That was easy. As different basis vectors are constructed, the 8 values that go into $A$ will shift around."
   ]
  },
  {
   "cell_type": "markdown",
   "metadata": {},
   "source": [
    "![](images/lecture_2/lecture_2_p_39_1.50.jpg)"
   ]
  },
  {
   "cell_type": "markdown",
   "metadata": {},
   "source": [
    "Simpe enough to calculate."
   ]
  },
  {
   "cell_type": "markdown",
   "metadata": {},
   "source": [
    "![](images/lecture_2/lecture_2_p_39_2.50.jpg)"
   ]
  },
  {
   "cell_type": "code",
   "execution_count": 5,
   "metadata": {},
   "outputs": [
    {
     "name": "stdout",
     "output_type": "stream",
     "text": [
      "|αu|²\n",
      "n=1: (At1**2 + Ax1**2 + Ay1**2 + Az1**2, 0, 0, 0) ++1*xa₁+0*xa₂*x+1*xa₁+0*xa₂\n",
      "scalar: 1/1\n",
      "\n",
      "|αd|²\n",
      "n=1: (At2**2 + Ax2**2 + Ay2**2 + Az2**2, 0, 0, 0) ++0*xa₁+1*xa₂*x+0*xa₁+1*xa₂\n",
      "scalar: 1/1\n",
      "\n"
     ]
    }
   ],
   "source": [
    "uA.norm_squared().print_state(\"|αu|²\")\n",
    "dA.norm_squared().print_state(\"|αd|²\")"
   ]
  },
  {
   "cell_type": "markdown",
   "metadata": {},
   "source": [
    "Everything evaluates to the expected positive real value. The up probability of spin is all from the first quaternion, while the down probability is all from the second quaternion. Quite clean and simple."
   ]
  },
  {
   "cell_type": "markdown",
   "metadata": {},
   "source": [
    "![](images/lecture_2/lecture_2_p_39_3.50.jpg)"
   ]
  },
  {
   "cell_type": "markdown",
   "metadata": {},
   "source": [
    "For this representation, it is obvious so I will do just one."
   ]
  },
  {
   "cell_type": "code",
   "execution_count": 9,
   "metadata": {},
   "outputs": [
    {
     "name": "stdout",
     "output_type": "stream",
     "text": [
      "<u|d>\n",
      "n=1: (0, 0, 0, 0) +1*x0+0*x1\n",
      "scalar: 1/1\n",
      "\n"
     ]
    }
   ],
   "source": [
    "ud = u.bra().Euclidean_product(d)\n",
    "ud.print_state(\"<u|d>\")"
   ]
  },
  {
   "cell_type": "markdown",
   "metadata": {},
   "source": [
    "![](images/lecture_2/lecture_2_p_40_1.50.jpg)"
   ]
  },
  {
   "cell_type": "markdown",
   "metadata": {},
   "source": [
    "Nice and clear, and easy to calculate."
   ]
  },
  {
   "cell_type": "markdown",
   "metadata": {},
   "source": [
    "![](images/lecture_2/lecture_2_p_40_2.50.jpg)"
   ]
  },
  {
   "cell_type": "markdown",
   "metadata": {},
   "source": [
    "Normalization is a simple enough trick to do."
   ]
  },
  {
   "cell_type": "code",
   "execution_count": 10,
   "metadata": {},
   "outputs": [
    {
     "name": "stdout",
     "output_type": "stream",
     "text": [
      "A, normalized\n",
      "n=1: (0.707106781186548*At1*(At1**2 + Ax1**2 + Ay1**2 + Az1**2)**(-0.5), 0.707106781186548*Ax1*(At1**2 + Ax1**2 + Ay1**2 + Az1**2)**(-0.5), 0.707106781186548*Ay1*(At1**2 + Ax1**2 + Ay1**2 + Az1**2)**(-0.5), 0.707106781186548*Az1*(At1**2 + Ax1**2 + Ay1**2 + Az1**2)**(-0.5)) a₁UxQ\n",
      "n=2: (0.707106781186548*At2*(At2**2 + Ax2**2 + Ay2**2 + Az2**2)**(-0.5), 0.707106781186548*Ax2*(At2**2 + Ax2**2 + Ay2**2 + Az2**2)**(-0.5), 0.707106781186548*Ay2*(At2**2 + Ax2**2 + Ay2**2 + Az2**2)**(-0.5), 0.707106781186548*Az2*(At2**2 + Ax2**2 + Ay2**2 + Az2**2)**(-0.5)) a₂UxQ\n",
      "ket: 2/1\n",
      "\n",
      "<An|An>\n",
      "n=1: (0.5*At1**2*(At1**2 + Ax1**2 + Ay1**2 + Az1**2)**(-1.0) + 0.5*At2**2*(At2**2 + Ax2**2 + Ay2**2 + Az2**2)**(-1.0) + 0.5*Ax1**2*(At1**2 + Ax1**2 + Ay1**2 + Az1**2)**(-1.0) + 0.5*Ax2**2*(At2**2 + Ax2**2 + Ay2**2 + Az2**2)**(-1.0) + 0.5*Ay1**2*(At1**2 + Ax1**2 + Ay1**2 + Az1**2)**(-1.0) + 0.5*Ay2**2*(At2**2 + Ax2**2 + Ay2**2 + Az2**2)**(-1.0) + 0.5*Az1**2*(At1**2 + Ax1**2 + Ay1**2 + Az1**2)**(-1.0) + 0.5*Az2**2*(At2**2 + Ax2**2 + Ay2**2 + Az2**2)**(-1.0), 0, 0, 0) +a₁UxQ*xa₁UxQ+a₂UxQ*xa₂UxQ\n",
      "scalar: 1/1\n",
      "\n",
      "simplified t:  0.5*((At1**2 + Ax1**2 + Ay1**2 + Az1**2)*(At2**2 + Ax2**2 + Ay2**2 + Az2**2)**1.0 + (At1**2 + Ax1**2 + Ay1**2 + Az1**2)**1.0*(At2**2 + Ax2**2 + Ay2**2 + Az2**2))*(At1**2 + Ax1**2 + Ay1**2 + Az1**2)**(-1.0)*(At2**2 + Ax2**2 + Ay2**2 + Az2**2)**(-1.0)\n",
      "simplified x:  0\n",
      "simplified y:  0\n",
      "simplified z:  0\n"
     ]
    }
   ],
   "source": [
    "An = A.normalize()\n",
    "An.print_state(\"A, normalized\")\n",
    "Anp = An.norm_squared()\n",
    "Anp.print_state(\"<An|An>\")\n",
    "print(\"simplified t: \", sp.simplify(Anp.qs[0].t))\n",
    "print(\"simplified x: \", sp.simplify(Anp.qs[0].x))\n",
    "print(\"simplified y: \", sp.simplify(Anp.qs[0].y))\n",
    "print(\"simplified z: \", sp.simplify(Anp.qs[0].z))"
   ]
  },
  {
   "cell_type": "markdown",
   "metadata": {},
   "source": [
    "These expressions look crazy complex, but it simplifies down to two factors of a half whose sum is unity."
   ]
  },
  {
   "cell_type": "markdown",
   "metadata": {},
   "source": [
    "![](images/lecture_2/lecture_2_p_41_1.50.jpg)"
   ]
  },
  {
   "cell_type": "markdown",
   "metadata": {},
   "source": [
    "Define $|r>$ and $|L>$ using $|u>$ and $|d>$."
   ]
  },
  {
   "cell_type": "code",
   "execution_count": 15,
   "metadata": {},
   "outputs": [
    {
     "name": "stdout",
     "output_type": "stream",
     "text": [
      "|r>\n",
      "n=1: (0.707106781186548, 0, 0, 0) +Qx1+0x0++Qx0+0x1\n",
      "n=2: (0.707106781186548, 0, 0, 0) +0x1+Qx0++0x0+Qx1\n",
      "ket: 2/1\n",
      "\n",
      "|L>\n",
      "n=1: (0.707106781186548, 0, 0, 0) +Qx1+0x0-+Qx0+0x1\n",
      "n=2: (-0.707106781186548, 0, 0, 0) +0x1+Qx0-+0x0+Qx1\n",
      "ket: 2/1\n",
      "\n"
     ]
    }
   ],
   "source": [
    "sqrt_2op = qt.QHStates([qt.QH([sp.sqrt(1/2), 0, 0, 0])], qs_type=\"op\")\n",
    "\n",
    "u2 = sqrt_2op.product(u)\n",
    "d2 = sqrt_2op.product(d)\n",
    "\n",
    "r = u2.add(d2)\n",
    "L = u2.dif(d2)\n",
    "\n",
    "r.print_state(\"|r>\")\n",
    "L.print_state(\"|L>\")"
   ]
  },
  {
   "cell_type": "markdown",
   "metadata": {},
   "source": [
    "One thing to notices is how complicated the qtype became. For the up and down states, it was either zero or one.  Why is there a sum of four terms? Notices that three of the four terms are zeros. To multiply a quaternion series with two state dimensions by the one over the square root of two takes a diagonal quaternion series with four state dimensions. That requirement is effectively recorded in the qtype.\n",
    "\n",
    "Isn't there something wrong with the sum of $|L>$ being equal to zero? What really matters is taking the norm things, $<L|L>=1$, so the zero ket is not going to create any issues."
   ]
  },
  {
   "cell_type": "markdown",
   "metadata": {},
   "source": [
    "![](images/lecture_2/lecture_2_p_41_2.50.jpg)"
   ]
  },
  {
   "cell_type": "markdown",
   "metadata": {},
   "source": [
    "![](images/lecture_2/lecture_2_p_42_2.50.jpg)"
   ]
  },
  {
   "cell_type": "markdown",
   "metadata": {},
   "source": [
    "Just do it."
   ]
  },
  {
   "cell_type": "code",
   "execution_count": 12,
   "metadata": {},
   "outputs": [
    {
     "name": "stdout",
     "output_type": "stream",
     "text": [
      "<r|r>\n",
      "n=1: (1.00000000000000, 0, 0, 0) ++Qx1+0x0++Qx0+0x1*x+Qx1+0x0++Qx0+0x1++0x1+Qx0++0x0+Qx1*x+0x1+Qx0++0x0+Qx1\n",
      "scalar: 1/1\n",
      "\n",
      "<L|L>\n",
      "n=1: (1.00000000000000, 0, 0, 0) ++Qx1+0x0-+Qx0+0x1*x+Qx1+0x0-+Qx0+0x1++0x1+Qx0-+0x0+Qx1*x+0x1+Qx0-+0x0+Qx1\n",
      "scalar: 1/1\n",
      "\n",
      "<r|L>\n",
      "n=1: (0, 0, 0, 0) ++Qx1+0x0++Qx0+0x1*x+Qx1+0x0-+Qx0+0x1++0x1+Qx0++0x0+Qx1*x+0x1+Qx0-+0x0+Qx1\n",
      "scalar: 1/1\n",
      "\n"
     ]
    }
   ],
   "source": [
    "r.norm_squared().print_state(\"<r|r>\")\n",
    "L.norm_squared().print_state(\"<L|L>\")\n",
    "r.bra().Euclidean_product(L).print_state(\"<r|L>\")"
   ]
  },
  {
   "cell_type": "markdown",
   "metadata": {},
   "source": [
    "Just for fun, calculate the probability amplitudes $<A|r>$ and $<A|L>$ to see how this basis mixes around the information in $A$ without destroying it."
   ]
  },
  {
   "cell_type": "code",
   "execution_count": 13,
   "metadata": {},
   "outputs": [
    {
     "name": "stdout",
     "output_type": "stream",
     "text": [
      "<A|r>\n",
      "n=1: (0.707106781186548*At1 + 0.707106781186548*At2, -0.707106781186548*Ax1 - 0.707106781186548*Ax2, -0.707106781186548*Ay1 - 0.707106781186548*Ay2, -0.707106781186548*Az1 - 0.707106781186548*Az2) +a₁*x+Qx1+0x0++Qx0+0x1+a₂*x+0x1+Qx0++0x0+Qx1\n",
      "scalar: 1/1\n",
      "\n",
      "<A|L>\n",
      "n=1: (0.707106781186548*At1 - 0.707106781186548*At2, -0.707106781186548*Ax1 + 0.707106781186548*Ax2, -0.707106781186548*Ay1 + 0.707106781186548*Ay2, -0.707106781186548*Az1 + 0.707106781186548*Az2) +a₁*x+Qx1+0x0-+Qx0+0x1+a₂*x+0x1+Qx0-+0x0+Qx1\n",
      "scalar: 1/1\n",
      "\n"
     ]
    }
   ],
   "source": [
    "Ar = A.bra().Euclidean_product(r)\n",
    "Ar.print_state(\"<A|r>\", 1)\n",
    "\n",
    "AL = A.bra().Euclidean_product(L)\n",
    "AL.print_state(\"<A|L>\", 1)"
   ]
  },
  {
   "cell_type": "markdown",
   "metadata": {},
   "source": [
    "In the up and down representation of quaternion states, one row was all zeroes, nice and simple. Now every seat in the hockey arena is filled. The first element in both series are the same. The second terms all differ by a sign although the magnitudes are the same."
   ]
  },
  {
   "cell_type": "markdown",
   "metadata": {},
   "source": [
    "![](images/lecture_2/lecture_2_p_42_3.50.jpg)"
   ]
  },
  {
   "cell_type": "markdown",
   "metadata": {},
   "source": [
    "![](images/lecture_2/lecture_2_p_43_1.50.jpg)"
   ]
  },
  {
   "cell_type": "markdown",
   "metadata": {},
   "source": [
    "![](images/lecture_2/lecture_2_p_43_2.50.jpg)"
   ]
  },
  {
   "cell_type": "markdown",
   "metadata": {},
   "source": [
    "Oh my, so many conditions!"
   ]
  },
  {
   "cell_type": "markdown",
   "metadata": {},
   "source": [
    "![](images/lecture_2/lecture_2_p_44_1.50.jpg)"
   ]
  },
  {
   "cell_type": "markdown",
   "metadata": {},
   "source": [
    "This is not so bad. Let's build this, then see of all the conditions \"just work\"."
   ]
  },
  {
   "cell_type": "code",
   "execution_count": 14,
   "metadata": {},
   "outputs": [
    {
     "name": "stdout",
     "output_type": "stream",
     "text": [
      "|i>\n",
      "n=1: (0.707106781186548, 0, 0, 0) +Qx1+0x0++Qx0+0x1\n",
      "n=2: (0, 0.707106781186548, 0, 0) +0x1+Qx0++0x0+Qx1\n",
      "ket: 2/1\n",
      "\n",
      "|o>\n",
      "n=1: (0.707106781186548, 0, 0, 0) +Qx1+0x0-+Qx0+0x1\n",
      "n=2: (0, -0.707106781186548, 0, 0) +0x1+Qx0-+0x0+Qx1\n",
      "ket: 2/1\n",
      "\n"
     ]
    }
   ],
   "source": [
    "one_root_two = sp.sqrt(1/2)\n",
    "q_2 = qt.QHStates( [ qt.QH([sp.sqrt(1/2), 0, 0, 0]) ] )\n",
    "q_2i = qt.QHStates([qt.QH([0, sp.sqrt(1/2), 0, 0])])\n",
    "\n",
    "i = q_2.product(u).add(q_2i.product(d))\n",
    "o = q_2.product(u).dif(q_2i.product(d))\n",
    "\n",
    "i.print_state(\"|i>\")\n",
    "o.print_state(\"|o>\")"
   ]
  },
  {
   "cell_type": "markdown",
   "metadata": {},
   "source": [
    "First check the normal and orthogonal properties."
   ]
  },
  {
   "cell_type": "code",
   "execution_count": 18,
   "metadata": {},
   "outputs": [
    {
     "name": "stdout",
     "output_type": "stream",
     "text": [
      "<i|i>\n",
      "n=1: (1.00000000000000, 0, 0, 0) ++Qx1+0x0++Qx0+0x1*x+Qx1+0x0++Qx0+0x1++0x1+Qx0++0x0+Qx1*x+0x1+Qx0++0x0+Qx1\n",
      "scalar: 1/1\n",
      "\n",
      "<o|o>\n",
      "n=1: (1.00000000000000, 0, 0, 0) ++Qx1+0x0-+Qx0+0x1*x+Qx1+0x0-+Qx0+0x1++0x1+Qx0-+0x0+Qx1*x+0x1+Qx0-+0x0+Qx1\n",
      "scalar: 1/1\n",
      "\n",
      "<i|o>\n",
      "n=1: (0, 0, 0, 0) ++Qx1+0x0++Qx0+0x1*x+Qx1+0x0-+Qx0+0x1++0x1+Qx0++0x0+Qx1*x+0x1+Qx0-+0x0+Qx1\n",
      "scalar: 1/1\n",
      "\n"
     ]
    }
   ],
   "source": [
    "i.norm_squared().print_state(\"<i|i>\")\n",
    "o.norm_squared().print_state(\"<o|o>\")\n",
    "i.bra().Euclidean_product(o).print_state(\"<i|o>\")"
   ]
  },
  {
   "cell_type": "markdown",
   "metadata": {},
   "source": [
    "Great, these two are orthonormal quaternion series. Now to see how they relate to the other orthonomal series."
   ]
  },
  {
   "cell_type": "code",
   "execution_count": 19,
   "metadata": {},
   "outputs": [
    {
     "name": "stdout",
     "output_type": "stream",
     "text": [
      "Equation 2.8\n",
      "\n",
      "<o|u><u|o>\n",
      "n=1: (0.500000000000000, 0, 0, 0) +++Qx1+0x0-+Qx0+0x1*x1++0x1+Qx0-+0x0+Qx1*x0x+1*x+Qx1+0x0-+Qx0+0x1+0*x+0x1+Qx0-+0x0+Qx1\n",
      "scalar: 1/1\n",
      "\n",
      "<o|d><d|o>\n",
      "n=1: (0.500000000000000, 0, 0, 0) +++Qx1+0x0-+Qx0+0x1*x0++0x1+Qx0-+0x0+Qx1*x1x+0*x+Qx1+0x0-+Qx0+0x1+1*x+0x1+Qx0-+0x0+Qx1\n",
      "scalar: 1/1\n",
      "\n",
      "<i|d><d|i>\n",
      "n=1: (0.500000000000000, 0, 0, 0) +++Qx1+0x0++Qx0+0x1*x1++0x1+Qx0++0x0+Qx1*x0x+1*x+Qx1+0x0++Qx0+0x1+0*x+0x1+Qx0++0x0+Qx1\n",
      "scalar: 1/1\n",
      "\n",
      "<i|d><d|i>\n",
      "n=1: (0.500000000000000, 0, 0, 0) +++Qx1+0x0++Qx0+0x1*x0++0x1+Qx0++0x0+Qx1*x1x+0*x+Qx1+0x0++Qx0+0x1+1*x+0x1+Qx0++0x0+Qx1\n",
      "scalar: 1/1\n",
      "\n"
     ]
    }
   ],
   "source": [
    "print(\"Equation 2.8\\n\")\n",
    "\n",
    "ou = o.bra().Euclidean_product(u)\n",
    "uo = u.bra().Euclidean_product(o)\n",
    "ouuo = ou.product(uo)\n",
    "ouuo.print_state(\"<o|u><u|o>\")\n",
    "od = o.bra().Euclidean_product(d)\n",
    "do = d.bra().Euclidean_product(o)\n",
    "oddo = od.product(do)\n",
    "oddo.print_state(\"<o|d><d|o>\")\n",
    "iu = i.bra().Euclidean_product(u)\n",
    "ui = u.bra().Euclidean_product(i)\n",
    "iuui = iu.product(ui)\n",
    "iuui.print_state(\"<i|d><d|i>\")\n",
    "id = i.bra().Euclidean_product(d)\n",
    "di = d.bra().Euclidean_product(i)\n",
    "iddi = id.product(di)\n",
    "iddi.print_state(\"<i|d><d|i>\")"
   ]
  },
  {
   "cell_type": "markdown",
   "metadata": {},
   "source": [
    "Notice how both a Euclidean product and product are used in the calculation. The amplitudes as quaternion series can be multiplied together to get the correct final result. When I first did this calculation, one of the four was 0.3535, not 0.5. There was a typo in expression. Once correct, four down four to go."
   ]
  },
  {
   "cell_type": "code",
   "execution_count": 20,
   "metadata": {},
   "outputs": [
    {
     "name": "stdout",
     "output_type": "stream",
     "text": [
      "Equation 2.9\n",
      "\n",
      "<o|r><r|o>\n",
      "n=1: (0.500000000000000, 0, 0, 0) +++Qx1+0x0-+Qx0+0x1*x+Qx1+0x0++Qx0+0x1++0x1+Qx0-+0x0+Qx1*x+0x1+Qx0++0x0+Qx1x++Qx1+0x0++Qx0+0x1*x+Qx1+0x0-+Qx0+0x1++0x1+Qx0++0x0+Qx1*x+0x1+Qx0-+0x0+Qx1\n",
      "scalar: 1/1\n",
      "\n",
      "<o|L><L|o>\n",
      "n=1: (0.500000000000000, 0, 0, 0) +++Qx1+0x0-+Qx0+0x1*x+Qx1+0x0-+Qx0+0x1++0x1+Qx0-+0x0+Qx1*x+0x1+Qx0-+0x0+Qx1x++Qx1+0x0-+Qx0+0x1*x+Qx1+0x0-+Qx0+0x1++0x1+Qx0-+0x0+Qx1*x+0x1+Qx0-+0x0+Qx1\n",
      "scalar: 1/1\n",
      "\n",
      "<i|r><r|i>\n",
      "n=1: (0.500000000000000, 0, 0, 0) +++Qx1+0x0++Qx0+0x1*x+Qx1+0x0++Qx0+0x1++0x1+Qx0++0x0+Qx1*x+0x1+Qx0++0x0+Qx1x++Qx1+0x0++Qx0+0x1*x+Qx1+0x0++Qx0+0x1++0x1+Qx0++0x0+Qx1*x+0x1+Qx0++0x0+Qx1\n",
      "scalar: 1/1\n",
      "\n",
      "<i|L><L|i>\n",
      "n=1: (0.500000000000000, 0, 0, 0) +++Qx1+0x0++Qx0+0x1*x+Qx1+0x0-+Qx0+0x1++0x1+Qx0++0x0+Qx1*x+0x1+Qx0-+0x0+Qx1x++Qx1+0x0-+Qx0+0x1*x+Qx1+0x0++Qx0+0x1++0x1+Qx0-+0x0+Qx1*x+0x1+Qx0++0x0+Qx1\n",
      "scalar: 1/1\n",
      "\n"
     ]
    }
   ],
   "source": [
    "print(\"Equation 2.9\\n\")\n",
    "\n",
    "Or = o.bra().Euclidean_product(r)\n",
    "ro = r.bra().Euclidean_product(o)\n",
    "orro = Or.product(ro)\n",
    "orro.print_state(\"<o|r><r|o>\")\n",
    "oL = o.bra().Euclidean_product(L)\n",
    "Lo = L.bra().Euclidean_product(o)\n",
    "oLLo = oL.product(Lo)\n",
    "oLLo.print_state(\"<o|L><L|o>\")\n",
    "ir = i.bra().Euclidean_product(r)\n",
    "ri = r.bra().Euclidean_product(i)\n",
    "irri = ir.product(ri)\n",
    "irri.print_state(\"<i|r><r|i>\")\n",
    "iL = i.bra().Euclidean_product(L)\n",
    "Li = L.bra().Euclidean_product(i)\n",
    "iLLi = iL.product(Li)\n",
    "iLLi.print_state(\"<i|L><L|i>\")"
   ]
  },
  {
   "cell_type": "markdown",
   "metadata": {},
   "source": [
    "![](images/lecture_2/lecture_2_p_44_2.50.jpg)"
   ]
  },
  {
   "cell_type": "markdown",
   "metadata": {},
   "source": [
    "Some could view this very project as \"somewhat tedious\". There are so many details that have to be done exactly right to back up a claim that quaternion series can do everything that is right in quantum mechanics, before stepping out onto new ice to say here is something more we can do right. As an example, it took me a few hours to get the normalization done correctly. For a quaternion - not a quaternion series - I had a function to normalize it. For a quaternion series, I just called that function for each quaternion in the series. That produced an incorrect value for the quaternion series. In addition, I needed to normalize for the square root of the number of state dimensions. Once that detail was added, I got the right result for quaternion series.\n",
    "\n",
    "Off in my basement theoretical physics isolation chamber, I think Newtonian space-time physics should be done with quaternions. Newton himself could not have done classical physics using complex numbers or quaternions since they had not yet been invented. Search for \"quaternion baseball\" on YouTube if interested in the subject."
   ]
  },
  {
   "cell_type": "markdown",
   "metadata": {},
   "source": [
    "![](images/lecture_2/lecture_2_p_45_1.50.jpg)"
   ]
  },
  {
   "cell_type": "markdown",
   "metadata": {},
   "source": [
    "Time to get abstract, the wheelhouse of algebra. First define the symbols needed for the four unknown components."
   ]
  },
  {
   "cell_type": "code",
   "execution_count": 21,
   "metadata": {},
   "outputs": [
    {
     "name": "stdout",
     "output_type": "stream",
     "text": [
      "α component\n",
      "n=1: (αt, αx, αy, αz) Q\n",
      "scalar: 1/1\n",
      "\n",
      "β component\n",
      "n=1: (βt, βx, βy, βz) Q\n",
      "scalar: 1/1\n",
      "\n",
      "γ component\n",
      "n=1: (γt, γx, γy, γz) Q\n",
      "scalar: 1/1\n",
      "\n",
      "δ component\n",
      "n=1: (δt, δx, δy, δz) Q\n",
      "scalar: 1/1\n",
      "\n"
     ]
    }
   ],
   "source": [
    "αt, αx, αy, αz = sp.symbols(\"αt αx αy αz\")\n",
    "βt, βx, βy, βz = sp.symbols(\"βt βx βy βz\")\n",
    "γt, γx, γy, γz = sp.symbols(\"γt γx γy γz\")\n",
    "δt, δx, δy, δz = sp.symbols(\"δt δx δy δz\")\n",
    "\n",
    "αq = qt.QH([αt, αx, αy, αz])\n",
    "αs = qt.QHStates([αq])\n",
    "αs.print_state(\"α component\")\n",
    "\n",
    "βq = qt.QH([βt, βx, βy, βz])\n",
    "βs = qt.QHStates([βq])\n",
    "βs.print_state(\"β component\")\n",
    "\n",
    "γq = qt.QH([γt, γx, γy, γz])\n",
    "γs = qt.QHStates([γq])\n",
    "γs.print_state(\"γ component\")\n",
    "\n",
    "δq = qt.QH([δt, δx, δy, δz])\n",
    "δs = qt.QHStates([δq])\n",
    "δs.print_state(\"δ component\")"
   ]
  },
  {
   "cell_type": "markdown",
   "metadata": {},
   "source": [
    "Define the kets $|i>$ and $|o>$."
   ]
  },
  {
   "cell_type": "code",
   "execution_count": 27,
   "metadata": {},
   "outputs": [
    {
     "name": "stdout",
     "output_type": "stream",
     "text": [
      "iαβ\n",
      "n=1: (αt, αx, αy, αz) +Qx1+0x0++Qx0+0x1\n",
      "n=2: (βt, βx, βy, βz) +0x1+Qx0++0x0+Qx1\n",
      "ket: 2/1\n",
      "\n",
      "oγδ\n",
      "n=1: (γt, γx, γy, γz) +Qx1+0x0++Qx0+0x1\n",
      "n=2: (δt, δx, δy, δz) +0x1+Qx0++0x0+Qx1\n",
      "ket: 2/1\n",
      "\n"
     ]
    }
   ],
   "source": [
    "iαβ = αs.product(u).add(βs.product(d))\n",
    "iαβ.print_state(\"iαβ\")\n",
    "\n",
    "oγδ = γs.product(u).add(δs.product(d))\n",
    "oγδ.print_state(\"oγδ\")"
   ]
  },
  {
   "cell_type": "markdown",
   "metadata": {},
   "source": [
    "Notice we can extract the component alpha from $|i>$ by multiplying it by the bra $<u|$ because that bra is orthonormal to $<d|$. Beta, gamma, and delta components can be extracted the same way."
   ]
  },
  {
   "cell_type": "code",
   "execution_count": 28,
   "metadata": {},
   "outputs": [
    {
     "name": "stdout",
     "output_type": "stream",
     "text": [
      "alpha\n",
      "n=1: (αt, αx, αy, αz) +1*x+Qx1+0x0++Qx0+0x1+0*x+0x1+Qx0++0x0+Qx1\n",
      "scalar: 1/1\n",
      "\n",
      "beta\n",
      "n=1: (βt, βx, βy, βz) +0*x+Qx1+0x0++Qx0+0x1+1*x+0x1+Qx0++0x0+Qx1\n",
      "scalar: 1/1\n",
      "\n",
      "gamma\n",
      "n=1: (γt, γx, γy, γz) +1*x+Qx1+0x0++Qx0+0x1+0*x+0x1+Qx0++0x0+Qx1\n",
      "scalar: 1/1\n",
      "\n",
      "delta\n",
      "n=1: (δt, δx, δy, δz) +0*x+Qx1+0x0++Qx0+0x1+1*x+0x1+Qx0++0x0+Qx1\n",
      "scalar: 1/1\n",
      "\n"
     ]
    }
   ],
   "source": [
    "alpha = u.bra().Euclidean_product(iαβ)\n",
    "alpha.print_state(\"alpha\")\n",
    "\n",
    "beta = d.bra().Euclidean_product(iαβ)\n",
    "beta.print_state(\"beta\")\n",
    "\n",
    "gamma = u.bra().Euclidean_product(oγδ)\n",
    "gamma.print_state(\"gamma\")\n",
    "\n",
    "delta = d.bra().Euclidean_product(oγδ)\n",
    "delta.print_state(\"delta\")"
   ]
  },
  {
   "cell_type": "markdown",
   "metadata": {},
   "source": [
    "With the four components precisely defined, we can start forming the products asked for in Exercise 2.3: a):"
   ]
  },
  {
   "cell_type": "code",
   "execution_count": 30,
   "metadata": {},
   "outputs": [
    {
     "name": "stdout",
     "output_type": "stream",
     "text": [
      "Exercise 2.3: a)\n",
      "\n",
      "equation 2.8.1: <i|u><u|i> = 1/2 =? α* α\n",
      "<i|u><u|i>\n",
      "n=1: (αt**2 + αx**2 + αy**2 + αz**2, 0, 0, 0) +++Qx1+0x0++Qx0+0x1*x1++0x1+Qx0++0x0+Qx1*x0x+1*x+Qx1+0x0++Qx0+0x1+0*x+0x1+Qx0++0x0+Qx1\n",
      "scalar: 1/1\n",
      "\n",
      "equation 2.8.2: <i|d><d|i> = 1/2 =? β* β\n",
      "<i|d><d|i>\n",
      "n=1: (βt**2 + βx**2 + βy**2 + βz**2, 0, 0, 0) +++Qx1+0x0++Qx0+0x1*x0++0x1+Qx0++0x0+Qx1*x1x+0*x+Qx1+0x0++Qx0+0x1+1*x+0x1+Qx0++0x0+Qx1\n",
      "scalar: 1/1\n",
      "\n",
      "equation 2.8.3: <o|u><u|o> = 1/2 =? γ* γ\n",
      "<o|u><u|o>\n",
      "n=1: (γt**2 + γx**2 + γy**2 + γz**2, 0, 0, 0) +++Qx1+0x0++Qx0+0x1*x1++0x1+Qx0++0x0+Qx1*x0x+1*x+Qx1+0x0++Qx0+0x1+0*x+0x1+Qx0++0x0+Qx1\n",
      "scalar: 1/1\n",
      "\n",
      "equation 2.8.4: <o|d><d|o> = 1/2 =? δ* δ\n",
      "<o|d><d|o>\n",
      "n=1: (δt**2 + δx**2 + δy**2 + δz**2, 0, 0, 0) +++Qx1+0x0++Qx0+0x1*x0++0x1+Qx0++0x0+Qx1*x1x+0*x+Qx1+0x0++Qx0+0x1+1*x+0x1+Qx0++0x0+Qx1\n",
      "scalar: 1/1\n",
      "\n"
     ]
    }
   ],
   "source": [
    "print(\"Exercise 2.3: a)\\n\")\n",
    "\n",
    "print(\"equation 2.8.1: <i|u><u|i> = 1/2 =? α* α\")\n",
    "\n",
    "iu = iαβ.bra().Euclidean_product(u)\n",
    "ui = u.bra().Euclidean_product(iαβ)\n",
    "iuui = iu.product(ui)\n",
    "iuui.print_state(\"<i|u><u|i>\")\n",
    "\n",
    "\n",
    "print(\"equation 2.8.2: <i|d><d|i> = 1/2 =? β* β\")\n",
    "\n",
    "id = iαβ.bra().Euclidean_product(d)\n",
    "di = d.bra().Euclidean_product(iαβ)\n",
    "iddi = id.product(di)\n",
    "iddi.print_state(\"<i|d><d|i>\")\n",
    "\n",
    "\n",
    "print(\"equation 2.8.3: <o|u><u|o> = 1/2 =? γ* γ\")\n",
    "\n",
    "ou = oγδ.bra().Euclidean_product(u)\n",
    "uo = u.bra().Euclidean_product(oγδ)\n",
    "ouuo = ou.product(uo)\n",
    "ouuo.print_state(\"<o|u><u|o>\", 1)\n",
    "\n",
    "\n",
    "print(\"equation 2.8.4: <o|d><d|o> = 1/2 =? δ* δ\")\n",
    "\n",
    "od = oγδ.bra().Euclidean_product(d)\n",
    "do = d.bra().Euclidean_product(oγδ)\n",
    "oddo = od.product(do)\n",
    "oddo.print_state(\"<o|d><d|o>\")"
   ]
  },
  {
   "cell_type": "markdown",
   "metadata": {},
   "source": [
    "These products are all real numbers composed of each of the four components."
   ]
  },
  {
   "cell_type": "code",
   "execution_count": 32,
   "metadata": {},
   "outputs": [
    {
     "name": "stdout",
     "output_type": "stream",
     "text": [
      "Exercise 2.3: b)\n",
      "\n",
      "equation 2.9.1: <o|r><r|o> = 1/2 =?\n",
      "<o|r><r|o>\n",
      "n=1: ((0.707106781186548*γt + 0.707106781186548*δt)**2 - (-0.707106781186548*γx - 0.707106781186548*δx)*(0.707106781186548*γx + 0.707106781186548*δx) - (-0.707106781186548*γy - 0.707106781186548*δy)*(0.707106781186548*γy + 0.707106781186548*δy) - (-0.707106781186548*γz - 0.707106781186548*δz)*(0.707106781186548*γz + 0.707106781186548*δz), (0.707106781186548*γt + 0.707106781186548*δt)*(-0.707106781186548*γx - 0.707106781186548*δx) + (0.707106781186548*γt + 0.707106781186548*δt)*(0.707106781186548*γx + 0.707106781186548*δx) + (-0.707106781186548*γy - 0.707106781186548*δy)*(0.707106781186548*γz + 0.707106781186548*δz) - (0.707106781186548*γy + 0.707106781186548*δy)*(-0.707106781186548*γz - 0.707106781186548*δz), (0.707106781186548*γt + 0.707106781186548*δt)*(-0.707106781186548*γy - 0.707106781186548*δy) + (0.707106781186548*γt + 0.707106781186548*δt)*(0.707106781186548*γy + 0.707106781186548*δy) - (-0.707106781186548*γx - 0.707106781186548*δx)*(0.707106781186548*γz + 0.707106781186548*δz) + (0.707106781186548*γx + 0.707106781186548*δx)*(-0.707106781186548*γz - 0.707106781186548*δz), (0.707106781186548*γt + 0.707106781186548*δt)*(-0.707106781186548*γz - 0.707106781186548*δz) + (0.707106781186548*γt + 0.707106781186548*δt)*(0.707106781186548*γz + 0.707106781186548*δz) + (-0.707106781186548*γx - 0.707106781186548*δx)*(0.707106781186548*γy + 0.707106781186548*δy) - (0.707106781186548*γx + 0.707106781186548*δx)*(-0.707106781186548*γy - 0.707106781186548*δy)) +++Qx1+0x0++Qx0+0x1*x+Qx1+0x0++Qx0+0x1++0x1+Qx0++0x0+Qx1*x+0x1+Qx0++0x0+Qx1x++Qx1+0x0++Qx0+0x1*x+Qx1+0x0++Qx0+0x1++0x1+Qx0++0x0+Qx1*x+0x1+Qx0++0x0+Qx1\n",
      "scalar: 1/1\n",
      "\n",
      "equation 2.9.2: <o|L><L|o> = 1/2 =?\n",
      "<o|L><L|o>\n",
      "n=1: ((0.707106781186548*γt - 0.707106781186548*δt)**2 - (-0.707106781186548*γx + 0.707106781186548*δx)*(0.707106781186548*γx - 0.707106781186548*δx) - (-0.707106781186548*γy + 0.707106781186548*δy)*(0.707106781186548*γy - 0.707106781186548*δy) - (-0.707106781186548*γz + 0.707106781186548*δz)*(0.707106781186548*γz - 0.707106781186548*δz), (0.707106781186548*γt - 0.707106781186548*δt)*(-0.707106781186548*γx + 0.707106781186548*δx) + (0.707106781186548*γt - 0.707106781186548*δt)*(0.707106781186548*γx - 0.707106781186548*δx) + (-0.707106781186548*γy + 0.707106781186548*δy)*(0.707106781186548*γz - 0.707106781186548*δz) - (0.707106781186548*γy - 0.707106781186548*δy)*(-0.707106781186548*γz + 0.707106781186548*δz), (0.707106781186548*γt - 0.707106781186548*δt)*(-0.707106781186548*γy + 0.707106781186548*δy) + (0.707106781186548*γt - 0.707106781186548*δt)*(0.707106781186548*γy - 0.707106781186548*δy) - (-0.707106781186548*γx + 0.707106781186548*δx)*(0.707106781186548*γz - 0.707106781186548*δz) + (0.707106781186548*γx - 0.707106781186548*δx)*(-0.707106781186548*γz + 0.707106781186548*δz), (0.707106781186548*γt - 0.707106781186548*δt)*(-0.707106781186548*γz + 0.707106781186548*δz) + (0.707106781186548*γt - 0.707106781186548*δt)*(0.707106781186548*γz - 0.707106781186548*δz) + (-0.707106781186548*γx + 0.707106781186548*δx)*(0.707106781186548*γy - 0.707106781186548*δy) - (0.707106781186548*γx - 0.707106781186548*δx)*(-0.707106781186548*γy + 0.707106781186548*δy)) +++Qx1+0x0++Qx0+0x1*x+Qx1+0x0-+Qx0+0x1++0x1+Qx0++0x0+Qx1*x+0x1+Qx0-+0x0+Qx1x++Qx1+0x0-+Qx0+0x1*x+Qx1+0x0++Qx0+0x1++0x1+Qx0-+0x0+Qx1*x+0x1+Qx0++0x0+Qx1\n",
      "scalar: 1/1\n",
      "\n",
      "equation 2.9.3: <i|r><r|i> = 1/2 =?\n",
      "<i|r><r|i>\n",
      "n=1: ((0.707106781186548*αt + 0.707106781186548*βt)**2 - (-0.707106781186548*αx - 0.707106781186548*βx)*(0.707106781186548*αx + 0.707106781186548*βx) - (-0.707106781186548*αy - 0.707106781186548*βy)*(0.707106781186548*αy + 0.707106781186548*βy) - (-0.707106781186548*αz - 0.707106781186548*βz)*(0.707106781186548*αz + 0.707106781186548*βz), (0.707106781186548*αt + 0.707106781186548*βt)*(-0.707106781186548*αx - 0.707106781186548*βx) + (0.707106781186548*αt + 0.707106781186548*βt)*(0.707106781186548*αx + 0.707106781186548*βx) + (-0.707106781186548*αy - 0.707106781186548*βy)*(0.707106781186548*αz + 0.707106781186548*βz) - (0.707106781186548*αy + 0.707106781186548*βy)*(-0.707106781186548*αz - 0.707106781186548*βz), (0.707106781186548*αt + 0.707106781186548*βt)*(-0.707106781186548*αy - 0.707106781186548*βy) + (0.707106781186548*αt + 0.707106781186548*βt)*(0.707106781186548*αy + 0.707106781186548*βy) - (-0.707106781186548*αx - 0.707106781186548*βx)*(0.707106781186548*αz + 0.707106781186548*βz) + (0.707106781186548*αx + 0.707106781186548*βx)*(-0.707106781186548*αz - 0.707106781186548*βz), (0.707106781186548*αt + 0.707106781186548*βt)*(-0.707106781186548*αz - 0.707106781186548*βz) + (0.707106781186548*αt + 0.707106781186548*βt)*(0.707106781186548*αz + 0.707106781186548*βz) + (-0.707106781186548*αx - 0.707106781186548*βx)*(0.707106781186548*αy + 0.707106781186548*βy) - (0.707106781186548*αx + 0.707106781186548*βx)*(-0.707106781186548*αy - 0.707106781186548*βy)) +++Qx1+0x0++Qx0+0x1*x+Qx1+0x0++Qx0+0x1++0x1+Qx0++0x0+Qx1*x+0x1+Qx0++0x0+Qx1x++Qx1+0x0++Qx0+0x1*x+Qx1+0x0++Qx0+0x1++0x1+Qx0++0x0+Qx1*x+0x1+Qx0++0x0+Qx1\n",
      "scalar: 1/1\n",
      "\n",
      "equation 2.9.4: <i|L><L|i> = 1/2 =?\n",
      "<i|L><L|i>\n",
      "n=1: ((0.707106781186548*αt - 0.707106781186548*βt)**2 - (-0.707106781186548*αx + 0.707106781186548*βx)*(0.707106781186548*αx - 0.707106781186548*βx) - (-0.707106781186548*αy + 0.707106781186548*βy)*(0.707106781186548*αy - 0.707106781186548*βy) - (-0.707106781186548*αz + 0.707106781186548*βz)*(0.707106781186548*αz - 0.707106781186548*βz), (0.707106781186548*αt - 0.707106781186548*βt)*(-0.707106781186548*αx + 0.707106781186548*βx) + (0.707106781186548*αt - 0.707106781186548*βt)*(0.707106781186548*αx - 0.707106781186548*βx) + (-0.707106781186548*αy + 0.707106781186548*βy)*(0.707106781186548*αz - 0.707106781186548*βz) - (0.707106781186548*αy - 0.707106781186548*βy)*(-0.707106781186548*αz + 0.707106781186548*βz), (0.707106781186548*αt - 0.707106781186548*βt)*(-0.707106781186548*αy + 0.707106781186548*βy) + (0.707106781186548*αt - 0.707106781186548*βt)*(0.707106781186548*αy - 0.707106781186548*βy) - (-0.707106781186548*αx + 0.707106781186548*βx)*(0.707106781186548*αz - 0.707106781186548*βz) + (0.707106781186548*αx - 0.707106781186548*βx)*(-0.707106781186548*αz + 0.707106781186548*βz), (0.707106781186548*αt - 0.707106781186548*βt)*(-0.707106781186548*αz + 0.707106781186548*βz) + (0.707106781186548*αt - 0.707106781186548*βt)*(0.707106781186548*αz - 0.707106781186548*βz) + (-0.707106781186548*αx + 0.707106781186548*βx)*(0.707106781186548*αy - 0.707106781186548*βy) - (0.707106781186548*αx - 0.707106781186548*βx)*(-0.707106781186548*αy + 0.707106781186548*βy)) +++Qx1+0x0++Qx0+0x1*x+Qx1+0x0-+Qx0+0x1++0x1+Qx0++0x0+Qx1*x+0x1+Qx0-+0x0+Qx1x++Qx1+0x0-+Qx0+0x1*x+Qx1+0x0++Qx0+0x1++0x1+Qx0-+0x0+Qx1*x+0x1+Qx0++0x0+Qx1\n",
      "scalar: 1/1\n",
      "\n"
     ]
    }
   ],
   "source": [
    "print(\"Exercise 2.3: b)\\n\")\n",
    "\n",
    "print(\"equation 2.9.1: <o|r><r|o> = 1/2 =?\")\n",
    "\n",
    "OR = oγδ.bra().Euclidean_product(r)\n",
    "ro = r.bra().Euclidean_product(oγδ)\n",
    "orro = OR.product(ro)\n",
    "orro.print_state(\"<o|r><r|o>\")\n",
    "\n",
    "\n",
    "print(\"equation 2.9.2: <o|L><L|o> = 1/2 =?\")\n",
    "\n",
    "oL = oγδ.bra().Euclidean_product(L)\n",
    "Lo = L.bra().Euclidean_product(oγδ)\n",
    "oLLo = oL.product(Lo)\n",
    "oLLo.print_state(\"<o|L><L|o>\")\n",
    "\n",
    "\n",
    "print(\"equation 2.9.3: <i|r><r|i> = 1/2 =?\")\n",
    "\n",
    "ir = iαβ.bra().Euclidean_product(r)\n",
    "ri = r.bra().Euclidean_product(iαβ)\n",
    "irri = ir.product(ri)\n",
    "irri.print_state(\"<i|r><r|i>\")\n",
    "\n",
    "\n",
    "print(\"equation 2.9.4: <i|L><L|i> = 1/2 =?\")\n",
    "\n",
    "iL = iαβ.bra().Euclidean_product(L)\n",
    "Li = L.bra().Euclidean_product(iαβ)\n",
    "iLLi = iL.product(Li)\n",
    "iLLi.print_state(\"<i|L><L|i>\")"
   ]
  },
  {
   "cell_type": "markdown",
   "metadata": {},
   "source": [
    "The first two have the sum of $\\gamma^* \\gamma$ and $\\delta^* \\delta$. The last two are $\\alpha^* \\alpha$ and $\\beta^* \\beta$. Those values were figured out in part a). A half of a half plus a half is equal to a half."
   ]
  },
  {
   "cell_type": "markdown",
   "metadata": {},
   "source": [
    "Each of the 4 kets, $|i>$, $|o>$, $|r>$, and $|L>$ are expressed in terms of the orthonormal basis vectors $|u>$ and $|d>$. The products look like this:"
   ]
  },
  {
   "cell_type": "code",
   "execution_count": 33,
   "metadata": {},
   "outputs": [
    {
     "data": {
      "text/latex": [
       "$$\\begin{align*}\n",
       "<o|r><r|o> &= \\frac{1}{2}(<u|\\overline{\\gamma} + <d|\\overline{\\delta})(|u> + |d>)(<u| + <d|)(\\gamma|u> + \\delta|d>) \\\\\n",
       "&= \\frac{1}{2}(\\overline{\\gamma} + \\overline{\\delta})(\\gamma + \\delta) \\\\\n",
       "&= \\frac{1}{2}(\\overline{\\gamma} \\gamma + \\overline{\\delta} \\delta + \\overline{\\gamma} \\delta + \\overline{\\delta} \\gamma) \\\\\n",
       "&= \\frac{1}{2}(1 + \\overline{\\delta} \\gamma + \\overline{\\gamma} \\delta ) = \\frac{1}{2}\\\\\n",
       "\\rm{ergo}\\quad 0 &= \\overline{\\delta} \\gamma + \\overline{\\gamma} \\delta\n",
       "\\end{align*}$$"
      ],
      "text/plain": [
       "<IPython.core.display.Math object>"
      ]
     },
     "metadata": {},
     "output_type": "display_data"
    }
   ],
   "source": [
    "display(Math(r\"\"\"\\begin{align*}\n",
    "<o|r><r|o> &= \\frac{1}{2}(<u|\\overline{\\gamma} + <d|\\overline{\\delta})(|u> + |d>)(<u| + <d|)(\\gamma|u> + \\delta|d>) \\\\\n",
    "&= \\frac{1}{2}(\\overline{\\gamma} + \\overline{\\delta})(\\gamma + \\delta) \\\\\n",
    "&= \\frac{1}{2}(\\overline{\\gamma} \\gamma + \\overline{\\delta} \\delta + \\overline{\\gamma} \\delta + \\overline{\\delta} \\gamma) \\\\\n",
    "&= \\frac{1}{2}(1 + \\overline{\\delta} \\gamma + \\overline{\\gamma} \\delta ) = \\frac{1}{2}\\\\\n",
    "\\rm{ergo}\\quad 0 &= \\overline{\\delta} \\gamma + \\overline{\\gamma} \\delta\n",
    "\\end{align*}\"\"\"))"
   ]
  },
  {
   "cell_type": "code",
   "execution_count": 34,
   "metadata": {},
   "outputs": [
    {
     "data": {
      "text/latex": [
       "$$\\begin{align*}\n",
       "<o|L><L|o> &= \\frac{1}{2}(<u|\\overline{\\gamma} + <d|\\overline{\\delta})(|u> - |d>)(<u| - <d|)(\\gamma|u> + \\delta|d>) \\\\\n",
       "&= \\frac{1}{2}(\\overline{\\gamma} - \\overline{\\delta})(\\gamma - \\delta) \\\\\n",
       "&= \\frac{1}{2}(\\overline{\\gamma} \\gamma + \\overline{\\delta} \\delta - \\overline{\\gamma} \\delta - \\overline{\\delta} \\gamma) \\\\\n",
       "&= \\frac{1}{2}(1 - \\overline{\\delta} \\gamma - \\overline{\\gamma} \\delta ) = \\frac{1}{2}\\\\\n",
       "\\rm{ergo}\\quad 0 &= \\overline{\\delta} \\gamma + \\overline{\\gamma} \\delta\n",
       "\\end{align*}$$"
      ],
      "text/plain": [
       "<IPython.core.display.Math object>"
      ]
     },
     "metadata": {},
     "output_type": "display_data"
    }
   ],
   "source": [
    "display(Math(r\"\"\"\\begin{align*}\n",
    "<o|L><L|o> &= \\frac{1}{2}(<u|\\overline{\\gamma} + <d|\\overline{\\delta})(|u> - |d>)(<u| - <d|)(\\gamma|u> + \\delta|d>) \\\\\n",
    "&= \\frac{1}{2}(\\overline{\\gamma} - \\overline{\\delta})(\\gamma - \\delta) \\\\\n",
    "&= \\frac{1}{2}(\\overline{\\gamma} \\gamma + \\overline{\\delta} \\delta - \\overline{\\gamma} \\delta - \\overline{\\delta} \\gamma) \\\\\n",
    "&= \\frac{1}{2}(1 - \\overline{\\delta} \\gamma - \\overline{\\gamma} \\delta ) = \\frac{1}{2}\\\\\n",
    "\\rm{ergo}\\quad 0 &= \\overline{\\delta} \\gamma + \\overline{\\gamma} \\delta\n",
    "\\end{align*}\"\"\"))"
   ]
  },
  {
   "cell_type": "code",
   "execution_count": 35,
   "metadata": {},
   "outputs": [
    {
     "data": {
      "text/latex": [
       "$$\\begin{align*} \n",
       "<i|r><r|i> &= \\frac{1}{2}(<u|\\overline{\\alpha} + <d|\\overline{\\beta})(|u> + |d>)(<u| + <d|)(\\alpha|u> + \\beta|d>) \\\\\n",
       "&= \\frac{1}{2}(\\overline{\\alpha} + \\overline{\\beta})(\\alpha + \\beta) \\\\\n",
       "&= \\frac{1}{2}(\\overline{\\alpha} \\alpha + \\overline{\\beta} \\beta + \\overline{\\alpha} \\beta + \\overline{\\beta} \\alpha) \\\\\n",
       "&= \\frac{1}{2}(1 + \\overline{\\beta} \\alpha + \\overline{\\alpha} \\beta ) = \\frac{1}{2}\\\\\n",
       "\\rm{ergo}\\quad 0 &= \\overline{\\beta} \\alpha + \\overline{\\alpha} \\beta\n",
       "\\end{align*}$$"
      ],
      "text/plain": [
       "<IPython.core.display.Math object>"
      ]
     },
     "metadata": {},
     "output_type": "display_data"
    }
   ],
   "source": [
    "display(Math(r\"\"\"\\begin{align*} \n",
    "<i|r><r|i> &= \\frac{1}{2}(<u|\\overline{\\alpha} + <d|\\overline{\\beta})(|u> + |d>)(<u| + <d|)(\\alpha|u> + \\beta|d>) \\\\\n",
    "&= \\frac{1}{2}(\\overline{\\alpha} + \\overline{\\beta})(\\alpha + \\beta) \\\\\n",
    "&= \\frac{1}{2}(\\overline{\\alpha} \\alpha + \\overline{\\beta} \\beta + \\overline{\\alpha} \\beta + \\overline{\\beta} \\alpha) \\\\\n",
    "&= \\frac{1}{2}(1 + \\overline{\\beta} \\alpha + \\overline{\\alpha} \\beta ) = \\frac{1}{2}\\\\\n",
    "\\rm{ergo}\\quad 0 &= \\overline{\\beta} \\alpha + \\overline{\\alpha} \\beta\n",
    "\\end{align*}\"\"\"))"
   ]
  },
  {
   "cell_type": "code",
   "execution_count": 36,
   "metadata": {},
   "outputs": [
    {
     "data": {
      "text/latex": [
       "$$\\begin{align*}\n",
       "<i|L><L|i> &= \\frac{1}{2}(<u|\\overline{\\alpha} + <d|\\overline{\\beta})(|u> - |d>)(<u| - <d|)(\\alpha|u> + \\beta|d>) \\\\\n",
       "&= \\frac{1}{2}(\\overline{\\alpha} - \\overline{\\beta})(\\alpha - \\beta) \\\\\n",
       "&= \\frac{1}{2}(\\overline{\\alpha} \\alpha + \\overline{\\beta} \\beta - \\overline{\\alpha} \\beta - \\overline{\\beta} \\alpha) \\\\\n",
       "&= \\frac{1}{2}(1 - \\overline{\\beta} \\alpha - \\overline{\\alpha} \\beta ) = \\frac{1}{2}\\\\\n",
       "\\rm{ergo}\\quad 0 &= \\overline{\\beta} \\alpha + \\overline{\\alpha} \\beta\n",
       "\\end{align*}$$"
      ],
      "text/plain": [
       "<IPython.core.display.Math object>"
      ]
     },
     "metadata": {},
     "output_type": "display_data"
    }
   ],
   "source": [
    "display(Math(r\"\"\"\\begin{align*}\n",
    "<i|L><L|i> &= \\frac{1}{2}(<u|\\overline{\\alpha} + <d|\\overline{\\beta})(|u> - |d>)(<u| - <d|)(\\alpha|u> + \\beta|d>) \\\\\n",
    "&= \\frac{1}{2}(\\overline{\\alpha} - \\overline{\\beta})(\\alpha - \\beta) \\\\\n",
    "&= \\frac{1}{2}(\\overline{\\alpha} \\alpha + \\overline{\\beta} \\beta - \\overline{\\alpha} \\beta - \\overline{\\beta} \\alpha) \\\\\n",
    "&= \\frac{1}{2}(1 - \\overline{\\beta} \\alpha - \\overline{\\alpha} \\beta ) = \\frac{1}{2}\\\\\n",
    "\\rm{ergo}\\quad 0 &= \\overline{\\beta} \\alpha + \\overline{\\alpha} \\beta\n",
    "\\end{align*}\"\"\"))"
   ]
  },
  {
   "cell_type": "markdown",
   "metadata": {},
   "source": [
    "Exercise 2.3: c). For any complex number $z$, $z = - z^*$ if and only if $z$ is a purely imaginary number. The conjugate operator flips the sign of the imaginary number, but not the real number. Ergo the real number must be equal to zero. $\\alpha^* \\beta + \\alpha \\beta^* = 0$, or $\\alpha^* \\beta = -\\alpha \\beta^*$. Based on this observation, we know the imaginary numbers $\\alpha^* \\beta$ and $\\gamma^* \\delta$ are pure imaginary numbers. "
   ]
  },
  {
   "cell_type": "markdown",
   "metadata": {},
   "source": [
    "## Conclusion\n",
    "\n",
    "So far so good. I also don't thing there is anything new here. Of course, I had to get ever detail right for the quaternion states or the project would have derailed. "
   ]
  }
 ],
 "metadata": {
  "kernelspec": {
   "display_name": "Python 3",
   "language": "python",
   "name": "python3"
  },
  "language_info": {
   "codemirror_mode": {
    "name": "ipython",
    "version": 3
   },
   "file_extension": ".py",
   "mimetype": "text/x-python",
   "name": "python",
   "nbconvert_exporter": "python",
   "pygments_lexer": "ipython3",
   "version": "3.5.1"
  }
 },
 "nbformat": 4,
 "nbformat_minor": 2
}
