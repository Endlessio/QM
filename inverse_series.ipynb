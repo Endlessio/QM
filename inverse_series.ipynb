{
 "cells": [
  {
   "cell_type": "markdown",
   "metadata": {},
   "source": [
    "# Inverse Quaternion Series"
   ]
  },
  {
   "cell_type": "code",
   "execution_count": 29,
   "metadata": {},
   "outputs": [],
   "source": [
    "%%capture\n",
    "%matplotlib inline\n",
    "import numpy as np\n",
    "import sympy as sp\n",
    "import math\n",
    "import matplotlib.pyplot as plt\n",
    "import unittest\n",
    "\n",
    "\n",
    "# To get equations the look like, well, equations, use the following.\n",
    "from sympy.interactive import printing\n",
    "printing.init_printing(use_latex=True)\n",
    "from IPython.display import display\n",
    "\n",
    "# Tools for manipulating quaternions.\n",
    "import Q_tools as qt;\n",
    "\n",
    "from IPython.core.display import display, HTML\n",
    "display(HTML(\"<style>.container { width:100% !important; }</style>\"))"
   ]
  },
  {
   "cell_type": "markdown",
   "metadata": {},
   "source": [
    "Given eigenvalues and eigenvectors, figure out the matrix operator."
   ]
  },
  {
   "cell_type": "code",
   "execution_count": 30,
   "metadata": {},
   "outputs": [],
   "source": [
    "def eigens_2_matrix(Eigen_values_N, Eigen_vectors_V):\n",
    "    \"\"\"\n",
    "    V xR N V⁻¹ = M, must be fed quaternion series of the same dimensions.\n",
    "    There is one issue that needs to be addressed with going to quaternions from \n",
    "    the real and complex numbers which commute. The reverse product must be used, so\n",
    "        N|V> = M|V> = V xR N V⁻¹|V> = V xR N = N X V\n",
    "    \"\"\"\n",
    "    \n",
    "    if Eigen_values_N.dim != Eigen_values_N.dim:\n",
    "        print(\"Oops, the dimensions of the diagonal Eigen_value series must be the same as the Eigen_vectors.\")\n",
    "        return\n",
    "    \n",
    "    Vinv = Eigen_vectors_V.inverse().normalize(0.5)\n",
    "    Vinv.print_state(\"V inv\", 1)\n",
    "    \n",
    "    Eigen_vectors_V.Euclidean_product(\"bra\", ket=Vinv).print_state(\"VVinv\")\n",
    "    \n",
    "    NVinv = Vinv.product(\"ket\", operator=Eigen_values_N)\n",
    "    \n",
    "    VNVinv = NVinv.product(\"ket\", operator=Eigen_vectors_V, reverse=True)\n",
    "    \n",
    "    return VNVinv"
   ]
  },
  {
   "cell_type": "code",
   "execution_count": 31,
   "metadata": {},
   "outputs": [
    {
     "name": "stdout",
     "output_type": "stream",
     "text": [
      "V inv\n",
      "n=1: (0.25, 0.0, 0.0, 0.0) Q^-1UxQUxQ\n",
      "n=2: (0.25, 0.0, 0.0, 0.0) Q^-1UxQUxQ\n",
      "n=3: (0.25, 0.0, 0.0, 0.0) Q^-1UxQUxQ\n",
      "n=4: (0.25, 0.0, 0.0, 0.0) Q^-1UxQUxQ\n",
      "sum= (1.0, 0.0, 0.0, 0.0) Q^-1UxQUxQ+Q^-1UxQUxQ+Q^-1UxQUxQ+Q^-1UxQUxQ\n",
      "\n",
      "VVinv\n",
      "(1.75, 0.0, 0.0, 0.0) Q*xQ^-1UxQUxQ+Q*xQ^-1UxQUxQ+Q*xQ^-1UxQUxQ+Q*xQ^-1UxQUxQ\n",
      "m?\n",
      "n=1: (1.25, 0.0, 0.0, 0.0) QxRQxQ^-1UxQUxQ+QxQ^-1UxQUxQ+QxQ^-1UxQUxQ+QxQ^-1UxQUxQ\n",
      "n=2: (1.25, 0.0, 0.0, 0.0) QxRQxQ^-1UxQUxQ+QxQ^-1UxQUxQ+QxQ^-1UxQUxQ+QxQ^-1UxQUxQ\n",
      "n=3: (2.5, 0.0, 0.0, 0.0) QxRQxQ^-1UxQUxQ+QxQ^-1UxQUxQ+QxQ^-1UxQUxQ+QxQ^-1UxQUxQ\n",
      "n=4: (3.75, 0.0, 0.0, 0.0) QxRQxQ^-1UxQUxQ+QxQ^-1UxQUxQ+QxQ^-1UxQUxQ+QxQ^-1UxQUxQ\n",
      "sum= (8.75, 0.0, 0.0, 0.0) QxRQxQ^-1UxQUxQ+QxQ^-1UxQUxQ+QxQ^-1UxQUxQ+QxQ^-1UxQUxQ+QxRQxQ^-1UxQUxQ+QxQ^-1UxQUxQ+QxQ^-1UxQUxQ+QxQ^-1UxQUxQ+QxRQxQ^-1UxQUxQ+QxQ^-1UxQUxQ+QxQ^-1UxQUxQ+QxQ^-1UxQUxQ+QxRQxQ^-1UxQUxQ+QxQ^-1UxQUxQ+QxQ^-1UxQUxQ+QxQ^-1UxQUxQ\n",
      "\n",
      "mv\n",
      "n=1: (18.75, 0.0, 0.0, 0.0) QxRQxQ^-1UxQUxQ+QxQ^-1UxQUxQ+QxQ^-1UxQUxQ+QxQ^-1UxQUxQxQ+QxRQxQ^-1UxQUxQ+QxQ^-1UxQUxQ+QxQ^-1UxQUxQ+QxQ^-1UxQUxQxQ+QxRQxQ^-1UxQUxQ+QxQ^-1UxQUxQ+QxQ^-1UxQUxQ+QxQ^-1UxQUxQxQ+QxRQxQ^-1UxQUxQ+QxQ^-1UxQUxQ+QxQ^-1UxQUxQ+QxQ^-1UxQUxQxQ\n",
      "sum= (18.75, 0.0, 0.0, 0.0) QxRQxQ^-1UxQUxQ+QxQ^-1UxQUxQ+QxQ^-1UxQUxQ+QxQ^-1UxQUxQxQ+QxRQxQ^-1UxQUxQ+QxQ^-1UxQUxQ+QxQ^-1UxQUxQ+QxQ^-1UxQUxQxQ+QxRQxQ^-1UxQUxQ+QxQ^-1UxQUxQ+QxQ^-1UxQUxQ+QxQ^-1UxQUxQxQ+QxRQxQ^-1UxQUxQ+QxQ^-1UxQUxQ+QxQ^-1UxQUxQ+QxQ^-1UxQUxQxQ\n",
      "\n",
      "nv\n",
      "n=1: (19, 0, 0, 0) QxQ+QxQ+QxQ+QxQ\n",
      "sum= (19, 0, 0, 0) QxQ+QxQ+QxQ+QxQ\n",
      "\n",
      "mv1\n",
      "n=1: (1.25, 0.0, 0.0, 0.0) QxRQxQ^-1UxQUxQ+QxQ^-1UxQUxQ+QxQ^-1UxQUxQ+QxQ^-1UxQUxQxQ\n",
      "n=2: (1.25, 0.0, 0.0, 0.0) QxRQxQ^-1UxQUxQ+QxQ^-1UxQUxQ+QxQ^-1UxQUxQ+QxQ^-1UxQUxQxQ\n",
      "n=3: (2.5, 0.0, 0.0, 0.0) QxRQxQ^-1UxQUxQ+QxQ^-1UxQUxQ+QxQ^-1UxQUxQ+QxQ^-1UxQUxQxQ\n",
      "n=4: (3.75, 0.0, 0.0, 0.0) QxRQxQ^-1UxQUxQ+QxQ^-1UxQUxQ+QxQ^-1UxQUxQ+QxQ^-1UxQUxQxQ\n",
      "sum= (8.75, 0.0, 0.0, 0.0) QxRQxQ^-1UxQUxQ+QxQ^-1UxQUxQ+QxQ^-1UxQUxQ+QxQ^-1UxQUxQxQ+QxRQxQ^-1UxQUxQ+QxQ^-1UxQUxQ+QxQ^-1UxQUxQ+QxQ^-1UxQUxQxQ+QxRQxQ^-1UxQUxQ+QxQ^-1UxQUxQ+QxQ^-1UxQUxQ+QxQ^-1UxQUxQxQ+QxRQxQ^-1UxQUxQ+QxQ^-1UxQUxQ+QxQ^-1UxQUxQ+QxQ^-1UxQUxQxQ\n",
      "\n",
      "nv1\n",
      "n=1: (-2, 0, 0, 0) QxQ\n",
      "n=2: (0, 0, 0, 0) QxQ\n",
      "n=3: (0, 0, 0, 0) QxQ\n",
      "n=4: (7, 0, 0, 0) QxQ\n",
      "sum= (5, 0, 0, 0) QxQ+QxQ+QxQ+QxQ\n",
      "\n",
      "mv2\n",
      "n=1: (2.5, 0.0, 0.0, 0.0) QxRQxQ^-1UxQUxQ+QxQ^-1UxQUxQ+QxQ^-1UxQUxQ+QxQ^-1UxQUxQxQ\n",
      "n=2: (2.5, 0.0, 0.0, 0.0) QxRQxQ^-1UxQUxQ+QxQ^-1UxQUxQ+QxQ^-1UxQUxQ+QxQ^-1UxQUxQxQ\n",
      "n=3: (5.0, 0.0, 0.0, 0.0) QxRQxQ^-1UxQUxQ+QxQ^-1UxQUxQ+QxQ^-1UxQUxQ+QxQ^-1UxQUxQxQ\n",
      "n=4: (7.5, 0.0, 0.0, 0.0) QxRQxQ^-1UxQUxQ+QxQ^-1UxQUxQ+QxQ^-1UxQUxQ+QxQ^-1UxQUxQxQ\n",
      "sum= (17.5, 0.0, 0.0, 0.0) QxRQxQ^-1UxQUxQ+QxQ^-1UxQUxQ+QxQ^-1UxQUxQ+QxQ^-1UxQUxQxQ+QxRQxQ^-1UxQUxQ+QxQ^-1UxQUxQ+QxQ^-1UxQUxQ+QxQ^-1UxQUxQxQ+QxRQxQ^-1UxQUxQ+QxQ^-1UxQUxQ+QxQ^-1UxQUxQ+QxQ^-1UxQUxQxQ+QxRQxQ^-1UxQUxQ+QxQ^-1UxQUxQ+QxQ^-1UxQUxQ+QxQ^-1UxQUxQxQ\n",
      "\n",
      "nv2\n",
      "n=1: (-4, 0, 0, 0) QxQ\n",
      "n=2: (0, 0, 0, 0) QxQ\n",
      "n=3: (0, 0, 0, 0) QxQ\n",
      "n=4: (14, 0, 0, 0) QxQ\n",
      "sum= (10, 0, 0, 0) QxQ+QxQ+QxQ+QxQ\n",
      "\n",
      "mv3\n",
      "n=1: (3.75, 0.0, 0.0, 0.0) QxRQxQ^-1UxQUxQ+QxQ^-1UxQUxQ+QxQ^-1UxQUxQ+QxQ^-1UxQUxQxQ\n",
      "n=2: (3.75, 0.0, 0.0, 0.0) QxRQxQ^-1UxQUxQ+QxQ^-1UxQUxQ+QxQ^-1UxQUxQ+QxQ^-1UxQUxQxQ\n",
      "n=3: (7.5, 0.0, 0.0, 0.0) QxRQxQ^-1UxQUxQ+QxQ^-1UxQUxQ+QxQ^-1UxQUxQ+QxQ^-1UxQUxQxQ\n",
      "n=4: (11.25, 0.0, 0.0, 0.0) QxRQxQ^-1UxQUxQ+QxQ^-1UxQUxQ+QxQ^-1UxQUxQ+QxQ^-1UxQUxQxQ\n",
      "sum= (26.25, 0.0, 0.0, 0.0) QxRQxQ^-1UxQUxQ+QxQ^-1UxQUxQ+QxQ^-1UxQUxQ+QxQ^-1UxQUxQxQ+QxRQxQ^-1UxQUxQ+QxQ^-1UxQUxQ+QxQ^-1UxQUxQ+QxQ^-1UxQUxQxQ+QxRQxQ^-1UxQUxQ+QxQ^-1UxQUxQ+QxQ^-1UxQUxQ+QxQ^-1UxQUxQxQ+QxRQxQ^-1UxQUxQ+QxQ^-1UxQUxQ+QxQ^-1UxQUxQ+QxQ^-1UxQUxQxQ\n",
      "\n",
      "nv3\n",
      "n=1: (-6, 0, 0, 0) QxQ\n",
      "n=2: (0, 0, 0, 0) QxQ\n",
      "n=3: (0, 0, 0, 0) QxQ\n",
      "n=4: (21, 0, 0, 0) QxQ\n",
      "sum= (15, 0, 0, 0) QxQ+QxQ+QxQ+QxQ\n"
     ]
    }
   ],
   "source": [
    "q_0 = qt.QH([0, 0, 0, 0])\n",
    "q_1 = qt.QH([1, 0, 0, 0])\n",
    "q_2 = qt.QH([2, 0, 0, 0])\n",
    "q_3 = qt.QH([3, 0, 0, 0])\n",
    "q_n2 = qt.QH([-2, 0, 0, 0])\n",
    "q_7 = qt.QH([7, 0, 0, 0])\n",
    "\n",
    "v = qt.QHStates([q_1, q_1, q_2, q_3])\n",
    "v1 = qt.QHStates([q_1])\n",
    "v2 = qt.QHStates([q_2])\n",
    "v3 = qt.QHStates([q_3])\n",
    "n = qt.QHStates([q_n2, q_0, q_0, q_7])\n",
    "\n",
    "m = eigens_2_matrix(n, v)\n",
    "m.print_state(\"m?\", 1)\n",
    "\n",
    "mv = v.Euclidean_product(\"ket\", operator=m)\n",
    "nv = v.Euclidean_product(\"ket\", operator=n)\n",
    "\n",
    "mv1 = v1.Euclidean_product(\"ket\", operator=m)\n",
    "nv1 = v1.Euclidean_product(\"ket\", operator=n)\n",
    "\n",
    "mv2 = v2.Euclidean_product(\"ket\", operator=m)\n",
    "nv2 = v2.Euclidean_product(\"ket\", operator=n)\n",
    "\n",
    "mv3 = v3.Euclidean_product(\"ket\", operator=m)\n",
    "nv3 = v3.Euclidean_product(\"ket\", operator=n)\n",
    "\n",
    "\n",
    "\n",
    "\n",
    "mv.print_state(\"mv\", 1)\n",
    "nv.print_state(\"nv\",1)\n",
    "\n",
    "mv1.print_state(\"mv1\", 1)\n",
    "nv1.print_state(\"nv1\",1)\n",
    "\n",
    "mv2.print_state(\"mv2\", 1)\n",
    "nv2.print_state(\"nv2\",1)\n",
    "\n",
    "mv3.print_state(\"mv3\", 1)\n",
    "nv3.print_state(\"nv3\")"
   ]
  },
  {
   "cell_type": "code",
   "execution_count": 32,
   "metadata": {},
   "outputs": [],
   "source": [
    "def normalize(self, n=1, states=None):\n",
    "    \"\"\"Normalize all states.\"\"\"\n",
    "        \n",
    "    new_states = []\n",
    "        \n",
    "    zero_norm_count = 0\n",
    "        \n",
    "    for bra in self.qs:\n",
    "        if bra.norm_squared().t == 0:\n",
    "            zero_norm_count += 1\n",
    "            new_states.append(QH().q_0())\n",
    "        else:\n",
    "            new_states.append(bra.normalize(n))\n",
    "            print(\"bra {}, normalized to n {}: {}\".format(bra, n, bra.normalize(n)))\n",
    "        \n",
    "    new_states_normalized = []\n",
    "        \n",
    "    non_zero_states = self.dim - zero_norm_count\n",
    "        \n",
    "    for new_state in new_states:\n",
    "        new_states_normalized.append(new_state.product(qt.QH([1/non_zero_states, 0, 0, 0])))\n",
    "            \n",
    "    return qt.QHStates(new_states_normalized)"
   ]
  },
  {
   "cell_type": "code",
   "execution_count": 33,
   "metadata": {},
   "outputs": [],
   "source": [
    "def determinant(q):\n",
    "    \"\"\"Calculate the determinant of a 'square' quaternion series.\"\"\"\n",
    "    \n",
    "    if q.dim == 1:\n",
    "        q_det = q.qs[0]\n",
    "        \n",
    "    elif q.dim == 4:\n",
    "        ad = q.qs[0].product(q.qs[3])\n",
    "        bc = q.qs[1].product(q.qs[2])\n",
    "        q_det = ad.dif(bc)  \n",
    "        \n",
    "    elif q.dim == 9:\n",
    "        aei = q.qs[0].product(q.qs[4].product(q.qs[8]))\n",
    "        bfg = q.qs[3].product(q.qs[7].product(q.qs[2]))\n",
    "        cdh = q.qs[6].product(q.qs[1].product(q.qs[5]))\n",
    "        ceg = q.qs[6].product(q.qs[4].product(q.qs[2]))\n",
    "        bdi = q.qs[3].product(q.qs[1].product(q.qs[8]))\n",
    "        afh = q.qs[0].product(q.qs[7].product(q.qs[5]))\n",
    "        \n",
    "        sum_pos = aei.add(bfg.add(cdh))\n",
    "        sum_neg = ceg.add(bdi.add(afh))\n",
    "        \n",
    "        q_det = sum_pos.dif(sum_neg)\n",
    "        \n",
    "    else:\n",
    "        print(\"Oops, don't know how to calculate the determinant of this one.\")\n",
    "        q_det = qt.QHStates([QH().q_0()])\n",
    "        \n",
    "    return q_det"
   ]
  },
  {
   "cell_type": "code",
   "execution_count": 34,
   "metadata": {},
   "outputs": [],
   "source": [
    "def inverse(q, operator=False, additive=False):\n",
    "    \"\"\"Find the additive or multiplicative inverse of a bra, ket or operator.\"\"\"\n",
    "    \n",
    "    if (operator):\n",
    "        if additive:\n",
    "            q_inv = q.flip_signs()\n",
    "    \n",
    "        else:    \n",
    "            if q.dim == 1:\n",
    "                q_inv = qt.QHStates(q.qs[0].inverse())\n",
    "        \n",
    "            elif q.dim == 4:\n",
    "                print(\"q is: \", q)\n",
    "                det = determinant(q)\n",
    "                detinv = det.inverse()\n",
    "                print(\"detinv\", detinv)\n",
    "                q0 = q.qs[3].product(detinv)\n",
    "                print(\"q0\", q0)\n",
    "                q1 = q.qs[1].flip_signs().product(detinv)\n",
    "                print(\"q1\", q1)\n",
    "                q2 = q.qs[2].flip_signs().product(detinv)\n",
    "                print(\"q2\", q2)\n",
    "                q3 = q.qs[0].product(detinv)\n",
    "                print(\"q3\", q3)\n",
    "                q_inv = qt.QHStates([q0, q1, q2, q3])\n",
    "    \n",
    "            elif q.dim == 9:\n",
    "                det = determinant(q)\n",
    "                detinv = det.inverse()\n",
    "        \n",
    "                print(\"detinv\", detinv)\n",
    "                q0 = q.qs[4].product(q.qs[8]).dif(q.qs[5].product(q.qs[7])).product(detinv)\n",
    "                print(\"q0\", q0)\n",
    "                q1 = q.qs[7].product(q.qs[2]).dif(q.qs[8].product(q.qs[1])).product(detinv)\n",
    "                print(\"q1\", q1)\n",
    "                q2 = q.qs[1].product(q.qs[5]).dif(q.qs[2].product(q.qs[4])).product(detinv)\n",
    "                print(\"q2\", q2)\n",
    "                q3 = q.qs[6].product(q.qs[5]).dif(q.qs[8].product(q.qs[3])).product(detinv)\n",
    "                print(\"q3\", q3)\n",
    "                q4 = q.qs[0].product(q.qs[8]).dif(q.qs[2].product(q.qs[6])).product(detinv)\n",
    "                print(\"q4\", q4)\n",
    "                q5 = q.qs[3].product(q.qs[2]).dif(q.qs[5].product(q.qs[0])).product(detinv)\n",
    "                print(\"q5\", q5)\n",
    "                q6 = q.qs[3].product(q.qs[7]).dif(q.qs[4].product(q.qs[6])).product(detinv)\n",
    "                print(\"q6\", q6)\n",
    "                q7 = q.qs[6].product(q.qs[1]).dif(q.qs[7].product(q.qs[0])).product(detinv)\n",
    "                print(\"q7\", q7)\n",
    "                q8 = q.qs[0].product(q.qs[4]).dif(q.qs[1].product(q.qs[3])).product(detinv)\n",
    "                print(\"q8\", q8)\n",
    "        \n",
    "                q_inv = qt.QHStates([q0, q1, q2, q3, q4, q5, q6, q7, q8])\n",
    "        \n",
    "            else:\n",
    "                print(\"Oops, don't know how to inverse.\")\n",
    "                q_inv = qt.QHStates([QH().q_0()])\n",
    "\n",
    "    else:\n",
    "        if additive:\n",
    "            q_inv = q.flip_signs()\n",
    "        \n",
    "        else:\n",
    "        \n",
    "            new_states = []\n",
    "        \n",
    "            for bra in q.qs:\n",
    "                new_states.append(bra.inverse())\n",
    "                \n",
    "            q_inv = qt.QHStates(new_states)\n",
    "            \n",
    "    return q_inv"
   ]
  },
  {
   "cell_type": "code",
   "execution_count": 35,
   "metadata": {},
   "outputs": [
    {
     "name": "stdout",
     "output_type": "stream",
     "text": [
      "c1_inv\n",
      "(0.2, -0.4, 0.0, 0.0) Q^-1\n",
      "\n",
      "c2_inv\n",
      "(0.2, -0.1, 0.0, 0.0) Q^-1\n",
      "\n",
      "c3_inv\n",
      "(0.16666666666666666, -0.16666666666666666, 0.0, 0.0) Q^-1\n",
      "\n",
      "c4_inv\n",
      "(0.06896551724137931, 0.1724137931034483, 0.0, 0.0) Q^-1\n",
      "\n",
      "c5_inv\n",
      "(-0.49875311720698257, -0.02493765586034913, 0.0, 0.0) Q^-1\n",
      "\n",
      "cs_1: \n",
      "n=1: (1, 2, 0, 0) Q\n",
      "n=2: (4, 2, 0, 0) Q\n",
      "n=3: (3, 3, 0, 0) Q\n",
      "n=4: (2, -5, 0, 0) Q\n",
      "sum= (10, 2, 0, 0) Q+Q+Q+Q\n",
      "\n",
      "cs_2: \n",
      "n=1: (-2, 0.1, 0, 0) Q\n",
      "n=2: (2, -5, 0, 0) Q\n",
      "n=3: (4, 2, 0, 0) Q\n",
      "n=4: (3, 3, 0, 0) Q\n",
      "sum= (7, 0.09999999999999964, 0, 0) Q+Q+Q+Q\n"
     ]
    }
   ],
   "source": [
    "c1 = qt.QH([1, 2, 0, 0])\n",
    "c2 = qt.QH([4, 2, 0, 0])\n",
    "c3 = qt.QH([3, 3, 0, 0])\n",
    "c4 = qt.QH([2, -5, 0, 0])\n",
    "c5 = qt.QH([-2, .1, 0, 0])\n",
    "\n",
    "c1_inv = c1.inverse()\n",
    "c2_inv = c2.inverse()\n",
    "c3_inv = c3.inverse()\n",
    "c4_inv = c4.inverse()\n",
    "c5_inv = c5.inverse()\n",
    "\n",
    "c1_inv.print_state(\"c1_inv\", 1)\n",
    "c2_inv.print_state(\"c2_inv\", 1)\n",
    "c3_inv.print_state(\"c3_inv\", 1)\n",
    "c4_inv.print_state(\"c4_inv\", 1)\n",
    "c5_inv.print_state(\"c5_inv\", 1)\n",
    "\n",
    "cs_1 = qt.QHStates([c1, c2, c3, c4])\n",
    "cs_2 = qt.QHStates([c5, c4, c2, c3])\n",
    "\n",
    "cs_1.print_state(\"cs_1: \", 1)\n",
    "cs_2.print_state(\"cs_2: \")"
   ]
  },
  {
   "cell_type": "code",
   "execution_count": 43,
   "metadata": {},
   "outputs": [
    {
     "name": "stdout",
     "output_type": "stream",
     "text": [
      "cs_1_inverse\n",
      "n=1: (0.2, -0.4, 0.0, 0.0) Q^-1\n",
      "n=2: (0.2, -0.1, 0.0, 0.0) Q^-1\n",
      "n=3: (0.16666666666666666, -0.16666666666666666, 0.0, 0.0) Q^-1\n",
      "n=4: (0.06896551724137931, 0.1724137931034483, 0.0, 0.0) Q^-1\n",
      "sum= (0.635632183908046, -0.49425287356321834, 0.0, 0.0) Q^-1+Q^-1+Q^-1+Q^-1\n",
      "\n",
      "cs_2_inverse\n",
      "n=1: (-0.49875311720698257, -0.02493765586034913, 0.0, 0.0) Q^-1\n",
      "n=2: (0.06896551724137931, 0.1724137931034483, 0.0, 0.0) Q^-1\n",
      "n=3: (0.2, -0.1, 0.0, 0.0) Q^-1\n",
      "n=4: (0.16666666666666666, -0.16666666666666666, 0.0, 0.0) Q^-1\n",
      "sum= (-0.06312093329893656, -0.1191905294235675, 0.0, 0.0) Q^-1+Q^-1+Q^-1+Q^-1\n"
     ]
    }
   ],
   "source": [
    "cs_1_inverse = inverse(cs_1)\n",
    "cs_2_inverse = inverse(cs_2)\n",
    "cs_1_inverse.print_state(\"cs_1_inverse\", 1)\n",
    "cs_2_inverse.print_state(\"cs_2_inverse\")"
   ]
  },
  {
   "cell_type": "code",
   "execution_count": 37,
   "metadata": {},
   "outputs": [
    {
     "name": "stdout",
     "output_type": "stream",
     "text": [
      "cs_1_cs_1_inv: \n",
      "(4.0, 0.0, 0.0, 0.0) QxQ^-1+QxQ^-1+QxQ^-1+QxQ^-1\n",
      "\n",
      "cs_2_cs_2_inv: \n",
      "(4.0, 0.0, 0.0, 0.0) QxQ^-1+QxQ^-1+QxQ^-1+QxQ^-1\n"
     ]
    }
   ],
   "source": [
    "cs_1_cs_1_inv = cs_1.product(\"bra\", ket=cs_1_inverse)\n",
    "cs_2_cs_2_inv = cs_2.product(\"bra\", ket=cs_2_inverse)\n",
    "cs_1_cs_1_inv.print_state(\"cs_1_cs_1_inv: \", 1)\n",
    "cs_2_cs_2_inv.print_state(\"cs_2_cs_2_inv: \")"
   ]
  },
  {
   "cell_type": "code",
   "execution_count": 44,
   "metadata": {},
   "outputs": [
    {
     "name": "stdout",
     "output_type": "stream",
     "text": [
      "cs_1_cs_1_inv: \n",
      "(-0.7241379310344829, -1.910344827586207, 0.0, 0.0) Q*xQ^-1+Q*xQ^-1+Q*xQ^-1+Q*xQ^-1\n",
      "\n",
      "cs_2_cs_2_inv: \n",
      "(0.8708745377934475, -1.0105942041448104, 0.0, 0.0) Q*xQ^-1+Q*xQ^-1+Q*xQ^-1+Q*xQ^-1\n"
     ]
    }
   ],
   "source": [
    "cs_1_cs_1_inv = cs_1.Euclidean_product(\"bra\", ket=cs_1_inverse)\n",
    "cs_2_cs_2_inv = cs_2.Euclidean_product(\"bra\", ket=cs_2_inverse)\n",
    "cs_1_cs_1_inv.print_state(\"cs_1_cs_1_inv: \", 1)\n",
    "cs_2_cs_2_inv.print_state(\"cs_2_cs_2_inv: \")"
   ]
  },
  {
   "cell_type": "code",
   "execution_count": 45,
   "metadata": {},
   "outputs": [
    {
     "name": "stdout",
     "output_type": "stream",
     "text": [
      "cs_1_inverse_diagonal\n",
      "n=1: (0.2, -0.4, 0.0, 0.0) Q^-1\n",
      "n=2: (0, 0, 0, 0) 0\n",
      "n=3: (0, 0, 0, 0) 0\n",
      "n=4: (0, 0, 0, 0) 0\n",
      "n=5: (0, 0, 0, 0) 0\n",
      "n=6: (0.2, -0.1, 0.0, 0.0) Q^-1\n",
      "n=7: (0, 0, 0, 0) 0\n",
      "n=8: (0, 0, 0, 0) 0\n",
      "n=9: (0, 0, 0, 0) 0\n",
      "n=10: (0, 0, 0, 0) 0\n",
      "n=11: (0.16666666666666666, -0.16666666666666666, 0.0, 0.0) Q^-1\n",
      "n=12: (0, 0, 0, 0) 0\n",
      "n=13: (0, 0, 0, 0) 0\n",
      "n=14: (0, 0, 0, 0) 0\n",
      "n=15: (0, 0, 0, 0) 0\n",
      "n=16: (0.06896551724137931, 0.1724137931034483, 0.0, 0.0) Q^-1\n",
      "sum= (0.635632183908046, -0.49425287356321834, 0.0, 0.0) Q^-1+0+0+0+0+Q^-1+0+0+0+0+Q^-1+0+0+0+0+Q^-1\n",
      "cs_2_inverse_diagonal\n",
      "n=1: (-0.49875311720698257, -0.02493765586034913, 0.0, 0.0) Q^-1\n",
      "n=2: (0, 0, 0, 0) 0\n",
      "n=3: (0, 0, 0, 0) 0\n",
      "n=4: (0, 0, 0, 0) 0\n",
      "n=5: (0, 0, 0, 0) 0\n",
      "n=6: (0.06896551724137931, 0.1724137931034483, 0.0, 0.0) Q^-1\n",
      "n=7: (0, 0, 0, 0) 0\n",
      "n=8: (0, 0, 0, 0) 0\n",
      "n=9: (0, 0, 0, 0) 0\n",
      "n=10: (0, 0, 0, 0) 0\n",
      "n=11: (0.2, -0.1, 0.0, 0.0) Q^-1\n",
      "n=12: (0, 0, 0, 0) 0\n",
      "n=13: (0, 0, 0, 0) 0\n",
      "n=14: (0, 0, 0, 0) 0\n",
      "n=15: (0, 0, 0, 0) 0\n",
      "n=16: (0.16666666666666666, -0.16666666666666666, 0.0, 0.0) Q^-1\n",
      "sum= (-0.06312093329893656, -0.1191905294235675, 0.0, 0.0) Q^-1+0+0+0+0+Q^-1+0+0+0+0+Q^-1+0+0+0+0+Q^-1\n"
     ]
    }
   ],
   "source": [
    "cs_1_inverse_diagonal = cs_1_inverse.diagonal(4)\n",
    "cs_2_inverse_diagonal = cs_2_inverse.diagonal(4)\n",
    "cs_1_inverse_diagonal.print_state(\"cs_1_inverse_diagonal\")\n",
    "cs_2_inverse_diagonal.print_state(\"cs_2_inverse_diagonal\")"
   ]
  },
  {
   "cell_type": "code",
   "execution_count": 46,
   "metadata": {},
   "outputs": [
    {
     "name": "stdout",
     "output_type": "stream",
     "text": [
      "cs_1_cs_1_inv_op\n",
      "n=1: (1.0, 0.0, 0.0, 0.0) Q^-1xQ+0xQ+0xQ+0xQ\n",
      "n=2: (1.0, 0.0, 0.0, 0.0) 0xQ+Q^-1xQ+0xQ+0xQ\n",
      "n=3: (1.0, 0.0, 0.0, 0.0) 0xQ+0xQ+Q^-1xQ+0xQ\n",
      "n=4: (1.0, 0.0, 0.0, 0.0) 0xQ+0xQ+0xQ+Q^-1xQ\n",
      "sum= (4.0, 0.0, 0.0, 0.0) Q^-1xQ+0xQ+0xQ+0xQ+0xQ+Q^-1xQ+0xQ+0xQ+0xQ+0xQ+Q^-1xQ+0xQ+0xQ+0xQ+0xQ+Q^-1xQ\n",
      "\n",
      "cs_2_cs_2_inv_op\n",
      "n=1: (1.0, 0.0, 0.0, 0.0) Q^-1xQ+0xQ+0xQ+0xQ\n",
      "n=2: (1.0, 0.0, 0.0, 0.0) 0xQ+Q^-1xQ+0xQ+0xQ\n",
      "n=3: (1.0, 0.0, 0.0, 0.0) 0xQ+0xQ+Q^-1xQ+0xQ\n",
      "n=4: (1.0, 0.0, 0.0, 0.0) 0xQ+0xQ+0xQ+Q^-1xQ\n",
      "sum= (4.0, 0.0, 0.0, 0.0) Q^-1xQ+0xQ+0xQ+0xQ+0xQ+Q^-1xQ+0xQ+0xQ+0xQ+0xQ+Q^-1xQ+0xQ+0xQ+0xQ+0xQ+Q^-1xQ\n"
     ]
    }
   ],
   "source": [
    "cs_1_cs_1_inv_op = cs_1.product(\"ket\", operator=cs_1_inverse_diagonal)\n",
    "cs_2_cs_2_inv_op = cs_2.product(\"ket\", operator=cs_2_inverse_diagonal)\n",
    "cs_1_cs_1_inv_op.print_state(\"cs_1_cs_1_inv_op\", 1)\n",
    "cs_2_cs_2_inv_op.print_state(\"cs_2_cs_2_inv_op\")"
   ]
  },
  {
   "cell_type": "code",
   "execution_count": 41,
   "metadata": {},
   "outputs": [
    {
     "name": "stdout",
     "output_type": "stream",
     "text": [
      "4\n",
      "[<Q_tools.QH object at 0x1116ed400>, <Q_tools.QH object at 0x1116ed898>, <Q_tools.QH object at 0x1116eda20>, <Q_tools.QH object at 0x1116ed128>]\n",
      "[]\n",
      "cs_1_inverse\n",
      "sum= None\n",
      "Oops, need the length to be equal to the dimensions.\n"
     ]
    },
    {
     "ename": "UnboundLocalError",
     "evalue": "local variable 'q_values' referenced before assignment",
     "output_type": "error",
     "traceback": [
      "\u001b[0;31m---------------------------------------------------------------------------\u001b[0m",
      "\u001b[0;31mUnboundLocalError\u001b[0m                         Traceback (most recent call last)",
      "\u001b[0;32m<ipython-input-41-fa4e5aa20d50>\u001b[0m in \u001b[0;36m<module>\u001b[0;34m()\u001b[0m\n\u001b[1;32m      3\u001b[0m \u001b[0mprint\u001b[0m\u001b[0;34m(\u001b[0m\u001b[0mcs_1_inverse\u001b[0m\u001b[0;34m.\u001b[0m\u001b[0mqs\u001b[0m\u001b[0;34m)\u001b[0m\u001b[0;34m\u001b[0m\u001b[0m\n\u001b[1;32m      4\u001b[0m \u001b[0mcs_1_inverse\u001b[0m\u001b[0;34m.\u001b[0m\u001b[0mprint_state\u001b[0m\u001b[0;34m(\u001b[0m\u001b[0;34m\"cs_1_inverse\"\u001b[0m\u001b[0;34m)\u001b[0m\u001b[0;34m\u001b[0m\u001b[0m\n\u001b[0;32m----> 5\u001b[0;31m \u001b[0mcs_1_inverse_diagonal\u001b[0m \u001b[0;34m=\u001b[0m \u001b[0mcs_1_inverse\u001b[0m\u001b[0;34m.\u001b[0m\u001b[0mdiagonal\u001b[0m\u001b[0;34m(\u001b[0m\u001b[0;36m4\u001b[0m\u001b[0;34m)\u001b[0m\u001b[0;34m\u001b[0m\u001b[0m\n\u001b[0m\u001b[1;32m      6\u001b[0m \u001b[0mcs_1_inverse_diagonal\u001b[0m\u001b[0;34m.\u001b[0m\u001b[0mprint_state\u001b[0m\u001b[0;34m(\u001b[0m\u001b[0;34m\"cs_1 inv diagonal\"\u001b[0m\u001b[0;34m)\u001b[0m\u001b[0;34m\u001b[0m\u001b[0m\n",
      "\u001b[0;32m~/workspace/QM/docs/Q_tools.py\u001b[0m in \u001b[0;36mdiagonal\u001b[0;34m(self, dim)\u001b[0m\n\u001b[1;32m   6997\u001b[0m             \u001b[0;32mfor\u001b[0m \u001b[0mj\u001b[0m \u001b[0;32min\u001b[0m \u001b[0mrange\u001b[0m\u001b[0;34m(\u001b[0m\u001b[0mdim\u001b[0m\u001b[0;34m)\u001b[0m\u001b[0;34m:\u001b[0m\u001b[0;34m\u001b[0m\u001b[0m\n\u001b[1;32m   6998\u001b[0m                 \u001b[0;32mif\u001b[0m \u001b[0mi\u001b[0m \u001b[0;34m==\u001b[0m \u001b[0mj\u001b[0m\u001b[0;34m:\u001b[0m\u001b[0;34m\u001b[0m\u001b[0m\n\u001b[0;32m-> 6999\u001b[0;31m                     \u001b[0mdiagonal\u001b[0m\u001b[0;34m.\u001b[0m\u001b[0mappend\u001b[0m\u001b[0;34m(\u001b[0m\u001b[0mq_values\u001b[0m\u001b[0;34m.\u001b[0m\u001b[0mpop\u001b[0m\u001b[0;34m(\u001b[0m\u001b[0;36m0\u001b[0m\u001b[0;34m)\u001b[0m\u001b[0;34m)\u001b[0m\u001b[0;34m\u001b[0m\u001b[0m\n\u001b[0m\u001b[1;32m   7000\u001b[0m                 \u001b[0;32melse\u001b[0m\u001b[0;34m:\u001b[0m\u001b[0;34m\u001b[0m\u001b[0m\n\u001b[1;32m   7001\u001b[0m                     \u001b[0mdiagonal\u001b[0m\u001b[0;34m.\u001b[0m\u001b[0mappend\u001b[0m\u001b[0;34m(\u001b[0m\u001b[0mQH\u001b[0m\u001b[0;34m(\u001b[0m\u001b[0;34m)\u001b[0m\u001b[0;34m.\u001b[0m\u001b[0mq_0\u001b[0m\u001b[0;34m(\u001b[0m\u001b[0;34m)\u001b[0m\u001b[0;34m)\u001b[0m\u001b[0;34m\u001b[0m\u001b[0m\n",
      "\u001b[0;31mUnboundLocalError\u001b[0m: local variable 'q_values' referenced before assignment"
     ]
    }
   ],
   "source": [
    "print(cs_1_inverse.dim)\n",
    "print(cs_1.qs)\n",
    "print(cs_1_inverse.qs)\n",
    "cs_1_inverse.print_state(\"cs_1_inverse\")\n",
    "cs_1_inverse_diagonal = cs_1_inverse.diagonal(4)\n",
    "cs_1_inverse_diagonal.print_state(\"cs_1 inv diagonal\")"
   ]
  },
  {
   "cell_type": "code",
   "execution_count": 39,
   "metadata": {},
   "outputs": [
    {
     "name": "stdout",
     "output_type": "stream",
     "text": [
      "Oops, need the length to be equal to the dimensions.\n"
     ]
    },
    {
     "ename": "UnboundLocalError",
     "evalue": "local variable 'q_values' referenced before assignment",
     "output_type": "error",
     "traceback": [
      "\u001b[0;31m---------------------------------------------------------------------------\u001b[0m",
      "\u001b[0;31mUnboundLocalError\u001b[0m                         Traceback (most recent call last)",
      "\u001b[0;32m<ipython-input-39-1bb591fca7e4>\u001b[0m in \u001b[0;36m<module>\u001b[0;34m()\u001b[0m\n\u001b[0;32m----> 1\u001b[0;31m \u001b[0mcs_1_inv_series\u001b[0m \u001b[0;34m=\u001b[0m \u001b[0mcs_1\u001b[0m\u001b[0;34m.\u001b[0m\u001b[0mproduct\u001b[0m\u001b[0;34m(\u001b[0m\u001b[0;34m\"ket\"\u001b[0m\u001b[0;34m,\u001b[0m \u001b[0moperator\u001b[0m\u001b[0;34m=\u001b[0m\u001b[0mcs_1_inverse\u001b[0m\u001b[0;34m.\u001b[0m\u001b[0mdiagonal\u001b[0m\u001b[0;34m(\u001b[0m\u001b[0;36m4\u001b[0m\u001b[0;34m)\u001b[0m\u001b[0;34m)\u001b[0m\u001b[0;34m\u001b[0m\u001b[0m\n\u001b[0m\u001b[1;32m      2\u001b[0m \u001b[0mcs_1_inv_series\u001b[0m\u001b[0;34m.\u001b[0m\u001b[0mprint_state\u001b[0m\u001b[0;34m(\u001b[0m\u001b[0;34m\"cs_1 inv as series\"\u001b[0m\u001b[0;34m)\u001b[0m\u001b[0;34m\u001b[0m\u001b[0m\n",
      "\u001b[0;32m~/workspace/QM/docs/Q_tools.py\u001b[0m in \u001b[0;36mdiagonal\u001b[0;34m(self, dim)\u001b[0m\n\u001b[1;32m   6997\u001b[0m             \u001b[0;32mfor\u001b[0m \u001b[0mj\u001b[0m \u001b[0;32min\u001b[0m \u001b[0mrange\u001b[0m\u001b[0;34m(\u001b[0m\u001b[0mdim\u001b[0m\u001b[0;34m)\u001b[0m\u001b[0;34m:\u001b[0m\u001b[0;34m\u001b[0m\u001b[0m\n\u001b[1;32m   6998\u001b[0m                 \u001b[0;32mif\u001b[0m \u001b[0mi\u001b[0m \u001b[0;34m==\u001b[0m \u001b[0mj\u001b[0m\u001b[0;34m:\u001b[0m\u001b[0;34m\u001b[0m\u001b[0m\n\u001b[0;32m-> 6999\u001b[0;31m                     \u001b[0mdiagonal\u001b[0m\u001b[0;34m.\u001b[0m\u001b[0mappend\u001b[0m\u001b[0;34m(\u001b[0m\u001b[0mq_values\u001b[0m\u001b[0;34m.\u001b[0m\u001b[0mpop\u001b[0m\u001b[0;34m(\u001b[0m\u001b[0;36m0\u001b[0m\u001b[0;34m)\u001b[0m\u001b[0;34m)\u001b[0m\u001b[0;34m\u001b[0m\u001b[0m\n\u001b[0m\u001b[1;32m   7000\u001b[0m                 \u001b[0;32melse\u001b[0m\u001b[0;34m:\u001b[0m\u001b[0;34m\u001b[0m\u001b[0m\n\u001b[1;32m   7001\u001b[0m                     \u001b[0mdiagonal\u001b[0m\u001b[0;34m.\u001b[0m\u001b[0mappend\u001b[0m\u001b[0;34m(\u001b[0m\u001b[0mQH\u001b[0m\u001b[0;34m(\u001b[0m\u001b[0;34m)\u001b[0m\u001b[0;34m.\u001b[0m\u001b[0mq_0\u001b[0m\u001b[0;34m(\u001b[0m\u001b[0;34m)\u001b[0m\u001b[0;34m)\u001b[0m\u001b[0;34m\u001b[0m\u001b[0m\n",
      "\u001b[0;31mUnboundLocalError\u001b[0m: local variable 'q_values' referenced before assignment"
     ]
    }
   ],
   "source": [
    "cs_1_inv_series = cs_1.product(\"ket\", operator=cs_1_inverse.diagonal(4))\n",
    "cs_1_inv_series.print_state(\"cs_1 inv as series\")"
   ]
  },
  {
   "cell_type": "code",
   "execution_count": 40,
   "metadata": {},
   "outputs": [
    {
     "name": "stdout",
     "output_type": "stream",
     "text": [
      "cs_1_inverse dim:  4\n",
      "cs_1_inverse len qs:  0\n",
      "Oops, need the length to be equal to the dimensions.\n"
     ]
    },
    {
     "ename": "UnboundLocalError",
     "evalue": "local variable 'q_values' referenced before assignment",
     "output_type": "error",
     "traceback": [
      "\u001b[0;31m---------------------------------------------------------------------------\u001b[0m",
      "\u001b[0;31mUnboundLocalError\u001b[0m                         Traceback (most recent call last)",
      "\u001b[0;32m<ipython-input-40-2d510fa3755d>\u001b[0m in \u001b[0;36m<module>\u001b[0;34m()\u001b[0m\n\u001b[1;32m      1\u001b[0m \u001b[0mprint\u001b[0m\u001b[0;34m(\u001b[0m\u001b[0;34m\"cs_1_inverse dim: \"\u001b[0m\u001b[0;34m,\u001b[0m \u001b[0mcs_1_inverse\u001b[0m\u001b[0;34m.\u001b[0m\u001b[0mdim\u001b[0m\u001b[0;34m)\u001b[0m\u001b[0;34m\u001b[0m\u001b[0m\n\u001b[1;32m      2\u001b[0m \u001b[0mprint\u001b[0m\u001b[0;34m(\u001b[0m\u001b[0;34m\"cs_1_inverse len qs: \"\u001b[0m\u001b[0;34m,\u001b[0m \u001b[0mlen\u001b[0m\u001b[0;34m(\u001b[0m\u001b[0mcs_1_inverse\u001b[0m\u001b[0;34m.\u001b[0m\u001b[0mqs\u001b[0m\u001b[0;34m)\u001b[0m\u001b[0;34m)\u001b[0m\u001b[0;34m\u001b[0m\u001b[0m\n\u001b[0;32m----> 3\u001b[0;31m \u001b[0mcs_1_inverse_diag\u001b[0m \u001b[0;34m=\u001b[0m \u001b[0mcs_1_inverse\u001b[0m\u001b[0;34m.\u001b[0m\u001b[0mdiagonal\u001b[0m\u001b[0;34m(\u001b[0m\u001b[0;36m4\u001b[0m\u001b[0;34m)\u001b[0m\u001b[0;34m\u001b[0m\u001b[0m\n\u001b[0m\u001b[1;32m      4\u001b[0m \u001b[0mcs_1_inverse_diag\u001b[0m\u001b[0;34m.\u001b[0m\u001b[0mprint_state\u001b[0m\u001b[0;34m(\u001b[0m\u001b[0;34m\"cs_1_inverse_diag\"\u001b[0m\u001b[0;34m)\u001b[0m\u001b[0;34m\u001b[0m\u001b[0m\n",
      "\u001b[0;32m~/workspace/QM/docs/Q_tools.py\u001b[0m in \u001b[0;36mdiagonal\u001b[0;34m(self, dim)\u001b[0m\n\u001b[1;32m   6997\u001b[0m             \u001b[0;32mfor\u001b[0m \u001b[0mj\u001b[0m \u001b[0;32min\u001b[0m \u001b[0mrange\u001b[0m\u001b[0;34m(\u001b[0m\u001b[0mdim\u001b[0m\u001b[0;34m)\u001b[0m\u001b[0;34m:\u001b[0m\u001b[0;34m\u001b[0m\u001b[0m\n\u001b[1;32m   6998\u001b[0m                 \u001b[0;32mif\u001b[0m \u001b[0mi\u001b[0m \u001b[0;34m==\u001b[0m \u001b[0mj\u001b[0m\u001b[0;34m:\u001b[0m\u001b[0;34m\u001b[0m\u001b[0m\n\u001b[0;32m-> 6999\u001b[0;31m                     \u001b[0mdiagonal\u001b[0m\u001b[0;34m.\u001b[0m\u001b[0mappend\u001b[0m\u001b[0;34m(\u001b[0m\u001b[0mq_values\u001b[0m\u001b[0;34m.\u001b[0m\u001b[0mpop\u001b[0m\u001b[0;34m(\u001b[0m\u001b[0;36m0\u001b[0m\u001b[0;34m)\u001b[0m\u001b[0;34m)\u001b[0m\u001b[0;34m\u001b[0m\u001b[0m\n\u001b[0m\u001b[1;32m   7000\u001b[0m                 \u001b[0;32melse\u001b[0m\u001b[0;34m:\u001b[0m\u001b[0;34m\u001b[0m\u001b[0m\n\u001b[1;32m   7001\u001b[0m                     \u001b[0mdiagonal\u001b[0m\u001b[0;34m.\u001b[0m\u001b[0mappend\u001b[0m\u001b[0;34m(\u001b[0m\u001b[0mQH\u001b[0m\u001b[0;34m(\u001b[0m\u001b[0;34m)\u001b[0m\u001b[0;34m.\u001b[0m\u001b[0mq_0\u001b[0m\u001b[0;34m(\u001b[0m\u001b[0;34m)\u001b[0m\u001b[0;34m)\u001b[0m\u001b[0;34m\u001b[0m\u001b[0m\n",
      "\u001b[0;31mUnboundLocalError\u001b[0m: local variable 'q_values' referenced before assignment"
     ]
    }
   ],
   "source": [
    "print(\"cs_1_inverse dim: \", cs_1_inverse.dim)\n",
    "print(\"cs_1_inverse len qs: \", len(cs_1_inverse.qs))\n",
    "cs_1_inverse_diag = cs_1_inverse.diagonal(4)\n",
    "cs_1_inverse_diag.print_state(\"cs_1_inverse_diag\")"
   ]
  },
  {
   "cell_type": "code",
   "execution_count": 14,
   "metadata": {},
   "outputs": [
    {
     "name": "stdout",
     "output_type": "stream",
     "text": [
      "v\n",
      "n=1: (1, 0, 0, 0) Q\n",
      "n=2: (1, 0, 0, 0) Q\n",
      "n=3: (2, 0, 0, 0) Q\n",
      "n=4: (3, 0, 0, 0) Q\n",
      "sum= (7, 0, 0, 0) Q+Q+Q+Q\n",
      "\n",
      "(1, 0, 0, 0) QxQ-QxQ\n",
      "v inv\n",
      "n=1: (1.0, 0.0, 0.0, 0.0) Q^-1\n",
      "n=2: (1.0, 0.0, 0.0, 0.0) Q^-1\n",
      "n=3: (0.5, 0.0, 0.0, 0.0) Q^-1\n",
      "n=4: (0.3333333333333333, 0.0, 0.0, 0.0) Q^-1\n",
      "sum= (2.8333333333333335, 0.0, 0.0, 0.0) Q^-1+Q^-1+Q^-1+Q^-1\n"
     ]
    }
   ],
   "source": [
    "v.print_state(\"v\", 1)\n",
    "print(determinant(v))\n",
    "inverse(v).print_state(\"v inv\")"
   ]
  },
  {
   "cell_type": "code",
   "execution_count": 15,
   "metadata": {},
   "outputs": [
    {
     "name": "stdout",
     "output_type": "stream",
     "text": [
      "v vinverse\n",
      "(4.0, 0.0, 0.0, 0.0) QxQ^-1+QxQ^-1+QxQ^-1+QxQ^-1\n"
     ]
    }
   ],
   "source": [
    "v.product(\"bra\", ket=inverse(v)).print_state(\"v vinverse\")"
   ]
  },
  {
   "cell_type": "code",
   "execution_count": 16,
   "metadata": {},
   "outputs": [
    {
     "name": "stdout",
     "output_type": "stream",
     "text": [
      "(1, 0, 0, 0) QxQ-QxQ\n"
     ]
    }
   ],
   "source": [
    "print(determinant(v))"
   ]
  },
  {
   "cell_type": "code",
   "execution_count": 17,
   "metadata": {},
   "outputs": [
    {
     "name": "stdout",
     "output_type": "stream",
     "text": [
      "n=1: (1, 0, 0, 0) Q\n",
      "n=2: (1, 0, 0, 0) Q\n",
      "n=3: (2, 0, 0, 0) Q\n",
      "n=4: (3, 0, 0, 0) Q\n",
      "n=5: (1, 0, 0, 0) Q\n",
      "n=6: (1, 0, 0, 0) Q\n",
      "n=7: (2, 0, 0, 0) Q\n",
      "n=8: (3, 0, 0, 0) Q\n",
      "n=9: (2, 0, 0, 0) Q\n",
      "(9, 0, 0, 0) QxQxQ+QxQxQ+QxQxQ-QxQxQ+QxQxQ+QxQxQ\n"
     ]
    }
   ],
   "source": [
    "v9 = qt.QHStates([q_1, q_1, q_2, q_3, q_1, q_1, q_2, q_3, q_2])\n",
    "print(v9)\n",
    "print(determinant(v9))"
   ]
  },
  {
   "cell_type": "code",
   "execution_count": null,
   "metadata": {},
   "outputs": [],
   "source": [
    "v9i = qt.QHStates([qt.QH([0,1,0,0]), qt.QH([0,2,0,0]), qt.QH([0,3,0,0]), qt.QH([0,4,0,0]), qt.QH([0,5,0,0]), qt.QH([0,6,0,0]), qt.QH([0,7,0,0]), qt.QH([0,8,0,0]), qt.QH([0,9,0,0])])"
   ]
  },
  {
   "cell_type": "code",
   "execution_count": null,
   "metadata": {},
   "outputs": [],
   "source": [
    "vv9 = v9.add(v9i)\n",
    "vv9.print_state(\"vv9\")\n",
    "print(determinant(vv9))"
   ]
  },
  {
   "cell_type": "code",
   "execution_count": null,
   "metadata": {},
   "outputs": [],
   "source": [
    "v1123 = qt.QHStates([q_1, q_1, q_2, q_3])\n",
    "dv1123 = determinant(v1123)\n",
    "print(dv1123)"
   ]
  },
  {
   "cell_type": "code",
   "execution_count": null,
   "metadata": {},
   "outputs": [],
   "source": [
    "def identity(dim, operator=False):\n",
    "        \"\"\"Identity operator for states or operators which are diagonal.\"\"\"\n",
    "    \n",
    "        if operator:\n",
    "            q_1 = qt.QHStates([qt.QH().q_1()])\n",
    "            ident = qt.QHStates.diagonal(q_1, dim)    \n",
    "    \n",
    "        else:\n",
    "            i_list = [qt.QH().q_1() for i in range(dim)]\n",
    "            ident = qt.QHStates(i_list)\n",
    "            \n",
    "        return ident"
   ]
  },
  {
   "cell_type": "code",
   "execution_count": null,
   "metadata": {},
   "outputs": [],
   "source": [
    "class TestDet(unittest.TestCase):\n",
    "    q_0 = qt.QH().q_0()\n",
    "    q_1 = qt.QH().q_1()\n",
    "    q_n1 = qt.QH([-1,0,0,0])\n",
    "    q_2 = qt.QH([2,0,0,0])\n",
    "    q_n2 = qt.QH([-2,0,0,0])\n",
    "    q_3 = qt.QH([3,0,0,0])\n",
    "    q_n3 = qt.QH([-3,0,0,0])\n",
    "    q_4 = qt.QH([4,0,0,0])\n",
    "    q_n5 = qt.QH([-5,0,0,0])\n",
    "    q_7 = qt.QH([7,0,0,0])\n",
    "    q_8 = qt.QH([8,0,0,0])\n",
    "    q_9 = qt.QH([9,0,0,0])\n",
    "    q_n11 = qt.QH([-11,0,0,0])\n",
    "    q_21 = qt.QH([21,0,0,0])\n",
    "    q_n34 = qt.QH([-34,0,0,0])\n",
    "    v3 = qt.QHStates([q_3])\n",
    "    v1123 = qt.QHStates([q_1, q_1, q_2, q_3])\n",
    "    v3n1n21 = qt.QHStates([q_3,q_n1,q_n2,q_1])\n",
    "    v9 = qt.QHStates([q_1, q_1, q_2, q_3, q_1, q_1, q_2, q_3, q_2])\n",
    "    v9i = qt.QHStates([qt.QH([0,1,0,0]), qt.QH([0,2,0,0]), qt.QH([0,3,0,0]), qt.QH([0,4,0,0]), qt.QH([0,5,0,0]), qt.QH([0,6,0,0]), qt.QH([0,7,0,0]), qt.QH([0,8,0,0]), qt.QH([0,9,0,0])])\n",
    "    vv9 = v9.add(v9i)\n",
    "    qn627 = qt.QH([-6,27,0,0])\n",
    "    v33 = qt.QHStates([q_7, q_0, q_n3, q_2, q_3, q_4, q_1, q_n1, q_n2])\n",
    "    v33inv = qt.QHStates([q_n2, q_3, q_9, q_8, q_n11, q_n34, q_n5, q_7, q_21])\n",
    "    q_i3 = qt.QHStates([q_1, q_1, q_1])\n",
    "    q_i2d = qt.QHStates([q_1, q_0, q_0, q_1])\n",
    "            \n",
    "    def test_identity(self):\n",
    "        ident = identity(3)\n",
    "        print(\"ket 3 identity\", ident)\n",
    "        self.assertTrue(ident.equals(self.q_i3))\n",
    "        ident = identity(2, operator=True)\n",
    "        print(\"operator 2 identity\", ident)\n",
    "        self.assertTrue(ident.equals(self.q_i2d))\n",
    "\n",
    "\n",
    "    \n",
    "    def test_determinant(self):\n",
    "        det_v3 = determinant(self.v3)\n",
    "        print(\"det v3:\", det_v3)\n",
    "        self.assertTrue(det_v3.equals(self.q_3))\n",
    "        det_v1123 = determinant(self.v1123)\n",
    "        print(\"det v1123\", det_v1123)\n",
    "        self.assertTrue(det_v1123.equals(self.q_1))\n",
    "        det_v9 = determinant(self.v9)\n",
    "        print(\"det_v9\", det_v9)\n",
    "        self.assertTrue(det_v9.equals(self.q_9))\n",
    "        det_vv9 = determinant(self.vv9)\n",
    "        print(\"det_vv9\", det_vv9)\n",
    "        self.assertTrue(det_vv9.equals(self.qn627))\n",
    "        \n",
    "    def test_inverse(self):\n",
    "        inv_v1123 = inverse(self.v1123, operator=True)\n",
    "        print(\"inv_v1123\", inv_v1123)\n",
    "        self.assertTrue(inv_v1123.equals(self.v3n1n21))\n",
    "\n",
    "        inv_v33 = inverse(self.v33, operator=True)\n",
    "        print(\"inv_v33\", inv_v33)\n",
    "        self.assertTrue(inv_v33.equals(self.v33inv))\n",
    "\n",
    "        \n",
    "suite = unittest.TestLoader().loadTestsFromModule(TestDet())\n",
    "unittest.TextTestRunner().run(suite)"
   ]
  },
  {
   "cell_type": "code",
   "execution_count": null,
   "metadata": {},
   "outputs": [],
   "source": [
    "v2 = qt.QHStates([qt.QH([1,2,3,4]), qt.QH([2,3,2,1])])\n",
    "v2inv = v2.inverse()\n",
    "v2v2inv_product = v2.product(\"bra\", ket=v2inv)\n",
    "v2v2inv_Euclidean_product = v2.Euclidean_product(\"bra\", ket=v2inv)\n",
    "\n",
    "v2.print_state(\"v2\", 1)\n",
    "v2inv.print_state(\"v2inv\", 1)\n",
    "v2v2inv_product.print_state(\"v2v2inv_product\")\n",
    "v2v2inv_Euclidean_product.print_state(\"v2v2inv_Euclidean_product\")"
   ]
  },
  {
   "cell_type": "code",
   "execution_count": null,
   "metadata": {},
   "outputs": [],
   "source": [
    "vinverse = v.inverse()\n",
    "vvinverse_product = v.product(\"bra\", ket=vinverse)\n",
    "vvinverse_Euclidean_product = v.Euclidean_product(\"bra\", ket=vinverse)\n",
    "\n",
    "v.print_state(\"v\", 1)\n",
    "vinverse.print_state(\"vinverse\", 1)\n",
    "vvinverse_product.print_state(\"vvinverse_product\")\n",
    "vvinverse_Euclidean_product.print_state(\"vvinverse_Euclidean_product\")"
   ]
  },
  {
   "cell_type": "code",
   "execution_count": null,
   "metadata": {},
   "outputs": [],
   "source": [
    "u2 = qt.QHStates([qt.QH([1,2,3,4]), qt.QH([3,2,3,1])])\n",
    "u4 = qt.QHStates([qt.QH([1,2,3,4]), qt.QH([3,2,3,1]), qt.QH([2,2,1,0]), qt.QH([3,-1,-3,2])])\n",
    "I2 = qt.QHStates([qt.QH().q_1(), qt.QH().q_1()])\n",
    "I4 = qt.QHStates([qt.QH().q_1(), qt.QH().q_1(), qt.QH().q_1(), qt.QH().q_1()])\n",
    "u2.print_state(\"u2\", 1)\n",
    "u2.product(\"bra\", ket=I2).print_state(\"u2 I2 product\",1)\n",
    "u2.Euclidean_product(\"ket\", bra=I2).print_state(\"u2* I2 Euclidean product\",1)\n",
    "print(\"\")\n",
    "u4.print_state(\"u4\", 1)\n",
    "u4.product(\"bra\", ket=I4).print_state(\"u4 I4 product\",1)\n",
    "u4.Euclidean_product(\"ket\", bra=I4).print_state(\"u4* I4 Euclidean product\")"
   ]
  },
  {
   "cell_type": "code",
   "execution_count": null,
   "metadata": {},
   "outputs": [],
   "source": [
    "v.print_state(\"v\")\n",
    "v.inverse().print_state(\"v inverse\")\n",
    "v.inverse(operator=True).print_state(\"v inverse\")"
   ]
  },
  {
   "cell_type": "markdown",
   "metadata": {},
   "source": [
    "Identity bra, ket or operator(diagonal)."
   ]
  },
  {
   "cell_type": "code",
   "execution_count": null,
   "metadata": {},
   "outputs": [],
   "source": [
    "identity(3).print_state(\"i3\")\n",
    "identity(3, operator=True).print_state(\"i3 op\")"
   ]
  },
  {
   "cell_type": "code",
   "execution_count": null,
   "metadata": {},
   "outputs": [],
   "source": [
    "def inverse(self, operator=False, additive=False):\n",
    "    \"\"\"Inverseing bras and kets calls inverse() once for each.\n",
    "    Inverseing operators is more tricky as one needs a diagonal identity matrix.\"\"\"\n",
    "    \n",
    "    if (operator):\n",
    "        if additive:\n",
    "            q_inv = self.flip_signs()\n",
    "    \n",
    "        else:    \n",
    "            if self.dim == 1:\n",
    "                q_inv = QHStates(self.qs[0].inverse())\n",
    "        \n",
    "            elif self.dim == 4:\n",
    "                det = determinant(q)\n",
    "                detinv = det.inverse()\n",
    "                \n",
    "                q0 = self.qs[3].product(detinv)\n",
    "                q1 = self.qs[1].flip_signs().product(detinv)\n",
    "                q2 = self.qs[2].flip_signs().product(detinv)\n",
    "                q3 = self.qs[0].product(detinv)\n",
    "                \n",
    "                q_inv = QHStates([q0, q1, q2, q3])\n",
    "    \n",
    "            elif self.dim == 9:\n",
    "                det = determinant(q)\n",
    "                detinv = det.inverse()\n",
    "        \n",
    "                \n",
    "                q0 = self.qs[4].product(self.qs[8]).dif(self.qs[5].product(self.qs[7])).product(detinv)\n",
    "                q1 = self.qs[7].product(self.qs[2]).dif(self.qs[8].product(self.qs[1])).product(detinv)\n",
    "                q2 = self.qs[1].product(self.qs[5]).dif(self.qs[2].product(self.qs[4])).product(detinv)\n",
    "                q3 = self.qs[6].product(self.qs[5]).dif(self.qs[8].product(self.qs[3])).product(detinv)\n",
    "                q4 = self.qs[0].product(self.qs[8]).dif(self.qs[2].product(self.qs[6])).product(detinv)\n",
    "                q5 = self.qs[3].product(self.qs[2]).dif(self.qs[5].product(self.qs[0])).product(detinv)\n",
    "                q6 = self.qs[3].product(self.qs[7]).dif(self.qs[4].product(self.qs[6])).product(detinv)\n",
    "                q7 = self.qs[6].product(self.qs[1]).dif(self.qs[7].product(self.qs[0])).product(detinv)\n",
    "                q8 = self.qs[0].product(self.qs[4]).dif(self.qs[1].product(self.qs[3])).product(detinv)\n",
    "                \n",
    "                q_inv = QHStates([q0, q1, q2, q3, q4, q5, q6, q7, q8])\n",
    "        \n",
    "            else:\n",
    "                print(\"Oops, don't know yet how to inverse an operator of this size, sorry.\")\n",
    "                q_inv = QHStates([QH().q_0()])\n",
    "\n",
    "    else:\n",
    "        if additive:\n",
    "            q_inv = self.flip_signs()\n",
    "        \n",
    "        else:\n",
    "            new_states = []\n",
    "        \n",
    "            for bra in self.qs:\n",
    "                new_states.append(bra.inverse())\n",
    "                \n",
    "            q_inv = QHStates(new_states)\n",
    "            \n",
    "    return q_inv"
   ]
  },
  {
   "cell_type": "code",
   "execution_count": null,
   "metadata": {},
   "outputs": [],
   "source": [
    "def determinant(self):\n",
    "    \"\"\"Calculate the determinant of a 'square' quaternion series.\"\"\"\n",
    "    \n",
    "    if self.dim == 1:\n",
    "        q_det = self.qs[0]\n",
    "        \n",
    "    elif self.dim == 4:\n",
    "        ad = self.qs[0].product(self.qs[3])\n",
    "        bc = self.qs[1].product(self.qs[2])\n",
    "        q_det = ad.dif(bc)  \n",
    "        \n",
    "    elif self.dim == 9:\n",
    "        aei = self.qs[0].product(self.qs[4].product(self.qs[8]))\n",
    "        bfg = self.qs[3].product(self.qs[7].product(self.qs[2]))\n",
    "        cdh = self.qs[6].product(self.qs[1].product(self.qs[5]))\n",
    "        ceg = self.qs[6].product(self.qs[4].product(self.qs[2]))\n",
    "        bdi = self.qs[3].product(self.qs[1].product(self.qs[8]))\n",
    "        afh = self.qs[0].product(self.qs[7].product(self.qs[5]))\n",
    "        \n",
    "        sum_pos = aei.add(bfg.add(cdh))\n",
    "        sum_neg = ceg.add(bdi.add(afh))\n",
    "        \n",
    "        q_det = sum_pos.dif(sum_neg)\n",
    "        \n",
    "    else:\n",
    "        print(\"Oops, don't know how to calculate the determinant of this one.\")\n",
    "        q_det = QHStates([QH().q_0()])\n",
    "        \n",
    "    return q_det"
   ]
  },
  {
   "cell_type": "code",
   "execution_count": null,
   "metadata": {},
   "outputs": [],
   "source": []
  }
 ],
 "metadata": {
  "kernelspec": {
   "display_name": "Python 3",
   "language": "python",
   "name": "python3"
  },
  "language_info": {
   "codemirror_mode": {
    "name": "ipython",
    "version": 3
   },
   "file_extension": ".py",
   "mimetype": "text/x-python",
   "name": "python",
   "nbconvert_exporter": "python",
   "pygments_lexer": "ipython3",
   "version": "3.6.5"
  }
 },
 "nbformat": 4,
 "nbformat_minor": 2
}
