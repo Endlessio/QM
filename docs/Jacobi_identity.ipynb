{
 "cells": [
  {
   "cell_type": "markdown",
   "metadata": {},
   "source": [
    "# Jacobi Identity"
   ]
  },
  {
   "cell_type": "markdown",
   "metadata": {},
   "source": [
    "Here is the Jacobi identity:\n",
    "    \n",
    "$$ a \\times (b \\times c) + c \\times (a \\times b) + b \\times (c \\times a) = 0 $$\n",
    "\n",
    "This had better work for a quaternion cross product that return $ (0, a \\times b) $ Rev up the Jupyter notebook and see if my assertion is true."
   ]
  },
  {
   "cell_type": "markdown",
   "metadata": {},
   "source": [
    "Load the needed libraries."
   ]
  },
  {
   "cell_type": "code",
   "execution_count": null,
   "metadata": {},
   "outputs": [],
   "source": [
    "%%capture\n",
    "%matplotlib inline\n",
    "import numpy as np\n",
    "import sympy as sp\n",
    "import matplotlib.pyplot as plt\n",
    "import math\n",
    "\n",
    "# To get equations the look like, well, equations, use the following.\n",
    "from sympy.interactive import printing\n",
    "printing.init_printing(use_latex=True)\n",
    "from IPython.display import display\n",
    "\n",
    "# Tools for manipulating quaternions.\n",
    "from Qs import *\n",
    "\n",
    "from IPython.core.display import display, HTML, Math, Latex\n",
    "display(HTML(\"<style>.container { width:100% !important; }</style>\"))\n",
    "\n",
    "# Print more of each cell, not just the last item.\n",
    "from IPython.core.interactiveshell import InteractiveShell\n",
    "InteractiveShell.ast_node_interactivity = \"all\""
   ]
  },
  {
   "cell_type": "markdown",
   "metadata": {},
   "source": [
    "Do this symbolically."
   ]
  },
  {
   "cell_type": "code",
   "execution_count": null,
   "metadata": {},
   "outputs": [],
   "source": [
    "a1, a2, a3, a4 = sp.symbols(\"a1 a2 a3 a4\")\n",
    "b1, b2, b3, b4 = sp.symbols(\"b1 b2 b3 b4\")\n",
    "c1, c2, c3, c4 = sp.symbols(\"c1 c2 c3 c4\")\n",
    "a = Q([a1, a2, a3, a4])\n",
    "b = Q([b1, b2, b3, b4])\n",
    "c = Q([c1, c2, c3, c4])"
   ]
  },
  {
   "cell_type": "code",
   "execution_count": null,
   "metadata": {},
   "outputs": [],
   "source": [
    "p1 = cross_q(a, cross_q(b, c))\n",
    "p2 = cross_q(c, cross_q(a, b))\n",
    "p3 = cross_q(b, cross_q(c, a))"
   ]
  },
  {
   "cell_type": "code",
   "execution_count": null,
   "metadata": {},
   "outputs": [],
   "source": [
    "p1p2p3 = add(p1, add(p2, p3)).simple_q()\n",
    "print(\"Is the Jacobi identity true for quaternions? \", equal(p1p2p3, q0()))\n",
    "print()\n",
    "p1p2p3.print_state(\"Jacobi\")"
   ]
  },
  {
   "cell_type": "markdown",
   "metadata": {},
   "source": [
    "Bingo, bingo. Why does it work? Like all functions in the Qs library, the cross_q function returns a _quaternion_ cross product, explicitly returning a zero in the scalar position because that is a property of a quaternion cross product. The coordinate-independent way to write a cross product is: $ \\rm{cross\\_q}(a, b) = (a b - b a) / 2 $. Here is a description of the function in the library."
   ]
  },
  {
   "cell_type": "code",
   "execution_count": null,
   "metadata": {},
   "outputs": [],
   "source": [
    "?cross_q"
   ]
  },
  {
   "cell_type": "markdown",
   "metadata": {},
   "source": [
    "One should not confuse the cross product with the product as the cross product is the anti-symmetric part of the product."
   ]
  },
  {
   "cell_type": "code",
   "execution_count": null,
   "metadata": {},
   "outputs": [],
   "source": []
  }
 ],
 "metadata": {
  "language_info": {
   "name": "python",
   "pygments_lexer": "ipython3"
  }
 },
 "nbformat": 4,
 "nbformat_minor": 4
}
