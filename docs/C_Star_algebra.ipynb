{
 "cells": [
  {
   "cell_type": "markdown",
   "metadata": {},
   "source": [
    "# Do Quaternion Series form a $C^*$-Algebra?"
   ]
  },
  {
   "cell_type": "markdown",
   "metadata": {},
   "source": [
    "A [$C^*$-algebra|https://en.wikipedia.org/wiki/C*-algebra] is part of a study of complex numbers that has been partially motivated by its applications to quantum mechanics. At this time, I only have a superficial appreciation of the subject.\n",
    "\n",
    "Quaternions, as a number, contain complex numbers as a subgroup. In a similar way, a quaternion series which is a totally-ordered array of quaternions with integers for rows and columns, will have a totally-ordered array of complex numbers as a subgroup. Perhaps the title question should be modified to ask about an $H^*$-algebra. My expectation is that there will be a few places where things will be different since a quaternion series is in a sense larger than a complex series."
   ]
  },
  {
   "cell_type": "markdown",
   "metadata": {},
   "source": [
    "## Two Quaternion Products"
   ]
  },
  {
   "cell_type": "markdown",
   "metadata": {},
   "source": [
    "Actually, there is only one set of rules for multiplying a totally ordered array of quaternion, don't worry. What can change is what is put into the product. This seamily minor difference in what is going on may be viewed as a big deal by those formally trained in math. Let me try to clarify. First load the needed libraries. "
   ]
  },
  {
   "cell_type": "code",
   "execution_count": 1,
   "metadata": {},
   "outputs": [],
   "source": [
    "%%capture\n",
    "%matplotlib inline\n",
    "import numpy as np\n",
    "import sympy as sp\n",
    "import matplotlib.pyplot as plt\n",
    "import math\n",
    "\n",
    "# To get equations the look like, well, equations, use the following.\n",
    "from sympy.interactive import printing\n",
    "printing.init_printing(use_latex=True)\n",
    "from IPython.display import display\n",
    "\n",
    "# Tools for manipulating quaternions.\n",
    "import Q_tools as qt;\n",
    "\n",
    "from IPython.core.display import display, HTML, Math, Latex\n",
    "display(HTML(\"<style>.container { width:100% !important; }</style>\"))"
   ]
  },
  {
   "cell_type": "markdown",
   "metadata": {},
   "source": [
    "Work with a simple two state quaternion series."
   ]
  },
  {
   "cell_type": "code",
   "execution_count": 2,
   "metadata": {},
   "outputs": [
    {
     "name": "stdout",
     "output_type": "stream",
     "text": [
      "Quaternion Series A\n",
      "n=1: (At1, Ax1, Ay1, Az1) a₁\n",
      "n=2: (At2, Ax2, Ay2, Az2) a₂\n",
      "ket: 2/1\n",
      "\n"
     ]
    }
   ],
   "source": [
    "At1, Ax1, Ay1, Az1 = sp.symbols(\"At1 Ax1 Ay1 Az1\")\n",
    "At2, Ax2, Ay2, Az2 = sp.symbols(\"At2 Ax2 Ay2 Az2\")\n",
    "Aq1 = qt.QH([At1, Ax1, Ay1, Az1], qtype=\"a₁\")\n",
    "Aq2 = qt.QH([At2, Ax2, Ay2, Az2], qtype=\"a₂\")\n",
    "A = qt.QHStates([Aq1, Aq2])\n",
    "\n",
    "A.print_state(\"Quaternion Series A\")"
   ]
  },
  {
   "cell_type": "markdown",
   "metadata": {},
   "source": [
    "All that will be done is to take the product of A with itself. A scalar result is desired. That means specifically that the rows and columns are both one. The ket A has to be altered to be a bra using the bra() function. What will be changed is whether or not a conjugate of A is taken."
   ]
  },
  {
   "cell_type": "code",
   "execution_count": 3,
   "metadata": {},
   "outputs": [
    {
     "name": "stdout",
     "output_type": "stream",
     "text": [
      "AA\n",
      "n=1: (At1**2 + At2**2 - Ax1**2 - Ax2**2 - Ay1**2 - Ay2**2 - Az1**2 - Az2**2, 2*At1*Ax1 + 2*At2*Ax2, 2*At1*Ay1 + 2*At2*Ay2, 2*At1*Az1 + 2*At2*Az2) +a₁xa₁+a₂xa₂\n",
      "scalar: 1/1\n",
      "\n",
      "A* A\n",
      "n=1: (At1**2 + At2**2 + Ax1**2 + Ax2**2 + Ay1**2 + Ay2**2 + Az1**2 + Az2**2, 0, 0, 0) +a₁*xa₁+a₂*xa₂\n",
      "scalar: 1/1\n",
      "\n"
     ]
    }
   ],
   "source": [
    "A.bra().product(A).print_state(\"AA\")\n",
    "A.bra().conj().product(A).print_state(\"A* A\")"
   ]
  },
  {
   "cell_type": "markdown",
   "metadata": {},
   "source": [
    "The rest of this notebook, and in fact most of the work done with quantum mechanics, will concern taking the conjuate of the first term times the second one. I have read people far more skilled that I will ever by _argue_ over which of these is the right way to measure things with quaternions. Different input leads to different output, so neither is right or wrong. Instead, in certain situations, one sort of product will be the only one to use in that situation. Change the situation, change the need. For quantum mechanics, the need is for something I call the \"Euclidean product\" which always takes the conjugate of the first term. The first sort of product, AA, is useful for doing special relativity and my new approach to gravity (quaternion gravity)."
   ]
  },
  {
   "cell_type": "markdown",
   "metadata": {},
   "source": [
    "## The Three Conjugates"
   ]
  },
  {
   "cell_type": "markdown",
   "metadata": {},
   "source": [
    "Anything done on for complex numbers on the real manifold $\\mathbb{R}^2$ can also be done on the complex manifold, $\\mathbb{C^1}$, because there are two conjugates, $z$ and $z^*$. When I was tutored on this subject, it was apparent this would be a problem for quaternion functions on the real manifold $\\mathbb{R}^4$. There would be functions that could not be represented with only $q$ and $q^*$. I recall appreciating this was a total show stopper, 4>2, oops. I (probably re-)invented the first and second conjugates.\n",
    "$$ q^{*1} \\equiv (i q i)^* $$\n",
    "$$ q^{*2} \\equiv (j q j)^* $$"
   ]
  },
  {
   "cell_type": "code",
   "execution_count": 4,
   "metadata": {},
   "outputs": [
    {
     "name": "stdout",
     "output_type": "stream",
     "text": [
      "A*1\n",
      "n=1: (-At1, Ax1, -Ay1, -Az1) a₁*1\n",
      "n=2: (-At2, Ax2, -Ay2, -Az2) a₂*1\n",
      "ket: 2/1\n",
      "\n",
      "A*2\n",
      "n=1: (-At1, -Ax1, Ay1, -Az1) a₁*2\n",
      "n=2: (-At2, -Ax2, Ay2, -Az2) a₂*2\n",
      "ket: 2/1\n",
      "\n"
     ]
    }
   ],
   "source": [
    "A.conj(1).print_state(\"A*1\")\n",
    "A.conj(2).print_state(\"A*2\")"
   ]
  },
  {
   "cell_type": "markdown",
   "metadata": {},
   "source": [
    "This is a \"cute\" result in the sense that the first and second terms are the ones that don't flip signs. It is more fair that way. It will be interesting to see how these other conjugates fit within the normal context of a $C^*$-algebra."
   ]
  },
  {
   "cell_type": "markdown",
   "metadata": {},
   "source": [
    "The wiki article cites four properties for what is needed to be a $C^*$-algebra, and thus by extension, a $H^*$-algebra, if such a beast exists. Let's give it a go..."
   ]
  },
  {
   "cell_type": "markdown",
   "metadata": {},
   "source": [
    "## 1. Involutions"
   ]
  },
  {
   "cell_type": "markdown",
   "metadata": {},
   "source": [
    "Here is the definition of an involution: $$x^{**}=(x^{*})^{*}=x$$ \n",
    "    \n",
    "See if that holds for quaternion series with the three conjugates."
   ]
  },
  {
   "cell_type": "code",
   "execution_count": 5,
   "metadata": {},
   "outputs": [
    {
     "name": "stdout",
     "output_type": "stream",
     "text": [
      "(A*)*\n",
      "n=1: (At1, Ax1, Ay1, Az1) a₁**\n",
      "n=2: (At2, Ax2, Ay2, Az2) a₂**\n",
      "ket: 2/1\n",
      "\n",
      "(A*1)*1\n",
      "n=1: (At1, Ax1, Ay1, Az1) a₁*1*1\n",
      "n=2: (At2, Ax2, Ay2, Az2) a₂*1*1\n",
      "ket: 2/1\n",
      "\n",
      "(A*2)*2\n",
      "n=1: (At1, Ax1, Ay1, Az1) a₁*2*2\n",
      "n=2: (At2, Ax2, Ay2, Az2) a₂*2*2\n",
      "ket: 2/1\n",
      "\n"
     ]
    }
   ],
   "source": [
    "A.conj().conj().print_state(\"(A*)*\")\n",
    "A.conj(1).conj(1).print_state(\"(A*1)*1\")\n",
    "A.conj(2).conj(2).print_state(\"(A*2)*2\")"
   ]
  },
  {
   "cell_type": "markdown",
   "metadata": {},
   "source": [
    "OK, that one was easy and I already knew it would work."
   ]
  },
  {
   "cell_type": "markdown",
   "metadata": {},
   "source": [
    "## 2. Anti-involutive Automorphism"
   ]
  },
  {
   "cell_type": "markdown",
   "metadata": {},
   "source": [
    "Here is what I mean by that phrase: $$(x+y)^{*}=x^{*}+y^{*} $$\n",
    "\n",
    "$$(xy)^{*}=y^{*}x^{*}$$"
   ]
  },
  {
   "cell_type": "markdown",
   "metadata": {},
   "source": [
    "Addition is usually trivial, with multiplicaiton being the challenge."
   ]
  },
  {
   "cell_type": "code",
   "execution_count": 6,
   "metadata": {},
   "outputs": [
    {
     "name": "stdout",
     "output_type": "stream",
     "text": [
      "(A+A)*\n",
      "n=1: (2*At1, -2*Ax1, -2*Ay1, -2*Az1) a₁+a₁*\n",
      "n=2: (2*At2, -2*Ax2, -2*Ay2, -2*Az2) a₂+a₂*\n",
      "ket: 2/1\n",
      "\n",
      "A* + A*\n",
      "n=1: (2*At1, -2*Ax1, -2*Ay1, -2*Az1) a₁*+a₁*\n",
      "n=2: (2*At2, -2*Ax2, -2*Ay2, -2*Az2) a₂*+a₂*\n",
      "ket: 2/1\n",
      "\n"
     ]
    }
   ],
   "source": [
    "A.add(A).conj().print_state(\"(A+A)*\")\n",
    "A.conj().add(A.conj()).print_state(\"A* + A*\")"
   ]
  },
  {
   "cell_type": "code",
   "execution_count": 7,
   "metadata": {},
   "outputs": [
    {
     "name": "stdout",
     "output_type": "stream",
     "text": [
      "(A+A)*1\n",
      "n=1: (-2*At1, 2*Ax1, -2*Ay1, -2*Az1) a₁+a₁*1\n",
      "n=2: (-2*At2, 2*Ax2, -2*Ay2, -2*Az2) a₂+a₂*1\n",
      "ket: 2/1\n",
      "\n",
      "A*1 + A*1\n",
      "n=1: (-2*At1, 2*Ax1, -2*Ay1, -2*Az1) a₁*1+a₁*1\n",
      "n=2: (-2*At2, 2*Ax2, -2*Ay2, -2*Az2) a₂*1+a₂*1\n",
      "ket: 2/1\n",
      "\n"
     ]
    }
   ],
   "source": [
    "A.add(A).conj(1).print_state(\"(A+A)*1\")\n",
    "A.conj(1).add(A.conj(1)).print_state(\"A*1 + A*1\")"
   ]
  },
  {
   "cell_type": "code",
   "execution_count": 8,
   "metadata": {},
   "outputs": [
    {
     "name": "stdout",
     "output_type": "stream",
     "text": [
      "(A+A)*2\n",
      "n=1: (-2*At1, -2*Ax1, 2*Ay1, -2*Az1) a₁+a₁*2\n",
      "n=2: (-2*At2, -2*Ax2, 2*Ay2, -2*Az2) a₂+a₂*2\n",
      "ket: 2/1\n",
      "\n",
      "A*2 + A*2\n",
      "n=1: (-2*At1, -2*Ax1, 2*Ay1, -2*Az1) a₁*2+a₁*2\n",
      "n=2: (-2*At2, -2*Ax2, 2*Ay2, -2*Az2) a₂*2+a₂*2\n",
      "ket: 2/1\n",
      "\n"
     ]
    }
   ],
   "source": [
    "A.add(A).conj(2).print_state(\"(A+A)*2\")\n",
    "A.conj(2).add(A.conj(2)).print_state(\"A*2 + A*2\")"
   ]
  },
  {
   "cell_type": "markdown",
   "metadata": {},
   "source": [
    "Addition is easy and behaved as expected. On to the product relation. A second quaternion series is needed to see any possible complications from cross products."
   ]
  },
  {
   "cell_type": "code",
   "execution_count": 9,
   "metadata": {},
   "outputs": [
    {
     "name": "stdout",
     "output_type": "stream",
     "text": [
      "Quaternion Series B\n",
      "n=1: (Bt1, Bx1, By1, Bz1) b₁\n",
      "n=2: (Bt2, Bx2, By2, Bz2) b₂\n",
      "ket: 2/1\n",
      "\n"
     ]
    }
   ],
   "source": [
    "Bt1, Bx1, By1, Bz1 = sp.symbols(\"Bt1 Bx1 By1 Bz1\")\n",
    "Bt2, Bx2, By2, Bz2 = sp.symbols(\"Bt2 Bx2 By2 Bz2\")\n",
    "Bq1 = qt.QH([Bt1, Bx1, By1, Bz1], qtype=\"b₁\")\n",
    "Bq2 = qt.QH([Bt2, Bx2, By2, Bz2], qtype=\"b₂\")\n",
    "B = qt.QHStates([Bq1, Bq2])\n",
    "\n",
    "B.print_state(\"Quaternion Series B\")"
   ]
  },
  {
   "cell_type": "markdown",
   "metadata": {},
   "source": [
    "When I see $(x y)^*$, I don't see the norm being taken. I just see the product of $x$ and $y$, then conjugate that. That is my interpretation. As such, one expects the result of multiplying a two state ket times another two state ket to be a two state ket. Note: it normally makes not sense to multiply two kets together, but the entire point of the video and notebook on quaternion series as a division algebras was to show this can make sense by diagonizing one of the kets, and then it all flows."
   ]
  },
  {
   "cell_type": "code",
   "execution_count": 10,
   "metadata": {},
   "outputs": [
    {
     "name": "stdout",
     "output_type": "stream",
     "text": [
      "(A B)*\n",
      "n=1: (At1*Bt1 - Ax1*Bx1 - Ay1*By1 - Az1*Bz1, -At1*Bx1 - Ax1*Bt1 - Ay1*Bz1 + Az1*By1, -At1*By1 + Ax1*Bz1 - Ay1*Bt1 - Az1*Bx1, -At1*Bz1 - Ax1*By1 + Ay1*Bx1 - Az1*Bt1) +a₁xb₁+0xb₂*\n",
      "n=2: (At2*Bt2 - Ax2*Bx2 - Ay2*By2 - Az2*Bz2, -At2*Bx2 - Ax2*Bt2 - Ay2*Bz2 + Az2*By2, -At2*By2 + Ax2*Bz2 - Ay2*Bt2 - Az2*Bx2, -At2*Bz2 - Ax2*By2 + Ay2*Bx2 - Az2*Bt2) +0xb₁+a₂xb₂*\n",
      "ket: 2/1\n",
      "\n",
      "B* A*\n",
      "n=1: (At1*Bt1 - Ax1*Bx1 - Ay1*By1 - Az1*Bz1, -At1*Bx1 - Ax1*Bt1 - Ay1*Bz1 + Az1*By1, -At1*By1 + Ax1*Bz1 - Ay1*Bt1 - Az1*Bx1, -At1*Bz1 - Ax1*By1 + Ay1*Bx1 - Az1*Bt1) +b₁*xa₁*+0xa₂*\n",
      "n=2: (At2*Bt2 - Ax2*Bx2 - Ay2*By2 - Az2*Bz2, -At2*Bx2 - Ax2*Bt2 - Ay2*Bz2 + Az2*By2, -At2*By2 + Ax2*Bz2 - Ay2*Bt2 - Az2*Bx2, -At2*Bz2 - Ax2*By2 + Ay2*Bx2 - Az2*Bt2) +0xa₁*+b₂*xa₂*\n",
      "ket: 2/1\n",
      "\n"
     ]
    }
   ],
   "source": [
    "ABc = A.product(B).conj()\n",
    "BcAc = B.conj().product(A.conj())\n",
    "\n",
    "ABc.print_state(\"(A B)*\")\n",
    "BcAc.print_state(\"B* A*\")"
   ]
  },
  {
   "cell_type": "markdown",
   "metadata": {},
   "source": [
    "Nice, it all works. Now try with the first conjugate."
   ]
  },
  {
   "cell_type": "code",
   "execution_count": 11,
   "metadata": {},
   "outputs": [
    {
     "name": "stdout",
     "output_type": "stream",
     "text": [
      "(A B)*1\n",
      "n=1: (-At1*Bt1 + Ax1*Bx1 + Ay1*By1 + Az1*Bz1, At1*Bx1 + Ax1*Bt1 + Ay1*Bz1 - Az1*By1, -At1*By1 + Ax1*Bz1 - Ay1*Bt1 - Az1*Bx1, -At1*Bz1 - Ax1*By1 + Ay1*Bx1 - Az1*Bt1) +a₁xb₁+0xb₂*1\n",
      "n=2: (-At2*Bt2 + Ax2*Bx2 + Ay2*By2 + Az2*Bz2, At2*Bx2 + Ax2*Bt2 + Ay2*Bz2 - Az2*By2, -At2*By2 + Ax2*Bz2 - Ay2*Bt2 - Az2*Bx2, -At2*Bz2 - Ax2*By2 + Ay2*Bx2 - Az2*Bt2) +0xb₁+a₂xb₂*1\n",
      "ket: 2/1\n",
      "\n",
      "B*1 A*1\n",
      "n=1: (At1*Bt1 - Ax1*Bx1 - Ay1*By1 - Az1*Bz1, -At1*Bx1 - Ax1*Bt1 - Ay1*Bz1 + Az1*By1, At1*By1 - Ax1*Bz1 + Ay1*Bt1 + Az1*Bx1, At1*Bz1 + Ax1*By1 - Ay1*Bx1 + Az1*Bt1) +b₁*1xa₁*1+0xa₂*1\n",
      "n=2: (At2*Bt2 - Ax2*Bx2 - Ay2*By2 - Az2*Bz2, -At2*Bx2 - Ax2*Bt2 - Ay2*Bz2 + Az2*By2, At2*By2 - Ax2*Bz2 + Ay2*Bt2 + Az2*Bx2, At2*Bz2 + Ax2*By2 - Ay2*Bx2 + Az2*Bt2) +0xa₁*1+b₂*1xa₂*1\n",
      "ket: 2/1\n",
      "\n"
     ]
    }
   ],
   "source": [
    "ABc1 = A.product(B).conj(1)\n",
    "Bc1Ac1 = B.conj(1).product(A.conj(1))\n",
    "\n",
    "ABc1.print_state(\"(A B)*1\")\n",
    "Bc1Ac1.print_state(\"B*1 A*1\")"
   ]
  },
  {
   "cell_type": "markdown",
   "metadata": {},
   "source": [
    "Total failure... but in an easy to fix way! Every single sign is wrong. The first and second conjuages have this relation:\n",
    "\n",
    "$$(xy)^{*1}=-y^{*1}x^{*1}$$\n",
    "$$(xy)^{*2}=-y^{*2}x^{*2}$$\n",
    "\n",
    "Prove it works that way for the second conjugate."
   ]
  },
  {
   "cell_type": "code",
   "execution_count": 12,
   "metadata": {},
   "outputs": [
    {
     "name": "stdout",
     "output_type": "stream",
     "text": [
      "(A B)*2\n",
      "n=1: (-At1*Bt1 + Ax1*Bx1 + Ay1*By1 + Az1*Bz1, -At1*Bx1 - Ax1*Bt1 - Ay1*Bz1 + Az1*By1, At1*By1 - Ax1*Bz1 + Ay1*Bt1 + Az1*Bx1, -At1*Bz1 - Ax1*By1 + Ay1*Bx1 - Az1*Bt1) +a₁xb₁+0xb₂*2\n",
      "n=2: (-At2*Bt2 + Ax2*Bx2 + Ay2*By2 + Az2*Bz2, -At2*Bx2 - Ax2*Bt2 - Ay2*Bz2 + Az2*By2, At2*By2 - Ax2*Bz2 + Ay2*Bt2 + Az2*Bx2, -At2*Bz2 - Ax2*By2 + Ay2*Bx2 - Az2*Bt2) +0xb₁+a₂xb₂*2\n",
      "ket: 2/1\n",
      "\n",
      "-B*2 A*2\n",
      "n=1: (-At1*Bt1 + Ax1*Bx1 + Ay1*By1 + Az1*Bz1, -At1*Bx1 - Ax1*Bt1 - Ay1*Bz1 + Az1*By1, At1*By1 - Ax1*Bz1 + Ay1*Bt1 + Az1*Bx1, -At1*Bz1 - Ax1*By1 + Ay1*Bx1 - Az1*Bt1) -+b₁*2xa₁*2+0xa₂*2\n",
      "n=2: (-At2*Bt2 + Ax2*Bx2 + Ay2*By2 + Az2*Bz2, -At2*Bx2 - Ax2*Bt2 - Ay2*Bz2 + Az2*By2, At2*By2 - Ax2*Bz2 + Ay2*Bt2 + Az2*Bx2, -At2*Bz2 - Ax2*By2 + Ay2*Bx2 - Az2*Bt2) -+0xa₁*2+b₂*2xa₂*2\n",
      "ket: 2/1\n",
      "\n"
     ]
    }
   ],
   "source": [
    "ABc1 = A.product(B).conj(2)\n",
    "Bc1Ac1 = B.conj(2).product(A.conj(2)).flip_signs()\n",
    "\n",
    "ABc1.print_state(\"(A B)*2\")\n",
    "Bc1Ac1.print_state(\"-B*2 A*2\")"
   ]
  },
  {
   "cell_type": "markdown",
   "metadata": {},
   "source": [
    "Most excellent."
   ]
  },
  {
   "cell_type": "markdown",
   "metadata": {},
   "source": [
    "## Numbers obey anti-involutive automorphisms"
   ]
  },
  {
   "cell_type": "markdown",
   "metadata": {},
   "source": [
    "It is important to know in detail how a number interacts with quaternion series. The easiest thing to do is to make a ket that only has the values of the number in it. After that, the calculation is the same."
   ]
  },
  {
   "cell_type": "code",
   "execution_count": 13,
   "metadata": {},
   "outputs": [
    {
     "name": "stdout",
     "output_type": "stream",
     "text": [
      "Quaternion Ket Q2\n",
      "n=1: (Qt1, Qx1, Qy1, Qz1) q₁\n",
      "n=2: (Qt1, Qx1, Qy1, Qz1) q₁\n",
      "ket: 2/1\n",
      "\n"
     ]
    }
   ],
   "source": [
    "Qt1, Qx1, Qy1, Qz1 = sp.symbols(\"Qt1 Qx1 Qy1 Qz1\")\n",
    "Qq1 = qt.QH([Qt1, Qx1, Qy1, Qz1], qtype=\"q₁\")\n",
    "Q2 = qt.QHStates([Qq1, Qq1])\n",
    "\n",
    "Q2.print_state(\"Quaternion Ket Q2\")"
   ]
  },
  {
   "cell_type": "code",
   "execution_count": 14,
   "metadata": {},
   "outputs": [
    {
     "name": "stdout",
     "output_type": "stream",
     "text": [
      "(Q2 A)*\n",
      "n=1: (At1*Qt1 - Ax1*Qx1 - Ay1*Qy1 - Az1*Qz1, -At1*Qx1 - Ax1*Qt1 + Ay1*Qz1 - Az1*Qy1, -At1*Qy1 - Ax1*Qz1 - Ay1*Qt1 + Az1*Qx1, -At1*Qz1 + Ax1*Qy1 - Ay1*Qx1 - Az1*Qt1) +q₁xa₁+0xa₂*\n",
      "n=2: (At2*Qt1 - Ax2*Qx1 - Ay2*Qy1 - Az2*Qz1, -At2*Qx1 - Ax2*Qt1 + Ay2*Qz1 - Az2*Qy1, -At2*Qy1 - Ax2*Qz1 - Ay2*Qt1 + Az2*Qx1, -At2*Qz1 + Ax2*Qy1 - Ay2*Qx1 - Az2*Qt1) +0xa₁+q₁xa₂*\n",
      "ket: 2/1\n",
      "\n",
      "A* Q2*\n",
      "n=1: (At1*Qt1 - Ax1*Qx1 - Ay1*Qy1 - Az1*Qz1, -At1*Qx1 - Ax1*Qt1 + Ay1*Qz1 - Az1*Qy1, -At1*Qy1 - Ax1*Qz1 - Ay1*Qt1 + Az1*Qx1, -At1*Qz1 + Ax1*Qy1 - Ay1*Qx1 - Az1*Qt1) +a₁*xq₁*+0xq₁*\n",
      "n=2: (At2*Qt1 - Ax2*Qx1 - Ay2*Qy1 - Az2*Qz1, -At2*Qx1 - Ax2*Qt1 + Ay2*Qz1 - Az2*Qy1, -At2*Qy1 - Ax2*Qz1 - Ay2*Qt1 + Az2*Qx1, -At2*Qz1 + Ax2*Qy1 - Ay2*Qx1 - Az2*Qt1) +0xq₁*+a₂*xq₁*\n",
      "ket: 2/1\n",
      "\n"
     ]
    }
   ],
   "source": [
    "QAc = Q2.product(A).conj()\n",
    "AcQc = A.conj().product(Q2.conj())\n",
    "\n",
    "QAc.print_state(\"(Q2 A)*\")\n",
    "AcQc.print_state(\"A* Q2*\")"
   ]
  },
  {
   "cell_type": "markdown",
   "metadata": {},
   "source": [
    "Once the number is written as a ket, the logic for the ket works as before. Here it is for the first conjugate."
   ]
  },
  {
   "cell_type": "code",
   "execution_count": 15,
   "metadata": {},
   "outputs": [
    {
     "name": "stdout",
     "output_type": "stream",
     "text": [
      "(Q A)*1\n",
      "n=1: (-At1*Qt1 + Ax1*Qx1 + Ay1*Qy1 + Az1*Qz1, At1*Qx1 + Ax1*Qt1 - Ay1*Qz1 + Az1*Qy1, -At1*Qy1 - Ax1*Qz1 - Ay1*Qt1 + Az1*Qx1, -At1*Qz1 + Ax1*Qy1 - Ay1*Qx1 - Az1*Qt1) +q₁xa₁+0xa₂*1\n",
      "n=2: (-At2*Qt1 + Ax2*Qx1 + Ay2*Qy1 + Az2*Qz1, At2*Qx1 + Ax2*Qt1 - Ay2*Qz1 + Az2*Qy1, -At2*Qy1 - Ax2*Qz1 - Ay2*Qt1 + Az2*Qx1, -At2*Qz1 + Ax2*Qy1 - Ay2*Qx1 - Az2*Qt1) +0xa₁+q₁xa₂*1\n",
      "ket: 2/1\n",
      "\n",
      "-A*1 Q*1\n",
      "n=1: (-At1*Qt1 + Ax1*Qx1 + Ay1*Qy1 + Az1*Qz1, At1*Qx1 + Ax1*Qt1 - Ay1*Qz1 + Az1*Qy1, -At1*Qy1 - Ax1*Qz1 - Ay1*Qt1 + Az1*Qx1, -At1*Qz1 + Ax1*Qy1 - Ay1*Qx1 - Az1*Qt1) -+a₁*1xq₁*1+0xq₁*1\n",
      "n=2: (-At2*Qt1 + Ax2*Qx1 + Ay2*Qy1 + Az2*Qz1, At2*Qx1 + Ax2*Qt1 - Ay2*Qz1 + Az2*Qy1, -At2*Qy1 - Ax2*Qz1 - Ay2*Qt1 + Az2*Qx1, -At2*Qz1 + Ax2*Qy1 - Ay2*Qx1 - Az2*Qt1) -+0xq₁*1+a₂*1xq₁*1\n",
      "ket: 2/1\n",
      "\n"
     ]
    }
   ],
   "source": [
    "QAc1 = Q2.product(A).conj(1)\n",
    "Ac1Qc1 = A.conj(1).product(Q2.conj(1)).flip_signs()\n",
    "\n",
    "QAc1.print_state(\"(Q A)*1\")\n",
    "Ac1Qc1.print_state(\"-A*1 Q*1\")"
   ]
  },
  {
   "cell_type": "markdown",
   "metadata": {},
   "source": [
    "Bingo, bingo."
   ]
  },
  {
   "cell_type": "markdown",
   "metadata": {},
   "source": [
    "## The $C^*$ identity holds"
   ]
  },
  {
   "cell_type": "markdown",
   "metadata": {},
   "source": [
    "Quaternions are a normed division algebra. That helps a lot to show that quaternion series are going to behave like a normed division algebra.\n",
    "$$ \\|x^{*}x\\|=\\|x\\|\\|x^{*}\\|.$$"
   ]
  },
  {
   "cell_type": "code",
   "execution_count": 16,
   "metadata": {},
   "outputs": [
    {
     "name": "stdout",
     "output_type": "stream",
     "text": [
      "The parts\n",
      "||A||\n",
      "n=1: (At1**2 + At2**2 + Ax1**2 + Ax2**2 + Ay1**2 + Ay2**2 + Az1**2 + Az2**2, 0, 0, 0) +a₁*xa₁+a₂*xa₂\n",
      "scalar: 1/1\n",
      "\n",
      "||A*||\n",
      "n=1: (At1**2 + At2**2 + Ax1**2 + Ax2**2 + Ay1**2 + Ay2**2 + Az1**2 + Az2**2, 0, 0, 0) +a₁**xa₁*+a₂**xa₂*\n",
      "scalar: 1/1\n",
      "\n",
      "The parts squared.\n",
      "||A* A ||\n",
      "n=1: ((At1**2 + At2**2 + Ax1**2 + Ax2**2 + Ay1**2 + Ay2**2 + Az1**2 + Az2**2)**2, 0, 0, 0) ++a₁*xa₁+a₂*xa₂*x+a₁*xa₁+a₂*xa₂\n",
      "scalar: 1/1\n",
      "\n",
      "||A|| ||A*||\n",
      "n=1: ((At1**2 + At2**2 + Ax1**2 + Ax2**2 + Ay1**2 + Ay2**2 + Az1**2 + Az2**2)**2, 0, 0, 0) ++a₁*xa₁+a₂*xa₂x+a₁**xa₁*+a₂**xa₂*\n",
      "scalar: 1/1\n",
      "\n"
     ]
    }
   ],
   "source": [
    "AcAsq = A.bra().conj().product(A).norm_squared()\n",
    "Asq = A.norm_squared()\n",
    "Acsq = A.conj().norm_squared()\n",
    "Asq_Acsq = Asq.product(Acsq)\n",
    "\n",
    "print(\"The parts\")\n",
    "Asq.print_state(\"||A||\")\n",
    "\n",
    "Acsq.print_state(\"||A*||\")\n",
    "\n",
    "print(\"The parts squared.\")\n",
    "AcAsq.print_state(\"||A* A ||\")\n",
    "\n",
    "Asq_Acsq.print_state(\"||A|| ||A*||\")\n",
    "\n"
   ]
  },
  {
   "cell_type": "markdown",
   "metadata": {},
   "source": [
    "Bingo, bingo."
   ]
  },
  {
   "cell_type": "markdown",
   "metadata": {},
   "source": [
    "## Conclusions"
   ]
  },
  {
   "cell_type": "markdown",
   "metadata": {},
   "source": [
    "It is now technically safe to say that quaternion series have properties identical to those of $C^*$-alebras. Too bad I am not familiar with the literature on the subject. Yet this exercise has pointed out a new sort of relation with the first and second conjugates, namely that there is also a sign flip with these conjugates do an anti-involution. New is good."
   ]
  },
  {
   "cell_type": "code",
   "execution_count": null,
   "metadata": {},
   "outputs": [],
   "source": []
  }
 ],
 "metadata": {
  "kernelspec": {
   "display_name": "Python 3",
   "language": "python",
   "name": "python3"
  },
  "language_info": {
   "codemirror_mode": {
    "name": "ipython",
    "version": 3
   },
   "file_extension": ".py",
   "mimetype": "text/x-python",
   "name": "python",
   "nbconvert_exporter": "python",
   "pygments_lexer": "ipython3",
   "version": "3.5.1"
  }
 },
 "nbformat": 4,
 "nbformat_minor": 2
}
