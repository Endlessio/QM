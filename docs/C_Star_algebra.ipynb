{
 "cells": [
  {
   "cell_type": "markdown",
   "metadata": {},
   "source": [
    "# Do Quaternion Series form a $C^*$-Algebra?"
   ]
  },
  {
   "cell_type": "markdown",
   "metadata": {},
   "source": [
    "D. Sweetser <sweetser@alum.mit.edu>"
   ]
  },
  {
   "cell_type": "markdown",
   "metadata": {},
   "source": [
    "A [$C^*$-algebra|https://en.wikipedia.org/wiki/C*-algebra] is part of a study of complex numbers that has been partially motivated by its applications to quantum mechanics. At this time, I only have a superficial appreciation of the subject.\n",
    "\n",
    "Quaternions, as a number, contain complex numbers as a subgroup. In a similar way, a quaternion series which is a totally-ordered array of quaternions with integers for rows and columns, will have a totally-ordered array of complex numbers as a subgroup. Perhaps the title question should be modified to ask about an $H^*$-algebra. My expectation is that there will be a few places where things will be different since a quaternion series is in a sense larger than a complex series."
   ]
  },
  {
   "cell_type": "markdown",
   "metadata": {},
   "source": [
    "## Two Quaternion Products"
   ]
  },
  {
   "cell_type": "markdown",
   "metadata": {},
   "source": [
    "Actually, there is only one set of rules for multiplying a totally ordered array of quaternion, don't worry. What can change is what is put into the product. This seamily minor difference in what is going on may be viewed as a big deal by those formally trained in math. Let me try to clarify. First load the needed libraries. "
   ]
  },
  {
   "cell_type": "code",
   "execution_count": null,
   "metadata": {},
   "outputs": [],
   "source": [
    "%%capture\n",
    "%matplotlib inline\n",
    "import numpy as np\n",
    "import sympy as sp\n",
    "import matplotlib.pyplot as plt\n",
    "import math\n",
    "\n",
    "# To get equations the look like, well, equations, use the following.\n",
    "from sympy.interactive import printing\n",
    "printing.init_printing(use_latex=True)\n",
    "from IPython.display import display\n",
    "\n",
    "# Tools for manipulating quaternions.\n",
    "from QH import QH, QHStates\n",
    "\n",
    "from IPython.core.display import display, HTML, Math, Latex\n",
    "display(HTML(\"<style>.container { width:100% !important; }</style>\"))"
   ]
  },
  {
   "cell_type": "markdown",
   "metadata": {},
   "source": [
    "Work with a simple two state quaternion series."
   ]
  },
  {
   "cell_type": "code",
   "execution_count": null,
   "metadata": {},
   "outputs": [],
   "source": [
    "At1, Ax1, Ay1, Az1 = sp.symbols(\"At1 Ax1 Ay1 Az1\")\n",
    "At2, Ax2, Ay2, Az2 = sp.symbols(\"At2 Ax2 Ay2 Az2\")\n",
    "Aq1 = QH([At1, Ax1, Ay1, Az1], qtype=\"a₁\")\n",
    "Aq2 = QH([At2, Ax2, Ay2, Az2], qtype=\"a₂\")\n",
    "A = QHStates([Aq1, Aq2])\n",
    "\n",
    "A.print_state(\"Quaternion Series A\")"
   ]
  },
  {
   "cell_type": "markdown",
   "metadata": {},
   "source": [
    "All that will be done is to take the product of A with itself. A scalar result is desired. That means specifically that the rows and columns are both one. The ket A has to be altered to be a bra using the bra() function. What will be changed is whether or not a conjugate of A is taken."
   ]
  },
  {
   "cell_type": "code",
   "execution_count": null,
   "metadata": {},
   "outputs": [],
   "source": [
    "A.bra().product(A).display_q(\"<A|A>\")\n",
    "A.bra().conj().product(A).display_q(\"<A ⃰|A>\")"
   ]
  },
  {
   "cell_type": "markdown",
   "metadata": {},
   "source": [
    "The rest of this notebook, and in fact most of the work done with quantum mechanics, will concern taking the conjuate of the first term times the second one. I have read people far more skilled that I will ever be _argue_ over which of these is the right way to measure things with quaternions. Different input leads to different output, so neither is right or wrong. Instead, in certain situations, one sort of product will be the only one to use in that situation. Change the situation, change the need. For quantum mechanics, the need is for something I call the \"Euclidean product\" which always takes the conjugate of the first term before multiplying. The first sort of product, $A^2$, is useful for doing special relativity and my new approach to gravity (quaternion gravity)."
   ]
  },
  {
   "cell_type": "markdown",
   "metadata": {},
   "source": [
    "The issue may have to due with the focus on _the one number_. Neither $A^2$ nor $A^* A$ results in a solitary number. In both cases, the result is another quaternion, not one number. Yet I have seen professionals treat the value that comes out of $A^* A$ as real number, not a quaternion. This strikes me as wrong. Much of what gets studied in physics is the neighborhood of points. The neighborhood of real number is fundamentally different from the neighborhood of a quaternion. The only point near a real number are other real numbers. For a quaternion, the neighborhood is full of points from time and three dimensions of space, all with specific algebraic relationship to each other.\n",
    "\n",
    "There are two different reasons why the norm squared, $A^* A$, has zero for all three imaginaries. The first is that the sine of the angle between $A$ and $A^*$ is zero. There is no cross product for a quaternion and its conjugate. The same can be said for $A^2$. The scalar times the vector add constructively for $A^2$ but destructively for $A^* A$. No cross product and the canceling of terms are the two reasons for the three zeroes of the norm squared. This feels like a deeper way to look at what is going on."
   ]
  },
  {
   "cell_type": "markdown",
   "metadata": {},
   "source": [
    "## The Three Conjugates"
   ]
  },
  {
   "cell_type": "markdown",
   "metadata": {},
   "source": [
    "Anything done on for complex numbers on the real manifold $\\mathbb{R}^2$ can also be done on the complex manifold, $\\mathbb{C^1}$, because there are two conjugates, $z$ and $z^*$. When I was tutored on this subject, it was apparent this would be a problem for quaternion functions on the real manifold $\\mathbb{R}^4$. There would be functions that could not be represented with only $A$ and $A^*$. I recall appreciating this was a total show stopper, 4>2, oops. I (probably re-)invented the first and second conjugates.\n",
    "$$ A^{*1} \\equiv (i q i)^* $$\n",
    "$$ A^{*2} \\equiv (j q j)^* $$"
   ]
  },
  {
   "cell_type": "code",
   "execution_count": null,
   "metadata": {},
   "outputs": [],
   "source": [
    "A.conj(1).print_state(\"A ⃰¹\")\n",
    "A.conj(2).print_state(\"A ⃰²\")"
   ]
  },
  {
   "cell_type": "markdown",
   "metadata": {},
   "source": [
    "This is a \"cute\" result in the sense that the first and second terms are the ones that don't flip signs. It is more fair that way. It will be interesting to see how these other conjugates fit within the normal context of a $C^*$-algebra."
   ]
  },
  {
   "cell_type": "markdown",
   "metadata": {},
   "source": [
    "The wiki article cites four properties for what is needed to be a $C^*$-algebra, and thus by extension, a $H^*$-algebra, if such a beast exists. Let's give it a go..."
   ]
  },
  {
   "cell_type": "markdown",
   "metadata": {},
   "source": [
    "## 1. Involutions"
   ]
  },
  {
   "cell_type": "markdown",
   "metadata": {},
   "source": [
    "Here is the definition of an involution: $$A^{**}=(A^{*})^{*}=A$$ \n",
    "    \n",
    "See if that holds for quaternion series with the three conjugates."
   ]
  },
  {
   "cell_type": "code",
   "execution_count": null,
   "metadata": {},
   "outputs": [],
   "source": [
    "A.conj().conj().print_state(\"(A ⃰) ⃰\")\n",
    "A.conj(1).conj(1).print_state(\"(A ⃰¹) ⃰¹\")\n",
    "A.conj(2).conj(2).print_state(\"(A ⃰²) ⃰²\")"
   ]
  },
  {
   "cell_type": "markdown",
   "metadata": {},
   "source": [
    "OK, that one was easy and I already knew it would work."
   ]
  },
  {
   "cell_type": "markdown",
   "metadata": {},
   "source": [
    "## 2. Anti-involutive Automorphism"
   ]
  },
  {
   "cell_type": "markdown",
   "metadata": {},
   "source": [
    "Here is what I mean by that phrase: $$(A+B)^{*}=A^{*}+B^{*} $$\n",
    "\n",
    "$$(AB)^{*}=B^{*}A^{*}$$"
   ]
  },
  {
   "cell_type": "markdown",
   "metadata": {},
   "source": [
    "Addition is usually trivial, with multiplicaiton being the challenge."
   ]
  },
  {
   "cell_type": "code",
   "execution_count": null,
   "metadata": {},
   "outputs": [],
   "source": [
    "Bt1, Bx1, By1, Bz1 = sp.symbols(\"Bt1 Bx1 By1 Bz1\")\n",
    "Bt2, Bx2, By2, Bz2 = sp.symbols(\"Bt2 Bx2 By2 Bz2\")\n",
    "Bq1 = QH([Bt1, Bx1, By1, Bz1], qtype=\"b₁\")\n",
    "Bq2 = QH([Bt2, Bx2, By2, Bz2], qtype=\"b₂\")\n",
    "B = QHStates([Bq1, Bq2])\n",
    "\n",
    "B.print_state(\"Quaternion Series B\")"
   ]
  },
  {
   "cell_type": "code",
   "execution_count": null,
   "metadata": {},
   "outputs": [],
   "source": [
    "A.add(B).conj().print_state(\"(A+B) ⃰\")\n",
    "A.conj().add(B.conj()).print_state(\"A ⃰ + B ⃰\")"
   ]
  },
  {
   "cell_type": "code",
   "execution_count": null,
   "metadata": {},
   "outputs": [],
   "source": [
    "A.add(B).conj(1).print_state(\"(A+B) ⃰¹\")\n",
    "A.conj(1).add(B.conj(1)).print_state(\"A ⃰¹ + B ⃰¹\")"
   ]
  },
  {
   "cell_type": "code",
   "execution_count": null,
   "metadata": {},
   "outputs": [],
   "source": [
    "A.add(B).conj(2).print_state(\"(A+B) ⃰²\")\n",
    "A.conj(2).add(B.conj(2)).print_state(\"A ⃰² + B ⃰²\")"
   ]
  },
  {
   "cell_type": "markdown",
   "metadata": {},
   "source": [
    "Addition is easy and behaved as expected. On to the product relation. A second quaternion series is needed to see any possible complications from cross products."
   ]
  },
  {
   "cell_type": "markdown",
   "metadata": {},
   "source": [
    "When I see $(A B)^*$, I don't see the norm being taken. I just see the product of $A$ and $B$, then conjugate that. That is my interpretation. As such, one expects the result of multiplying a two state ket times another two state ket to be a two state ket. Note: it normally makes not sense to multiply two kets together, but the entire point of the video and notebook on quaternion series as a division algebras was to show this can make sense by diagonizing one of the kets, and then it all flows."
   ]
  },
  {
   "cell_type": "code",
   "execution_count": null,
   "metadata": {},
   "outputs": [],
   "source": [
    "ABc = A.product(B).conj()\n",
    "BcAc = B.conj().product(A.conj())\n",
    "\n",
    "ABc.print_state(\"(A B) ⃰\")\n",
    "BcAc.print_state(\"B ⃰ A ⃰\")"
   ]
  },
  {
   "cell_type": "markdown",
   "metadata": {},
   "source": [
    "Nice, it all works. Now try with the first conjugate."
   ]
  },
  {
   "cell_type": "code",
   "execution_count": null,
   "metadata": {},
   "outputs": [],
   "source": [
    "ABc1 = A.product(B).conj(1)\n",
    "Bc1Ac1 = B.conj(1).product(A.conj(1))\n",
    "\n",
    "ABc1.print_state(\"(A B) ⃰¹\")\n",
    "Bc1Ac1.print_state(\"B ⃰¹ A ⃰¹\")"
   ]
  },
  {
   "cell_type": "markdown",
   "metadata": {},
   "source": [
    "Total failure... but in an easy to fix way! Every single sign is wrong. The first and second conjuages have this relation:\n",
    "\n",
    "$$(A B)^{*1}=-B^{*1}A^{*1}$$\n",
    "$$(A B)^{*2}=-B^{*2}A^{*2}$$\n",
    "\n",
    "OK, but _why_ did the minus sign show up? Recall the definition of the first and second conjugates.  It was a triple product, with imaginary numbers on the outside. When we go from one conjugate operator to two conjugate operators, that involves going from two imaginaries to four. Two of those are right next to each other and thus introduce a minus sign.\n",
    "\n",
    "Prove it works that way for the second conjugate."
   ]
  },
  {
   "cell_type": "code",
   "execution_count": null,
   "metadata": {},
   "outputs": [],
   "source": [
    "ABc1 = A.product(B).conj(2)\n",
    "Bc1Ac1 = B.conj(2).product(A.conj(2)).flip_signs()\n",
    "\n",
    "ABc1.print_state(\"(A B) ⃰²\")\n",
    "Bc1Ac1.print_state(\"-B ⃰² A ⃰²\")"
   ]
  },
  {
   "cell_type": "markdown",
   "metadata": {},
   "source": [
    "Most excellent."
   ]
  },
  {
   "cell_type": "markdown",
   "metadata": {},
   "source": [
    "## Numbers obey anti-involutive automorphisms"
   ]
  },
  {
   "cell_type": "markdown",
   "metadata": {},
   "source": [
    "It is important to know in detail how a number interacts with quaternion series. The easiest thing to do is to make a ket that only has the values of the number in it. After that, the calculation is the same."
   ]
  },
  {
   "cell_type": "code",
   "execution_count": null,
   "metadata": {},
   "outputs": [],
   "source": [
    "Qt1, Qx1, Qy1, Qz1 = sp.symbols(\"Qt1 Qx1 Qy1 Qz1\")\n",
    "Qq1 = QH([Qt1, Qx1, Qy1, Qz1], qtype=\"q₁\")\n",
    "Q2 = QHStates([Qq1, Qq1])\n",
    "\n",
    "Q2.print_state(\"Quaternion Ket Q2\")"
   ]
  },
  {
   "cell_type": "code",
   "execution_count": null,
   "metadata": {},
   "outputs": [],
   "source": [
    "QAc = Q2.product(A).conj()\n",
    "AcQc = A.conj().product(Q2.conj())\n",
    "\n",
    "QAc.print_state(\"(Q2 A) ⃰\")\n",
    "AcQc.print_state(\"A ⃰ Q2 ⃰\")"
   ]
  },
  {
   "cell_type": "markdown",
   "metadata": {},
   "source": [
    "Once the number is written as a ket, the logic for the ket works as before. Here it is for the first conjugate."
   ]
  },
  {
   "cell_type": "code",
   "execution_count": null,
   "metadata": {},
   "outputs": [],
   "source": [
    "QAc1 = Q2.product(A).conj(1)\n",
    "Ac1Qc1 = A.conj(1).product(Q2.conj(1)).flip_signs()\n",
    "\n",
    "QAc1.print_state(\"(Q A) ⃰¹\")\n",
    "Ac1Qc1.print_state(\"-A ⃰¹ Q ⃰¹\")"
   ]
  },
  {
   "cell_type": "markdown",
   "metadata": {},
   "source": [
    "Bingo, bingo."
   ]
  },
  {
   "cell_type": "markdown",
   "metadata": {},
   "source": [
    "## The $C^*$ identity holds"
   ]
  },
  {
   "cell_type": "markdown",
   "metadata": {},
   "source": [
    "Quaternions are a normed division algebra. That helps a lot to show that quaternion series are going to behave like a normed division algebra.\n",
    "$$ \\|A^{*}A\\|=\\|A\\|\\|A^{*}\\|.$$"
   ]
  },
  {
   "cell_type": "code",
   "execution_count": null,
   "metadata": {},
   "outputs": [],
   "source": [
    "AcAsq = A.bra().conj().product(A).norm_squared()\n",
    "Asq = A.norm_squared()\n",
    "Acsq = A.conj().norm_squared()\n",
    "Asq_Acsq = Asq.product(Acsq)\n",
    "\n",
    "print(\"The parts\")\n",
    "Asq.print_state(\"||A||\")\n",
    "\n",
    "Acsq.print_state(\"||A ⃰||\")\n",
    "\n",
    "print(\"The parts squared.\")\n",
    "AcAsq.print_state(\"||A ⃰ A ||\")\n",
    "\n",
    "Asq_Acsq.print_state(\"||A|| ||A ⃰||\")\n",
    "\n"
   ]
  },
  {
   "cell_type": "markdown",
   "metadata": {},
   "source": [
    "Bingo, bingo."
   ]
  },
  {
   "cell_type": "markdown",
   "metadata": {},
   "source": [
    "I have yet to really play around with first and second conjugates of identical elements other than to notice in someways it is the opposite of a norm: there is only one zero and three non-zero terms."
   ]
  },
  {
   "cell_type": "code",
   "execution_count": null,
   "metadata": {},
   "outputs": [],
   "source": [
    "A.conj(1).product(A).print_state(\"A ⃰¹ A\")"
   ]
  },
  {
   "cell_type": "markdown",
   "metadata": {},
   "source": [
    "Nature must put this to use somehow..."
   ]
  },
  {
   "cell_type": "markdown",
   "metadata": {},
   "source": [
    "## Conclusions"
   ]
  },
  {
   "cell_type": "markdown",
   "metadata": {},
   "source": [
    "It is now technically safe to say that quaternion series have properties identical to those of $C^*$-alebras. Too bad I am not familiar with the literature on the subject. Yet this exercise has pointed out a new sort of relation with the first and second conjugates, namely that there is also a sign flip with these conjugates do an anti-involution. New is good."
   ]
  }
 ],
 "metadata": {
  "language_info": {
   "name": "python",
   "pygments_lexer": "ipython3"
  }
 },
 "nbformat": 4,
 "nbformat_minor": 2
}
