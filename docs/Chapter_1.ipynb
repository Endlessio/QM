{
 "cells": [
  {
   "cell_type": "markdown",
   "metadata": {},
   "source": [
    "# Lecture 1: Systems and Experiments Using Quaternion Series"
   ]
  },
  {
   "cell_type": "markdown",
   "metadata": {},
   "source": [
    "by Doug Sweetser, email to sweetser@alum.mit.edu"
   ]
  },
  {
   "cell_type": "markdown",
   "metadata": {},
   "source": [
    "**The quaternion series for quantum mechanics hypthesis**\n",
    "\n",
    "This notebook is being created as a companion to the book \"Quantum Mechanics: the Theoretical Minimum\" by Susskind and Friedman (QM:TTM for short). Those authors of course never use quaternions as they are a bit player in the crowded field of mathematical tools. Nature has used one accounting system since the beginning of space-time, so I will be a jerk in the name of consistency. This leads to a different perspective on what makes an equation quantum mechanical. If a conjugate operator is used, then the expression is about quantum mechanics. It is odd to have such a brief assertion given the complexity of the subject, but that make the hypothesis fun - and testable by seeing if anything in the book cannot be done with quaternions and their conjugates. Import the tools to work with quaternions in this notebook."
   ]
  },
  {
   "cell_type": "code",
   "execution_count": 1,
   "metadata": {},
   "outputs": [
    {
     "ename": "AttributeError",
     "evalue": "'NoneType' object has no attribute 'a'",
     "output_type": "error",
     "traceback": [
      "\u001b[0;31m---------------------------------------------------------------------------\u001b[0m",
      "\u001b[0;31mAttributeError\u001b[0m                            Traceback (most recent call last)",
      "\u001b[0;32m<ipython-input-1-4da9dfd492cf>\u001b[0m in \u001b[0;36m<module>\u001b[0;34m()\u001b[0m\n\u001b[1;32m     10\u001b[0m \u001b[0;34m\u001b[0m\u001b[0m\n\u001b[1;32m     11\u001b[0m \u001b[0;31m# Tools for manipulating quaternions.\u001b[0m\u001b[0;34m\u001b[0m\u001b[0;34m\u001b[0m\u001b[0m\n\u001b[0;32m---> 12\u001b[0;31m \u001b[0;32mimport\u001b[0m \u001b[0mQ_tools\u001b[0m \u001b[0;32mas\u001b[0m \u001b[0mqt\u001b[0m\u001b[0;34m;\u001b[0m\u001b[0;34m\u001b[0m\u001b[0m\n\u001b[0m",
      "\u001b[0;32m~/workspace/QM/docs/Q_tools.py\u001b[0m in \u001b[0;36m<module>\u001b[0;34m()\u001b[0m\n\u001b[1;32m   6456\u001b[0m \u001b[0mOp4i\u001b[0m \u001b[0;34m=\u001b[0m \u001b[0mQHaStates\u001b[0m\u001b[0;34m(\u001b[0m\u001b[0;34m[\u001b[0m\u001b[0mQHa\u001b[0m\u001b[0;34m(\u001b[0m\u001b[0;34m[\u001b[0m\u001b[0;36m0\u001b[0m\u001b[0;34m,\u001b[0m\u001b[0;36m4\u001b[0m\u001b[0;34m,\u001b[0m\u001b[0;36m0\u001b[0m\u001b[0;34m,\u001b[0m\u001b[0;36m0\u001b[0m\u001b[0;34m]\u001b[0m\u001b[0;34m)\u001b[0m\u001b[0;34m]\u001b[0m\u001b[0;34m)\u001b[0m\u001b[0;34m\u001b[0m\u001b[0m\n\u001b[1;32m   6457\u001b[0m \u001b[0mqn\u001b[0m \u001b[0;34m=\u001b[0m \u001b[0mQHaStates\u001b[0m\u001b[0;34m(\u001b[0m\u001b[0;34m[\u001b[0m\u001b[0mQHa\u001b[0m\u001b[0;34m(\u001b[0m\u001b[0;34m[\u001b[0m\u001b[0;36m3\u001b[0m\u001b[0;34m,\u001b[0m\u001b[0;36m0\u001b[0m\u001b[0;34m,\u001b[0m\u001b[0;36m0\u001b[0m\u001b[0;34m,\u001b[0m\u001b[0;36m4\u001b[0m\u001b[0;34m]\u001b[0m\u001b[0;34m)\u001b[0m\u001b[0;34m]\u001b[0m\u001b[0;34m)\u001b[0m\u001b[0;34m\u001b[0m\u001b[0m\n\u001b[0;32m-> 6458\u001b[0;31m \u001b[0mA\u001b[0m\u001b[0;34m.\u001b[0m\u001b[0mproduct\u001b[0m\u001b[0;34m(\u001b[0m\u001b[0;34m'bra'\u001b[0m\u001b[0;34m,\u001b[0m \u001b[0moperator\u001b[0m\u001b[0;34m=\u001b[0m\u001b[0mOp4i\u001b[0m\u001b[0;34m)\u001b[0m\u001b[0;34m\u001b[0m\u001b[0m\n\u001b[0m\u001b[1;32m   6459\u001b[0m \u001b[0;34m\u001b[0m\u001b[0m\n\u001b[1;32m   6460\u001b[0m \u001b[0;34m\u001b[0m\u001b[0m\n",
      "\u001b[0;32m~/workspace/QM/docs/Q_tools.py\u001b[0m in \u001b[0;36mproduct\u001b[0;34m(self, product_type, bra, ket, operator, kind)\u001b[0m\n\u001b[1;32m   6375\u001b[0m                             \u001b[0mbop\u001b[0m \u001b[0;34m=\u001b[0m \u001b[0mb\u001b[0m\u001b[0;34m.\u001b[0m\u001b[0mproduct\u001b[0m\u001b[0;34m(\u001b[0m\u001b[0mop\u001b[0m\u001b[0;34m,\u001b[0m \u001b[0mkind\u001b[0m\u001b[0;34m)\u001b[0m\u001b[0;34m\u001b[0m\u001b[0m\n\u001b[1;32m   6376\u001b[0m                         \u001b[0;32melse\u001b[0m\u001b[0;34m:\u001b[0m\u001b[0;34m\u001b[0m\u001b[0m\n\u001b[0;32m-> 6377\u001b[0;31m                             \u001b[0mbop\u001b[0m \u001b[0;34m=\u001b[0m \u001b[0mbop\u001b[0m\u001b[0;34m.\u001b[0m\u001b[0madd\u001b[0m\u001b[0;34m(\u001b[0m\u001b[0mb\u001b[0m\u001b[0;34m.\u001b[0m\u001b[0mproduct\u001b[0m\u001b[0;34m(\u001b[0m\u001b[0mop\u001b[0m\u001b[0;34m,\u001b[0m \u001b[0mkind\u001b[0m\u001b[0;34m)\u001b[0m\u001b[0;34m)\u001b[0m\u001b[0;34m\u001b[0m\u001b[0m\n\u001b[0m\u001b[1;32m   6378\u001b[0m \u001b[0;34m\u001b[0m\u001b[0m\n\u001b[1;32m   6379\u001b[0m                     \u001b[0mnew_states\u001b[0m\u001b[0;34m.\u001b[0m\u001b[0mappend\u001b[0m\u001b[0;34m(\u001b[0m\u001b[0mbop\u001b[0m\u001b[0;34m)\u001b[0m\u001b[0;34m\u001b[0m\u001b[0m\n",
      "\u001b[0;32m~/workspace/QM/docs/Q_tools.py\u001b[0m in \u001b[0;36mproduct\u001b[0;34m(self, q1, kind, reverse, qtype)\u001b[0m\n\u001b[1;32m   1467\u001b[0m         \u001b[0;34m\"\"\"Form a product given 2 quaternions: standard, even, odd, and even_minus_odd. If reverse=True, reverses the order.\"\"\"\u001b[0m\u001b[0;34m\u001b[0m\u001b[0m\n\u001b[1;32m   1468\u001b[0m \u001b[0;34m\u001b[0m\u001b[0m\n\u001b[0;32m-> 1469\u001b[0;31m         \u001b[0mcommuting\u001b[0m \u001b[0;34m=\u001b[0m \u001b[0mself\u001b[0m\u001b[0;34m.\u001b[0m\u001b[0m_commuting_products\u001b[0m\u001b[0;34m(\u001b[0m\u001b[0mq1\u001b[0m\u001b[0;34m)\u001b[0m\u001b[0;34m\u001b[0m\u001b[0m\n\u001b[0m\u001b[1;32m   1470\u001b[0m         \u001b[0mq_even\u001b[0m \u001b[0;34m=\u001b[0m \u001b[0mQHa\u001b[0m\u001b[0;34m(\u001b[0m\u001b[0;34m)\u001b[0m\u001b[0;34m\u001b[0m\u001b[0m\n\u001b[1;32m   1471\u001b[0m         \u001b[0mq_even\u001b[0m\u001b[0;34m.\u001b[0m\u001b[0ma\u001b[0m\u001b[0;34m[\u001b[0m\u001b[0;36m0\u001b[0m\u001b[0;34m]\u001b[0m \u001b[0;34m=\u001b[0m \u001b[0mcommuting\u001b[0m\u001b[0;34m[\u001b[0m\u001b[0;34m'tt'\u001b[0m\u001b[0;34m]\u001b[0m \u001b[0;34m-\u001b[0m \u001b[0mcommuting\u001b[0m\u001b[0;34m[\u001b[0m\u001b[0;34m'xx+yy+zz'\u001b[0m\u001b[0;34m]\u001b[0m\u001b[0;34m\u001b[0m\u001b[0m\n",
      "\u001b[0;32m~/workspace/QM/docs/Q_tools.py\u001b[0m in \u001b[0;36m_commuting_products\u001b[0;34m(self, q1)\u001b[0m\n\u001b[1;32m   1315\u001b[0m \u001b[0;34m\u001b[0m\u001b[0m\n\u001b[1;32m   1316\u001b[0m         \u001b[0ms_t\u001b[0m\u001b[0;34m,\u001b[0m \u001b[0ms_x\u001b[0m\u001b[0;34m,\u001b[0m \u001b[0ms_y\u001b[0m\u001b[0;34m,\u001b[0m \u001b[0ms_z\u001b[0m \u001b[0;34m=\u001b[0m \u001b[0mself\u001b[0m\u001b[0;34m.\u001b[0m\u001b[0ma\u001b[0m\u001b[0;34m[\u001b[0m\u001b[0;36m0\u001b[0m\u001b[0;34m]\u001b[0m\u001b[0;34m,\u001b[0m \u001b[0mself\u001b[0m\u001b[0;34m.\u001b[0m\u001b[0ma\u001b[0m\u001b[0;34m[\u001b[0m\u001b[0;36m1\u001b[0m\u001b[0;34m]\u001b[0m\u001b[0;34m,\u001b[0m \u001b[0mself\u001b[0m\u001b[0;34m.\u001b[0m\u001b[0ma\u001b[0m\u001b[0;34m[\u001b[0m\u001b[0;36m2\u001b[0m\u001b[0;34m]\u001b[0m\u001b[0;34m,\u001b[0m \u001b[0mself\u001b[0m\u001b[0;34m.\u001b[0m\u001b[0ma\u001b[0m\u001b[0;34m[\u001b[0m\u001b[0;36m3\u001b[0m\u001b[0;34m]\u001b[0m\u001b[0;34m\u001b[0m\u001b[0m\n\u001b[0;32m-> 1317\u001b[0;31m         \u001b[0mq1_t\u001b[0m\u001b[0;34m,\u001b[0m \u001b[0mq1_x\u001b[0m\u001b[0;34m,\u001b[0m \u001b[0mq1_y\u001b[0m\u001b[0;34m,\u001b[0m \u001b[0mq1_z\u001b[0m \u001b[0;34m=\u001b[0m \u001b[0mq1\u001b[0m\u001b[0;34m.\u001b[0m\u001b[0ma\u001b[0m\u001b[0;34m[\u001b[0m\u001b[0;36m0\u001b[0m\u001b[0;34m]\u001b[0m\u001b[0;34m,\u001b[0m \u001b[0mq1\u001b[0m\u001b[0;34m.\u001b[0m\u001b[0ma\u001b[0m\u001b[0;34m[\u001b[0m\u001b[0;36m1\u001b[0m\u001b[0;34m]\u001b[0m\u001b[0;34m,\u001b[0m \u001b[0mq1\u001b[0m\u001b[0;34m.\u001b[0m\u001b[0ma\u001b[0m\u001b[0;34m[\u001b[0m\u001b[0;36m2\u001b[0m\u001b[0;34m]\u001b[0m\u001b[0;34m,\u001b[0m \u001b[0mq1\u001b[0m\u001b[0;34m.\u001b[0m\u001b[0ma\u001b[0m\u001b[0;34m[\u001b[0m\u001b[0;36m3\u001b[0m\u001b[0;34m]\u001b[0m\u001b[0;34m\u001b[0m\u001b[0m\n\u001b[0m\u001b[1;32m   1318\u001b[0m \u001b[0;34m\u001b[0m\u001b[0m\n\u001b[1;32m   1319\u001b[0m         products = {'tt': s_t * q1_t,\n",
      "\u001b[0;31mAttributeError\u001b[0m: 'NoneType' object has no attribute 'a'"
     ]
    }
   ],
   "source": [
    "%%capture\n",
    "%matplotlib inline\n",
    "import numpy as np\n",
    "import sympy as sp\n",
    "import matplotlib.pyplot as plt\n",
    "\n",
    "# To get equations the look like, well, equations, use the following.\n",
    "from sympy.interactive import printing\n",
    "printing.init_printing(use_latex=True)\n",
    "from IPython.display import display\n",
    "\n",
    "# Tools for manipulating quaternions.\n",
    "import Q_tools as qt;"
   ]
  },
  {
   "cell_type": "markdown",
   "metadata": {},
   "source": [
    "![](images/chapter_1/101.02.1.50.jpg)"
   ]
  },
  {
   "cell_type": "markdown",
   "metadata": {},
   "source": [
    "I have a vivid memory of learning how to take statements in logic and converting them to simple algebra problems with zero for false and one for true. The converse applies here: by changing the algebra used for all calculations, a consequence is that the logic of quantum mechanics is different from classical physics. "
   ]
  },
  {
   "cell_type": "markdown",
   "metadata": {},
   "source": [
    "![](images/chapter_1/101.02.2.50.jpg)"
   ]
  },
  {
   "cell_type": "markdown",
   "metadata": {},
   "source": [
    "In \"Dreams of a Final Theory\" by Steven Weinberg, he views quantum physics as a far deeper subject than classical physics. When classical physics is a ball rolling down an inclined plane, it is simple to do. But a piano with all its modes of vibrations of some two hundred strings is not simple. I bring up this note of caution because in my hands anyway, the tools of quantum mechanics will flow through functions that apply to classical physics. The tools sets are classical and quantum physics are distinct and subtly different."
   ]
  },
  {
   "cell_type": "markdown",
   "metadata": {},
   "source": [
    "![](images/chapter_1/101.03.1.50.jpg)"
   ]
  },
  {
   "cell_type": "markdown",
   "metadata": {},
   "source": [
    "This is a sensible caution, but I dream of a day when spin can really be visualized. On that day we can see how they are different and yet related."
   ]
  },
  {
   "cell_type": "markdown",
   "metadata": {},
   "source": [
    "![](images/chapter_1/101.20.1.50.jpg)"
   ]
  },
  {
   "cell_type": "markdown",
   "metadata": {},
   "source": [
    "I remember a lecture in a first year quantum mechanics class where the professor derived the uncertainty principle as an outcome of properties of complex numbers. I suspect that every measurable quantity has a conjugate variable, and with that particular variable, the uncertainty principle applies to the pair. It would be odd if there were an exception."
   ]
  },
  {
   "cell_type": "markdown",
   "metadata": {},
   "source": [
    "![](images/chapter_1/101.21.1.50.jpg)"
   ]
  },
  {
   "cell_type": "markdown",
   "metadata": {},
   "source": [
    "Our way of visualizing a ball - it is there going so fast - must therefore not apply to quantum mechanics. "
   ]
  },
  {
   "cell_type": "markdown",
   "metadata": {},
   "source": [
    "![](images/chapter_1/101.22.1.50.jpg)"
   ]
  },
  {
   "cell_type": "markdown",
   "metadata": {},
   "source": [
    "Here is my first substantive disagreement, not so much with Susskind as with the traditional explanation as created in the early 1800s by C. Wessel and Argand. This graph can be written in books, published, and studied. It is both useful and good. The common complaint is that there appears to be no difference between the real axis and the imaginary one. Consider the following experiment. Someone draws a point in the complex plane and does either a reflection over the real or imaginary axis. They cover up the label for both axes. In this math thought experiment, there would be no way to distinguish if the reflection had been over the real or the imaginary axis. To an experimental mathematician, this means there is a problem with the definition of real versus imaginary numbers. Most mathematicians project a faith in define logical precision, so if something is define precisely and the logic work, there is no need for discussion and no wrong.\n",
    "\n",
    "Space-time physics declares a definition that will work for the nearly extinct bird known as an experimental mathematician. If in the plane one axis is just like the other at 90 degrees, so to is the axis 90 degrees to both of those pointing out of the page. Then imaginary number are for space. What sort of axis would be so orthogonal to these three that they cannot be drawn on the same page? That would be time. Time can be represented with an animation. Consider a baseball hit from home plate-now that lands in right field-future."
   ]
  },
  {
   "cell_type": "markdown",
   "metadata": {},
   "source": [
    "![simple.gif](images/chapter_1/baseball_animations/simple.gif)"
   ]
  },
  {
   "cell_type": "markdown",
   "metadata": {},
   "source": [
    "The ball starts at here-now, $(0, 0, 0, 0)$. Time is treated as the real number, while the planar graph has the imaginary values of $x i$ and $y j$. I hyphenate space-time and their verbal variations, like the ball landing in right field-future.\n",
    "\n",
    "What does a spatial reflection of that baseball look like using a mirror at home plate? There would now be two balls. The distance covered by both balls would be twice the distance but the time would be the same."
   ]
  },
  {
   "cell_type": "markdown",
   "metadata": {},
   "source": [
    "![simple.gif](images/chapter_1/baseball_animations/space.gif)"
   ]
  },
  {
   "cell_type": "markdown",
   "metadata": {},
   "source": [
    "The ball goes from home plate-now to right field-future and left field-future. It takes the same amount of time but twice the distance. The opposite situation happens for time reflection."
   ]
  },
  {
   "cell_type": "markdown",
   "metadata": {},
   "source": [
    "![time reflection](images/chapter_1/baseball_animations/time.gif)"
   ]
  },
  {
   "cell_type": "markdown",
   "metadata": {},
   "source": [
    "The ball goes from right field-past to home plate-now out to right field-future. As with all these looping animations, there is a cyclic boundary condition, a fancy way of saying these animations all repeat.\n",
    "\n",
    "There is one last reflection possibility: what if there is a reflection in both space and time?"
   ]
  },
  {
   "cell_type": "markdown",
   "metadata": {},
   "source": [
    "![space-time reflection](images/chapter_1/baseball_animations/space-time.gif)"
   ]
  },
  {
   "cell_type": "markdown",
   "metadata": {},
   "source": [
    "The ball starts in left field-past, gets to home plate-now, then continues to right field-future. The two reflections take twice the distance and time as the starting hit to the outfield."
   ]
  },
  {
   "cell_type": "markdown",
   "metadata": {},
   "source": [
    "As animations, the reflection in the real number, time, are distinct from the reflections in imaginary numbers, space, and are visually distinct from the combination. Analytic quaternion animations can be used to describe real world things like the flight of a baseball."
   ]
  },
  {
   "cell_type": "markdown",
   "metadata": {},
   "source": [
    "![](images/chapter_1/101.23.1.50.jpg)"
   ]
  },
  {
   "cell_type": "markdown",
   "metadata": {},
   "source": [
    "Susskind and Friedman are following the standard play book treating everything as part of a static plane - $r$, $x$, and $y$ are all used for distances. Let's try to shift the thinking to time $t$ for the reals, space $R$ for the imaginary numbers. For complex numbers, there is only one sort of factor of $i$. For quaternions, there is a 3-vector $i$ that can point in an infinite number of ways. For a set of quaternions that all point in the same direction or its opposite, every one of these rules applies as is."
   ]
  },
  {
   "cell_type": "markdown",
   "metadata": {},
   "source": [
    "![](images/chapter_1/101.23.2.50.jpg)"
   ]
  },
  {
   "cell_type": "markdown",
   "metadata": {},
   "source": []
  },
  {
   "cell_type": "markdown",
   "metadata": {},
   "source": [
    "![](images/chapter_1/101.24.1.50.jpg)"
   ]
  },
  {
   "cell_type": "markdown",
   "metadata": {},
   "source": []
  },
  {
   "cell_type": "markdown",
   "metadata": {},
   "source": [
    "![](images/chapter_1/101.24.2.50.jpg)"
   ]
  },
  {
   "cell_type": "markdown",
   "metadata": {},
   "source": []
  },
  {
   "cell_type": "markdown",
   "metadata": {},
   "source": [
    "![](images/chapter_1/101.25.1.50.jpg)"
   ]
  },
  {
   "cell_type": "markdown",
   "metadata": {},
   "source": []
  },
  {
   "cell_type": "markdown",
   "metadata": {},
   "source": [
    "![](images/chapter_1/101.25.2.50.jpg)"
   ]
  },
  {
   "cell_type": "markdown",
   "metadata": {},
   "source": []
  },
  {
   "cell_type": "markdown",
   "metadata": {},
   "source": [
    "![](images/chapter_1/101.25.3.50.jpg)"
   ]
  },
  {
   "cell_type": "markdown",
   "metadata": {},
   "source": []
  },
  {
   "cell_type": "markdown",
   "metadata": {},
   "source": [
    "![](images/chapter_1/101.26.1.50.jpg)"
   ]
  },
  {
   "cell_type": "markdown",
   "metadata": {},
   "source": []
  },
  {
   "cell_type": "markdown",
   "metadata": {},
   "source": [
    "![](images/chapter_1/101.29.2.50.jpg)"
   ]
  },
  {
   "cell_type": "markdown",
   "metadata": {},
   "source": []
  },
  {
   "cell_type": "markdown",
   "metadata": {},
   "source": [
    "![](images/chapter_1/101.30.1.50.jpg)"
   ]
  },
  {
   "cell_type": "markdown",
   "metadata": {},
   "source": []
  },
  {
   "cell_type": "markdown",
   "metadata": {},
   "source": [
    "![](images/chapter_1/101.30.3.50.jpg)"
   ]
  },
  {
   "cell_type": "markdown",
   "metadata": {},
   "source": []
  },
  {
   "cell_type": "markdown",
   "metadata": {},
   "source": [
    "![](images/chapter_1/101.31.1.50.jpg)"
   ]
  },
  {
   "cell_type": "markdown",
   "metadata": {},
   "source": []
  },
  {
   "cell_type": "markdown",
   "metadata": {},
   "source": [
    "![](images/chapter_1/101.31.2.50.jpg)"
   ]
  },
  {
   "cell_type": "markdown",
   "metadata": {},
   "source": []
  },
  {
   "cell_type": "markdown",
   "metadata": {},
   "source": [
    "![](images/chapter_1/101.32.2.50.jpg)"
   ]
  },
  {
   "cell_type": "markdown",
   "metadata": {},
   "source": []
  },
  {
   "cell_type": "markdown",
   "metadata": {},
   "source": [
    "![](images/chapter_1/101.34.1.50.jpg)"
   ]
  },
  {
   "cell_type": "markdown",
   "metadata": {},
   "source": []
  },
  {
   "cell_type": "markdown",
   "metadata": {},
   "source": [
    "![](images/chapter_1/101.34.2.50.jpg)"
   ]
  },
  {
   "cell_type": "markdown",
   "metadata": {},
   "source": []
  },
  {
   "cell_type": "markdown",
   "metadata": {},
   "source": []
  },
  {
   "cell_type": "markdown",
   "metadata": {},
   "source": []
  }
 ],
 "metadata": {
  "kernelspec": {
   "display_name": "Python 3",
   "language": "python",
   "name": "python3"
  },
  "language_info": {
   "codemirror_mode": {
    "name": "ipython",
    "version": 3
   },
   "file_extension": ".py",
   "mimetype": "text/x-python",
   "name": "python",
   "nbconvert_exporter": "python",
   "pygments_lexer": "ipython3",
   "version": "3.5.1"
  }
 },
 "nbformat": 4,
 "nbformat_minor": 2
}
