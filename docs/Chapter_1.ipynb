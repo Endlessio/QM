{
 "cells": [
  {
   "cell_type": "markdown",
   "metadata": {},
   "source": [
    "# Lecture 1: Systems and Experiments Using Quaternion Series"
   ]
  },
  {
   "cell_type": "markdown",
   "metadata": {},
   "source": [
    "by Doug Sweetser, email to sweetser@alum.mit.edu"
   ]
  },
  {
   "cell_type": "markdown",
   "metadata": {},
   "source": [
    "## The quaternion series for quantum mechanics hypothesis\n",
    "\n",
    "This notebook is being created as a companion to the book \"Quantum Mechanics: the Theoretical Minimum\" by Susskind and Friedman (QM:TTM for short). Those authors of course never use quaternions as they are a bit player in the crowded field of mathematical tools. Nature has used one accounting system since the beginning of space-time. I will be a jerk in the name of consistency. This leads to a different perspective on what makes an equation quantum mechanical. If a conjugate operator is used, then the expression is about quantum mechanics. It is odd to have such a brief assertion given the complexity of the subject, but that makes the hypothesis fun - and testable by seeing if anything in the book cannot be done with quaternions and their conjugates. Import the tools to work with quaternions in this notebook, the most important one being Q_tools that was tailored for the task at hand."
   ]
  },
  {
   "cell_type": "code",
   "execution_count": 1,
   "metadata": {},
   "outputs": [],
   "source": [
    "%%capture\n",
    "%matplotlib inline\n",
    "import numpy as np\n",
    "import sympy as sp\n",
    "import matplotlib.pyplot as plt\n",
    "\n",
    "# To get equations the look like, well, equations, use the following.\n",
    "from sympy.interactive import printing\n",
    "printing.init_printing(use_latex=True)\n",
    "from IPython.display import display\n",
    "\n",
    "# Tools for manipulating quaternions.\n",
    "import Q_tools as qt;\n",
    "\n",
    "from IPython.core.display import display, HTML\n",
    "display(HTML(\"<style>.container { width:100% !important; }</style>\"))"
   ]
  },
  {
   "cell_type": "markdown",
   "metadata": {},
   "source": [
    "![](images/chapter_1/101.02.1.50.jpg)"
   ]
  },
  {
   "cell_type": "markdown",
   "metadata": {},
   "source": [
    "I have a vivid memory of learning how to take statements in logic and converting them to simple algebra problems with zero for false and one for true. The converse applies here: by changing the algebra used for all calculations, a consequence is that the logic of quantum mechanics is different from classical physics. "
   ]
  },
  {
   "cell_type": "markdown",
   "metadata": {},
   "source": [
    "![](images/chapter_1/101.02.2.50.jpg)"
   ]
  },
  {
   "cell_type": "markdown",
   "metadata": {},
   "source": [
    "In \"Dreams of a Final Theory\" by Steven Weinberg, he views quantum physics as a far deeper subject than classical physics. When classical physics is a ball rolling down an inclined plane, it is simple to do. But a piano with all its modes of vibrations of some two hundred strings is not simple. I bring up this note of caution because in my hands anyway, the tools of quantum mechanics will flow through functions that apply to classical physics. The tools sets of classical and quantum physics are distinct and subtly different."
   ]
  },
  {
   "cell_type": "markdown",
   "metadata": {},
   "source": [
    "![](images/chapter_1/101.03.1.50.jpg)"
   ]
  },
  {
   "cell_type": "markdown",
   "metadata": {},
   "source": [
    "This is a sensible caution, but I dream of a day when spin can really be visualized. On that day we can see how they are different and yet related."
   ]
  },
  {
   "cell_type": "markdown",
   "metadata": {},
   "source": [
    "![](images/chapter_1/101.20.1.50.jpg)"
   ]
  },
  {
   "cell_type": "markdown",
   "metadata": {},
   "source": [
    "I remember a lecture in a first year of graduate school quantum mechanics class where the professor derived the uncertainty principle as an outcome of properties of complex numbers. I suspect that every measurable quantity has a conjugate variable, and with that particular variable, the uncertainty principle applies to the pair. It would be odd if there were an exception."
   ]
  },
  {
   "cell_type": "markdown",
   "metadata": {},
   "source": [
    "![](images/chapter_1/101.21.1.50.jpg)"
   ]
  },
  {
   "cell_type": "markdown",
   "metadata": {},
   "source": [
    "Our way of visualizing a ball - it is there going so fast - must not apply to quantum mechanics. There may be a technical way to visualize what happens precisely in quantum mechanics. We do not have the appropriate tools today."
   ]
  },
  {
   "cell_type": "markdown",
   "metadata": {},
   "source": [
    "![](images/chapter_1/101.22.1.50.jpg)"
   ]
  },
  {
   "cell_type": "markdown",
   "metadata": {},
   "source": [
    "Here is my first substantive disagreement, not so much with Susskind as with the traditional explanation as created in the early 1800s by C. Wessel and Argand. This graph can be written in books, published, and studied. It is both useful and good. The common complaint is that there appears to be no difference between the real axis and the imaginary one. Consider the following experiment. Someone draws a point in the complex plane and does either a reflection over the real or imaginary axis. They cover up the label for both axes. In this math thought experiment, there would be no way to distinguish if the reflection had been over the real or the imaginary axis. To an experimental mathematician, this means there is a problem with the definition of real versus imaginary numbers. Most mathematicians project a faith in defined logical precision. If something is define precisely and the logic works, there is no need for discussion and nothing is wrong.\n",
    "\n",
    "Space-time physics may provide an animated definition for the difference between real and imaginary numbers. A real number for time can be represented with an animation. The three dimensions of space would be the three imaginary numbers. Make this concrete. Consider a baseball hit from home plate-now that lands in right field-future."
   ]
  },
  {
   "cell_type": "markdown",
   "metadata": {},
   "source": [
    "![simple.gif](images/chapter_1/baseball_animations/simple.gif)"
   ]
  },
  {
   "cell_type": "markdown",
   "metadata": {},
   "source": [
    "The ball starts at here-now, $(0, 0, 0, 0)$. Time is treated as the real number, while the planar graph has the imaginary values of $x i$ and $y j$. I hyphenate space-time and their verbal variations, like the ball landing in right field-future.\n",
    "\n",
    "What does a spatial reflection of that baseball look like using a mirror at home plate? There would now be two balls. The distance covered by both balls would be twice the distance but the time would be the same."
   ]
  },
  {
   "cell_type": "markdown",
   "metadata": {},
   "source": [
    "![simple.gif](images/chapter_1/baseball_animations/space.gif)"
   ]
  },
  {
   "cell_type": "markdown",
   "metadata": {},
   "source": [
    "The ball goes from home plate-now to right field-future and left field-future. It takes the same amount of time but twice the distance. The opposite situation happens for time reflection."
   ]
  },
  {
   "cell_type": "markdown",
   "metadata": {},
   "source": [
    "![time reflection](images/chapter_1/baseball_animations/time.gif)"
   ]
  },
  {
   "cell_type": "markdown",
   "metadata": {},
   "source": [
    "The ball goes from right field-past to home plate-now out to right field-future. As with all these looping animations, there is a cyclic boundary condition, a fancy way of saying these animations all repeat.\n",
    "\n",
    "There is one last reflection possibility: what if there is a reflection in both space and time?"
   ]
  },
  {
   "cell_type": "markdown",
   "metadata": {},
   "source": [
    "![space-time reflection](images/chapter_1/baseball_animations/space-time.gif)"
   ]
  },
  {
   "cell_type": "markdown",
   "metadata": {},
   "source": [
    "The ball starts in left field-past, gets to home plate-now, then continues to right field-future. The two reflections take twice the distance and time as the starting hit to the outfield."
   ]
  },
  {
   "cell_type": "markdown",
   "metadata": {},
   "source": [
    "As animations, the reflection in the real number, time, are distinct from the reflections in imaginary numbers, space, and are visually distinct from the combination. Analytic quaternion animations can be used to describe real world things like the flight of a baseball. **Space is orthogonal to time**. We draw in space but animate in time. As such, what is drawn in space is separate from how we then construct an animation from the drawings."
   ]
  },
  {
   "cell_type": "markdown",
   "metadata": {},
   "source": [
    "![](images/chapter_1/101.23.1.50.jpg)"
   ]
  },
  {
   "cell_type": "markdown",
   "metadata": {},
   "source": [
    "Susskind and Friedman are following the standard play book treating everything as part of a static plane - $r$, $x$, and $y$ are all used for distances. Let's try to shift the thinking to time $t$ for the reals, space $R$ for the imaginary numbers. For complex numbers, there is only one sort of factor of $i$. For quaternions, there is a 3-vector $I$ that can point in an infinite number of ways. For a set of quaternions that all point in the same direction or its opposite, every one of these rules applies as is."
   ]
  },
  {
   "cell_type": "markdown",
   "metadata": {},
   "source": [
    "The polar representation of a quaternion takes as input an amplitude and three \"angles\" which are ratios of distance to time, making them more like velocities than angles in a plane. These \"polar velocities\" can take any numerical value, making them different because velocities of material objects are limited to the speed of light. A math construction is more free.\n",
    "\n",
    "Here is a demonstration that the product of the polar representation of a quaternion multiplies the Amplitude (the first numbers 2, 3, and 10) and adds the polar velocities (1, 1.5, and 0.5)."
   ]
  },
  {
   "cell_type": "code",
   "execution_count": 2,
   "metadata": {},
   "outputs": [
    {
     "name": "stdout",
     "output_type": "stream",
     "text": [
      "polar 1:  (2.0 A, 1.0 𝜈x, 0.0 𝜈y, 0.0 𝜈z) Q\n",
      "polar 2:  (3.0 A, 1.5 𝜈x, 0.0 𝜈y, 0.0 𝜈z) Q\n",
      "polar 3:  (10.0 A, 0.5 𝜈x, 0.0 𝜈y, 0.0 𝜈z) Q\n",
      "p1 * p2:  (6.0 A, 2.5 𝜈x, 0.0 𝜈y, 0.0 𝜈z) QxQ\n",
      "p1*p2*p3  (60.00000000000001 A, 3.0 𝜈x, 0.0 𝜈y, 0.0 𝜈z) QxQxQ\n"
     ]
    }
   ],
   "source": [
    "p1 = qt.QH([2, 1, 0, 0], representation=\"polar\")\n",
    "p2 = qt.QH([3, 1.5, 0, 0], representation=\"polar\")\n",
    "p3 = qt.QH([10, .5, 0, 0], representation=\"polar\")\n",
    "\n",
    "print(\"polar 1: \", p1)\n",
    "print(\"polar 2: \", p2)\n",
    "print(\"polar 3: \", p3)\n",
    "print(\"p1 * p2: \", p1.product(p2))\n",
    "print(\"p1*p2*p3 \", p1.product(p2).product(p3))"
   ]
  },
  {
   "cell_type": "markdown",
   "metadata": {},
   "source": [
    "The conjugate flips the signs of the polar velocity terms:"
   ]
  },
  {
   "cell_type": "code",
   "execution_count": 3,
   "metadata": {},
   "outputs": [
    {
     "name": "stdout",
     "output_type": "stream",
     "text": [
      "(2.0 A, -1.0 𝜈x, 0.0 𝜈y, 0.0 𝜈z) Q*\n"
     ]
    }
   ],
   "source": [
    "p4 = print(p1.conj())"
   ]
  },
  {
   "cell_type": "markdown",
   "metadata": {},
   "source": [
    "If things were done right, the product of a polar with its conjugate is the square of the amplitude."
   ]
  },
  {
   "cell_type": "code",
   "execution_count": 4,
   "metadata": {},
   "outputs": [
    {
     "name": "stdout",
     "output_type": "stream",
     "text": [
      "(4.0 A, 0 𝜈x, 0 𝜈y, 0 𝜈z) Q*xQ\n",
      "(9.0 A, 0 𝜈x, 0 𝜈y, 0 𝜈z) Q*xQ\n",
      "(100.0 A, 0 𝜈x, 0 𝜈y, 0 𝜈z) Q*xQ\n"
     ]
    }
   ],
   "source": [
    "print(p1.conj().product(p1))\n",
    "print(p2.conj().product(p2))\n",
    "print(p3.conj().product(p3))"
   ]
  },
  {
   "cell_type": "markdown",
   "metadata": {},
   "source": [
    "So what happens when there is more than one polar velocity? Think like a mathematical physicist for a moment. One velocity is trivial - everything must point in the same direction. If one now gets two or three velocities in the mix, then one must deal with the confusion of spinning things. The norm does not change going from $2 i$ to $2 i + 3 j + 4k$, only the direction changes. Like all things that spin, the subject gets confusing, and is not germane to this chapter. When I see just a factor of $i$, I see linear physics without rotations."
   ]
  },
  {
   "cell_type": "markdown",
   "metadata": {},
   "source": [
    "![](images/chapter_1/101.23.2.50.jpg)"
   ]
  },
  {
   "cell_type": "markdown",
   "metadata": {},
   "source": [
    "The deeper math idea that is hinted at is that we are all taught about representing complex numbers on the manifold $\\mathbb{R}^2$. Much of complex analysis relies on working with complex numbers on the manifold $\\mathbb{C}^1$. Everything that can be done on the manifold $\\mathbb{R}^2$ can also be done on $\\mathbb{C}^1$ so long as one has both $z$ and $z^*$. When I learned this lesson, it immediately sounded like a problem for quaternions. This time there will be functions on $\\mathbb{R}^4$ that cannot be constructed using just $q$ and $q^*$. I considered this a show stopper - at least until I found a cute solution. I call them the first and second conjugates. Take a moment to calculate $(i q i)^*$ and $(j q j)^*$. You will see that those flip the signs on all the terms except the $i$ and $j$ respectively. So $q$, $q^*$, $q^{*1}$, and $q^{*2}$ are enough on the quaternion manifold $\\mathbb{H}^1$ to cover all possible functions one can construct on $\\mathbb{R}^4$. Again, this digression is not germane to the case of just one imaginary factor. I point it out to say more than one can be handled, and it will be darn interesting to see how it plays out technically."
   ]
  },
  {
   "cell_type": "markdown",
   "metadata": {},
   "source": [
    "![](images/chapter_1/101.24.1.50.jpg)"
   ]
  },
  {
   "cell_type": "markdown",
   "metadata": {},
   "source": [
    "The two most important numbers to understand in mathematical physics are zero and one. The duo show up in every context, so their meaning varies by that context. For phase factor terms, just add them up."
   ]
  },
  {
   "cell_type": "code",
   "execution_count": 5,
   "metadata": {},
   "outputs": [
    {
     "name": "stdout",
     "output_type": "stream",
     "text": [
      "phase a:      (1.0 A, 0.5 𝜈x, 0.0 𝜈y, 0.0 𝜈z) Q\n",
      "phase a+a:    (1.0 A, 1.0 𝜈x, 0.0 𝜈y, 0.0 𝜈z) QxQ\n",
      "phase a+a+b:  (1.0 A, 1.9999999999999998 𝜈x, 0.0 𝜈y, 0.0 𝜈z) QxQxQ\n"
     ]
    }
   ],
   "source": [
    "phase_a = qt.QH([1, 0.5, 0, 0], representation=\"polar\")\n",
    "phase_b = qt.QH([1, 1, 0, 0], representation=\"polar\")\n",
    "print(\"phase a:     \", phase_a)\n",
    "print(\"phase a+a:   \", phase_a.product(phase_a))\n",
    "print(\"phase a+a+b: \", phase_a.product(phase_a).product(phase_b))"
   ]
  },
  {
   "cell_type": "markdown",
   "metadata": {},
   "source": [
    "Darn rounding errors. Anyway, you should get the point. When the amplitude is unity, the only thing of interest is the phase."
   ]
  },
  {
   "cell_type": "markdown",
   "metadata": {},
   "source": [
    "![](images/chapter_1/101.24.2.50.jpg)"
   ]
  },
  {
   "cell_type": "markdown",
   "metadata": {},
   "source": [
    "I am not going to say something is *wrong* in QM:TTM. I will contend **it is just not right enough**. Yup, the space of states is not a mathematical set. Agreed, 100%. A vector in a vector space can be added to another vector an multiplied by a scalar value. Agreed, 100%. Yet I want to grant states more power and versatility (addition, addition's inverse subtraction, and multiplication by a scalar). The additional power is to drop the \"by a scalar\" clause, and put in is place \"and multiplication's inverse division.\" At one level, it does not sound like a big deal. Take the number 6, we can write four expressions using the two operators and their inverses: $2 + 4 = 6$, $6 + (-4) = 2$, $2 * 3 = 6$, $6 * 3^{-1} = 2$. This is third grade math, so the demand is to be consistent with all that math learned long ago.\n",
    "\n",
    "On the other hand, this sounds like a huge pain. Quantum mechanics is constructed from complex-valued Hilbert vectors spaces. The entire thing would have to be rebuilt. Everything would have to work, no exceptions. Well, that is why there are these iPython notebooks, to test if the reconstruction work can be done."
   ]
  },
  {
   "cell_type": "markdown",
   "metadata": {},
   "source": [
    "## Space-time dimensions versus State dimensions"
   ]
  },
  {
   "cell_type": "markdown",
   "metadata": {},
   "source": [
    "![](images/chapter_1/101.25.1.50.jpg)"
   ]
  },
  {
   "cell_type": "markdown",
   "metadata": {},
   "source": [
    "As a practice, I never think of space or of time, only space-time. An event in space-time is a number with a real time and three imaginary numbers for space that together form a quaternion. Yet one is free to represent a quaternion as a series of quaternions, using one or an infinite number of quaternions in the series. Each and every element of the series will be in space-time. This is an often unspoken aspect of quantum mechanical state spaces: they all exist in space-time. I think of the space-time dimensions as being orthogonal to the state dimensions. There is a relationship between the two, yet there is also an independence. I will try to always use qualifiers for space-time dimensions or state dimensions. For this book, nearly all the discussion will be about the state dimensions.\n",
    "\n",
    "Just to get the toes a little wet, here is one quaternion series $A$ which has two states $A1$ and $A2$:"
   ]
  },
  {
   "cell_type": "code",
   "execution_count": 6,
   "metadata": {},
   "outputs": [
    {
     "name": "stdout",
     "output_type": "stream",
     "text": [
      "A\n",
      "n=1: (0, 1, 2, 3) A1\n",
      "n=2: (2, 2, 2, 2) A2\n",
      "sum= (2, 3, 4, 5) A1+A2\n"
     ]
    }
   ],
   "source": [
    "A = qt.QHStates([qt.QH([0,1,2,3], qtype=\"A1\"), qt.QH([2,2,2,2], qtype=\"A2\")])\n",
    "A.print_states(\"A\")"
   ]
  },
  {
   "cell_type": "markdown",
   "metadata": {},
   "source": [
    "Each quaternion in the series will be associated with a value of $n$ that can go from 1 out to infinity. The sum of a series is often a key to the analysis."
   ]
  },
  {
   "cell_type": "markdown",
   "metadata": {},
   "source": [
    "![](images/chapter_1/101.25.2.50.jpg)"
   ]
  },
  {
   "cell_type": "markdown",
   "metadata": {},
   "source": [
    "The game that is afoot is to show that quaternion series which can be finite or infinite behave exactly as one demands by the definition of a Hilbert space. Creativity is required to make this work, but that also makes it fun."
   ]
  },
  {
   "cell_type": "markdown",
   "metadata": {},
   "source": [
    "![](images/chapter_1/101.25.3.50.jpg)"
   ]
  },
  {
   "cell_type": "markdown",
   "metadata": {},
   "source": [
    "This looks so darn obvious, there is nothing much to do. Let's write down a quaternion series $B$ and add them up."
   ]
  },
  {
   "cell_type": "code",
   "execution_count": 7,
   "metadata": {},
   "outputs": [
    {
     "name": "stdout",
     "output_type": "stream",
     "text": [
      "The dimensions are not the same: 2 != 3\n"
     ]
    }
   ],
   "source": [
    "B = qt.QHStates([qt.QH([-1, -1, -1, -1]), qt.QH([-2,-2,-2,-2]), qt.QH([-3,-3,-3,-3])])\n",
    "A.add(B)"
   ]
  },
  {
   "cell_type": "markdown",
   "metadata": {},
   "source": [
    "When you write software that has to \"do all the math\", you get confronted with questions like, what if the dimensions are different? I think they should not be added together because a value of zero is different from being undefined. Of course, some one with more technical skills in these arts may already know that I should treat the phantom third element of the quaternion series $A$ as zero and it is all OK. That would require a skilled math nerd. For now, I will treat it as an illegal move and report it. Let me redefine $B$ to have just two terms, and define a third series $C$ along with a zero."
   ]
  },
  {
   "cell_type": "code",
   "execution_count": 8,
   "metadata": {},
   "outputs": [],
   "source": [
    "B = qt.QHStates([qt.QH([-1, -1, -1, -1], qtype=\"B1\"), qt.QH([-2,-2,-4,-6], qtype=\"B2\")])\n",
    "C = qt.QHStates([qt.QH([0, 0, 0, 4], qtype=\"C1\"), qt.QH([0,0,0,-10], qtype=\"C2\")])\n",
    "Z = qt.QHStates([qt.QH().q_0(), qt.QH().q_0()])"
   ]
  },
  {
   "cell_type": "code",
   "execution_count": 9,
   "metadata": {},
   "outputs": [
    {
     "name": "stdout",
     "output_type": "stream",
     "text": [
      "|A> + |B> = |New>\n",
      "n=1: (-1, 0, 1, 2) A1+B1\n",
      "n=2: (0, 0, -2, -4) A2+B2\n",
      "sum= (-1, 0, -1, -2) A1+B1+A2+B2\n"
     ]
    }
   ],
   "source": [
    "A.add(B).print_states(\"|A> + |B> = |New>\")\n"
   ]
  },
  {
   "cell_type": "markdown",
   "metadata": {},
   "source": [
    "So long as neither A nor B is zero, the addition results in a new quaternion series."
   ]
  },
  {
   "cell_type": "markdown",
   "metadata": {},
   "source": [
    "![](images/chapter_1/101.26.1.50.jpg)"
   ]
  },
  {
   "cell_type": "markdown",
   "metadata": {},
   "source": [
    "Whoops, a lot to prove, but nothing too difficult. Instead of a complex number $z$ and $w$, I will use quaternions $q$ and $w$."
   ]
  },
  {
   "cell_type": "code",
   "execution_count": 10,
   "metadata": {},
   "outputs": [
    {
     "name": "stdout",
     "output_type": "stream",
     "text": [
      "2. commutative addition, |A> + |B> = |B> + |A>\n",
      "|A> + |B>\n",
      "n=1: (-1, 0, 1, 2) A1+B1\n",
      "n=2: (0, 0, -2, -4) A2+B2\n",
      "sum= (-1, 0, -1, -2) A1+B1+A2+B2\n",
      "\n",
      "|B> + |A>\n",
      "n=1: (-1, 0, 1, 2) B1+A1\n",
      "n=2: (0, 0, -2, -4) B2+A2\n",
      "sum= (-1, 0, -1, -2) B1+A1+B2+A2\n",
      "\n",
      "|A> + |B> = |B> + |A>?  True\n"
     ]
    }
   ],
   "source": [
    "print(\"2. commutative addition, |A> + |B> = |B> + |A>\")\n",
    "A.add(B).print_states(\"|A> + |B>\", 1)\n",
    "B.add(A).print_states(\"|B> + |A>\", 1)\n",
    "print(\"|A> + |B> = |B> + |A>? \", A.add(B).equals(B.add(A)))"
   ]
  },
  {
   "cell_type": "markdown",
   "metadata": {},
   "source": [
    "I often focus on the qtype, the strings that report all the operations done for a given calculation. Sometimes the qtype can get quite long, but that is a statement about the calculation in question."
   ]
  },
  {
   "cell_type": "code",
   "execution_count": 11,
   "metadata": {},
   "outputs": [
    {
     "name": "stdout",
     "output_type": "stream",
     "text": [
      "3. associative addition, (|A> + |B>) + |C> = |A> + (|B> + |C)>\n",
      "(|A> + |B>) + |C>\n",
      "n=1: (-1, 0, 1, 6) A1+B1+C1\n",
      "n=2: (0, 0, -2, -14) A2+B2+C2\n",
      "sum= (-1, 0, -1, -8) A1+B1+C1+A2+B2+C2\n",
      "\n",
      "|A> + (|B> + |C>)\n",
      "n=1: (-1, 0, 1, 6) A1+B1+C1\n",
      "n=2: (0, 0, -2, -14) A2+B2+C2\n",
      "sum= (-1, 0, -1, -8) A1+B1+C1+A2+B2+C2\n",
      "\n",
      "(|A> + |B>) + |C> = |A> + (|B> + |C)>?  True\n"
     ]
    }
   ],
   "source": [
    "print(\"3. associative addition, (|A> + |B>) + |C> = |A> + (|B> + |C)>\")\n",
    "A.add(B).add(C).print_states(\"(|A> + |B>) + |C>\", 1)\n",
    "A.add(B.add(C)).print_states(\"|A> + (|B> + |C>)\", 1)\n",
    "print(\"(|A> + |B>) + |C> = |A> + (|B> + |C)>? \", A.add(B).add(C).equals(A.add(B.add(C))))"
   ]
  },
  {
   "cell_type": "code",
   "execution_count": 12,
   "metadata": {},
   "outputs": [
    {
     "name": "stdout",
     "output_type": "stream",
     "text": [
      "4. An additive identity series zero exists\n",
      "A\n",
      "n=1: (0, 1, 2, 3) A1\n",
      "n=2: (2, 2, 2, 2) A2\n",
      "sum= (2, 3, 4, 5) A1+A2\n",
      "\n",
      "A + Z\n",
      "n=1: (0, 1, 2, 3) A1+0\n",
      "n=2: (2, 2, 2, 2) A2+0\n",
      "sum= (2, 3, 4, 5) A1+0+A2+0\n",
      "\n",
      "A = A + Z? True\n"
     ]
    }
   ],
   "source": [
    "print(\"4. An additive identity series zero exists\")\n",
    "A.print_states(\"A\", 1)\n",
    "A.add(Z).print_states(\"A + Z\", 1)\n",
    "print(\"A = A + Z?\", A.equals(A.add(Z)))"
   ]
  },
  {
   "cell_type": "code",
   "execution_count": 13,
   "metadata": {},
   "outputs": [
    {
     "name": "stdout",
     "output_type": "stream",
     "text": [
      "5. An additive inverse exists, A + (-A) = 0\n",
      "-A\n",
      "n=1: (0, -1, -2, -3) -A1\n",
      "n=2: (-2, -2, -2, -2) -A2\n",
      "sum= (-2, -3, -4, -5) -A1+-A2\n",
      "\n",
      "A + (-A)\n",
      "n=1: (0, 0, 0, 0) A1+-A1\n",
      "n=2: (0, 0, 0, 0) A2+-A2\n",
      "sum= (0, 0, 0, 0) A1+-A1+A2+-A2\n"
     ]
    }
   ],
   "source": [
    "print(\"5. An additive inverse exists, A + (-A) = 0\")\n",
    "A.flip_signs().print_states(\"-A\", 1)\n",
    "A.add(A.flip_signs()).print_states(\"A + (-A)\")"
   ]
  },
  {
   "cell_type": "code",
   "execution_count": 14,
   "metadata": {},
   "outputs": [
    {
     "name": "stdout",
     "output_type": "stream",
     "text": [
      "6. A number times a ket produces a new ket, q|A> = |New>\n",
      "q\n",
      "n=1: (4, 3, 2, 1) q\n",
      "sum= (4, 3, 2, 1) q\n",
      "\n",
      "q|A> = |New>\n",
      "n=1: (-10, 8, 0, 16) qxA1+0xA2\n",
      "n=2: (-4, 16, 8, 12) 0xA1+qxA2\n",
      "sum= (-14, 24, 8, 28) qxA1+0xA2+0xA1+qxA2\n"
     ]
    }
   ],
   "source": [
    "print(\"6. A number times a ket produces a new ket, q|A> = |New>\")\n",
    "q = qt.QHStates([qt.QH([4, 3, 2, 1], qtype=\"q\")])\n",
    "q.print_states(\"q\", 1)\n",
    "A.product(\"ket\", operator=q).print_states(\"q|A> = |New>\")"
   ]
  },
  {
   "cell_type": "markdown",
   "metadata": {},
   "source": [
    "What is going on with the *product()* function? The product function can treat the quaternion series as either a bra or a ket. An operator acts on the ket. If the state dimension of the ket is one, then it creates a diagonal series that is the square of the state dimensions of ket. The ket has 2 state dimensions, so the operator has 4 state dimensions. The zeros of the diagonalized operator appear in the qtype."
   ]
  },
  {
   "cell_type": "code",
   "execution_count": 15,
   "metadata": {},
   "outputs": [
    {
     "name": "stdout",
     "output_type": "stream",
     "text": [
      "7a. Distributive property, q(|A> + |B>) = q|A> + q|B>\n",
      "q(|A> + |B>)\n",
      "n=1: (-8, 0, -4, 10) qxA1+B1+0xA2+B2\n",
      "n=2: (8, -6, 4, -22) 0xA1+B1+qxA2+B2\n",
      "sum= (0, -6, 0, -12) qxA1+B1+0xA2+B2+0xA1+B1+qxA2+B2\n",
      "\n",
      "q|A> + q|B>\n",
      "n=1: (-8, 0, -4, 10) qxA1+0xA2+qxB1+0xB2\n",
      "n=2: (8, -6, 4, -22) 0xA1+qxA2+0xB1+qxB2\n",
      "sum= (0, -6, 0, -12) qxA1+0xA2+qxB1+0xB2+0xA1+qxA2+0xB1+qxB2\n",
      "\n",
      "q(|A> + |B>) = q|A> + q|B>?  True\n"
     ]
    }
   ],
   "source": [
    "print(\"7a. Distributive property, q(|A> + |B>) = q|A> + q|B>\")\n",
    "qAB = A.add(B).product(\"ket\", operator=q)\n",
    "qAB.print_states(\"q(|A> + |B>)\", 1)\n",
    "qAqB = A.product(\"ket\", operator=q).add(B.product(\"ket\", operator=q))\n",
    "qAqB.print_states(\"q|A> + q|B>\", 1)\n",
    "print(\"q(|A> + |B>) = q|A> + q|B>? \", qAB.equals(qAqB))"
   ]
  },
  {
   "cell_type": "code",
   "execution_count": 16,
   "metadata": {},
   "outputs": [
    {
     "name": "stdout",
     "output_type": "stream",
     "text": [
      "7b. Distributive property, (q + w)|A> = q|A> + w|A>\n",
      "(q + w)|A>)\n",
      "n=1: (-311, -188, 105, 16) q+QxA1+0xA2\n",
      "n=2: (-202, -182, 214, 210) 0xA1+q+QxA2\n",
      "sum= (-513, -370, 319, 226) q+QxA1+0xA2+0xA1+q+QxA2\n",
      "\n",
      "q|A> + w|A>\n",
      "n=1: (-311, -188, 105, 16) qxA1+0xA2+QxA1+0xA2\n",
      "n=2: (-202, -182, 214, 210) 0xA1+qxA2+0xA1+QxA2\n",
      "sum= (-513, -370, 319, 226) qxA1+0xA2+QxA1+0xA2+0xA1+qxA2+0xA1+QxA2\n",
      "\n",
      "(q + w)|A> = q|A> + w|A>?  True\n"
     ]
    }
   ],
   "source": [
    "w = qt.QHStates([qt.QH([1, -1, 1, 100])])\n",
    "print(\"7b. Distributive property, (q + w)|A> = q|A> + w|A>\")\n",
    "qwA = A.product(\"ket\", operator=q.add(w))\n",
    "qwA.print_states(\"(q + w)|A>)\", 1)\n",
    "qAwA = A.product(\"ket\", operator=q).add(A.product(\"ket\", operator=w))\n",
    "qAwA.print_states(\"q|A> + w|A>\", 1)\n",
    "print(\"(q + w)|A> = q|A> + w|A>? \", qwA.equals(qAwA))"
   ]
  },
  {
   "cell_type": "markdown",
   "metadata": {},
   "source": [
    "Thus 7 basic properties of state vectors can be replicated using quaternion series. I could say there was an equivalence relationship between the two. That does not mean they are exactly the same in all detail, but that for the operations done so far, both approaches are equivalent."
   ]
  },
  {
   "cell_type": "markdown",
   "metadata": {},
   "source": [
    "![](images/chapter_1/101.30.1.50.jpg)"
   ]
  },
  {
   "cell_type": "markdown",
   "metadata": {},
   "source": [
    "The world of rows and columns does not port to quaternion series. All series are just that: series. Even operators are quaternion series which have relations based on state dimensions. The conjugate of a series can be calculated, and is a very useful thing."
   ]
  },
  {
   "cell_type": "code",
   "execution_count": 17,
   "metadata": {},
   "outputs": [
    {
     "name": "stdout",
     "output_type": "stream",
     "text": [
      "A*\n",
      "n=1: (0, -1, -2, -3) A1*\n",
      "n=2: (2, -2, -2, -2) A2*\n",
      "sum= (2, -3, -4, -5) A1*+A2*\n"
     ]
    }
   ],
   "source": [
    "A.conj().print_states(\"A*\")"
   ]
  },
  {
   "cell_type": "markdown",
   "metadata": {},
   "source": [
    "The signal that one is doing a calculation in quantum mechanics may just be the use of mirrors via the conjugate operator. No wonder the subject is such a struggle to understand!"
   ]
  },
  {
   "cell_type": "markdown",
   "metadata": {},
   "source": [
    "## Conjugates as Magic Mirrors"
   ]
  },
  {
   "cell_type": "markdown",
   "metadata": {},
   "source": [
    "![](images/chapter_1/101.29.2.50.jpg)"
   ]
  },
  {
   "cell_type": "markdown",
   "metadata": {},
   "source": [
    "Let's first figure out what exactly is meant by \"bra corresponding to [a ket] using complex numbers."
   ]
  },
  {
   "cell_type": "code",
   "execution_count": 18,
   "metadata": {},
   "outputs": [
    {
     "name": "stdout",
     "output_type": "stream",
     "text": [
      "z|A> ? <A|z*\n",
      "zA\n",
      "n=1: (-5, 5, 0, 0) 13ixA1i+0xA2i\n",
      "n=2: (-9, 13, 0, 0) 0xA1i+13ixA2i\n",
      "sum= (-14, 18, 0, 0) 13ixA1i+0xA2i+0xA1i+13ixA2i\n",
      "\n",
      "Az*\n",
      "n=1: (-5, -5, 0, 0) A1i*x13i*+A2i*x0\n",
      "n=2: (-9, -13, 0, 0) A1i*x0+A2i*x13i*\n",
      "sum= (-14, -18, 0, 0) A1i*x13i*+A2i*x0+A1i*x0+A2i*x13i*\n"
     ]
    }
   ],
   "source": [
    "print(\"z|A> ? <A|z*\")\n",
    "Ac = qt.QHStates([qt.QH([1,2,0,0], qtype=\"A1i\"), qt.QH([3,4,0,0], qtype=\"A2i\")])\n",
    "i3 = qt.QHStates([qt.QH([1,3,0,0], qtype=\"13i\")])\n",
    "zA = Ac.product(\"ket\", operator=i3)\n",
    "zA.print_states(\"zA\", 1)\n",
    "Azc = Ac.conj().product(\"bra\", operator=i3.conj())\n",
    "Azc.print_states(\"Az*\")"
   ]
  },
  {
   "cell_type": "markdown",
   "metadata": {},
   "source": [
    "The \"correspondence\" is that the two need one more conjugate operation to be equal, like so:"
   ]
  },
  {
   "cell_type": "code",
   "execution_count": 19,
   "metadata": {},
   "outputs": [
    {
     "name": "stdout",
     "output_type": "stream",
     "text": [
      "z|A> = (<A|z*)* ? True\n"
     ]
    }
   ],
   "source": [
    "print(\"z|A> = (<A|z*)* ?\", zA.equals(Azc.conj()))"
   ]
  },
  {
   "cell_type": "markdown",
   "metadata": {},
   "source": [
    "Now lets do this more precise definition of the relationship for quaternions."
   ]
  },
  {
   "cell_type": "code",
   "execution_count": 20,
   "metadata": {},
   "outputs": [
    {
     "name": "stdout",
     "output_type": "stream",
     "text": [
      "q|A>\n",
      "n=1: (-10, 8, 0, 16) qxA1+0xA2\n",
      "n=2: (-4, 16, 8, 12) 0xA1+qxA2\n",
      "sum= (-14, 24, 8, 28) qxA1+0xA2+0xA1+qxA2\n",
      "\n",
      "<A|q*\n",
      "n=1: (-10, -8, 0, -16) A1*xq*+A2*x0\n",
      "n=2: (-4, -16, -8, -12) A1*x0+A2*xq*\n",
      "sum= (-14, -24, -8, -28) A1*xq*+A2*x0+A1*x0+A2*xq*\n",
      "\n",
      "q|A> = (<A|q*)* ? True\n"
     ]
    }
   ],
   "source": [
    "qA = A.product(\"ket\", operator=q)\n",
    "qA.print_states(\"q|A>\", 1)\n",
    "Aqc = A.conj().product(\"bra\", operator=q.conj())\n",
    "Aqc.print_states(\"<A|q*\", 1)\n",
    "print(\"q|A> = (<A|q*)* ?\", qA.equals(Aqc.conj()))"
   ]
  },
  {
   "cell_type": "markdown",
   "metadata": {},
   "source": [
    "This result surprised me. There are three conjugate operators involved. Any quaternion product can be though of as the sum of an even or commuting product and an odd or anti-commuting product:"
   ]
  },
  {
   "cell_type": "markdown",
   "metadata": {},
   "source": [
    "$$\\rm{Even}(A, B) = (AB + BA)/2 $$\n",
    "$$\\rm{Odd}(A, B) = (AB - BA)/2 $$"
   ]
  },
  {
   "cell_type": "markdown",
   "metadata": {},
   "source": [
    "When the order of two quaternions is changed, then the product is the *difference* between the even and odd products. In this calculation, not only was the order changed, but one of the terms got conjugated. The conjugate on $A$ times the conjugate on $q$ means the even product flips signs but the odd product does not. Now hit that result with one more conjugate operator. The event product is positive, but the odd is negative, so it will be the difference between the even and odd products. I cannot make the story of three mirrors working together any easier than that."
   ]
  },
  {
   "cell_type": "markdown",
   "metadata": {},
   "source": [
    "![](images/chapter_1/101.30.3.50.jpg)"
   ]
  },
  {
   "cell_type": "markdown",
   "metadata": {},
   "source": [
    "This calculation should feel similar to the one done with ket's. The bra is just a different series that gets conjugated. "
   ]
  },
  {
   "cell_type": "code",
   "execution_count": 21,
   "metadata": {},
   "outputs": [
    {
     "name": "stdout",
     "output_type": "stream",
     "text": [
      "1. linear inner product, <C|(|A> + |B>) = <C|A> + <C|B>\n",
      "<C|(|A> + |B>)\n",
      "n=1: (8, 4, 0, 4) C1*xA1+B1\n",
      "n=2: (40, 20, 0, 0) C2*xA2+B2\n",
      "sum= (48, 24, 0, 4) C1*xA1+B1+C2*xA2+B2\n",
      "\n",
      "<C|A> + <C|B>\n",
      "n=1: (8, 4, 0, 4) C1*xA1+C1*xB1\n",
      "n=2: (40, 20, 0, 0) C2*xA2+C2*xB2\n",
      "sum= (48, 24, 0, 4) C1*xA1+C1*xB1+C2*xA2+C2*xB2\n",
      "\n",
      "<C|(|A> + |B>) = <C|A> + <C|B>?  True\n"
     ]
    }
   ],
   "source": [
    "print(\"1. linear inner product, <C|(|A> + |B>) = <C|A> + <C|B>\")\n",
    "CAB = C.Euclidean_product(\"bra\", ket=A.add(B))\n",
    "CAB.print_states(\"<C|(|A> + |B>)\", 1)\n",
    "CABA = C.Euclidean_product(\"bra\", ket=A).add(C.Euclidean_product(\"bra\", ket=B))\n",
    "CABA.print_states(\"<C|A> + <C|B>\", 1)\n",
    "print(\"<C|(|A> + |B>) = <C|A> + <C|B>? \", CAB.equals(CABA))"
   ]
  },
  {
   "cell_type": "markdown",
   "metadata": {},
   "source": [
    "![](images/chapter_1/101.31.1v2.50.jpg)"
   ]
  },
  {
   "cell_type": "markdown",
   "metadata": {},
   "source": [
    "Quaternions do not commute, but mirrors can sometimes manage the situation."
   ]
  },
  {
   "cell_type": "code",
   "execution_count": 22,
   "metadata": {},
   "outputs": [
    {
     "name": "stdout",
     "output_type": "stream",
     "text": [
      "2. For inner product, change order AND conjugate, <B|A> = <A|B>*\n",
      "<B|A>\n",
      "n=1: (-6, 0, -4, -2) B1*xA1\n",
      "n=2: (-28, -4, 12, 4) B2*xA2\n",
      "sum= (-34, -4, 8, 2) B1*xA1+B2*xA2\n",
      "\n",
      "<A|B>*\n",
      "n=1: (-6, 0, -4, -2) A1*xB1*\n",
      "n=2: (-28, -4, 12, 4) A2*xB2*\n",
      "sum= (-34, -4, 8, 2) A1*xB1*+A2*xB2*\n",
      "\n",
      "<B|A> = <A|B>* ? True\n"
     ]
    }
   ],
   "source": [
    "print(\"2. For inner product, change order AND conjugate, <B|A> = <A|B>*\")\n",
    "BdotA = B.Euclidean_product(\"bra\", ket=A)\n",
    "BdotA.print_states(\"<B|A>\", 1)\n",
    "AdotBc = A.Euclidean_product(\"bra\", ket=B).conj()\n",
    "AdotBc.print_states(\"<A|B>*\", 1)\n",
    "print(\"<B|A> = <A|B>* ?\", BdotA.equals(AdotBc))"
   ]
  },
  {
   "cell_type": "markdown",
   "metadata": {},
   "source": [
    "All trained in quantum mechanics know this is true for complex numbers, but it is a minor surprise that the same holds for quaternions without alteration."
   ]
  },
  {
   "cell_type": "markdown",
   "metadata": {},
   "source": [
    "![](images/chapter_1/101.31.2v2.50.jpg)"
   ]
  },
  {
   "cell_type": "markdown",
   "metadata": {},
   "source": [
    "Prove a variation on the linearity of inner products."
   ]
  },
  {
   "cell_type": "code",
   "execution_count": 23,
   "metadata": {},
   "outputs": [
    {
     "name": "stdout",
     "output_type": "stream",
     "text": [
      "Exercise 1.1: A) linear inner products, (<A| + <B|)|C> = <A|C> + <B|C>\n",
      "(<A| + <B|)|C>\n",
      "n=1: (8, -4, 0, -4) A1+B1*xC1\n",
      "n=2: (40, -20, 0, 0) A2+B2*xC2\n",
      "sum= (48, -24, 0, -4) A1+B1*xC1+A2+B2*xC2\n",
      "\n",
      "<A|C> + <B|C>\n",
      "n=1: (8, -4, 0, -4) A1*xC1+B1*xC1\n",
      "n=2: (40, -20, 0, 0) A2*xC2+B2*xC2\n",
      "sum= (48, -24, 0, -4) A1*xC1+B1*xC1+A2*xC2+B2*xC2\n",
      "\n",
      "<C|(|A> + |B>) = <C|A> + <C|B>?  True\n"
     ]
    }
   ],
   "source": [
    "print(\"Exercise 1.1: A) linear inner products, (<A| + <B|)|C> = <A|C> + <B|C>\")\n",
    "ABC = A.add(B).Euclidean_product(\"bra\", ket=C)\n",
    "ABC.print_states(\"(<A| + <B|)|C>\", 1)\n",
    "ACBC = A.Euclidean_product(\"bra\", ket=C).add(B.Euclidean_product(\"bra\", ket=C))\n",
    "ACBC.print_states(\"<A|C> + <B|C>\", 1)\n",
    "print(\"<C|(|A> + |B>) = <C|A> + <C|B>? \", CAB.equals(CABA))"
   ]
  },
  {
   "cell_type": "markdown",
   "metadata": {},
   "source": [
    "Let's show that the inner self-products of A, B, and C evaluate to real numbers."
   ]
  },
  {
   "cell_type": "code",
   "execution_count": 24,
   "metadata": {},
   "outputs": [
    {
     "name": "stdout",
     "output_type": "stream",
     "text": [
      "<A|A>\n",
      "n=1: (14, 0, 0, 0) A1*xA1\n",
      "n=2: (16, 0, 0, 0) A2*xA2\n",
      "sum= (30, 0, 0, 0) A1*xA1+A2*xA2\n",
      "\n",
      "<B|B>\n",
      "n=1: (4, 0, 0, 0) B1*xB1\n",
      "n=2: (60, 0, 0, 0) B2*xB2\n",
      "sum= (64, 0, 0, 0) B1*xB1+B2*xB2\n",
      "\n",
      "<C|C>\n",
      "n=1: (16, 0, 0, 0) C1*xC1\n",
      "n=2: (100, 0, 0, 0) C2*xC2\n",
      "sum= (116, 0, 0, 0) C1*xC1+C2*xC2\n"
     ]
    }
   ],
   "source": [
    "A.Euclidean_product(\"bra\", ket=A).print_states(\"<A|A>\", 1)\n",
    "B.Euclidean_product(\"bra\", ket=B).print_states(\"<B|B>\", 1)\n",
    "C.Euclidean_product(\"bra\", ket=C).print_states(\"<C|C>\")"
   ]
  },
  {
   "cell_type": "markdown",
   "metadata": {},
   "source": [
    "![](images/chapter_1/101.31.2.50.jpg)"
   ]
  },
  {
   "cell_type": "markdown",
   "metadata": {},
   "source": [
    "That is what is going on."
   ]
  },
  {
   "cell_type": "code",
   "execution_count": 25,
   "metadata": {},
   "outputs": [
    {
     "name": "stdout",
     "output_type": "stream",
     "text": [
      "<B5|A5>\n",
      "n=1: (0, 0, 0, 0) 0*x1\n",
      "n=2: (1, 0, 0, 0) 1*x1\n",
      "n=3: (0, -1, 0, 0) i*x1\n",
      "n=4: (0, 0, -1, 0) j*x1\n",
      "n=5: (0, 0, 0, -1) k*x1\n",
      "sum= (1, -1, -1, -1) 0*x1+1*x1+i*x1+j*x1+k*x1\n"
     ]
    }
   ],
   "source": [
    "q_0 = qt.QH().q_0()\n",
    "q_1 = qt.QH().q_1()\n",
    "q_i = qt.QH().q_i()\n",
    "q_j = qt.QH().q_j()\n",
    "q_k = qt.QH().q_k()\n",
    "\n",
    "B5 = qt.QHStates([q_0, q_1, q_i, q_j, q_k])\n",
    "A5 = qt.QHStates([q_1, q_1, q_1, q_1, q_1])\n",
    "B5.Euclidean_product(\"bra\", ket=A5).print_states(\"<B5|A5>\")"
   ]
  },
  {
   "cell_type": "markdown",
   "metadata": {},
   "source": [
    "![](images/chapter_1/101.32.2.50.jpg)"
   ]
  },
  {
   "cell_type": "markdown",
   "metadata": {},
   "source": [
    "Let's build two quaternion series that are orthogonal. Use only states that are multiplies of i. If we have 4 state dimensions, and half are positive i while the other a minuses, that should cancel out. Here's what I mean:"
   ]
  },
  {
   "cell_type": "code",
   "execution_count": 26,
   "metadata": {},
   "outputs": [
    {
     "name": "stdout",
     "output_type": "stream",
     "text": [
      "<Ai|Ai>\n",
      "n=1: (1, 0, 0, 0) i*xi\n",
      "n=2: (1, 0, 0, 0) i*xi\n",
      "n=3: (1, 0, 0, 0) i*xi\n",
      "n=4: (1, 0, 0, 0) i*xi\n",
      "sum= (4, 0, 0, 0) i*xi+i*xi+i*xi+i*xi\n",
      "\n",
      "<Bi|Bi>\n",
      "n=1: (1, 0, 0, 0) i*xi\n",
      "n=2: (1, 0, 0, 0) i**xi*\n",
      "n=3: (1, 0, 0, 0) i*xi\n",
      "n=4: (1, 0, 0, 0) i**xi*\n",
      "sum= (4, 0, 0, 0) i*xi+i**xi*+i*xi+i**xi*\n",
      "\n",
      "<Bi|Ai>\n",
      "n=1: (1, 0, 0, 0) i*xi\n",
      "n=2: (-1, 0, 0, 0) i**xi\n",
      "n=3: (1, 0, 0, 0) i*xi\n",
      "n=4: (-1, 0, 0, 0) i**xi\n",
      "sum= (0, 0, 0, 0) i*xi+i**xi+i*xi+i**xi\n"
     ]
    }
   ],
   "source": [
    "Ai = qt.QHStates([q_i, q_i, q_i, q_i])\n",
    "Bi = qt.QHStates([q_i, q_i.conj(), q_i, q_i.conj()])\n",
    "Ai.Euclidean_product(\"bra\", ket=Ai).print_states(\"<Ai|Ai>\", 1)\n",
    "Bi.Euclidean_product(\"bra\", ket=Bi).print_states(\"<Bi|Bi>\", 1)\n",
    "Bi.Euclidean_product(\"bra\", ket=Ai).print_states(\"<Bi|Ai>\")"
   ]
  },
  {
   "cell_type": "markdown",
   "metadata": {},
   "source": [
    "None of the elements in the series are equal to zero, but the sum of the series is zero. There should be about an infinite number of ways to make orthogonal states, give or take."
   ]
  },
  {
   "cell_type": "markdown",
   "metadata": {},
   "source": [
    "![](images/chapter_1/101.34.1.50.jpg)"
   ]
  },
  {
   "cell_type": "markdown",
   "metadata": {},
   "source": [
    "The complex numbers $\\alpha_i$ have to be made into a diagonal quaternion series so the end result of it acting on the basis series is correct."
   ]
  },
  {
   "cell_type": "code",
   "execution_count": 27,
   "metadata": {},
   "outputs": [
    {
     "name": "stdout",
     "output_type": "stream",
     "text": [
      "αi\n",
      "n=1: (1, 1, 0, 0) Q\n",
      "n=2: (0, 0, 0, 0) 0\n",
      "n=3: (0, 0, 0, 0) 0\n",
      "n=4: (0, 0, 0, 0) 0\n",
      "n=5: (0, 0, 0, 0) 0\n",
      "n=6: (2, 0, 2, 0) Q\n",
      "n=7: (0, 0, 0, 0) 0\n",
      "n=8: (0, 0, 0, 0) 0\n",
      "n=9: (0, 0, 0, 0) 0\n",
      "n=10: (0, 0, 0, 0) 0\n",
      "n=11: (3, 1, 3, 0) Q\n",
      "n=12: (0, 0, 0, 0) 0\n",
      "n=13: (0, 0, 0, 0) 0\n",
      "n=14: (0, 0, 0, 0) 0\n",
      "n=15: (0, 0, 0, 0) 0\n",
      "n=16: (4, 0, 0, 4) Q\n",
      "sum= (10, 2, 5, 4) Q+0+0+0+0+Q+0+0+0+0+Q+0+0+0+0+Q\n",
      "\n",
      "|A> = Sum αi|Ai>\n",
      "n=1: (-1, 1, 0, 0) Qxi+0xi+0xi+0xi\n",
      "n=2: (0, 2, 0, -2) 0xi+Qxi+0xi+0xi\n",
      "n=3: (-1, 3, 0, -3) 0xi+0xi+Qxi+0xi\n",
      "n=4: (0, 4, 4, 0) 0xi+0xi+0xi+Qxi\n",
      "sum= (-2, 10, 4, -5) Qxi+0xi+0xi+0xi+0xi+Qxi+0xi+0xi+0xi+0xi+Qxi+0xi+0xi+0xi+0xi+Qxi\n"
     ]
    }
   ],
   "source": [
    "αi = qt.QHStates([qt.QH([1,1,0,0]),qt.QH([2,0,2,0]),qt.QH([3,1,3,0]),qt.QH([4,0,0,4])]).diagonal(4)\n",
    "αi.print_states(\"αi\", 1)\n",
    "Ai.product(\"ket\", operator=αi).print_states(\"|A> = Sum αi|Ai>\")"
   ]
  },
  {
   "cell_type": "markdown",
   "metadata": {},
   "source": [
    "Good, now just take Euclidean product with <j|."
   ]
  },
  {
   "cell_type": "code",
   "execution_count": 28,
   "metadata": {},
   "outputs": [
    {
     "name": "stdout",
     "output_type": "stream",
     "text": [
      "<j|A>\n",
      "n=1: (1, 1, 0, 0) i*xQxi+0xi+0xi+0xi\n",
      "n=2: (-2, 0, 2, 0) i**x0xi+Qxi+0xi+0xi\n",
      "n=3: (3, 1, -3, 0) i*x0xi+0xi+Qxi+0xi\n",
      "n=4: (-4, 0, 0, 4) i**x0xi+0xi+0xi+Qxi\n",
      "sum= (-2, 2, -1, 4) i*xQxi+0xi+0xi+0xi+i**x0xi+Qxi+0xi+0xi+i*x0xi+0xi+Qxi+0xi+i**x0xi+0xi+0xi+Qxi\n"
     ]
    }
   ],
   "source": [
    "Ai.Euclidean_product(\"ket\", bra=Bi, operator=αi).print_states(\"<j|A>\")"
   ]
  },
  {
   "cell_type": "markdown",
   "metadata": {},
   "source": [
    "I don't think there is much meaning to this calculation. It does show the machinery is in place to do more."
   ]
  },
  {
   "cell_type": "markdown",
   "metadata": {},
   "source": [
    "![](images/chapter_1/101.34.2.50.jpg)"
   ]
  },
  {
   "cell_type": "markdown",
   "metadata": {},
   "source": [
    "The only way this can be is if $|i><i|=1$. We already know $<i|i>=1$. All that has to be done is to change the order, yet they point in the same direction, so changing the order doesn't change a thing. "
   ]
  }
 ],
 "metadata": {
  "kernelspec": {
   "display_name": "Python 3",
   "language": "python",
   "name": "python3"
  },
  "language_info": {
   "codemirror_mode": {
    "name": "ipython",
    "version": 3
   },
   "file_extension": ".py",
   "mimetype": "text/x-python",
   "name": "python",
   "nbconvert_exporter": "python",
   "pygments_lexer": "ipython3",
   "version": "3.5.1"
  }
 },
 "nbformat": 4,
 "nbformat_minor": 2
}
