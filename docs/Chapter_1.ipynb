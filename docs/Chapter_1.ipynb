{
 "cells": [
  {
   "cell_type": "markdown",
   "metadata": {},
   "source": [
    "# Lecture 1: Systems and Experiments Using Quaternion Series"
   ]
  },
  {
   "cell_type": "markdown",
   "metadata": {},
   "source": [
    "by Doug Sweetser, email to sweetser@alum.mit.edu"
   ]
  },
  {
   "cell_type": "markdown",
   "metadata": {},
   "source": [
    "**The quaternion series for quantum mechanics hypthesis**\n",
    "\n",
    "This notebook is being created as a companion to the book \"Quantum Mechanics: the Theoretical Minimum\" by Susskind and Friedman (QM:TTM for short). Those authors of course never use quaternions as they are a bit player in the crowded field of mathematical tools. Nature has used one accounting system since the beginning of space-time, so I will be a jerk in the name of consistency. This leads to a different perspective on what makes an equation quantum mechanical. If a conjugate operator is used, then the expression is about quantum mechanics. It is odd to have such a brief assertion given the complexity of the subject, but that make the hypothesis fun - and testable by seeing if anything in the book cannot be done with quaternions and their conjugates. Import the tools to work with quaternions in this notebook."
   ]
  },
  {
   "cell_type": "code",
   "execution_count": 1,
   "metadata": {},
   "outputs": [],
   "source": [
    "%%capture\n",
    "%matplotlib inline\n",
    "import numpy as np\n",
    "import sympy as sp\n",
    "import matplotlib.pyplot as plt\n",
    "\n",
    "# To get equations the look like, well, equations, use the following.\n",
    "from sympy.interactive import printing\n",
    "printing.init_printing(use_latex=True)\n",
    "from IPython.display import display\n",
    "\n",
    "# Tools for manipulating quaternions.\n",
    "import Q_tools as qt;"
   ]
  },
  {
   "cell_type": "markdown",
   "metadata": {},
   "source": [
    "![](images/chapter_1/101.02.1.50.jpg)"
   ]
  },
  {
   "cell_type": "markdown",
   "metadata": {},
   "source": [
    "I have a vivid memory of learning how to take statements in logic and converting them to simple algebra problems with zero for false and one for true. The converse applies here: by changing the algebra used for all calculations, a consequence is that the logic of quantum mechanics is different from classical physics. "
   ]
  },
  {
   "cell_type": "markdown",
   "metadata": {},
   "source": [
    "![](images/chapter_1/101.02.2.50.jpg)"
   ]
  },
  {
   "cell_type": "markdown",
   "metadata": {},
   "source": [
    "In \"Dreams of a Final Theory\" by Steven Weinberg, he views quantum physics as a far deeper subject than classical physics. When classical physics is a ball rolling down an inclined plane, it is simple to do. But a piano with all its modes of vibrations of some two hundred strings is not simple. I bring up this note of caution because in my hands anyway, the tools of quantum mechanics will flow through functions that apply to classical physics. The tools sets are classical and quantum physics are distinct and subtly different."
   ]
  },
  {
   "cell_type": "markdown",
   "metadata": {},
   "source": [
    "![](images/chapter_1/101.03.1.50.jpg)"
   ]
  },
  {
   "cell_type": "markdown",
   "metadata": {},
   "source": [
    "This is a sensible caution, but I dream of a day when spin can really be visualized. On that day we can see how they are different and yet related."
   ]
  },
  {
   "cell_type": "markdown",
   "metadata": {},
   "source": [
    "![](images/chapter_1/101.20.1.50.jpg)"
   ]
  },
  {
   "cell_type": "markdown",
   "metadata": {},
   "source": [
    "I remember a lecture in a first year quantum mechanics class where the professor derived the uncertainty principle as an outcome of properties of complex numbers. I suspect that every measurable quantity has a conjugate variable, and with that particular variable, the uncertainty principle applies to the pair. It would be odd if there were an exception."
   ]
  },
  {
   "cell_type": "markdown",
   "metadata": {},
   "source": [
    "![](images/chapter_1/101.21.1.50.jpg)"
   ]
  },
  {
   "cell_type": "markdown",
   "metadata": {},
   "source": [
    "Our way of visualizing a ball - it is there going so fast - must therefore not apply to quantum mechanics. "
   ]
  },
  {
   "cell_type": "markdown",
   "metadata": {},
   "source": [
    "![](images/chapter_1/101.22.1.50.jpg)"
   ]
  },
  {
   "cell_type": "markdown",
   "metadata": {},
   "source": [
    "Here is my first substantive disagreement, not so much with Susskind as with the traditional explanation as created in the early 1800s by C. Wessel and Argand. This graph can be written in books, published, and studied. It is both useful and good. The common complaint is that there appears to be no difference between the real axis and the imaginary one. Consider the following experiment. Someone draws a point in the complex plane and does either a reflection over the real or imaginary axis. They cover up the label for both axes. In this math thought experiment, there would be no way to distinguish if the reflection had been over the real or the imaginary axis. To an experimental mathematician, this means there is a problem with the definition of real versus imaginary numbers. Most mathematicians project a faith in define logical precision, so if something is define precisely and the logic work, there is no need for discussion and no wrong.\n",
    "\n",
    "Space-time physics declares a definition that will work for the nearly extinct bird known as an experimental mathematician. If in the plane one axis is just like the other at 90 degrees, so to is the axis 90 degrees to both of those pointing out of the page. Then imaginary number are for space. What sort of axis would be so orthogonal to these three that they cannot be drawn on the same page? That would be time. Time can be represented with an animation. Consider a baseball hit from home plate-now that lands in right field-future."
   ]
  },
  {
   "cell_type": "markdown",
   "metadata": {},
   "source": [
    "![simple.gif](images/chapter_1/baseball_animations/simple.gif)"
   ]
  },
  {
   "cell_type": "markdown",
   "metadata": {},
   "source": [
    "The ball starts at here-now, $(0, 0, 0, 0)$. Time is treated as the real number, while the planar graph has the imaginary values of $x i$ and $y j$. I hyphenate space-time and their verbal variations, like the ball landing in right field-future.\n",
    "\n",
    "What does a spatial reflection of that baseball look like using a mirror at home plate? There would now be two balls. The distance covered by both balls would be twice the distance but the time would be the same."
   ]
  },
  {
   "cell_type": "markdown",
   "metadata": {},
   "source": [
    "![simple.gif](images/chapter_1/baseball_animations/space.gif)"
   ]
  },
  {
   "cell_type": "markdown",
   "metadata": {},
   "source": [
    "The ball goes from home plate-now to right field-future and left field-future. It takes the same amount of time but twice the distance. The opposite situation happens for time reflection."
   ]
  },
  {
   "cell_type": "markdown",
   "metadata": {},
   "source": [
    "![time reflection](images/chapter_1/baseball_animations/time.gif)"
   ]
  },
  {
   "cell_type": "markdown",
   "metadata": {},
   "source": [
    "The ball goes from right field-past to home plate-now out to right field-future. As with all these looping animations, there is a cyclic boundary condition, a fancy way of saying these animations all repeat.\n",
    "\n",
    "There is one last reflection possibility: what if there is a reflection in both space and time?"
   ]
  },
  {
   "cell_type": "markdown",
   "metadata": {},
   "source": [
    "![space-time reflection](images/chapter_1/baseball_animations/space-time.gif)"
   ]
  },
  {
   "cell_type": "markdown",
   "metadata": {},
   "source": [
    "The ball starts in left field-past, gets to home plate-now, then continues to right field-future. The two reflections take twice the distance and time as the starting hit to the outfield."
   ]
  },
  {
   "cell_type": "markdown",
   "metadata": {},
   "source": [
    "As animations, the reflection in the real number, time, are distinct from the reflections in imaginary numbers, space, and are visually distinct from the combination. Analytic quaternion animations can be used to describe real world things like the flight of a baseball. **Space is orthogonal to time**. We draw in space but animate in time. As such, what is drawn in space is separate from how we then construct an animation from the drawings."
   ]
  },
  {
   "cell_type": "markdown",
   "metadata": {},
   "source": [
    "![](images/chapter_1/101.23.1.50.jpg)"
   ]
  },
  {
   "cell_type": "markdown",
   "metadata": {},
   "source": [
    "Susskind and Friedman are following the standard play book treating everything as part of a static plane - $r$, $x$, and $y$ are all used for distances. Let's try to shift the thinking to time $t$ for the reals, space $R$ for the imaginary numbers. For complex numbers, there is only one sort of factor of $i$. For quaternions, there is a 3-vector $i$ that can point in an infinite number of ways. For a set of quaternions that all point in the same direction or its opposite, every one of these rules applies as is."
   ]
  },
  {
   "cell_type": "markdown",
   "metadata": {},
   "source": [
    "The polar representation of a quaternion takes as input an amplitude and three \"angles\" which are ratios of distance to time, making them more like velocities than angles in a plane. These \"polar velocities\" can take any numerical value, making them different because velocities of material objects are limited to the speed of light. A math construction is more free.\n",
    "\n",
    "Here is a demonstration that the product of the polar representation of a quaternion multiplies the Amplitude (first numbers 2, 3, and 10) and adds the polar velocities (1, 1.5, and 0.5)."
   ]
  },
  {
   "cell_type": "code",
   "execution_count": 2,
   "metadata": {},
   "outputs": [
    {
     "name": "stdout",
     "output_type": "stream",
     "text": [
      "polar 1:  (2.0 A, 1.0 𝜈x, 0.0 𝜈y, 0.0 𝜈z) Q\n",
      "polar 2:  (3.0 A, 1.5 𝜈x, 0.0 𝜈y, 0.0 𝜈z) Q\n",
      "polar 3:  (10.0 A, 0.5 𝜈x, 0.0 𝜈y, 0.0 𝜈z) Q\n",
      "p1 * p2:  (6.0 A, 2.5 𝜈x, 0.0 𝜈y, 0.0 𝜈z) QxQ\n",
      "p1*p2*p3  (60.00000000000001 A, 3.0 𝜈x, 0.0 𝜈y, 0.0 𝜈z) QxQxQ\n"
     ]
    }
   ],
   "source": [
    "p1 = qt.QH([2, 1, 0, 0], representation=\"polar\")\n",
    "p2 = qt.QH([3, 1.5, 0, 0], representation=\"polar\")\n",
    "p3 = qt.QH([10, .5, 0, 0], representation=\"polar\")\n",
    "\n",
    "print(\"polar 1: \", p1)\n",
    "print(\"polar 2: \", p2)\n",
    "print(\"polar 3: \", p3)\n",
    "print(\"p1 * p2: \", p1.product(p2))\n",
    "print(\"p1*p2*p3 \", p1.product(p2).product(p3))"
   ]
  },
  {
   "cell_type": "markdown",
   "metadata": {},
   "source": [
    "The conjugate flips the signs of the polar velocity terms:"
   ]
  },
  {
   "cell_type": "code",
   "execution_count": 3,
   "metadata": {},
   "outputs": [
    {
     "name": "stdout",
     "output_type": "stream",
     "text": [
      "(2.0 A, -1.0 𝜈x, 0.0 𝜈y, 0.0 𝜈z) Q*\n"
     ]
    }
   ],
   "source": [
    "p4 = print(p1.conj())"
   ]
  },
  {
   "cell_type": "markdown",
   "metadata": {},
   "source": [
    "And if we have done things correction, the product of a polar with its conjugate is the square of the amplitude."
   ]
  },
  {
   "cell_type": "code",
   "execution_count": 4,
   "metadata": {},
   "outputs": [
    {
     "name": "stdout",
     "output_type": "stream",
     "text": [
      "(4.0 A, 0 𝜈x, 0 𝜈y, 0 𝜈z) Q*xQ\n",
      "(9.0 A, 0 𝜈x, 0 𝜈y, 0 𝜈z) Q*xQ\n",
      "(100.0 A, 0 𝜈x, 0 𝜈y, 0 𝜈z) Q*xQ\n"
     ]
    }
   ],
   "source": [
    "print(p1.conj().product(p1))\n",
    "print(p2.conj().product(p2))\n",
    "print(p3.conj().product(p3))"
   ]
  },
  {
   "cell_type": "markdown",
   "metadata": {},
   "source": [
    "So what happens when there is more than one polar velocity? Think like a mathematical physicist for a moment. One velocity is trivial - everything must point in the same direction. If one now gets two or three velocities in the mix, then one must deal with the confusion of spinning things. The norm does not change going from $2 i$ to $2 i + 3 j + 4k$, only the direction changes. Like all things that spin, the subject gets confusing, and is not germane to this chapter. When I see just a factor of $i$, I see folks working with a simpler case of physics."
   ]
  },
  {
   "cell_type": "markdown",
   "metadata": {},
   "source": [
    "![](images/chapter_1/101.23.2.50.jpg)"
   ]
  },
  {
   "cell_type": "markdown",
   "metadata": {},
   "source": [
    "The deeper math idea that is hinted at is that we are all taught about representing complex numbers on the manifold $\\mathbb{R}^2$. Much of complex analysis relies on working with complex numbers on the manifold $\\mathbb{C}^1$. Everything that can be done on the manifold $\\mathbb{R}^2$ can also be done on $\\mathbb{C}^1$ so long as one has both $z$ and $z^*$. When I learned this lesson, it immediately sounded like a problem for quaternions. This time there will be functions on $\\mathbb{R}^4$ that cannot be constructed using just $q$ and $q^*$. I considered this a show stopper - at least until I found a cute solution. I call them the first and second conjugates. Take a moment to calculate $(i q i)^*$ and $(j q j)^*$. You will see that those flip the signs on all the terms except the $i$ and $j$ respectively. So $q$, $q^*$, $q^{*1}$, and $q^{*2}$ are together enough on the quaternion manifold $\\mathbb{H}^1$ to cover all possible functions one can construct on $\\mathbb{R}^4$. Again, this digression is not germane to the case of just one imaginary factor. I point it out to say more than one can be handled, and it will be darn interesting to see how it plays out technically."
   ]
  },
  {
   "cell_type": "markdown",
   "metadata": {},
   "source": [
    "![](images/chapter_1/101.24.1.50.jpg)"
   ]
  },
  {
   "cell_type": "markdown",
   "metadata": {},
   "source": [
    "The two most important numbers to understand in mathematical physics are zero and one. The duo show up in every context, so their meaning varies by that context. For phase factor terms, just add them up."
   ]
  },
  {
   "cell_type": "code",
   "execution_count": 5,
   "metadata": {},
   "outputs": [
    {
     "name": "stdout",
     "output_type": "stream",
     "text": [
      "phase a:      (1.0 A, 0.5 𝜈x, 0.0 𝜈y, 0.0 𝜈z) Q\n",
      "phase a+a:    (1.0 A, 1.0 𝜈x, 0.0 𝜈y, 0.0 𝜈z) QxQ\n",
      "phase a+a+b:  (1.0 A, 1.9999999999999998 𝜈x, 0.0 𝜈y, 0.0 𝜈z) QxQxQ\n"
     ]
    }
   ],
   "source": [
    "phase_a = qt.QH([1, 0.5, 0, 0], representation=\"polar\")\n",
    "phase_b = qt.QH([1, 1, 0, 0], representation=\"polar\")\n",
    "print(\"phase a:     \", phase_a)\n",
    "print(\"phase a+a:   \", phase_a.product(phase_a))\n",
    "print(\"phase a+a+b: \", phase_a.product(phase_a).product(phase_b))"
   ]
  },
  {
   "cell_type": "markdown",
   "metadata": {},
   "source": [
    "Darn rounding errors. Anyway, you should get the point. When the amplitude is unity, the only thing of interest is the phase."
   ]
  },
  {
   "cell_type": "markdown",
   "metadata": {},
   "source": [
    "![](images/chapter_1/101.24.2.50.jpg)"
   ]
  },
  {
   "cell_type": "markdown",
   "metadata": {},
   "source": [
    "I am not going to say something is *wrong* in QM:TTM. I will contend **it is just not right enough**. Yup, the space of states is not a mathematical set. Agreed, 100%. A vector in a vector space can be added to another vector an multiplied by a scalar value. Agree, 100%. Yet I want to grant states more power and versatility than this two trick pony (addition, addition's inverse subtraction, and multiplication by a scalar). The additional power is to drop the \"by a scalar\" clause, and put it is place \"and multiplication's inverse division.\" At one level, it does not sound like a big deal. Take the number 6, we can write four expressions using the two operators and their inverses: $2 + 4 = 6$, $6 + (-4) = 2$, $2 * 3 = 6$, $6 * 3^{-1} = 2$. This is third grade math, so the demand is to be consistent with all that math learned long ago.\n",
    "\n",
    "On the other hand, this sounds like a huge pain. Quantum mechanics is constructed from complex-valued vectors Hilbert spaces. The entire thing would have to be rebuilt. Everything would have to work, no exceptions. Well, that is why there are these iPython notebooks, to test if the reconstruction work is good."
   ]
  },
  {
   "cell_type": "markdown",
   "metadata": {},
   "source": [
    "## Spate-time dimensions versus State dimensions"
   ]
  },
  {
   "cell_type": "markdown",
   "metadata": {},
   "source": [
    "![](images/chapter_1/101.25.1.50.jpg)"
   ]
  },
  {
   "cell_type": "markdown",
   "metadata": {},
   "source": [
    "As a practice, I never think of space or of time, only space-time. An event in space-time is a number with a real time and three imaginary numbers for space that together form a quaternion. Yet one is free to represent a quaternion as a series of quaternions, using one or an infinite number of quaternions in the series. Each and every element of the series will be in space-time. This is an often unspoken aspect of quantum mechanical states spaces: they all exist in space-time. I think of the space-time dimensions as being orthogonal to the state dimensions. There is a relationship between the two, yet there is also an independence. I will try no never use the word dimension without the qualifier of it being a space-time dimension or a state dimension. For this book, nearly all the discussion will be about the state dimensions.\n",
    "\n",
    "Just to get the toes a little wet, here is one quaternion series which has two states:"
   ]
  },
  {
   "cell_type": "code",
   "execution_count": 6,
   "metadata": {},
   "outputs": [
    {
     "name": "stdout",
     "output_type": "stream",
     "text": [
      "n=1: (0, 1, 2, 3) A1\n",
      "n=2: (2, 2, 2, 2) A2\n"
     ]
    }
   ],
   "source": [
    "A = qt.QHStates([qt.QH([0,1,2,3], qtype=\"A1\"), qt.QH([2,2,2,2], qtype=\"A2\")])\n",
    "print(A)"
   ]
  },
  {
   "cell_type": "markdown",
   "metadata": {},
   "source": [
    "This is just the opening move: each quaternion in the series will be associated with a value of n that can go from 1 out to infinity."
   ]
  },
  {
   "cell_type": "markdown",
   "metadata": {},
   "source": [
    "![](images/chapter_1/101.25.2.50.jpg)"
   ]
  },
  {
   "cell_type": "markdown",
   "metadata": {},
   "source": [
    "The game that is afoot is to show that quaternion series which can be finite or infinite behave exactly as one expect by the definition of a Hilbert space. Creativity is required to make this work! But that also makes it fun."
   ]
  },
  {
   "cell_type": "markdown",
   "metadata": {},
   "source": [
    "![](images/chapter_1/101.25.3.50.jpg)"
   ]
  },
  {
   "cell_type": "markdown",
   "metadata": {},
   "source": [
    "This looks so darn obvious, there is nothing much to do. Let's write down a quaternion series $B$ and add them up."
   ]
  },
  {
   "cell_type": "code",
   "execution_count": 7,
   "metadata": {},
   "outputs": [
    {
     "name": "stdout",
     "output_type": "stream",
     "text": [
      "The dimensions are not the same: 2 != 3\n"
     ]
    }
   ],
   "source": [
    "B = qt.QHStates([qt.QH([-1, -1, -1, -1]), qt.QH([-2,-2,-2,-2]), qt.QH([-3,-3,-3,-3])])\n",
    "A.add(B)"
   ]
  },
  {
   "cell_type": "markdown",
   "metadata": {},
   "source": [
    "When you write software that has to \"do all the math\", you get confronted with questions like, what if the dimensions are different? I think they should not be added together because a value of zero is different from being undefined. Of course, some one with more technical skills in these art may already know that I should treat the phantom third element of the quaternion series $A$ as zero and it is all OK. That would require a skilled math nerd. For now, I will treat it as an illegal move and report it. Let me redefine $B$ to have just two terms, and define a third series $C$."
   ]
  },
  {
   "cell_type": "code",
   "execution_count": 8,
   "metadata": {},
   "outputs": [],
   "source": [
    "B = qt.QHStates([qt.QH([-1, -1, -1, -1], qtype=\"B1\"), qt.QH([-2,-2,-2,-2], qtype=\"B2\")])\n",
    "C = qt.QHStates([qt.QH([0, 0, 0, 4], qtype=\"C1\"), qt.QH([0,0,0,-10], qtype=\"C2\")])\n",
    "Z = qt.QHStates([qt.QH(), qt.QH()])"
   ]
  },
  {
   "cell_type": "markdown",
   "metadata": {},
   "source": [
    "![](images/chapter_1/101.26.1.50.jpg)"
   ]
  },
  {
   "cell_type": "markdown",
   "metadata": {},
   "source": [
    "Whoops, a lot to prove, but nothing too difficult. Instead of a complex number $z$ and $w$, I will use quaternions $q$ and $w$."
   ]
  },
  {
   "cell_type": "code",
   "execution_count": 9,
   "metadata": {},
   "outputs": [
    {
     "name": "stdout",
     "output_type": "stream",
     "text": [
      "2. commutative addition, |A> + |B> = |B> + |A>\n",
      "|A> + |B>\n",
      "n=1: (-1, 0, 1, 2) A1+B1\n",
      "n=2: (0, 0, 0, 0) A2+B2\n",
      "\n",
      "|B> + |A>\n",
      "n=1: (-1, 0, 1, 2) B1+A1\n",
      "n=2: (0, 0, 0, 0) B2+A2\n",
      "\n",
      "|A> + |B> = |B> + |A>?  True\n"
     ]
    }
   ],
   "source": [
    "print(\"2. commutative addition, |A> + |B> = |B> + |A>\")\n",
    "print(\"|A> + |B>\") \n",
    "print(A.add(B))\n",
    "print(\"\\n|B> + |A>\")\n",
    "print(B.add(A))\n",
    "print(\"\\n|A> + |B> = |B> + |A>? \", A.add(B).equals(B.add(A)))"
   ]
  },
  {
   "cell_type": "code",
   "execution_count": 10,
   "metadata": {},
   "outputs": [
    {
     "name": "stdout",
     "output_type": "stream",
     "text": [
      "3. associative addition, (|A> + |B>) + |C> = |A> + (|B> + |C)>\n",
      "(|A> + |B>) + |C>\n",
      "n=1: (-1, 0, 1, 6) A1+B1+C1\n",
      "n=2: (0, 0, 0, -10) A2+B2+C2\n",
      "\n",
      "|A> + (|B> + |C>)\n",
      "n=1: (-1, 0, 1, 6) A1+B1+C1\n",
      "n=2: (0, 0, 0, -10) A2+B2+C2\n",
      "(|A> + |B>) + |C> = |A> + (|B> + |C)>?  True\n"
     ]
    }
   ],
   "source": [
    "print(\"3. associative addition, (|A> + |B>) + |C> = |A> + (|B> + |C)>\")\n",
    "print(\"(|A> + |B>) + |C>\")\n",
    "print(A.add(B).add(C))\n",
    "print(\"\\n|A> + (|B> + |C>)\")\n",
    "print(A.add(B.add(C)))\n",
    "print(\"(|A> + |B>) + |C> = |A> + (|B> + |C)>? \", A.add(B).add(C).equals(A.add(B.add(C))))"
   ]
  },
  {
   "cell_type": "code",
   "execution_count": 11,
   "metadata": {},
   "outputs": [
    {
     "name": "stdout",
     "output_type": "stream",
     "text": [
      "4. An additive identity series zero exists\n",
      "A\n",
      "n=1: (0, 1, 2, 3) A1\n",
      "n=2: (2, 2, 2, 2) A2\n",
      "\n",
      "A + Z\n",
      "n=1: (0, 1, 2, 3) A1+Q\n",
      "n=2: (2, 2, 2, 2) A2+Q\n",
      "\n",
      "A = A + Z? True\n"
     ]
    }
   ],
   "source": [
    "print(\"4. An additive identity series zero exists\")\n",
    "print(\"A\")\n",
    "print(A)\n",
    "print(\"\\nA + Z\")\n",
    "print(A.add(Z))\n",
    "print(\"\\nA = A + Z?\", A.equals(A.add(Z)))"
   ]
  },
  {
   "cell_type": "code",
   "execution_count": 12,
   "metadata": {},
   "outputs": [
    {
     "name": "stdout",
     "output_type": "stream",
     "text": [
      "5. An additive inverse exists, A + (-A) = 0\n",
      "-A\n",
      "n=1: (0, -1, -2, -3) -A1\n",
      "n=2: (-2, -2, -2, -2) -A2\n",
      "A + (-A)\n",
      "n=1: (0, 0, 0, 0) A1+-A1\n",
      "n=2: (0, 0, 0, 0) A2+-A2\n"
     ]
    }
   ],
   "source": [
    "print(\"5. An additive inverse exists, A + (-A) = 0\")\n",
    "print(\"-A\")\n",
    "print(A.flip_signs())\n",
    "print(\"A + (-A)\")\n",
    "print(A.add(A.flip_signs()))"
   ]
  },
  {
   "cell_type": "code",
   "execution_count": 13,
   "metadata": {},
   "outputs": [
    {
     "name": "stdout",
     "output_type": "stream",
     "text": [
      "6. A number times a ket produces a new ket, q|A> = |B>\n",
      "q:  n=1: (4, 3, 2, 1) q\n",
      "q|A> = |B>\n",
      "n=1: (-10, 8, 0, 16) qxA1+0xA2\n",
      "n=2: (-4, 16, 8, 12) 0xA1+qxA2\n"
     ]
    }
   ],
   "source": [
    "print(\"6. A number times a ket produces a new ket, q|A> = |B>\")\n",
    "q = qt.QHStates([qt.QH([4, 3, 2, 1], qtype=\"q\")])\n",
    "print(\"q: \", q)\n",
    "print(\"q|A> = |B>\")\n",
    "print(A.product(\"ket\", operator=q))"
   ]
  },
  {
   "cell_type": "markdown",
   "metadata": {},
   "source": [
    "What is going on for the *product()* function? The product function can treat the quaternion series as either a bra or a ket. An operator acts on the ket. If the state dimension of the ket is one, then it creates a diagonal series that is a the square of the state dimensions of ket. The ket has 2 state dimensions, so the operator has 4 state dimensions. The zeros of the diagonalized operator appear in the qtype."
   ]
  },
  {
   "cell_type": "code",
   "execution_count": 14,
   "metadata": {},
   "outputs": [
    {
     "name": "stdout",
     "output_type": "stream",
     "text": [
      "7a. Distributive property, q(|A> + |B>) = q|A> + q|B>\n",
      "q(|A> + |B>)\n",
      "n=1: (-8, 0, -4, 10) qxA1+B1+0xA2+B2\n",
      "n=2: (0, 0, 0, 0) 0xA1+B1+qxA2+B2\n",
      "q|A> + q|B>\n",
      "n=1: (-8, 0, -4, 10) qxA1+0xA2+qxB1+0xB2\n",
      "n=2: (0, 0, 0, 0) 0xA1+qxA2+0xB1+qxB2\n",
      "q(|A> + |B>) = q|A> + q|B>?  True\n"
     ]
    }
   ],
   "source": [
    "print(\"7a. Distributive property, q(|A> + |B>) = q|A> + q|B>\")\n",
    "print(\"q(|A> + |B>)\")\n",
    "qAB = A.add(B).product(\"ket\", operator=q)\n",
    "print(qAB)\n",
    "print(\"q|A> + q|B>\")\n",
    "qAqB = A.product(\"ket\", operator=q).add(B.product(\"ket\", operator=q))\n",
    "print(qAqB)\n",
    "print(\"q(|A> + |B>) = q|A> + q|B>? \", qAB.equals(qAqB))"
   ]
  },
  {
   "cell_type": "code",
   "execution_count": 16,
   "metadata": {},
   "outputs": [
    {
     "name": "stdout",
     "output_type": "stream",
     "text": [
      "7b. Distributive property, (q + w)|A> = q|A> + w|A>\n",
      "(q + w)|A>)\n",
      "n=1: (-311, -188, 105, 16) q+QxA1+0xA2\n",
      "n=2: (-202, -182, 214, 210) 0xA1+q+QxA2\n",
      "q|A> + w|A>\n",
      "n=1: (-311, 206, -101, 22) qxA1+0xA2+A1xQ+A2x0\n",
      "n=2: (-202, 214, -190, 218) 0xA1+qxA2+A1x0+A2xQ\n",
      "(q + w)|A> = q|A> + w|A>?  False\n"
     ]
    }
   ],
   "source": [
    "w = qt.QHStates([qt.QH([1, -1, 1, 100])])\n",
    "print(\"7b. Distributive property, (q + w)|A> = q|A> + w|A>\")\n",
    "print(\"(q + w)|A>)\")\n",
    "qwA = A.product(\"ket\", operator=q.add(w))\n",
    "print(qwA)\n",
    "print(\"q|A> + w|A>\")\n",
    "qAwA = A.product(\"ket\", operator=q).add(A.product(\"bra\", operator=w))\n",
    "print(qAwA)\n",
    "print(\"(q + w)|A> = q|A> + w|A>? \", qwA.equals(qAwA))"
   ]
  },
  {
   "cell_type": "markdown",
   "metadata": {},
   "source": [
    "Thus 7 basic properties of state vectors can be replicated using quaternion series. I could say there was an equivalence relationship between the two. That does not mean they are exactly the same in all detail, but that for the operations done so far, both approaches are equivalent."
   ]
  },
  {
   "cell_type": "markdown",
   "metadata": {},
   "source": [
    "![](images/chapter_1/101.30.1.50.jpg)"
   ]
  },
  {
   "cell_type": "markdown",
   "metadata": {},
   "source": [
    "The world of rows and columns does not port to quaternion series. All series are just that: series. The conjugate of a series can be calculated, and is a very usefule thing."
   ]
  },
  {
   "cell_type": "code",
   "execution_count": 17,
   "metadata": {},
   "outputs": [
    {
     "name": "stdout",
     "output_type": "stream",
     "text": [
      "A*\n",
      "n=1: (0, -1, -2, -3) A1*\n",
      "n=2: (2, -2, -2, -2) A2*\n"
     ]
    }
   ],
   "source": [
    "print(\"A*\")\n",
    "print(A.conj())"
   ]
  },
  {
   "cell_type": "markdown",
   "metadata": {},
   "source": [
    "The signal that one is doing a calculation in quantum mechanics may just be the use of mirrors via the conjugate operator. No wonder the subject requires such a struggle to understand!"
   ]
  },
  {
   "cell_type": "markdown",
   "metadata": {},
   "source": [
    "## Managing changes in multiplication order"
   ]
  },
  {
   "cell_type": "markdown",
   "metadata": {},
   "source": [
    "![](images/chapter_1/101.29.2.50.jpg)"
   ]
  },
  {
   "cell_type": "markdown",
   "metadata": {},
   "source": [
    "Let's first figure out what exactly is meant by \"bra corresponding to [a ket] using complex numbers."
   ]
  },
  {
   "cell_type": "code",
   "execution_count": 23,
   "metadata": {},
   "outputs": [
    {
     "name": "stdout",
     "output_type": "stream",
     "text": [
      "z|A> ? <A|z*\n",
      "zA\n",
      "n=1: (-5, 5, 0, 0) 13ixA1i+0xA2i\n",
      "n=2: (-9, 13, 0, 0) 0xA1i+13ixA2i\n",
      "Az*\n",
      "n=1: (-5, -5, 0, 0) A1i*x13i*+A2i*x0\n",
      "n=2: (-9, -13, 0, 0) A1i*x0+A2i*x13i*\n"
     ]
    }
   ],
   "source": [
    "print(\"z|A> ? <A|z*\")\n",
    "Ac = qt.QHStates([qt.QH([1,2,0,0], qtype=\"A1i\"), qt.QH([3,4,0,0], qtype=\"A2i\")])\n",
    "i3 = qt.QHStates([qt.QH([1,3,0,0], qtype=\"13i\")])\n",
    "print(\"zA\")\n",
    "zA = Ac.product(\"ket\", operator=i3)\n",
    "print(zA)\n",
    "print(\"Az*\")\n",
    "Azc = Ac.conj().product(\"bra\", operator=i3.conj())\n",
    "print(Azc)"
   ]
  },
  {
   "cell_type": "markdown",
   "metadata": {},
   "source": [
    "The \"correspondence\" is that the two need one more conjugate operation to be equal, like so:"
   ]
  },
  {
   "cell_type": "code",
   "execution_count": 24,
   "metadata": {},
   "outputs": [
    {
     "name": "stdout",
     "output_type": "stream",
     "text": [
      "z|A> = (<A|z*)* ? True\n"
     ]
    }
   ],
   "source": [
    "print(\"z|A> = (<A|z*)* ?\", zA.equals(Azc.conj()))"
   ]
  },
  {
   "cell_type": "markdown",
   "metadata": {},
   "source": [
    "Now lets do this more precise definition of the relationship for quaternions.\n",
    "\n",
    "This is the point when many folks who have spent years studying math and physics will get off the bus. They know that quaternions do not commute because quaternions do not commute. Let's just wave goodbye to those folks. They are smart, confident, and I wish them well."
   ]
  },
  {
   "cell_type": "markdown",
   "metadata": {},
   "source": [
    "For anyone who stayed, it is time to think a little. Yes indeed, quaternions to not commute with each other. Yet we are not talking about random ass quaternions (random ass quaternions has a technical meaning I chose not to define). Each of these quaternion series has a name: bra, operator, and ket. Because their positions are *named*, rules can be imposed regarding what happens when the order of named terms is changed. Every quaternion product can be split into what I call the \"even\" or commuting part of the product, and the \"odd\" or anti-commuting part."
   ]
  },
  {
   "cell_type": "code",
   "execution_count": 26,
   "metadata": {},
   "outputs": [
    {
     "name": "stdout",
     "output_type": "stream",
     "text": [
      "Even product, (AB + BA)/2\n",
      "n=1: (6, -1, -2, -3) A1xEB1\n",
      "n=2: (8, -8, -8, -8) A2xEB2\n",
      "\n",
      "Odd product, (AB - BA)/2\n",
      "n=1: (0, 1, -2, 1) A1xOB1\n",
      "n=2: (0, 0, 0, 0) A2xOB2\n",
      "\n",
      "AB\n",
      "n=1: (6, 0, -4, -2) A1xB1\n",
      "n=2: (8, -8, -8, -8) A2xB2\n",
      "Even + Odd = AB ? True\n"
     ]
    }
   ],
   "source": [
    "print(\"Even product, (AB + BA)/2\")\n",
    "AB_even = A.product(\"bra\", ket=B, kind=\"even\")\n",
    "print(AB_even)\n",
    "print(\"\\nOdd product, (AB - BA)/2\")\n",
    "AB_odd = A.product(\"bra\", ket=B, kind=\"odd\")\n",
    "print(AB_odd)\n",
    "print(\"\\nAB\")\n",
    "AB = A.product(\"bra\", ket=B)\n",
    "print(AB)\n",
    "print(\"Even + Odd = AB ?\", AB_even.add(AB_odd).equals(AB))\n"
   ]
  },
  {
   "cell_type": "markdown",
   "metadata": {},
   "source": [
    "For named positions that change their positions, create a rule that says the product is now the difference between the even and the odd terms."
   ]
  },
  {
   "cell_type": "code",
   "execution_count": 27,
   "metadata": {},
   "outputs": [
    {
     "name": "stdout",
     "output_type": "stream",
     "text": [
      "BA\n",
      "n=1: (6, -2, 0, -4) B1xA1\n",
      "n=2: (8, -8, -8, -8) B2xA2\n",
      "Even - Odd = BA ? True\n"
     ]
    }
   ],
   "source": [
    "print(\"BA\")\n",
    "BA = B.product(\"bra\", ket=A)\n",
    "print(BA)\n",
    "print(\"Even - Odd = BA ?\", AB_even.dif(AB_odd).equals(BA))"
   ]
  },
  {
   "cell_type": "markdown",
   "metadata": {},
   "source": [
    "![](images/chapter_1/101.30.3.50.jpg)"
   ]
  },
  {
   "cell_type": "markdown",
   "metadata": {},
   "source": []
  },
  {
   "cell_type": "markdown",
   "metadata": {},
   "source": [
    "![](images/chapter_1/101.31.1.50.jpg)"
   ]
  },
  {
   "cell_type": "markdown",
   "metadata": {},
   "source": []
  },
  {
   "cell_type": "markdown",
   "metadata": {},
   "source": [
    "![](images/chapter_1/101.31.2.50.jpg)"
   ]
  },
  {
   "cell_type": "markdown",
   "metadata": {},
   "source": []
  },
  {
   "cell_type": "markdown",
   "metadata": {},
   "source": [
    "![](images/chapter_1/101.32.2.50.jpg)"
   ]
  },
  {
   "cell_type": "markdown",
   "metadata": {},
   "source": []
  },
  {
   "cell_type": "markdown",
   "metadata": {},
   "source": [
    "![](images/chapter_1/101.34.1.50.jpg)"
   ]
  },
  {
   "cell_type": "markdown",
   "metadata": {},
   "source": []
  },
  {
   "cell_type": "markdown",
   "metadata": {},
   "source": [
    "![](images/chapter_1/101.34.2.50.jpg)"
   ]
  },
  {
   "cell_type": "markdown",
   "metadata": {},
   "source": []
  },
  {
   "cell_type": "markdown",
   "metadata": {},
   "source": []
  },
  {
   "cell_type": "markdown",
   "metadata": {},
   "source": []
  }
 ],
 "metadata": {
  "kernelspec": {
   "display_name": "Python 3",
   "language": "python",
   "name": "python3"
  },
  "language_info": {
   "codemirror_mode": {
    "name": "ipython",
    "version": 3
   },
   "file_extension": ".py",
   "mimetype": "text/x-python",
   "name": "python",
   "nbconvert_exporter": "python",
   "pygments_lexer": "ipython3",
   "version": "3.5.1"
  }
 },
 "nbformat": 4,
 "nbformat_minor": 2
}
