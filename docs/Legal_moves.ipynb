{
 "cells": [
  {
   "cell_type": "markdown",
   "metadata": {},
   "source": [
    "# Legal Moves"
   ]
  },
  {
   "cell_type": "markdown",
   "metadata": {},
   "source": [
    "This notebook is being created to address an observation of Purple Penguin which makes the math of quaternion series appear inconsistent. No math is ever completely free. I hope to show with reasonable constraints, quaternion series are not internally inconsistent.\n",
    "\n",
    "Load the needed libraries."
   ]
  },
  {
   "cell_type": "code",
   "execution_count": 1,
   "metadata": {},
   "outputs": [],
   "source": [
    "%%capture\n",
    "%matplotlib inline\n",
    "import numpy as np\n",
    "import sympy as sp\n",
    "import matplotlib.pyplot as plt\n",
    "import math\n",
    "\n",
    "# To get equations the look like, well, equations, use the following.\n",
    "from sympy.interactive import printing\n",
    "printing.init_printing(use_latex=True)\n",
    "from IPython.display import display\n",
    "\n",
    "# Tools for manipulating quaternions.\n",
    "import Q_tools as qt;\n",
    "\n",
    "from IPython.core.display import display, HTML, Math, Latex\n",
    "display(HTML(\"<style>.container { width:100% !important; }</style>\"))"
   ]
  },
  {
   "cell_type": "markdown",
   "metadata": {},
   "source": [
    "There are two types of playeres in this notebook: quaternions Q (upper case) and quaternion series qs (lower case). Purple Penguin wrote down the following pair of Quaternions and quaternion series:"
   ]
  },
  {
   "cell_type": "code",
   "execution_count": 2,
   "metadata": {},
   "outputs": [
    {
     "name": "stdout",
     "output_type": "stream",
     "text": [
      "Quaternion A: \n",
      "(1, 0, 0, 0) 1\n",
      "\n",
      "Quaternion B: \n",
      "(0, 1, 0, 0) i\n",
      "\n",
      "quaternion series a: \n",
      "n=1: (1, 0, 0, 0) 1\n",
      "n=2: (0, 0, 0, 0) 0\n",
      "sum= (1, 0, 0, 0) 1+0\n",
      "\n",
      "quaternion series b: \n",
      "n=1: (0, 0, 0, 0) 0\n",
      "n=2: (0, 1, 0, 0) i\n",
      "sum= (0, 1, 0, 0) 0+i\n"
     ]
    }
   ],
   "source": [
    "q_0 = qt.QH().q_0()\n",
    "q_1 = qt.QH().q_1()\n",
    "q_i = qt.QH().q_i()\n",
    "q_ni = q_i.flip_signs()\n",
    "\n",
    "A = q_1\n",
    "B = q_i\n",
    "a = qt.QHStates([q_1, q_0])\n",
    "b = qt.QHStates([q_0, q_i])\n",
    "\n",
    "A.print_state(\"Quaternion A: \", 1)\n",
    "B.print_state(\"Quaternion B: \", 1)\n",
    "a.print_state(\"quaternion series a: \", 1)\n",
    "b.print_state(\"quaternion series b: \")"
   ]
  },
  {
   "cell_type": "markdown",
   "metadata": {},
   "source": [
    "Notice that the sum of the states in quaternion series a equals the Quaternion A, while the sum of quaternion series b equals Quaternion B.\n",
    "\n",
    "Purple Penguin then made the following observation of about the products of the quaternions and quaternion series:"
   ]
  },
  {
   "cell_type": "code",
   "execution_count": 3,
   "metadata": {},
   "outputs": [
    {
     "name": "stdout",
     "output_type": "stream",
     "text": [
      "Quaternion Euclidean product AB: \n",
      "(0, 1, 0, 0) 1*xi\n",
      "\n",
      "Quaternion dot product ab: \n",
      "(0, 0, 0, 0) 1*x0+0*xi\n"
     ]
    }
   ],
   "source": [
    "AB = A.Euclidean_product(B)\n",
    "ab = a.Euclidean_product(\"bra\", ket=b)\n",
    "AB.print_state(\"Quaternion Euclidean product AB: \", 1)\n",
    "ab.print_state(\"Quaternion dot product ab: \")"
   ]
  },
  {
   "cell_type": "markdown",
   "metadata": {},
   "source": [
    "Since these are clearly different, the math of quaternion series is not logically consistent."
   ]
  },
  {
   "cell_type": "markdown",
   "metadata": {},
   "source": [
    "There are two group operations one can do on quaternions and quaternion series: addition and multiplication. Purple penguin imposed a constraint on addition, namely that the sum of of the states in the quaternion series must be equal to the quaternion. There was no similar constraint on multiplication. It fact, it is easy to impose a reasonable constraint, namely that $AB=<a|b>$.\n",
    "\n",
    "How would this be done in practice? What would be the analog in more traditional vector spaces? In vector spaces one has the basis vector and a real or complex number that is the magnitude. One cannot add vectors that have different basis vectors. Only if the vectors have exactly the same basis is one allowed to add them together.\n",
    "\n",
    "I can see two ways to fix this issue. The first way is to start with quaternion series b that works for both addition and multiplication."
   ]
  },
  {
   "cell_type": "code",
   "execution_count": 4,
   "metadata": {},
   "outputs": [
    {
     "name": "stdout",
     "output_type": "stream",
     "text": [
      "<a|b_ok>\n",
      "(0, 1, 0, 0) 1xi+0x0\n",
      "Does AB=<a|b>?:  True\n"
     ]
    }
   ],
   "source": [
    "b_ok = qt.QHStates([q_i, q_0])\n",
    "ab_ok = a.product(\"bra\", ket=b_ok)\n",
    "\n",
    "ab_ok.print_state(\"<a|b_ok>\")\n",
    "print(\"Does AB=<a|b>?: \", AB.equals(ab_ok))"
   ]
  },
  {
   "cell_type": "markdown",
   "metadata": {},
   "source": [
    "A more interesting fix is to use a spin matrix to rotate the quaternion series b to look exactly like the quaternion series a, analogous to choosing the same basis vector."
   ]
  },
  {
   "cell_type": "code",
   "execution_count": 5,
   "metadata": {},
   "outputs": [
    {
     "name": "stdout",
     "output_type": "stream",
     "text": [
      "sigma_4_b:\n",
      "n=1: (0, 0, 0, 0) 0\n",
      "n=2: (0, -1, 0, 0) -i\n",
      "n=3: (0, 0, 0, 0) 0\n",
      "n=4: (0, 0, 0, 0) 0\n",
      "sum= (0, -1, 0, 0) 0+-i+0+0\n",
      "\n",
      "b_rotated:\n",
      "n=1: (1, 0, 0, 0) 0x0+-ixi\n",
      "n=2: (0, 0, 0, 0) 0x0+0xi\n",
      "sum= (1, 0, 0, 0) 0x0+-ixi+0x0+0xi\n"
     ]
    }
   ],
   "source": [
    "sigma_4_b = qt.QHStates([q_0, q_ni, q_0, q_0])\n",
    "b_rotated = b.Euclidean_product(\"ket\", operator=sigma_4_b)\n",
    "\n",
    "sigma_4_b.print_state(\"sigma_4_b:\", 1)\n",
    "b_rotated.print_state(\"b_rotated:\")"
   ]
  },
  {
   "cell_type": "markdown",
   "metadata": {},
   "source": [
    "Now the constraint on addition is violated, so fix that with another operator:"
   ]
  },
  {
   "cell_type": "code",
   "execution_count": 6,
   "metadata": {},
   "outputs": [
    {
     "name": "stdout",
     "output_type": "stream",
     "text": [
      "b_rotated_i\n",
      "n=1: (0, 1, 0, 0) ix0x0+-ixi+0x0x0+0xi\n",
      "n=2: (0, 0, 0, 0) 0x0x0+-ixi+ix0x0+0xi\n",
      "sum= (0, 1, 0, 0) ix0x0+-ixi+0x0x0+0xi+0x0x0+-ixi+ix0x0+0xi\n",
      "\n",
      "Is b_ok = b_rotated_i?:  True\n"
     ]
    }
   ],
   "source": [
    "b_rotated_i = b_rotated.product(\"ket\", operator=qt.QHStates([q_i]))\n",
    "\n",
    "b_rotated_i.print_state(\"b_rotated_i\", 1)\n",
    "print(\"Is b_ok = b_rotated_i?: \", b_ok.equals(b_rotated_i))"
   ]
  },
  {
   "cell_type": "markdown",
   "metadata": {},
   "source": [
    "Since the two operators sigma_a and i acting on quaternion series b recreate the quaternion series b_ok which passed the multiplication criteria, this is good."
   ]
  },
  {
   "cell_type": "markdown",
   "metadata": {},
   "source": [
    "Confirm that one could instead decide to work with quaternion series a to pass the multiplication criteria."
   ]
  },
  {
   "cell_type": "code",
   "execution_count": 7,
   "metadata": {},
   "outputs": [
    {
     "name": "stdout",
     "output_type": "stream",
     "text": [
      "quaternion series a_ok\n",
      "n=1: (0, 0, 0, 0) 0\n",
      "n=2: (1, 0, 0, 0) 1\n",
      "sum= (1, 0, 0, 0) 0+1\n",
      "\n",
      "<a_ok|b>\n",
      "(0, 1, 0, 0) 0*x0+1*xi\n",
      "AB=<a_ok|b>?:  True\n"
     ]
    }
   ],
   "source": [
    "a_ok = qt.QHStates([q_0, q_1])\n",
    "a_okb = a_ok.Euclidean_product(\"bra\", ket=b)\n",
    "\n",
    "a_ok.print_state(\"quaternion series a_ok\", 1)\n",
    "a_okb.print_state(\"<a_ok|b>\")\n",
    "print(\"AB=<a_ok|b>?: \", AB.equals(a_okb))"
   ]
  },
  {
   "cell_type": "code",
   "execution_count": 8,
   "metadata": {},
   "outputs": [
    {
     "name": "stdout",
     "output_type": "stream",
     "text": [
      "a_rotated\n",
      "n=1: (0, 0, 0, 0) 1*x0+0*x0\n",
      "n=2: (1, 0, 0, 0) 1*x1+0*x0\n",
      "sum= (1, 0, 0, 0) 1*x0+0*x0+1*x1+0*x0\n",
      "\n",
      "<a_rotated|b>\n",
      "(0, 1, 0, 0) 1*x0+0*x0*x0+1*x1+0*x0*xi\n",
      "\n",
      "AB=<a_rotated|b>?:  True\n"
     ]
    }
   ],
   "source": [
    "sigma_4_a = qt.QHStates([q_0, q_1, q_0, q_0])\n",
    "a_rotated = a.Euclidean_product(\"bra\", operator=sigma_4_a)\n",
    "a_rotatedb = a_rotated.Euclidean_product(\"bra\", ket=b)\n",
    "\n",
    "a_rotated.print_state(\"a_rotated\", 1)\n",
    "a_rotatedb.print_state(\"<a_rotated|b>\", 1)\n",
    "print(\"AB=<a_rotated|b>?: \", AB.equals(a_rotatedb))"
   ]
  },
  {
   "cell_type": "markdown",
   "metadata": {},
   "source": [
    "To create a large collection of quaternions and a faithful collection of quaternion series would be a tricky affair. The simple part is being consistent with the addition rule. The multiplication constraint would for large numbers might become impossible to figure out. The reason is the constrain requires an examination of every pair of numbers to assure that $AB=<a|b>$.\n",
    "\n",
    "If the question was asked in reverse, if you had a big pile of quaternion series, would it be possible to figure out the relevant quaternions? Sure, use the addition rule. Let's test if this is the case with three quaternion series with three state dimensions."
   ]
  },
  {
   "cell_type": "code",
   "execution_count": 9,
   "metadata": {},
   "outputs": [
    {
     "name": "stdout",
     "output_type": "stream",
     "text": [
      "random quaternion series 1: \n",
      "n=1: (0.42120304156215493, 0.7643585999105484, 0.6878677170238532, 0.5300690478391255) ?\n",
      "n=2: (0.8901699840622334, 0.3055526281315578, 0.56078097307889, 0.13105323396542257) ?\n",
      "n=3: (0.5575742637130741, 0.6445482853904667, 0.4551217784990512, 0.2844596137619081) ?\n",
      "sum= (1.8689472893374623, 1.714459513432573, 1.7037704686017943, 0.9455818955664561) ?+?+?\n",
      "\n",
      "random quaternion series 2: \n",
      "n=1: (0.6310448426498506, 0.7105094013135147, 0.0073229896510117465, 0.3589652421036602) ?\n",
      "n=2: (0.7929711364079036, 0.10939653638319757, 0.6735353244523724, 0.34240308579252465) ?\n",
      "n=3: (0.46434838728280414, 0.6661951152763959, 0.2770940747924663, 0.3815349307741446) ?\n",
      "sum= (1.8883643663405585, 1.4861010529731082, 0.9579523888958504, 1.0829032586703295) ?+?+?\n",
      "\n",
      "random quaternion series 3: \n",
      "n=1: (0.2134658412844862, 0.08109962085940614, 0.9206589523714092, 0.006016514226055203) ?\n",
      "n=2: (0.7839274339973614, 0.1077530779912208, 0.9998542988629203, 0.8495656721278508) ?\n",
      "n=3: (0.35432154088658996, 0.9278042532345523, 0.7506155641751487, 0.2854421401862983) ?\n",
      "sum= (1.3517148161684376, 1.1166569520851792, 2.671128815409478, 1.1410243265402045) ?+?+?\n",
      "\n",
      "random quaternion series sum 1: \n",
      "(1.8689472893374623, 1.714459513432573, 1.7037704686017943, 0.9455818955664561) ?+?+?\n",
      "\n",
      "random quaternion series sum 2: \n",
      "(1.8883643663405585, 1.4861010529731082, 0.9579523888958504, 1.0829032586703295) ?+?+?\n",
      "\n",
      "random quaternion series sum 3: \n",
      "(1.3517148161684376, 1.1166569520851792, 2.671128815409478, 1.1410243265402045) ?+?+?\n"
     ]
    }
   ],
   "source": [
    "random_1 = qt.QHStates([qt.QH().q_random(), qt.QH().q_random(), qt.QH().q_random()])\n",
    "random_2 = qt.QHStates([qt.QH().q_random(), qt.QH().q_random(), qt.QH().q_random()])\n",
    "random_3 = qt.QHStates([qt.QH().q_random(), qt.QH().q_random(), qt.QH().q_random()])\n",
    "R_1 = random_1.summation()\n",
    "R_2 = random_2.summation()\n",
    "R_3 = random_3.summation()\n",
    "\n",
    "random_1.print_state(\"random quaternion series 1: \", 1)\n",
    "random_2.print_state(\"random quaternion series 2: \", 1)\n",
    "random_3.print_state(\"random quaternion series 3: \", 1)\n",
    "R_1.print_state(\"random quaternion series sum 1: \", 1)\n",
    "R_2.print_state(\"random quaternion series sum 2: \", 1)\n",
    "R_3.print_state(\"random quaternion series sum 3: \", )"
   ]
  },
  {
   "cell_type": "markdown",
   "metadata": {},
   "source": [
    "Check if the products are all equal."
   ]
  },
  {
   "cell_type": "code",
   "execution_count": 10,
   "metadata": {},
   "outputs": [
    {
     "name": "stdout",
     "output_type": "stream",
     "text": [
      "R_1R_2\n",
      "(8.733218258521426, -1.399275874784608, -0.9756133775088744, 1.1278904537178238) ?+?+?*x?+?+?\n",
      "\n",
      "random_1random_2\n",
      "(3.0890263765886896, -0.6974362865514272, -0.28849104416774213, 0.561506617846943) ?*x?+?*x?+?*x?\n",
      "R_1 R_2=<random_1|random_2>?:  False\n"
     ]
    }
   ],
   "source": [
    "R_1R_2 = R_1.Euclidean_product(R_2)\n",
    "random_1random_2 = random_1.Euclidean_product(\"bra\", ket=random_2)\n",
    "R_1R_2.print_state(\"R_1R_2\", 1)\n",
    "random_1random_2.print_state(\"random_1random_2\")\n",
    "print(\"R_1 R_2=<random_1|random_2>?: \", R_1R_2.equals(random_1random_2))"
   ]
  },
  {
   "cell_type": "markdown",
   "metadata": {},
   "source": [
    "That hypothesis could not have been more wrong, interesting."
   ]
  },
  {
   "cell_type": "markdown",
   "metadata": {},
   "source": [
    "Here's my take home message about the relationship between Quaternions and quaternion series: it's complicated. Nature can be like that."
   ]
  }
 ],
 "metadata": {
  "kernelspec": {
   "display_name": "Python 3",
   "language": "python",
   "name": "python3"
  },
  "language_info": {
   "codemirror_mode": {
    "name": "ipython",
    "version": 3
   },
   "file_extension": ".py",
   "mimetype": "text/x-python",
   "name": "python",
   "nbconvert_exporter": "python",
   "pygments_lexer": "ipython3",
   "version": "3.5.1"
  }
 },
 "nbformat": 4,
 "nbformat_minor": 2
}
