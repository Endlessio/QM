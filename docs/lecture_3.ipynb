{
 "cells": [
  {
   "cell_type": "markdown",
   "metadata": {},
   "source": [
    "# Lecture 3: The Principles of Quantum Mechanics"
   ]
  },
  {
   "cell_type": "markdown",
   "metadata": {},
   "source": [
    "In this notebook, the quaternion series are going to have to start to do interesting technical feats. The world of operators, Eigen-values and Eigen-vectors will need to be transported to relationships between quaternion series.\n",
    "\n",
    "Load the needed libraries."
   ]
  },
  {
   "cell_type": "code",
   "execution_count": 1,
   "metadata": {},
   "outputs": [],
   "source": [
    "%%capture\n",
    "%matplotlib inline\n",
    "import numpy as np\n",
    "import sympy as sp\n",
    "import matplotlib.pyplot as plt\n",
    "import math\n",
    "\n",
    "# To get equations the look like, well, equations, use the following.\n",
    "from sympy.interactive import printing\n",
    "printing.init_printing(use_latex=True)\n",
    "from IPython.display import display\n",
    "\n",
    "# Tools for manipulating quaternions.\n",
    "import Q_tools as qt;\n",
    "\n",
    "from IPython.core.display import display, HTML, Math, Latex\n",
    "display(HTML(\"<style>.container { width:100% !important; }</style>\"))"
   ]
  },
  {
   "cell_type": "markdown",
   "metadata": {},
   "source": [
    "![](images/lecture_3/c3_p52_q1.jpg)"
   ]
  },
  {
   "cell_type": "markdown",
   "metadata": {},
   "source": [
    "Vectors are good, just not good enough. A quaternion series has the properties of vectors: they can be added, subtracted, and multiplied by a scalar. Quaternion series can also be multiplied and divided by other perfectly fine quaternion series. This is not the case for vectors. This will work no matter how many state dimensions there are for the series. It is my belief that some exceptionally difficult problems in the foundations of quantum mechanics occur because our tools are indeed powerful, just not powerful enough. In time, I will have to show all expected processes work for quaternion series, no exceptions. Let the games begin."
   ]
  },
  {
   "cell_type": "markdown",
   "metadata": {},
   "source": [
    "![](images/lecture_3/c3_p52_q3.jpg)"
   ]
  },
  {
   "cell_type": "markdown",
   "metadata": {},
   "source": [
    "In the first chapter of these companion notebooks, it was shown that for a quaternion series operator $M$ and bra quaternion series $|A>$ and $|B>$, this was the case. One thing not stated explicitly here is that both $|A>$ and $|B>$ have to have the same number of state dimensions or the expression does not make sense. In the quaternion series approach, the number of states in operator $M$ has to be a integer multiple of the states in the bras. For the full bra, operator ket expression, the product of the bra and ket dimensions must equal the operator. These rules will need to be revisited when systems of infinite dimensions are used."
   ]
  },
  {
   "cell_type": "markdown",
   "metadata": {},
   "source": [
    "![](images/lecture_3/c3_p53_q1.jpg)"
   ]
  },
  {
   "cell_type": "markdown",
   "metadata": {},
   "source": [
    "If all that can ever done is multiply quaternion series together, there will always be one output because numbers are nice in that way."
   ]
  },
  {
   "cell_type": "markdown",
   "metadata": {},
   "source": [
    "![](images/lecture_3/c3_p53_q2.jpg)"
   ]
  },
  {
   "cell_type": "markdown",
   "metadata": {},
   "source": [
    "This looks like a simple statement, but look at what it presumes. The matrix $M$ has complex values, so $z$ will commute, or $M z = z M$. Now switch to quaternions... does this mean an end to this project because quaternions do not commute? I do think the knee-jerk reaction is to say \"yes\"."
   ]
  },
  {
   "cell_type": "markdown",
   "metadata": {},
   "source": [
    "Careful reflection takes time, so please indulge me. The above is an algebraic expression. Each term has been given a name, $M$ and $z$, and been assigned a specific order at the table. A quaternion product can always be broken into two parts: the even part that commutes, and the odd part or cross product that anti-commutes.\n",
    "\n",
    "First define a bunch of quaternions."
   ]
  },
  {
   "cell_type": "code",
   "execution_count": 2,
   "metadata": {},
   "outputs": [
    {
     "name": "stdout",
     "output_type": "stream",
     "text": [
      "A\n",
      "n=1: (At1, Ax1, Ay1, Az1) a₁\n",
      "n=2: (At2, Ax2, Ay2, Az2) a₂\n",
      "sum= (At1 + At2, Ax1 + Ax2, Ay1 + Ay2, Az1 + Az2) a₁+a₂\n",
      "\n",
      "M\n",
      "n=1: (Mt1, Mx1, My1, Mz1) m₁\n",
      "n=2: (Mt2, Mx2, My2, Mz2) m₂\n",
      "n=3: (Mt3, Mx3, My3, Mz3) m₃\n",
      "n=4: (Mt4, Mx4, My4, Mz4) m₄\n",
      "sum= (Mt1 + Mt2 + Mt3 + Mt4, Mx1 + Mx2 + Mx3 + Mx4, My1 + My2 + My3 + My4, Mz1 + Mz2 + Mz3 + Mz4) m₁+m₂+m₃+m₄\n",
      "\n",
      "z\n",
      "n=1: (zt, zx, zy, zz) z\n",
      "n=2: (0, 0, 0, 0) 0\n",
      "n=3: (0, 0, 0, 0) 0\n",
      "n=4: (zt, zx, zy, zz) z\n",
      "sum= (2*zt, 2*zx, 2*zy, 2*zz) z+0+0+z\n"
     ]
    }
   ],
   "source": [
    "At1, Ax1, Ay1, Az1 = sp.symbols(\"At1 Ax1 Ay1 Az1\")\n",
    "At2, Ax2, Ay2, Az2 = sp.symbols(\"At2 Ax2 Ay2 Az2\")\n",
    "Aq1 = qt.QH([At1, Ax1, Ay1, Az1], qtype=\"a₁\")\n",
    "Aq2 = qt.QH([At2, Ax2, Ay2, Az2], qtype=\"a₂\")\n",
    "A = qt.QHStates([Aq1, Aq2])\n",
    "A.print_state(\"A\", 1)\n",
    "\n",
    "Mt1, Mx1, My1, Mz1 = sp.symbols(\"Mt1 Mx1 My1 Mz1\")\n",
    "Mt2, Mx2, My2, Mz2 = sp.symbols(\"Mt2 Mx2 My2 Mz2\")\n",
    "Mt3, Mx3, My3, Mz3 = sp.symbols(\"Mt3 Mx3 My3 Mz3\")\n",
    "Mt4, Mx4, My4, Mz4 = sp.symbols(\"Mt4 Mx4 My4 Mz4\")\n",
    "Mq1 = qt.QH([Mt1, Mx1, My1, Mz1], qtype=\"m₁\")\n",
    "Mq2 = qt.QH([Mt2, Mx2, My2, Mz2], qtype=\"m₂\")\n",
    "Mq3 = qt.QH([Mt3, Mx3, My3, Mz3], qtype=\"m₃\")\n",
    "Mq4 = qt.QH([Mt4, Mx4, My4, Mz4], qtype=\"m₄\")\n",
    "\n",
    "M = qt.QHStates([Mq1, Mq2, Mq3, Mq4])\n",
    "M.print_state(\"M\", 1)\n",
    "\n",
    "zt, zx, zy, zz = sp.symbols(\"zt zx zy zz\")\n",
    "zq = qt.QH([zt, zx, zy, zz], qtype=\"z\")\n",
    "zqs = qt.QHStates([zq])\n",
    "z_op = zqs.diagonal(2)\n",
    "z_op.print_state(\"z\")"
   ]
  },
  {
   "cell_type": "markdown",
   "metadata": {},
   "source": [
    "Before trying to understand quaternion series, let's just look at the product of two quaternions. We wish to have an algebraic rule about what **exactly** it means to reverse two named symbols. We can create a rule such that reversing symbols does not change the result. Thus when one writes a reversal of symbols, we mean that the product of the two reverse quaternions is the difference between the even and odd products. This makes no difference for real and complex numbers since the odd part is always exactly zero. For quaternions, this flips the signs of the thing that flip signs under reversal, so no net change results."
   ]
  },
  {
   "cell_type": "code",
   "execution_count": 3,
   "metadata": {},
   "outputs": [
    {
     "name": "stdout",
     "output_type": "stream",
     "text": [
      "M, then z, even + odd:  (Mt1*zt - Mx1*zx - My1*zy - Mz1*zz, Mt1*zx + Mx1*zt + My1*zz - Mz1*zy, Mt1*zy - Mx1*zz + My1*zt + Mz1*zx, Mt1*zz + Mx1*zy - My1*zx + Mz1*zt) m₁xz\n",
      "z, then M, even - odd:  (Mt1*zt - Mx1*zx - My1*zy - Mz1*zz, Mt1*zx + Mx1*zt + My1*zz - Mz1*zy, Mt1*zy - Mx1*zz + My1*zt + Mz1*zx, Mt1*zz + Mx1*zy - My1*zx + Mz1*zt) zxRm₁\n",
      "difference:  (0, 0, 0, 0) m₁xz-zxRm₁\n"
     ]
    }
   ],
   "source": [
    "Mq1z = Mq1.product(zq)\n",
    "zMq1 = zq.product(Mq1, reverse=True)\n",
    "print(\"M, then z, even + odd: \", Mq1z)\n",
    "print(\"z, then M, even - odd: \", zMq1)\n",
    "print(\"difference: \", Mq1z.dif(zMq1))"
   ]
  },
  {
   "cell_type": "markdown",
   "metadata": {},
   "source": [
    "The precise rule about the impact of reversing positions of named terms in algebraic expressions can and will be applied consistently from now on. Am I cheating on the non-commutative nature of quaternions? I think the answer is \"no\" as demonstrated by the qtype of the difference above, 'm₁xz-zxRm₁'. This says, from left to right, form the product - even plus odd - of m₁ times z, then subtract z \"xR\" m₁, where xR is the reverse product which is the difference of the even and odd products. The difference of those is exactly zero, always, even though the qtypes are distinct."
   ]
  },
  {
   "cell_type": "markdown",
   "metadata": {},
   "source": [
    "A digression from the book... This idea of a rule for reversing positions in algebraic expressions is not in wide use. I think there is a legitimate reason to never use quaternions in practice: the definition of a quaternion derivative remains a topic of study. There are people who work with left- or right-derivatives because they are different. Consider the standard limit definition:\n",
    "\n",
    "$$ \\frac{d f(q)}{dq} = \\lim_{dq \\rightarrow 0} (f(q + dq) - f(q)) \\;x \\;dq^{-1} $$\n",
    "\n",
    "I would have to consult the literature to find out if this was called a left- or right-derivative. Whatever it is called does not matter with this new rule for reversal in place. Yes, the differential can now be moved to the left so long as one uses the reverse product:\n",
    "$$\\lim_{dq \\rightarrow 0} (f(q + dq) - f(q)) \\; x \\; dq^{-1} = \\lim_{dq \\rightarrow 0} dq^{-1} \\; xR \\;(f(q + dq) - f(q)) $$\n",
    "Getting one consistent definition for a quaternion derivative may be just as important as anything else in this collection of work, so I think it was worth the digression."
   ]
  },
  {
   "cell_type": "markdown",
   "metadata": {},
   "source": [
    "Back to the question at hand, namely that $Mz|A>=zM|A>$. Notice the $Mz$ and $zM$ can be viewed a product of operators, a subject that has yet to be discussed. This is because $z$ is viewed as \"just a number\", despite its location in the bracket notation."
   ]
  },
  {
   "cell_type": "code",
   "execution_count": 4,
   "metadata": {},
   "outputs": [
    {
     "name": "stdout",
     "output_type": "stream",
     "text": [
      "Mz\n",
      "n=1: (Mt1*zt - Mx1*zx - My1*zy - Mz1*zz, Mt1*zx + Mx1*zt + My1*zz - Mz1*zy, Mt1*zy - Mx1*zz + My1*zt + Mz1*zx, Mt1*zz + Mx1*zy - My1*zx + Mz1*zt) m₁xz\n",
      "n=2: (Mt2*zt - Mx2*zx - My2*zy - Mz2*zz, Mt2*zx + Mx2*zt + My2*zz - Mz2*zy, Mt2*zy - Mx2*zz + My2*zt + Mz2*zx, Mt2*zz + Mx2*zy - My2*zx + Mz2*zt) m₂xz\n",
      "n=3: (Mt3*zt - Mx3*zx - My3*zy - Mz3*zz, Mt3*zx + Mx3*zt + My3*zz - Mz3*zy, Mt3*zy - Mx3*zz + My3*zt + Mz3*zx, Mt3*zz + Mx3*zy - My3*zx + Mz3*zt) m₃xz\n",
      "n=4: (Mt4*zt - Mx4*zx - My4*zy - Mz4*zz, Mt4*zx + Mx4*zt + My4*zz - Mz4*zy, Mt4*zy - Mx4*zz + My4*zt + Mz4*zx, Mt4*zz + Mx4*zy - My4*zx + Mz4*zt) m₄xz\n",
      "sum= (Mt1*zt + Mt2*zt + Mt3*zt + Mt4*zt - Mx1*zx - Mx2*zx - Mx3*zx - Mx4*zx - My1*zy - My2*zy - My3*zy - My4*zy - Mz1*zz - Mz2*zz - Mz3*zz - Mz4*zz, Mt1*zx + Mt2*zx + Mt3*zx + Mt4*zx + Mx1*zt + Mx2*zt + Mx3*zt + Mx4*zt + My1*zz + My2*zz + My3*zz + My4*zz - Mz1*zy - Mz2*zy - Mz3*zy - Mz4*zy, Mt1*zy + Mt2*zy + Mt3*zy + Mt4*zy - Mx1*zz - Mx2*zz - Mx3*zz - Mx4*zz + My1*zt + My2*zt + My3*zt + My4*zt + Mz1*zx + Mz2*zx + Mz3*zx + Mz4*zx, Mt1*zz + Mt2*zz + Mt3*zz + Mt4*zz + Mx1*zy + Mx2*zy + Mx3*zy + Mx4*zy - My1*zx - My2*zx - My3*zx - My4*zx + Mz1*zt + Mz2*zt + Mz3*zt + Mz4*zt) m₁xz+m₂xz+m₃xz+m₄xz\n",
      "\n",
      "zM\n",
      "n=1: (Mt1*zt - Mx1*zx - My1*zy - Mz1*zz, Mt1*zx + Mx1*zt + My1*zz - Mz1*zy, Mt1*zy - Mx1*zz + My1*zt + Mz1*zx, Mt1*zz + Mx1*zy - My1*zx + Mz1*zt) zxRm₁\n",
      "n=2: (Mt2*zt - Mx2*zx - My2*zy - Mz2*zz, Mt2*zx + Mx2*zt + My2*zz - Mz2*zy, Mt2*zy - Mx2*zz + My2*zt + Mz2*zx, Mt2*zz + Mx2*zy - My2*zx + Mz2*zt) zxRm₂\n",
      "n=3: (Mt3*zt - Mx3*zx - My3*zy - Mz3*zz, Mt3*zx + Mx3*zt + My3*zz - Mz3*zy, Mt3*zy - Mx3*zz + My3*zt + Mz3*zx, Mt3*zz + Mx3*zy - My3*zx + Mz3*zt) zxRm₃\n",
      "n=4: (Mt4*zt - Mx4*zx - My4*zy - Mz4*zz, Mt4*zx + Mx4*zt + My4*zz - Mz4*zy, Mt4*zy - Mx4*zz + My4*zt + Mz4*zx, Mt4*zz + Mx4*zy - My4*zx + Mz4*zt) zxRm₄\n",
      "sum= (Mt1*zt + Mt2*zt + Mt3*zt + Mt4*zt - Mx1*zx - Mx2*zx - Mx3*zx - Mx4*zx - My1*zy - My2*zy - My3*zy - My4*zy - Mz1*zz - Mz2*zz - Mz3*zz - Mz4*zz, Mt1*zx + Mt2*zx + Mt3*zx + Mt4*zx + Mx1*zt + Mx2*zt + Mx3*zt + Mx4*zt + My1*zz + My2*zz + My3*zz + My4*zz - Mz1*zy - Mz2*zy - Mz3*zy - Mz4*zy, Mt1*zy + Mt2*zy + Mt3*zy + Mt4*zy - Mx1*zz - Mx2*zz - Mx3*zz - Mx4*zz + My1*zt + My2*zt + My3*zt + My4*zt + Mz1*zx + Mz2*zx + Mz3*zx + Mz4*zx, Mt1*zz + Mt2*zz + Mt3*zz + Mt4*zz + Mx1*zy + Mx2*zy + Mx3*zy + Mx4*zy - My1*zx - My2*zx - My3*zx - My4*zx + Mz1*zt + Mz2*zt + Mz3*zt + Mz4*zt) zxRm₁+zxRm₂+zxRm₃+zxRm₄\n"
     ]
    }
   ],
   "source": [
    "Mq1z = Mq1.product(zq)\n",
    "Mq2z = Mq2.product(zq)\n",
    "Mq3z = Mq3.product(zq)\n",
    "Mq4z = Mq4.product(zq)\n",
    "Mz = qt.QHStates([Mq1z, Mq2z, Mq3z, Mq4z])\n",
    "Mz.print_state(\"Mz\", 1)\n",
    "\n",
    "zMq1 = zq.product(Mq1, reverse=True)\n",
    "zMq2 = zq.product(Mq2, reverse=True)\n",
    "zMq3 = zq.product(Mq3, reverse=True)\n",
    "zMq4 = zq.product(Mq4, reverse=True)\n",
    "zM = qt.QHStates([zMq1, zMq2, zMq3, zMq4])\n",
    "zM.print_state(\"zM\")"
   ]
  },
  {
   "cell_type": "markdown",
   "metadata": {},
   "source": [
    "If you stare at these long enough, they do look identical. Prove it."
   ]
  },
  {
   "cell_type": "code",
   "execution_count": 5,
   "metadata": {},
   "outputs": [
    {
     "name": "stdout",
     "output_type": "stream",
     "text": [
      "n=1: (0, 0, 0, 0) m₁xzxa₁+m₂xzxa₂-zxRm₁xa₁+zxRm₂xa₂\n",
      "n=2: (0, 0, 0, 0) m₃xzxa₁+m₄xzxa₂-zxRm₃xa₁+zxRm₄xa₂\n"
     ]
    }
   ],
   "source": [
    "MzA = A.product(\"ket\", operator=Mz)\n",
    "zMA = A.product(\"ket\", operator=zM)\n",
    "print(MzA.dif(zMA))"
   ]
  },
  {
   "cell_type": "markdown",
   "metadata": {},
   "source": [
    "Again, the qtypes indicated that different roads were taken to get to the same result."
   ]
  },
  {
   "cell_type": "markdown",
   "metadata": {},
   "source": [
    "![](images/lecture_3/c3_p54_q1.jpg)"
   ]
  },
  {
   "cell_type": "markdown",
   "metadata": {},
   "source": [
    "The next sections use 3x3 matrices, so let's make the ket A have 3 elements. To create an orthornormal basis for j, just use 1, j, and j. Here is the ket A in component form:"
   ]
  },
  {
   "cell_type": "code",
   "execution_count": 6,
   "metadata": {},
   "outputs": [
    {
     "name": "stdout",
     "output_type": "stream",
     "text": [
      "A\n",
      "n=1: (At1, Ax1, Ay1, Az1) a₁x1+0xj+0xj\n",
      "n=2: (-Ay2, -Az2, At2, Ax2) 0x1+a₂xj+0xj\n",
      "n=3: (-Ay3, -Az3, At3, Ax3) 0x1+0xj+axj\n",
      "sum= (At1 - Ay2 - Ay3, Ax1 - Az2 - Az3, At2 + At3 + Ay1, Ax2 + Ax3 + Az1) a₁x1+0xj+0xj+0x1+a₂xj+0xj+0x1+0xj+axj\n",
      "\n"
     ]
    }
   ],
   "source": [
    "At3, Ax3, Ay3, Az3 = sp.symbols(\"At3 Ax3 Ay3 Az3\")\n",
    "Aq3 = qt.QH([At3, Ax3, Ay3, Az3], qtype=\"a\")\n",
    "aj = qt.QHStates([Aq1, Aq2, Aq3]).diagonal(3)\n",
    "jj = qt.QHStates([qt.QH().q_1(), qt.QH().q_j(), qt.QH().q_j()])\n",
    "A = jj.product(\"ket\", operator=aj)\n",
    "A.print_state(\"A\", 1)"
   ]
  },
  {
   "cell_type": "markdown",
   "metadata": {},
   "source": [
    "![](images/lecture_3/c3_p55_q1.jpg)"
   ]
  },
  {
   "cell_type": "markdown",
   "metadata": {},
   "source": [
    "Make M bigger, $3^2$."
   ]
  },
  {
   "cell_type": "code",
   "execution_count": 7,
   "metadata": {},
   "outputs": [
    {
     "name": "stdout",
     "output_type": "stream",
     "text": [
      "M\n",
      "n=1: (Mt1, Mx1, My1, Mz1) m₁\n",
      "n=2: (Mt2, Mx2, My2, Mz2) m₂\n",
      "n=3: (Mt3, Mx3, My3, Mz3) m₃\n",
      "n=4: (Mt4, Mx4, My4, Mz4) m₄\n",
      "n=5: (Mt5, Mx5, My5, Mz5) m₅\n",
      "n=6: (Mt6, Mx6, My6, Mz6) m₆\n",
      "n=7: (Mt7, Mx7, My7, Mz7) m₇\n",
      "n=8: (Mt8, Mx8, My8, Mz8) m₈\n",
      "n=9: (Mt9, Mx9, My9, Mz9) m₉\n",
      "sum= (Mt1 + Mt2 + Mt3 + Mt4 + Mt5 + Mt6 + Mt7 + Mt8 + Mt9, Mx1 + Mx2 + Mx3 + Mx4 + Mx5 + Mx6 + Mx7 + Mx8 + Mx9, My1 + My2 + My3 + My4 + My5 + My6 + My7 + My8 + My9, Mz1 + Mz2 + Mz3 + Mz4 + Mz5 + Mz6 + Mz7 + Mz8 + Mz9) m₁+m₂+m₃+m₄+m₅+m₆+m₇+m₈+m₉\n"
     ]
    }
   ],
   "source": [
    "Mt5, Mx5, My5, Mz5 = sp.symbols(\"Mt5 Mx5 My5 Mz5\")\n",
    "Mt6, Mx6, My6, Mz6 = sp.symbols(\"Mt6 Mx6 My6 Mz6\")\n",
    "Mt7, Mx7, My7, Mz7 = sp.symbols(\"Mt7 Mx7 My7 Mz7\")\n",
    "Mt8, Mx8, My8, Mz8 = sp.symbols(\"Mt8 Mx8 My8 Mz8\")\n",
    "Mt9, Mx9, My9, Mz9 = sp.symbols(\"Mt9 Mx9 My9 Mz9\")\n",
    "\n",
    "Mq5 = qt.QH([Mt5, Mx5, My5, Mz5], qtype=\"m₅\")\n",
    "Mq6 = qt.QH([Mt6, Mx6, My6, Mz6], qtype=\"m₆\")\n",
    "Mq7 = qt.QH([Mt7, Mx7, My7, Mz7], qtype=\"m₇\")\n",
    "Mq8 = qt.QH([Mt8, Mx8, My8, Mz8], qtype=\"m₈\")\n",
    "Mq9 = qt.QH([Mt9, Mx9, My9, Mz9], qtype=\"m₉\")\n",
    "\n",
    "M = qt.QHStates([Mq1, Mq2, Mq3, Mq4, Mq5, Mq6, Mq7, Mq8, Mq9])\n",
    "M.print_state(\"M\")"
   ]
  },
  {
   "cell_type": "markdown",
   "metadata": {},
   "source": [
    "![](images/lecture_3/c3_p55_q2.jpg)"
   ]
  },
  {
   "cell_type": "markdown",
   "metadata": {},
   "source": [
    "Form the product."
   ]
  },
  {
   "cell_type": "code",
   "execution_count": 8,
   "metadata": {},
   "outputs": [
    {
     "name": "stdout",
     "output_type": "stream",
     "text": [
      "MA\n",
      "n=1: (At1*Mt1 - At2*My2 - At3*My3 - Ax1*Mx1 - Ax2*Mz2 - Ax3*Mz3 - Ay1*My1 - Ay2*Mt2 - Ay3*Mt3 - Az1*Mz1 + Az2*Mx2 + Az3*Mx3, At1*Mx1 - At2*Mz2 - At3*Mz3 + Ax1*Mt1 + Ax2*My2 + Ax3*My3 - Ay1*Mz1 - Ay2*Mx2 - Ay3*Mx3 + Az1*My1 - Az2*Mt2 - Az3*Mt3, At1*My1 + At2*Mt2 + At3*Mt3 + Ax1*Mz1 - Ax2*Mx2 - Ax3*Mx3 + Ay1*Mt1 - Ay2*My2 - Ay3*My3 - Az1*Mx1 - Az2*Mz2 - Az3*Mz3, At1*Mz1 + At2*Mx2 + At3*Mx3 - Ax1*My1 + Ax2*Mt2 + Ax3*Mt3 + Ay1*Mx1 - Ay2*Mz2 - Ay3*Mz3 + Az1*Mt1 + Az2*My2 + Az3*My3) m₁xa₁x1+0xj+0xj+m₂x0x1+a₂xj+0xj+m₃x0x1+0xj+axj\n",
      "n=2: (At1*Mt4 - At2*My5 - At3*My6 - Ax1*Mx4 - Ax2*Mz5 - Ax3*Mz6 - Ay1*My4 - Ay2*Mt5 - Ay3*Mt6 - Az1*Mz4 + Az2*Mx5 + Az3*Mx6, At1*Mx4 - At2*Mz5 - At3*Mz6 + Ax1*Mt4 + Ax2*My5 + Ax3*My6 - Ay1*Mz4 - Ay2*Mx5 - Ay3*Mx6 + Az1*My4 - Az2*Mt5 - Az3*Mt6, At1*My4 + At2*Mt5 + At3*Mt6 + Ax1*Mz4 - Ax2*Mx5 - Ax3*Mx6 + Ay1*Mt4 - Ay2*My5 - Ay3*My6 - Az1*Mx4 - Az2*Mz5 - Az3*Mz6, At1*Mz4 + At2*Mx5 + At3*Mx6 - Ax1*My4 + Ax2*Mt5 + Ax3*Mt6 + Ay1*Mx4 - Ay2*Mz5 - Ay3*Mz6 + Az1*Mt4 + Az2*My5 + Az3*My6) m₄xa₁x1+0xj+0xj+m₅x0x1+a₂xj+0xj+m₆x0x1+0xj+axj\n",
      "n=3: (At1*Mt7 - At2*My8 - At3*My9 - Ax1*Mx7 - Ax2*Mz8 - Ax3*Mz9 - Ay1*My7 - Ay2*Mt8 - Ay3*Mt9 - Az1*Mz7 + Az2*Mx8 + Az3*Mx9, At1*Mx7 - At2*Mz8 - At3*Mz9 + Ax1*Mt7 + Ax2*My8 + Ax3*My9 - Ay1*Mz7 - Ay2*Mx8 - Ay3*Mx9 + Az1*My7 - Az2*Mt8 - Az3*Mt9, At1*My7 + At2*Mt8 + At3*Mt9 + Ax1*Mz7 - Ax2*Mx8 - Ax3*Mx9 + Ay1*Mt7 - Ay2*My8 - Ay3*My9 - Az1*Mx7 - Az2*Mz8 - Az3*Mz9, At1*Mz7 + At2*Mx8 + At3*Mx9 - Ax1*My7 + Ax2*Mt8 + Ax3*Mt9 + Ay1*Mx7 - Ay2*Mz8 - Ay3*Mz9 + Az1*Mt7 + Az2*My8 + Az3*My9) m₇xa₁x1+0xj+0xj+m₈x0x1+a₂xj+0xj+m₉x0x1+0xj+axj\n"
     ]
    }
   ],
   "source": [
    "MA = A.Euclidean_product(\"ket\", operator=M)\n",
    "MA.print_state(\"MA\", quiet=True)"
   ]
  },
  {
   "cell_type": "markdown",
   "metadata": {},
   "source": [
    "This simple result is crazy complex. Every term has 4 space-time dimensions. There are three state dimensions, so that makes 12 terms for the ket A. The operator M has nine state dimensions so has 36 spots to fill. All in all the ket $\\beta$ is composed of the sum of $3 * 4 * 4 * 3 = 12 * 12 = 144$ terms. Quantum mechanics done over the field of complex numbers would have half this number, or 72, so it is still complicated.\n",
    "\n",
    "I made sure the $n=1$ state was simpler. One does see for the first part of the $n=1$ state that 1 pairs with 1. Why all the minus signs? These are quaternions, so a factor of $i$ times a factor of $i$ generates a minus number."
   ]
  },
  {
   "cell_type": "markdown",
   "metadata": {},
   "source": [
    "![](images/lecture_3/c3_p56_q1.jpg)"
   ]
  },
  {
   "cell_type": "markdown",
   "metadata": {},
   "source": [
    "With quaternion series quantum mechanics, the accounting system changes, but the products remain the same. There are no matrices. Take the square matrix and stack them all in a line:\n",
    "$$m_{11}\\,m_{12}\\,m_{13}\\,m_{21}\\,m_{22}\\,m_{23}\\,m_{31}\\,m_{32}\\,m_{33}$$\n",
    "$$= (m_{1}\\,m_{2}\\,m_{3})(m_{4}\\,m_{5}\\,m_{6})(m_{7}\\,m_{8}\\,m_{9})$$\n",
    "The quaternion series is being treated in the algebraic operations as three sets of three, just like a matrix."
   ]
  },
  {
   "cell_type": "markdown",
   "metadata": {},
   "source": [
    "![](images/lecture_3/c3_p56_q2.jpg)"
   ]
  },
  {
   "cell_type": "markdown",
   "metadata": {},
   "source": [
    "With quaternion series, there are two types of representations going on dealing separately with space-time dimensions and with state dimensions. Space-time information can be written in Euclidean coordinates, polar coordinates, spherical coordinates, etc. The state dimensions can be written with an endless variety of basis vectors. There certainly is nothing special about the 1jj basis vector used to express the ket $|A>$."
   ]
  },
  {
   "cell_type": "markdown",
   "metadata": {},
   "source": [
    "![](images/lecture_3/c3_p57_q1.jpg)"
   ]
  },
  {
   "cell_type": "markdown",
   "metadata": {},
   "source": [
    "We have a matching pair: an Eigen-value which is a diagonal quaternion series operator and the Eigen-ket. What is impressive about this pair is how simple it is compared to the general case (the one with 144 terms). The Eigen-ket can be whatever. As usual, it has 4 space-time dimensions, but can have from one to an infinite number of state dimensions. The Eigen-value will not change the \"direction\" of its Eigen-ket. I put \"direction\" in quotes because it is important to recall everything lives in space-time. The time part of space-time is not a direction. Much of the sport of quantum mechanics happens by characterizing the order found in these special pairs of Eigen-values and Eigen-kets in a sea of natural chaos. "
   ]
  },
  {
   "cell_type": "markdown",
   "metadata": {},
   "source": [
    "![](images/lecture_3/c3_p57_q2.jpg)"
   ]
  },
  {
   "cell_type": "markdown",
   "metadata": {},
   "source": [
    "Test it:"
   ]
  },
  {
   "cell_type": "code",
   "execution_count": 9,
   "metadata": {},
   "outputs": [
    {
     "name": "stdout",
     "output_type": "stream",
     "text": [
      "M12 k11, an eigen pair?: \n",
      "n=1: (3, 0, 0, 0) QxQ+QxQ\n",
      "n=2: (3, 0, 0, 0) QxQ+QxQ\n",
      "sum= (6, 0, 0, 0) QxQ+QxQ+QxQ+QxQ\n"
     ]
    }
   ],
   "source": [
    "q_1 = qt.QH([1, 0, 0, 0])\n",
    "q_2 = qt.QH([2, 0, 0, 0])\n",
    "M12 = qt.QHStates([q_1, q_2, q_2, q_1])\n",
    "k11 = qt.QHStates([q_1, q_1])\n",
    "M12k11 = k11.product(\"ket\", operator=M12)\n",
    "M12k11.print_state(\"M12 k11, an eigen pair?: \")"
   ]
  },
  {
   "cell_type": "markdown",
   "metadata": {},
   "source": [
    "The matrix $M$ has an Eigen-value of $3$ and and Eigen-ket of $|1 1>$."
   ]
  },
  {
   "cell_type": "markdown",
   "metadata": {},
   "source": [
    "![](images/lecture_3/c3_p57_q3.jpg)"
   ]
  },
  {
   "cell_type": "code",
   "execution_count": 10,
   "metadata": {},
   "outputs": [
    {
     "name": "stdout",
     "output_type": "stream",
     "text": [
      "M12 k1n1, an eigen pair?: \n",
      "n=1: (3, 0, 0, 0) QxQ+QxQ\n",
      "n=2: (3, 0, 0, 0) QxQ+QxQ\n",
      "sum= (6, 0, 0, 0) QxQ+QxQ+QxQ+QxQ\n"
     ]
    }
   ],
   "source": [
    "q_n1 = qt.QH([-1, 0, 0, 0])\n",
    "k1n1 = qt.QHStates([q_1, q_n1])\n",
    "M12k1n1 = k1n1.product(\"ket\", operator=M12)\n",
    "M12k11.print_state(\"M12 k1n1, an eigen pair?: \")"
   ]
  },
  {
   "cell_type": "markdown",
   "metadata": {},
   "source": [
    "Nice, same Eigen-value, different Eigen-ket."
   ]
  },
  {
   "cell_type": "markdown",
   "metadata": {},
   "source": [
    "![](images/lecture_3/c3_p58_q1.jpg)"
   ]
  },
  {
   "cell_type": "code",
   "execution_count": 11,
   "metadata": {},
   "outputs": [
    {
     "name": "stdout",
     "output_type": "stream",
     "text": [
      "M12 k10, an eigen pair?: \n",
      "n=1: (1, 0, 0, 0) QxQ+QxQ\n",
      "n=2: (2, 0, 0, 0) QxQ+QxQ\n",
      "sum= (3, 0, 0, 0) QxQ+QxQ+QxQ+QxQ\n"
     ]
    }
   ],
   "source": [
    "q_0 = qt.QH()\n",
    "k10 = qt.QHStates([q_1, q_0])\n",
    "M12k10 = k10.product(\"ket\", operator=M12)\n",
    "M12k10.print_state(\"M12 k10, an eigen pair?: \")"
   ]
  },
  {
   "cell_type": "markdown",
   "metadata": {},
   "source": [
    "Just not the same. So k10 is not an Eigen-ket for the operator $M$. Most kets are not. Being an Eigen-ket for an operator is a rare thing."
   ]
  },
  {
   "cell_type": "markdown",
   "metadata": {},
   "source": [
    "![](images/lecture_3/c3_p58_q2.jpg)"
   ]
  },
  {
   "cell_type": "code",
   "execution_count": 12,
   "metadata": {},
   "outputs": [
    {
     "name": "stdout",
     "output_type": "stream",
     "text": [
      "Mn11 k1i, an eigen pair?: \n",
      "n=1: (0, -1, 0, 0) QxQ+QxQ\n",
      "n=2: (1, 0, 0, 0) QxQ+QxQ\n",
      "sum= (1, -1, 0, 0) QxQ+QxQ+QxQ+QxQ\n"
     ]
    }
   ],
   "source": [
    "q_i = qt.QH([0, 1, 0, 0])\n",
    "Mn11 = qt.QHStates([q_0, q_n1, q_1, q_0])\n",
    "k1i = qt.QHStates([q_1, q_i])\n",
    "Mn11_k1i = k1i.product(\"ket\", operator=Mn11)\n",
    "Mn11_k1i.print_state(\"Mn11 k1i, an eigen pair?: \")"
   ]
  },
  {
   "cell_type": "markdown",
   "metadata": {},
   "source": [
    "What? This doesn't look like the first Eigen-value/Eigen-ket pair with repeated values. That \"easy to spot\" quality arose from the fact that both Eigen-values were real numbers."
   ]
  },
  {
   "cell_type": "code",
   "execution_count": 13,
   "metadata": {},
   "outputs": [
    {
     "name": "stdout",
     "output_type": "stream",
     "text": [
      "op_ni_k1i eigen pair?: \n",
      "n=1: (0, -1, 0, 0) QxQ+0xQ\n",
      "n=2: (1, 0, 0, 0) 0xQ+QxQ\n",
      "sum= (1, -1, 0, 0) QxQ+0xQ+0xQ+QxQ\n"
     ]
    }
   ],
   "source": [
    "q_ni = qt.QH([0, -1, 0, 0])\n",
    "op_ni = qt.QHStates([q_ni])\n",
    "op_ni_k1i = k1i.product(\"ket\", operator=op_ni)\n",
    "op_ni_k1i.print_state(\"op_ni_k1i eigen pair?: \")"
   ]
  },
  {
   "cell_type": "markdown",
   "metadata": {},
   "source": [
    "This is the same result as above, so for operator $Mn11$, the Eigen-value is $-i$ for Eigen-ket $|1 i>$. This three-way relationship between operator, Eigen-value, and Eigen-ket is tricky, making the study of quantum mechanics every bit as hard as expected."
   ]
  },
  {
   "cell_type": "markdown",
   "metadata": {},
   "source": [
    "![](images/lecture_3/c3_p60_q1.jpg)"
   ]
  },
  {
   "cell_type": "markdown",
   "metadata": {},
   "source": [
    "![](images/lecture_3/c3_p61_q1.jpg)"
   ]
  },
  {
   "cell_type": "markdown",
   "metadata": {},
   "source": [
    "This is straight-forward to write into code."
   ]
  },
  {
   "cell_type": "code",
   "execution_count": 14,
   "metadata": {},
   "outputs": [
    {
     "name": "stdout",
     "output_type": "stream",
     "text": [
      "M\n",
      "n=1: (Mt1, Mx1, My1, Mz1) m₁\n",
      "n=2: (Mt2, Mx2, My2, Mz2) m₂\n",
      "n=3: (Mt3, Mx3, My3, Mz3) m₃\n",
      "n=4: (Mt4, Mx4, My4, Mz4) m₄\n",
      "n=5: (Mt5, Mx5, My5, Mz5) m₅\n",
      "n=6: (Mt6, Mx6, My6, Mz6) m₆\n",
      "n=7: (Mt7, Mx7, My7, Mz7) m₇\n",
      "n=8: (Mt8, Mx8, My8, Mz8) m₈\n",
      "n=9: (Mt9, Mx9, My9, Mz9) m₉\n",
      "sum= (Mt1 + Mt2 + Mt3 + Mt4 + Mt5 + Mt6 + Mt7 + Mt8 + Mt9, Mx1 + Mx2 + Mx3 + Mx4 + Mx5 + Mx6 + Mx7 + Mx8 + Mx9, My1 + My2 + My3 + My4 + My5 + My6 + My7 + My8 + My9, Mz1 + Mz2 + Mz3 + Mz4 + Mz5 + Mz6 + Mz7 + Mz8 + Mz9) m₁+m₂+m₃+m₄+m₅+m₆+m₇+m₈+m₉\n",
      "\n",
      "M†\n",
      "n=1: (Mt1, -Mx1, -My1, -Mz1) m₁*\n",
      "n=2: (Mt4, -Mx4, -My4, -Mz4) m₄*\n",
      "n=3: (Mt7, -Mx7, -My7, -Mz7) m₇*\n",
      "n=4: (Mt2, -Mx2, -My2, -Mz2) m₂*\n",
      "n=5: (Mt5, -Mx5, -My5, -Mz5) m₅*\n",
      "n=6: (Mt8, -Mx8, -My8, -Mz8) m₈*\n",
      "n=7: (Mt3, -Mx3, -My3, -Mz3) m₃*\n",
      "n=8: (Mt6, -Mx6, -My6, -Mz6) m₆*\n",
      "n=9: (Mt9, -Mx9, -My9, -Mz9) m₉*\n",
      "sum= (Mt1 + Mt2 + Mt3 + Mt4 + Mt5 + Mt6 + Mt7 + Mt8 + Mt9, -Mx1 - Mx2 - Mx3 - Mx4 - Mx5 - Mx6 - Mx7 - Mx8 - Mx9, -My1 - My2 - My3 - My4 - My5 - My6 - My7 - My8 - My9, -Mz1 - Mz2 - Mz3 - Mz4 - Mz5 - Mz6 - Mz7 - Mz8 - Mz9) m₁*+m₄*+m₇*+m₂*+m₅*+m₈*+m₃*+m₆*+m₉*\n"
     ]
    }
   ],
   "source": [
    "M.print_state(\"M\", 1)\n",
    "M.dagger().print_state(\"M†\")"
   ]
  },
  {
   "cell_type": "markdown",
   "metadata": {},
   "source": [
    "Three of the nine states \"stay in place\", those being n=1, n=5, and n=9. A little game can be made of spotting how the other states shuffle. Every term gets conjugated, no exceptions."
   ]
  },
  {
   "cell_type": "markdown",
   "metadata": {},
   "source": [
    "![](images/lecture_3/c3_p61_q2.jpg)"
   ]
  },
  {
   "cell_type": "markdown",
   "metadata": {},
   "source": [
    "I really am doing an experiment with these notebooks. I have already calculated $MA$, that was the expression with 144 terms cited earlier. Now I need to calculate AM†. Will the conjugate be equal?\n",
    "\n",
    "Here's how I _know_ I am doing experiments: the first try did not work. The function Euclidean_product() is quite simple: all it does in the back end is take the conjugate of the bra vector (if there is one) and feeds it into the function product(). The function product() is not simple. It was written to handle all the varieties of bracket operations. It got a detail of how to multiply the operator by the bra vector incorrect. It took several days to debug that issue. Now we can proceed."
   ]
  },
  {
   "cell_type": "code",
   "execution_count": 15,
   "metadata": {},
   "outputs": [
    {
     "name": "stdout",
     "output_type": "stream",
     "text": [
      "MA\n",
      "n=1: (At1*Mt1 - At2*My2 - At3*My3 - Ax1*Mx1 - Ax2*Mz2 - Ax3*Mz3 - Ay1*My1 - Ay2*Mt2 - Ay3*Mt3 - Az1*Mz1 + Az2*Mx2 + Az3*Mx3, At1*Mx1 - At2*Mz2 - At3*Mz3 + Ax1*Mt1 + Ax2*My2 + Ax3*My3 - Ay1*Mz1 - Ay2*Mx2 - Ay3*Mx3 + Az1*My1 - Az2*Mt2 - Az3*Mt3, At1*My1 + At2*Mt2 + At3*Mt3 + Ax1*Mz1 - Ax2*Mx2 - Ax3*Mx3 + Ay1*Mt1 - Ay2*My2 - Ay3*My3 - Az1*Mx1 - Az2*Mz2 - Az3*Mz3, At1*Mz1 + At2*Mx2 + At3*Mx3 - Ax1*My1 + Ax2*Mt2 + Ax3*Mt3 + Ay1*Mx1 - Ay2*Mz2 - Ay3*Mz3 + Az1*Mt1 + Az2*My2 + Az3*My3) m₁xa₁x1+0xj+0xj+m₂x0x1+a₂xj+0xj+m₃x0x1+0xj+axj\n",
      "n=2: (At1*Mt4 - At2*My5 - At3*My6 - Ax1*Mx4 - Ax2*Mz5 - Ax3*Mz6 - Ay1*My4 - Ay2*Mt5 - Ay3*Mt6 - Az1*Mz4 + Az2*Mx5 + Az3*Mx6, At1*Mx4 - At2*Mz5 - At3*Mz6 + Ax1*Mt4 + Ax2*My5 + Ax3*My6 - Ay1*Mz4 - Ay2*Mx5 - Ay3*Mx6 + Az1*My4 - Az2*Mt5 - Az3*Mt6, At1*My4 + At2*Mt5 + At3*Mt6 + Ax1*Mz4 - Ax2*Mx5 - Ax3*Mx6 + Ay1*Mt4 - Ay2*My5 - Ay3*My6 - Az1*Mx4 - Az2*Mz5 - Az3*Mz6, At1*Mz4 + At2*Mx5 + At3*Mx6 - Ax1*My4 + Ax2*Mt5 + Ax3*Mt6 + Ay1*Mx4 - Ay2*Mz5 - Ay3*Mz6 + Az1*Mt4 + Az2*My5 + Az3*My6) m₄xa₁x1+0xj+0xj+m₅x0x1+a₂xj+0xj+m₆x0x1+0xj+axj\n",
      "n=3: (At1*Mt7 - At2*My8 - At3*My9 - Ax1*Mx7 - Ax2*Mz8 - Ax3*Mz9 - Ay1*My7 - Ay2*Mt8 - Ay3*Mt9 - Az1*Mz7 + Az2*Mx8 + Az3*Mx9, At1*Mx7 - At2*Mz8 - At3*Mz9 + Ax1*Mt7 + Ax2*My8 + Ax3*My9 - Ay1*Mz7 - Ay2*Mx8 - Ay3*Mx9 + Az1*My7 - Az2*Mt8 - Az3*Mt9, At1*My7 + At2*Mt8 + At3*Mt9 + Ax1*Mz7 - Ax2*Mx8 - Ax3*Mx9 + Ay1*Mt7 - Ay2*My8 - Ay3*My9 - Az1*Mx7 - Az2*Mz8 - Az3*Mz9, At1*Mz7 + At2*Mx8 + At3*Mx9 - Ax1*My7 + Ax2*Mt8 + Ax3*Mt9 + Ay1*Mx7 - Ay2*Mz8 - Ay3*Mz9 + Az1*Mt7 + Az2*My8 + Az3*My9) m₇xa₁x1+0xj+0xj+m₈x0x1+a₂xj+0xj+m₉x0x1+0xj+axj\n",
      "\n",
      "AM†*\n",
      "n=1: (At1*Mt1 - At2*My2 - At3*My3 - Ax1*Mx1 - Ax2*Mz2 - Ax3*Mz3 - Ay1*My1 - Ay2*Mt2 - Ay3*Mt3 - Az1*Mz1 + Az2*Mx2 + Az3*Mx3, At1*Mx1 - At2*Mz2 - At3*Mz3 + Ax1*Mt1 + Ax2*My2 + Ax3*My3 - Ay1*Mz1 - Ay2*Mx2 - Ay3*Mx3 + Az1*My1 - Az2*Mt2 - Az3*Mt3, At1*My1 + At2*Mt2 + At3*Mt3 + Ax1*Mz1 - Ax2*Mx2 - Ax3*Mx3 + Ay1*Mt1 - Ay2*My2 - Ay3*My3 - Az1*Mx1 - Az2*Mz2 - Az3*Mz3, At1*Mz1 + At2*Mx2 + At3*Mx3 - Ax1*My1 + Ax2*Mt2 + Ax3*Mt3 + Ay1*Mx1 - Ay2*Mz2 - Ay3*Mz3 + Az1*Mt1 + Az2*My2 + Az3*My3) a₁x1+0xj+0xj*xm₁*+0x1+a₂xj+0xj*xm₂*+0x1+0xj+axj*xm₃**\n",
      "n=2: (At1*Mt4 - At2*My5 - At3*My6 - Ax1*Mx4 - Ax2*Mz5 - Ax3*Mz6 - Ay1*My4 - Ay2*Mt5 - Ay3*Mt6 - Az1*Mz4 + Az2*Mx5 + Az3*Mx6, At1*Mx4 - At2*Mz5 - At3*Mz6 + Ax1*Mt4 + Ax2*My5 + Ax3*My6 - Ay1*Mz4 - Ay2*Mx5 - Ay3*Mx6 + Az1*My4 - Az2*Mt5 - Az3*Mt6, At1*My4 + At2*Mt5 + At3*Mt6 + Ax1*Mz4 - Ax2*Mx5 - Ax3*Mx6 + Ay1*Mt4 - Ay2*My5 - Ay3*My6 - Az1*Mx4 - Az2*Mz5 - Az3*Mz6, At1*Mz4 + At2*Mx5 + At3*Mx6 - Ax1*My4 + Ax2*Mt5 + Ax3*Mt6 + Ay1*Mx4 - Ay2*Mz5 - Ay3*Mz6 + Az1*Mt4 + Az2*My5 + Az3*My6) a₁x1+0xj+0xj*xm₄*+0x1+a₂xj+0xj*xm₅*+0x1+0xj+axj*xm₆**\n",
      "n=3: (At1*Mt7 - At2*My8 - At3*My9 - Ax1*Mx7 - Ax2*Mz8 - Ax3*Mz9 - Ay1*My7 - Ay2*Mt8 - Ay3*Mt9 - Az1*Mz7 + Az2*Mx8 + Az3*Mx9, At1*Mx7 - At2*Mz8 - At3*Mz9 + Ax1*Mt7 + Ax2*My8 + Ax3*My9 - Ay1*Mz7 - Ay2*Mx8 - Ay3*Mx9 + Az1*My7 - Az2*Mt8 - Az3*Mt9, At1*My7 + At2*Mt8 + At3*Mt9 + Ax1*Mz7 - Ax2*Mx8 - Ax3*Mx9 + Ay1*Mt7 - Ay2*My8 - Ay3*My9 - Az1*Mx7 - Az2*Mz8 - Az3*Mz9, At1*Mz7 + At2*Mx8 + At3*Mx9 - Ax1*My7 + Ax2*Mt8 + Ax3*Mt9 + Ay1*Mx7 - Ay2*Mz8 - Ay3*Mz9 + Az1*Mt7 + Az2*My8 + Az3*My9) a₁x1+0xj+0xj*xm₇*+0x1+a₂xj+0xj*xm₈*+0x1+0xj+axj*xm₉**\n",
      "\n",
      "M|A> - <A|M†\n",
      "n=1: (0, 0, 0, 0) m₁xa₁x1+0xj+0xj+m₂x0x1+a₂xj+0xj+m₃x0x1+0xj+axj-a₁x1+0xj+0xj*xm₁*+0x1+a₂xj+0xj*xm₂*+0x1+0xj+axj*xm₃**\n",
      "n=2: (0, 0, 0, 0) m₄xa₁x1+0xj+0xj+m₅x0x1+a₂xj+0xj+m₆x0x1+0xj+axj-a₁x1+0xj+0xj*xm₄*+0x1+a₂xj+0xj*xm₅*+0x1+0xj+axj*xm₆**\n",
      "n=3: (0, 0, 0, 0) m₇xa₁x1+0xj+0xj+m₈x0x1+a₂xj+0xj+m₉x0x1+0xj+axj-a₁x1+0xj+0xj*xm₇*+0x1+a₂xj+0xj*xm₈*+0x1+0xj+axj*xm₉**\n"
     ]
    }
   ],
   "source": [
    "AMd_conj = A.Euclidean_product(\"bra\", operator=M.dagger()).conj()\n",
    "MA.print_state(\"MA\", 1, quiet=True)\n",
    "AMd_conj.print_state(\"AM†*\", 1, quiet=True)\n",
    "MA.dif(AMd_conj).print_state(\"M|A> - <A|M†\", quiet=True)"
   ]
  },
  {
   "cell_type": "markdown",
   "metadata": {},
   "source": [
    "Bingo, bingo. But _why_ is it true, particularly since quaternion series do not commute?\n",
    "\n",
    "The debugging I needed to calculate $<A|M$ correctly was a transpose the operator $M$. The transpose of a transpose is the operator $M$ unchanged. There are no conjugates involved in $M|A>$. There are three for $<A|M†*$: one for the bra vector $<A|$, one for the operator $M$, and finally the product of these two. Then there are three parts to analyze in the product of bra $<A|$ and operator $M$: the scalar terms, the even 3-vector terms, and the odd 3-vector terms. One scalar term gets no changes in sign what-so-ever. Three of the scalar terms flip signs twice, so no net change. The even 3-vector term is composed of a scalar and a 3-vector, so it flips signs once as a product, and once more with the final conjugate, so ends up unchanged. The odd 3-vector is the cross of two 3-vector terms, so the conjugates will change signs twice. There is a third sign change brought about by the change in the order of multiplication. The final conjugate leaves the odd 3-vector unchanged. Since the scalar, even and odd 3-vectors are unchanged, the two are equal. It is fun to see how all the parts shift under these changes in a way the preserves the final result."
   ]
  },
  {
   "cell_type": "markdown",
   "metadata": {},
   "source": [
    "## Hermitian Operators"
   ]
  },
  {
   "cell_type": "markdown",
   "metadata": {},
   "source": [
    "![](images/lecture_3/c3_p61_q3.jpg)"
   ]
  },
  {
   "cell_type": "markdown",
   "metadata": {},
   "source": [
    "Space-time dimensions are orthogonal to state dimensions. This means not only is there a sense of the two being at \"right angles\", but there is an intimate connection too. Every state dimension must have 4 space-time dimensions, but the number of state dimensions depends on the system under study. This issue is always framed in terms of real versus imaginary numbers, not something that is physical. With the quaternion series approach to quantum mechanics, the real versus imaginary story remains as true as it ever was. Now however, there is a physical interpretation. To say that the imaginary is zero is to say that an observer is located at the spatial location of (0, 0, 0). A measurement involves time or a time-like thing where the observer is in space or a space-like thing."
   ]
  },
  {
   "cell_type": "markdown",
   "metadata": {},
   "source": [
    "![](images/lecture_3/c3_p62_q1.jpg)"
   ]
  },
  {
   "cell_type": "markdown",
   "metadata": {},
   "source": [
    "Show this is not true in general."
   ]
  },
  {
   "cell_type": "code",
   "execution_count": 16,
   "metadata": {},
   "outputs": [
    {
     "name": "stdout",
     "output_type": "stream",
     "text": [
      "Is M† + M?\n",
      "n=1: (0, 2*Mx1, 2*My1, 2*Mz1) m₁-m₁*\n",
      "n=2: (Mt2 - Mt4, Mx2 + Mx4, My2 + My4, Mz2 + Mz4) m₂-m₄*\n",
      "n=3: (Mt3 - Mt7, Mx3 + Mx7, My3 + My7, Mz3 + Mz7) m₃-m₇*\n",
      "n=4: (-Mt2 + Mt4, Mx2 + Mx4, My2 + My4, Mz2 + Mz4) m₄-m₂*\n",
      "n=5: (0, 2*Mx5, 2*My5, 2*Mz5) m₅-m₅*\n",
      "n=6: (Mt6 - Mt8, Mx6 + Mx8, My6 + My8, Mz6 + Mz8) m₆-m₈*\n",
      "n=7: (-Mt3 + Mt7, Mx3 + Mx7, My3 + My7, Mz3 + Mz7) m₇-m₃*\n",
      "n=8: (-Mt6 + Mt8, Mx6 + Mx8, My6 + My8, Mz6 + Mz8) m₈-m₆*\n",
      "n=9: (0, 2*Mx9, 2*My9, 2*Mz9) m₉-m₉*\n"
     ]
    }
   ],
   "source": [
    "MD = M.dagger()\n",
    "MMD = M.dif(MD)\n",
    "MMD.print_state(\"Is M† + M?\", quiet=True)"
   ]
  },
  {
   "cell_type": "markdown",
   "metadata": {},
   "source": [
    "Notice how the diagonal terms **are** the same? That is kind of fascinating. The goal is to find observables where all those other terms drop out."
   ]
  },
  {
   "cell_type": "markdown",
   "metadata": {},
   "source": [
    "![](images/lecture_3/c3_p63_q1.jpg)"
   ]
  },
  {
   "cell_type": "markdown",
   "metadata": {},
   "source": [
    "The conjugate operator flips ths sign of the imaginaries. If $ \\lambda = \\lambda^* $, that can only be the case if the imaginaries are zero. For quaternion series quantum mechanics, that means eigenvalues are time-ish quantities."
   ]
  },
  {
   "cell_type": "markdown",
   "metadata": {},
   "source": [
    "## The Fundamental Theorem"
   ]
  },
  {
   "cell_type": "markdown",
   "metadata": {},
   "source": [
    "![](images/lecture_3/c3_p64_q1.jpg)"
   ]
  },
  {
   "cell_type": "markdown",
   "metadata": {},
   "source": [
    "![](images/lecture_3/c3_p64_q2.jpg)"
   ]
  },
  {
   "cell_type": "markdown",
   "metadata": {},
   "source": [
    "Most of what goes on in quantum mechanics is fleshing out the details of this fundamental theorem. Recall the three players: a Hermitian operator with $n^2$ state dimensions, an Eigen-ket of $n$ state dimensions and $n$ Eigen-values which can be degenerate. As discussed earlier, all $n$ Eigen-values are real-valued with all spatial terms equal to zero. "
   ]
  },
  {
   "cell_type": "markdown",
   "metadata": {},
   "source": [
    "![](images/lecture_3/c3_p64_q3.jpg)"
   ]
  },
  {
   "cell_type": "markdown",
   "metadata": {},
   "source": [
    "![](images/lecture_3/c3_p67_q1.jpg)"
   ]
  },
  {
   "cell_type": "markdown",
   "metadata": {},
   "source": [
    "Normalizing a basis quaternion series is trivial - just find the right number to normalize by and one is done with that part. It sounds like a bigger deal to be able to construct a collection of vectors that are all orthogonal. This turns out to be straight forward. It is discussed in the next section which covers the Gram-Schmidt procedure. Recall that a Hermitian operator is quite a special animal. All the Eigen-values are real-valued. One implication of this is that a real-value always necessarily commutes with any other quaternion. What does this mean for the corresponding Eigen-kets? They must be orthogonal to each other or else the Eigen-values could mix.\n",
    "\n",
    "The proper way to prove this is to start with one Eigen-value and create an normalized Eigen-ket basis. Then use the Gram-Schmidt procedure to get the other $n-1$ other basis quaternions."
   ]
  },
  {
   "cell_type": "markdown",
   "metadata": {},
   "source": [
    "## The Gram-Schmidt Process to Create an Orthonormal Basis"
   ]
  },
  {
   "cell_type": "markdown",
   "metadata": {},
   "source": [
    "![](images/lecture_3/c3_p68_q1.jpg)"
   ]
  },
  {
   "cell_type": "markdown",
   "metadata": {},
   "source": [
    "It took me a while to see how this works, but once seen clearly, well, of course it is easy. The first quaternion in a quaternion series gets normalized, simple. Before the second one gets normalized, subtract away the Euclidean product with the first quaternion. That assures it will be orthogonal. Rinse and repeat. "
   ]
  },
  {
   "cell_type": "code",
   "execution_count": 17,
   "metadata": {},
   "outputs": [],
   "source": [
    "def orthonormalize(qh):\n",
    "    \"\"\"Given a quaternion series, resturn a normalized orthoganl basis.\"\"\"\n",
    "    \n",
    "    last_q = qh.qs.pop(0).normalize(math.sqrt(1/qh.dim))\n",
    "    orthonormal_qs = [last_q]\n",
    "    \n",
    "    for q in qh.qs:\n",
    "        qp = q.Euclidean_product(last_q)\n",
    "        orthonormal_q = q.dif(qp).normalize(math.sqrt(1/qh.dim))\n",
    "        orthonormal_qs.append(orthonormal_q)\n",
    "        last_q = orthonormal_q\n",
    "        \n",
    "    return qt.QHStates(orthonormal_qs)"
   ]
  },
  {
   "cell_type": "code",
   "execution_count": 18,
   "metadata": {},
   "outputs": [
    {
     "name": "stdout",
     "output_type": "stream",
     "text": [
      "qabc_orthonormalized\n",
      "n=1: (0.0, 0.15430334996209188, 0.30860669992418377, 0.46291004988627565) QU\n",
      "n=2: (-0.16782358530442082, 0.2698029636930077, 0.4232678184342333, 0.2306930692701835) Q-Q*xQUU\n",
      "n=3: (0.2886618402221457, -0.18703522934792766, -0.2512022480817986, 0.38977291962669275) Q-Q*xQ-Q*xQUUU\n"
     ]
    }
   ],
   "source": [
    "qa, qb, qc = qt.QH([0, 1, 2, 3]), qt.QH([1, 1, 3, 2]), qt.QH([2, 1, -2, 3])\n",
    "qabc = qt.QHStates([qa, qb, qc])\n",
    "qabc_on = orthonormalize(qabc)\n",
    "qabc_on.print_state(\"qabc_orthonormalized\", quiet=True)"
   ]
  },
  {
   "cell_type": "code",
   "execution_count": 19,
   "metadata": {},
   "outputs": [
    {
     "name": "stdout",
     "output_type": "stream",
     "text": [
      "square it up\n",
      "n=1: (0.33333333333333326, 0.0, 0.0, 0.0) QU*xQU\n",
      "n=2: (0.3333333333333334, 0.0, 0.0, 0.0) Q-Q*xQUU*xQ-Q*xQUU\n",
      "n=3: (0.33333333333333326, 0.0, 0.0, 0.0) Q-Q*xQ-Q*xQUUU*xQ-Q*xQ-Q*xQUUU\n",
      "sum= (1.0, 0.0, 0.0, 0.0) QU*xQU+Q-Q*xQUU*xQ-Q*xQUU+Q-Q*xQ-Q*xQUUU*xQ-Q*xQ-Q*xQUUU\n"
     ]
    }
   ],
   "source": [
    "qabc_on.norm_squared().print_state(\"square it up\")"
   ]
  },
  {
   "cell_type": "markdown",
   "metadata": {},
   "source": [
    "The orthonormalization process will always work because it only involves forming a product, subtraction, and normalization, which will always be legal operations for quaternion series. "
   ]
  },
  {
   "cell_type": "markdown",
   "metadata": {},
   "source": [
    "![](images/lecture_3/c3_p71_q1.jpg)"
   ]
  },
  {
   "cell_type": "markdown",
   "metadata": {},
   "source": [
    "Energy, momentum in the x, y, and z directions, all have familiar examples in the classical world. Yet why are the measurements of quantum mechanics different? Quantum mechanics always, necessarily uses a spatial mirror as part of the accounting process. What this does is assure that for any quaternion series $A$, the value of $<A|A>$ will be zero only if $A$ is zero, otherwise it will be positive definite. When physicists do the work of describing things with almost nothing, they need a math that handles almost nothing correctly. Nothing is a hard lower bound. Notice how zero is a hard lower bound for $<A|A>$  but __not__ $A^2$.\n",
    "\n",
    "A quaternion series that has an orthonormal basis means just that: state dimensions are orthogonal, and the sum of all states adds up to unity. "
   ]
  },
  {
   "cell_type": "markdown",
   "metadata": {},
   "source": [
    "![](images/lecture_3/c3_p72_q1.jpg)"
   ]
  },
  {
   "cell_type": "markdown",
   "metadata": {},
   "source": [
    "In lecture 2, a way was worked out to represent $|u>$, $|d>$, $|L>$, and $|r>$. It is repeated here. Notice a few things: how $|L>$ and $|r>$ come from  $|u>$ and $|d>$, and there are an arbitrary number of other ways this could have been done - there is no \"correct\" way to do this. The kets all involve real-values which a time-ish, and don't use any of the three spatial dimensions."
   ]
  },
  {
   "cell_type": "code",
   "execution_count": 20,
   "metadata": {},
   "outputs": [
    {
     "name": "stdout",
     "output_type": "stream",
     "text": [
      "u\n",
      "n=1: (1, 0, 0, 0) 1\n",
      "n=2: (0, 0, 0, 0) 0\n",
      "sum= (1, 0, 0, 0) 1+0\n",
      "\n",
      "d\n",
      "n=1: (0, 0, 0, 0) 0\n",
      "n=2: (1, 0, 0, 0) 1\n",
      "sum= (1, 0, 0, 0) 0+1\n",
      "\n",
      "r\n",
      "n=1: (0.707106781186548, 0, 0, 0) Qx1+0x0+Qx0+0x1\n",
      "n=2: (0.707106781186548, 0, 0, 0) 0x1+Qx0+0x0+Qx1\n",
      "sum= (1.41421356237310, 0, 0, 0) Qx1+0x0+Qx0+0x1+0x1+Qx0+0x0+Qx1\n",
      "\n",
      "L\n",
      "n=1: (0.707106781186548, 0, 0, 0) Qx1+0x0-Qx0+0x1\n",
      "n=2: (-0.707106781186548, 0, 0, 0) 0x1+Qx0-0x0+Qx1\n",
      "sum= (0, 0, 0, 0) Qx1+0x0-Qx0+0x1+0x1+Qx0-0x0+Qx1\n"
     ]
    }
   ],
   "source": [
    "q_0, q_1, q_i, q_j, q_k = qt.QH().q_0(), qt.QH().q_1(), qt.QH().q_i(), qt.QH().q_j(), qt.QH().q_k()\n",
    "\n",
    "u = qt.QHStates([q_1, q_0])\n",
    "d = qt.QHStates([q_0, q_1])\n",
    "\n",
    "sqrt_2op = qt.QHStates([qt.QH([sp.sqrt(1/2), 0, 0, 0])])\n",
    "\n",
    "u2 = u.Euclidean_product('ket', operator=sqrt_2op)\n",
    "d2 = d.Euclidean_product('ket', operator=sqrt_2op)\n",
    "\n",
    "r = u2.add(d2)\n",
    "L = u2.dif(d2)\n",
    "\n",
    "u.print_state(\"u\", 1)\n",
    "d.print_state(\"d\", 1)\n",
    "\n",
    "r.print_state(\"r\", 1)\n",
    "L.print_state(\"L\")"
   ]
  },
  {
   "cell_type": "markdown",
   "metadata": {},
   "source": [
    "![](images/lecture_3/c3_p72_q2.jpg)"
   ]
  },
  {
   "cell_type": "markdown",
   "metadata": {},
   "source": [
    "This is just a simple math fact. Orthonormal quaternions series are orthonormal. Non-orthonormal are non-orthonormal."
   ]
  },
  {
   "cell_type": "code",
   "execution_count": 21,
   "metadata": {},
   "outputs": [
    {
     "name": "stdout",
     "output_type": "stream",
     "text": [
      "<u|d> - orthonormal\n",
      "n=1: (0, 0, 0, 0) 1*x0\n",
      "n=2: (0, 0, 0, 0) 0*x1\n",
      "sum= (0, 0, 0, 0) 1*x0+0*x1\n",
      "\n",
      "<u|r> - not orthonormal\n",
      "n=1: (0.707106781186548, 0, 0, 0) 1*xQx1+0x0+Qx0+0x1\n",
      "n=2: (0, 0, 0, 0) 0*x0x1+Qx0+0x0+Qx1\n",
      "sum= (0.707106781186548, 0, 0, 0) 1*xQx1+0x0+Qx0+0x1+0*x0x1+Qx0+0x0+Qx1\n"
     ]
    }
   ],
   "source": [
    "u.Euclidean_product(\"bra\", ket=d).print_state(\"<u|d> - orthonormal\", 1)\n",
    "u.Euclidean_product(\"bra\", ket=r).print_state(\"<u|r> - not orthonormal\")"
   ]
  },
  {
   "cell_type": "markdown",
   "metadata": {},
   "source": [
    "![](images/lecture_3/c3_p73_q1.jpg)"
   ]
  },
  {
   "cell_type": "markdown",
   "metadata": {},
   "source": [
    "Every so often, it is OK to worry about quaternion series quantum mechanics because as is well-known, in general, quaternions do not commute. Real numbers do commute, and are so much easier to work with. Much of what goes on in quantum mechanics is to construct something that necessarily evaluates to a real value. When one recalls a big goal is plucking out real numbers, then the \"flaw\" of quaternion series starts to sound manageable."
   ]
  },
  {
   "cell_type": "markdown",
   "metadata": {},
   "source": [
    "![](images/lecture_3/c3_p73_q2.jpg)"
   ]
  },
  {
   "cell_type": "markdown",
   "metadata": {},
   "source": [
    "In fact, the Euclidean product of two quaternion series is just another quaternion series. Getting a real number out of the system is a special thing. If the only change in the above expression were to interchange an $A$ with a $\\lambda_i$, then it breaks: \n",
    "$$ <A|\\lambda_i><A|\\lambda_i> \\ne P(\\lambda_i)$$ \n",
    "Instead this is the square of a probability amplitude. Note, as the square, the first term will be invariant under a Lorentz transformation, and the other three will be Lorentz variant. Small changes have big consequences."
   ]
  },
  {
   "cell_type": "markdown",
   "metadata": {},
   "source": [
    "![](images/lecture_3/c3_p74_q1.jpg)"
   ]
  },
  {
   "cell_type": "markdown",
   "metadata": {},
   "source": [
    "This is \"fingernails on the blackboard\" writing to for my ears. Nature works with 3D space-time. A space without a time I believe is technical gibberish. It is impressively common gibberish, for any measure is space happened at a time, and there never was an exception to than, nor will there ever be an exception to the necessity of time for spatial measurements. Three-vectors are poor, numbers are rich beyond measure."
   ]
  },
  {
   "cell_type": "markdown",
   "metadata": {},
   "source": [
    "![](images/lecture_3/c3_p75_q1.jpg)"
   ]
  },
  {
   "cell_type": "markdown",
   "metadata": {},
   "source": [
    "This sounds to my ear like an admission that things are muddled between space-time dimensions and state dimensions. These two qualities are orthogonal to each other. Everything we can do is in 3D space-time, no exceptions ever. The number of state dimensions can range from one to infinite. The number depends on what exactly is being studied and the details of that study. In the case of spin, there are only two state dimensions. How we decide to study the two  state dimensions in 3D space-time is up to us, and yes, we have many choices there. Once a choice for how the measurement is to be made in 3D space-time, then we are studying a two state dimension system."
   ]
  },
  {
   "cell_type": "markdown",
   "metadata": {},
   "source": [
    "![](images/lecture_3/c3_p76_q1.jpg)"
   ]
  },
  {
   "cell_type": "markdown",
   "metadata": {},
   "source": [
    "This is a math problem. Principle 3 has already been demonstrated by direct calculation. The only work is to find an operator $\\sigma_z$ that has an Eigenvalue of +1 for ket $|u>$ and -1 for ket $|d>$. Since those kets are both real, it is about the easiest operator to guess."
   ]
  },
  {
   "cell_type": "code",
   "execution_count": 22,
   "metadata": {},
   "outputs": [
    {
     "name": "stdout",
     "output_type": "stream",
     "text": [
      "σz operator\n",
      "n=1: (1, 0, 0, 0) 1\n",
      "n=2: (0, 0, 0, 0) 0\n",
      "n=3: (0, 0, 0, 0) 0\n",
      "n=4: (-1, 0, 0, 0) Q\n",
      "sum= (0, 0, 0, 0) 1+0+0+Q\n",
      "\n",
      "σz|u>\n",
      "n=1: (1, 0, 0, 0) 1x1+0x0\n",
      "n=2: (0, 0, 0, 0) 0x1+Qx0\n",
      "sum= (1, 0, 0, 0) 1x1+0x0+0x1+Qx0\n",
      "\n",
      "σz|d>\n",
      "n=1: (0, 0, 0, 0) 1x0+0x1\n",
      "n=2: (-1, 0, 0, 0) 0x0+Qx1\n",
      "sum= (-1, 0, 0, 0) 1x0+0x1+0x0+Qx1\n"
     ]
    }
   ],
   "source": [
    "σz = qt.QHStates([q_1, q_0, q_0, q_n1])\n",
    "σz.print_state(\"σz operator\", 1)\n",
    "u.product(\"ket\", operator=σz).print_state(\"σz|u>\", 1)\n",
    "d.product(\"ket\", operator=σz).print_state(\"σz|d>\")"
   ]
  },
  {
   "cell_type": "markdown",
   "metadata": {},
   "source": [
    "Bingo, bingo."
   ]
  },
  {
   "cell_type": "markdown",
   "metadata": {},
   "source": [
    "![](images/lecture_3/c3_p76_q2.jpg)\n",
    "![](images/lecture_3/c3_p77_q1.jpg)"
   ]
  },
  {
   "cell_type": "markdown",
   "metadata": {},
   "source": [
    "Oops, this was just done. But why should the result be unique? Quaternions are numbers. If two are multiplied together like the operator sigma and the kets $|u>$ and $|d>$, then the result is unique. This is a defining property of numbers and of number series."
   ]
  },
  {
   "cell_type": "markdown",
   "metadata": {},
   "source": [
    "![](images/lecture_3/c3_p78_q1.jpg)"
   ]
  },
  {
   "cell_type": "markdown",
   "metadata": {},
   "source": [
    "![](images/lecture_3/c3_p79_1.jpg)"
   ]
  },
  {
   "cell_type": "markdown",
   "metadata": {},
   "source": [
    "Define the operator $\\sigma_x$ and run the calculations."
   ]
  },
  {
   "cell_type": "code",
   "execution_count": 23,
   "metadata": {},
   "outputs": [
    {
     "name": "stdout",
     "output_type": "stream",
     "text": [
      "σx operator\n",
      "n=1: (0, 0, 0, 0) 0\n",
      "n=2: (1, 0, 0, 0) 1\n",
      "n=3: (1, 0, 0, 0) 1\n",
      "n=4: (0, 0, 0, 0) 0\n",
      "sum= (2, 0, 0, 0) 0+1+1+0\n",
      "\n",
      "σx|r>\n",
      "n=1: (0.707106781186548, 0, 0, 0) 0xQx1+0x0+Qx0+0x1+1x0x1+Qx0+0x0+Qx1\n",
      "n=2: (0.707106781186548, 0, 0, 0) 1xQx1+0x0+Qx0+0x1+0x0x1+Qx0+0x0+Qx1\n",
      "sum= (1.41421356237310, 0, 0, 0) 0xQx1+0x0+Qx0+0x1+1x0x1+Qx0+0x0+Qx1+1xQx1+0x0+Qx0+0x1+0x0x1+Qx0+0x0+Qx1\n",
      "\n",
      "σx|L>\n",
      "n=1: (-0.707106781186548, 0, 0, 0) 0xQx1+0x0-Qx0+0x1+1x0x1+Qx0-0x0+Qx1\n",
      "n=2: (0.707106781186548, 0, 0, 0) 1xQx1+0x0-Qx0+0x1+0x0x1+Qx0-0x0+Qx1\n",
      "sum= (0, 0, 0, 0) 0xQx1+0x0-Qx0+0x1+1x0x1+Qx0-0x0+Qx1+1xQx1+0x0-Qx0+0x1+0x0x1+Qx0-0x0+Qx1\n"
     ]
    }
   ],
   "source": [
    "σx = qt.QHStates([q_0, q_1, q_1, q_0])\n",
    "σx.print_state(\"σx operator\", 1)\n",
    "r.product(\"ket\", operator=σx).print_state(\"σx|r>\", 1)\n",
    "L.product(\"ket\", operator=σx).print_state(\"σx|L>\")"
   ]
  },
  {
   "cell_type": "markdown",
   "metadata": {},
   "source": [
    "![](images/lecture_3/c3_p80_q1.jpg)"
   ]
  },
  {
   "cell_type": "markdown",
   "metadata": {},
   "source": [
    "Details for this calculation was not provided in the book because the factors of $i$ make the case confusing."
   ]
  },
  {
   "cell_type": "code",
   "execution_count": 24,
   "metadata": {},
   "outputs": [
    {
     "name": "stdout",
     "output_type": "stream",
     "text": [
      "i\n",
      "n=1: (0.707106781186548, 0, 0, 0) Qx1+0x0+Qx0+0x1\n",
      "n=2: (0, 0.707106781186548, 0, 0) 0x1+Qx0+0x0+Qx1\n",
      "sum= (0.707106781186548, 0.707106781186548, 0, 0) Qx1+0x0+Qx0+0x1+0x1+Qx0+0x0+Qx1\n",
      "\n",
      "o\n",
      "n=1: (0.707106781186548, 0, 0, 0) Qx1+0x0-Qx0+0x1\n",
      "n=2: (0, -0.707106781186548, 0, 0) 0x1+Qx0-0x0+Qx1\n",
      "sum= (0.707106781186548, -0.707106781186548, 0, 0) Qx1+0x0-Qx0+0x1+0x1+Qx0-0x0+Qx1\n",
      "\n"
     ]
    }
   ],
   "source": [
    "one_root_two = sp.sqrt(1/2)\n",
    "q_2 = qt.QHStates( [ qt.QH([sp.sqrt(1/2), 0, 0, 0]) ] )\n",
    "q_2i = qt.QHStates([qt.QH([0, sp.sqrt(1/2), 0, 0])])\n",
    "\n",
    "i = u.product(\"ket\", operator=q_2).add(d.product(\"ket\", operator=q_2i))\n",
    "o = u.product(\"ket\", operator=q_2).dif(d.product(\"ket\", operator=q_2i))\n",
    "\n",
    "i.print_state(\"i\", 1)\n",
    "o.print_state(\"o\", 1)"
   ]
  },
  {
   "cell_type": "markdown",
   "metadata": {},
   "source": [
    "Show they are orthonormal."
   ]
  },
  {
   "cell_type": "code",
   "execution_count": 25,
   "metadata": {},
   "outputs": [
    {
     "name": "stdout",
     "output_type": "stream",
     "text": [
      "<i|i>\n",
      "n=1: (0.500000000000000, 0, 0, 0) Qx1+0x0+Qx0+0x1*xQx1+0x0+Qx0+0x1\n",
      "n=2: (0.500000000000000, 0, 0, 0) 0x1+Qx0+0x0+Qx1*x0x1+Qx0+0x0+Qx1\n",
      "sum= (1.00000000000000, 0, 0, 0) Qx1+0x0+Qx0+0x1*xQx1+0x0+Qx0+0x1+0x1+Qx0+0x0+Qx1*x0x1+Qx0+0x0+Qx1\n",
      "\n",
      "<o|o>\n",
      "n=1: (0.500000000000000, 0, 0, 0) Qx1+0x0-Qx0+0x1*xQx1+0x0-Qx0+0x1\n",
      "n=2: (0.500000000000000, 0, 0, 0) 0x1+Qx0-0x0+Qx1*x0x1+Qx0-0x0+Qx1\n",
      "sum= (1.00000000000000, 0, 0, 0) Qx1+0x0-Qx0+0x1*xQx1+0x0-Qx0+0x1+0x1+Qx0-0x0+Qx1*x0x1+Qx0-0x0+Qx1\n",
      "\n",
      "<i|o>\n",
      "n=1: (0.500000000000000, 0, 0, 0) Qx1+0x0+Qx0+0x1*xQx1+0x0-Qx0+0x1\n",
      "n=2: (-0.500000000000000, 0, 0, 0) 0x1+Qx0+0x0+Qx1*x0x1+Qx0-0x0+Qx1\n",
      "sum= (0, 0, 0, 0) Qx1+0x0+Qx0+0x1*xQx1+0x0-Qx0+0x1+0x1+Qx0+0x0+Qx1*x0x1+Qx0-0x0+Qx1\n"
     ]
    }
   ],
   "source": [
    "i.Euclidean_product(\"bra\", ket=i).print_state(\"<i|i>\", 1)\n",
    "o.Euclidean_product(\"bra\", ket=o).print_state(\"<o|o>\", 1)\n",
    "i.Euclidean_product(\"bra\", ket=o).print_state(\"<i|o>\")"
   ]
  },
  {
   "cell_type": "markdown",
   "metadata": {},
   "source": [
    "Define σy and put it to work."
   ]
  },
  {
   "cell_type": "code",
   "execution_count": 26,
   "metadata": {},
   "outputs": [
    {
     "name": "stdout",
     "output_type": "stream",
     "text": [
      "σy operator\n",
      "n=1: (0, 0, 0, 0) 0\n",
      "n=2: (0, -1, 0, 0) Q\n",
      "n=3: (0, 1, 0, 0) i\n",
      "n=4: (0, 0, 0, 0) 0\n",
      "sum= (0, 0, 0, 0) 0+Q+i+0\n",
      "\n",
      "σy|i>\n",
      "n=1: (0.707106781186548, 0, 0, 0) 0xQx1+0x0+Qx0+0x1+Qx0x1+Qx0+0x0+Qx1\n",
      "n=2: (0, 0.707106781186548, 0, 0) ixQx1+0x0+Qx0+0x1+0x0x1+Qx0+0x0+Qx1\n",
      "sum= (0.707106781186548, 0.707106781186548, 0, 0) 0xQx1+0x0+Qx0+0x1+Qx0x1+Qx0+0x0+Qx1+ixQx1+0x0+Qx0+0x1+0x0x1+Qx0+0x0+Qx1\n",
      "\n",
      "σy|o>\n",
      "n=1: (0, -0.707106781186548, 0, 0) 0xQx1+0x0-Qx0+0x1+1x0x1+Qx0-0x0+Qx1\n",
      "n=2: (0.707106781186548, 0, 0, 0) 1xQx1+0x0-Qx0+0x1+0x0x1+Qx0-0x0+Qx1\n",
      "sum= (0.707106781186548, -0.707106781186548, 0, 0) 0xQx1+0x0-Qx0+0x1+1x0x1+Qx0-0x0+Qx1+1xQx1+0x0-Qx0+0x1+0x0x1+Qx0-0x0+Qx1\n"
     ]
    }
   ],
   "source": [
    "σy = qt.QHStates([q_0, q_ni, q_i, q_0])\n",
    "σy.print_state(\"σy operator\", 1)\n",
    "i.product(\"ket\", operator=σy).print_state(\"σy|i>\", 1)\n",
    "o.product(\"ket\", operator=σx).print_state(\"σy|o>\")"
   ]
  },
  {
   "cell_type": "markdown",
   "metadata": {},
   "source": [
    "I will need to put some effort into this to make the result look more \"obvious\". The problem will only become more acute as operators get more longer."
   ]
  },
  {
   "cell_type": "markdown",
   "metadata": {},
   "source": [
    "![](images/lecture_3/c3_p80_p3.jpg)"
   ]
  },
  {
   "cell_type": "markdown",
   "metadata": {},
   "source": [
    "I see these three - operators, Eigen-kets, and Eigen-values - as a team. All three are algebraic equals - quaternion series. The smallest as far as its length is the Eigen-ket. The operator and Eigen-value have the Eigen-ket dimension squared. The Eigen-value operator is mostly zeros, with only one term not equal to zero and then always the same, making it quite simple."
   ]
  },
  {
   "cell_type": "markdown",
   "metadata": {},
   "source": [
    "![](images/lecture_3/c3_p80_q2.jpg)"
   ]
  },
  {
   "cell_type": "markdown",
   "metadata": {},
   "source": [
    "The Pauli matrices plus the identity matrix does not make a representation of the quaternions. An essential aspect of quaternions is they form a division algebra. That is not the case for the Pauli matrices with an identity. There is another factor of $i$ that makes much of the math simpler to do, but also breaks the reversibility of multiplication. Why should anyone care if multiplication is always reversible? Please read the first chapter of the first book of this series which explained why physical processes are reversible. Make the physical abstract, and the same should apply to mathematical processes used to describe the physical ones."
   ]
  },
  {
   "cell_type": "markdown",
   "metadata": {},
   "source": [
    "![](images/lecture_3/c3_p83_q1.jpg)"
   ]
  },
  {
   "cell_type": "markdown",
   "metadata": {},
   "source": [
    "I do not feel this way. Spin is a system that can be completely described by two quantum states. There are an arbitrary number of different ways one can do that exercise using an n=2 quaternion series. In this chapter, we came up with three, but could have done thirteen. With the choice of three representations, we choose on the labels \"x\", \"y\", and \"z\". Spatial dimensions have relationships with each other, namely the cross product. One can take advantage of the orthonormal relationship between x, y, and z to do the same for the three sigmas.\n",
    "\n",
    "I never use 3-vectors, so it is not my cup of tea."
   ]
  },
  {
   "cell_type": "markdown",
   "metadata": {},
   "source": [
    "There are two state dimensions for spin. There are as always four dimensions for space-time. Since the operator must have a norm of one, that means there are three degrees of freedom in space-time. We can thus come up with three independent representations of spin and embed them in a normalized space-time operator."
   ]
  },
  {
   "cell_type": "markdown",
   "metadata": {},
   "source": [
    "![](images/lecture_3/c3_p84_q1.jpg)"
   ]
  },
  {
   "cell_type": "markdown",
   "metadata": {},
   "source": [
    " I have tried to construct a general as possible operator for spin."
   ]
  },
  {
   "cell_type": "code",
   "execution_count": 27,
   "metadata": {},
   "outputs": [],
   "source": [
    "def sigma(kind, theta=None, phi=None):\n",
    "        \"\"\"Returns a sigma when given a type like, x, y, z, xy, xz, yz, xyz, with optional angles theta and phi.\"\"\"\n",
    "        \n",
    "        q0, q1, qi = qt.QH().q_0(), qt.QH().q_1(), qt.QH().q_i()\n",
    "        \n",
    "        # Should work if given angles or not.\n",
    "        if theta is None:\n",
    "            sin_theta = 1\n",
    "            cos_theta = 1\n",
    "        else:\n",
    "            sin_theta = math.sin(theta)\n",
    "            cos_theta = math.cos(theta)\n",
    "            \n",
    "        if phi is None:\n",
    "            sin_phi = 1\n",
    "            cos_phi = 1\n",
    "        else:\n",
    "            sin_phi = math.sin(phi)\n",
    "            cos_phi = math.cos(phi)\n",
    "            \n",
    "        x_factor = q1.product(qt.QH([sin_theta * cos_phi, 0, 0, 0]))\n",
    "        y_factor = qi.product(qt.QH([sin_theta * sin_phi, 0, 0, 0]))\n",
    "        z_factor = q1.product(qt.QH([cos_theta, 0, 0, 0]))\n",
    "\n",
    "        # Create all possibilities.\n",
    "        sigmas = {}\n",
    "        sigmas['x'] = qt.QHStates([q0, x_factor, x_factor, q0]).normalize()\n",
    "        sigmas['y'] = qt.QHStates([q0, y_factor, y_factor.flip_signs(), q0]).normalize() \n",
    "        sigmas['z'] = qt.QHStates([z_factor, q0, q0, z_factor.flip_signs()]).normalize()\n",
    "  \n",
    "        sigmas['xy'] = sigmas['x'].add(sigmas['y']).normalize()\n",
    "        sigmas['xz'] = sigmas['x'].add(sigmas['z']).normalize()\n",
    "        \n",
    "        sigmas['xyz'] = sigmas['x'].add(sigmas['y']).add(sigmas['z']).normalize()\n",
    "\n",
    "        if kind not in sigmas:\n",
    "            print(\"Oops, I only know about x, y, z, and their combinations.\")\n",
    "            return None\n",
    "        \n",
    "        return sigmas[kind]"
   ]
  },
  {
   "cell_type": "markdown",
   "metadata": {},
   "source": [
    "See if the function creates the three sigmas discussed so far:"
   ]
  },
  {
   "cell_type": "code",
   "execution_count": 28,
   "metadata": {},
   "outputs": [
    {
     "name": "stdout",
     "output_type": "stream",
     "text": [
      "σx\n",
      "n=1: (0.0, 0.0, 0.0, 0.0) 0UxQ\n",
      "n=2: (0.7071067811865476, 0.0, 0.0, 0.0) 1xQUxQ\n",
      "n=3: (0.7071067811865476, 0.0, 0.0, 0.0) 1xQUxQ\n",
      "n=4: (0.0, 0.0, 0.0, 0.0) 0UxQ\n",
      "sum= (1.4142135623730951, 0.0, 0.0, 0.0) 0UxQ+1xQUxQ+1xQUxQ+0UxQ\n",
      "\n",
      "σy\n",
      "n=1: (0.0, 0.0, 0.0, 0.0) 0UxQ\n",
      "n=2: (0.0, 0.7071067811865476, 0.0, 0.0) ixQUxQ\n",
      "n=3: (0.0, -0.7071067811865476, 0.0, 0.0) -ixQUxQ\n",
      "n=4: (0.0, 0.0, 0.0, 0.0) 0UxQ\n",
      "sum= (0.0, 0.0, 0.0, 0.0) 0UxQ+ixQUxQ+-ixQUxQ+0UxQ\n",
      "\n",
      "σz\n",
      "n=1: (0.7071067811865476, 0.0, 0.0, 0.0) 1xQUxQ\n",
      "n=2: (0.0, 0.0, 0.0, 0.0) 0UxQ\n",
      "n=3: (0.0, 0.0, 0.0, 0.0) 0UxQ\n",
      "n=4: (-0.7071067811865476, 0.0, 0.0, 0.0) -1xQUxQ\n",
      "sum= (0.0, 0.0, 0.0, 0.0) 1xQUxQ+0UxQ+0UxQ+-1xQUxQ\n",
      "\n",
      "σz's norm\n",
      "n=1: (0.5000000000000001, 0.0, 0.0, 0.0) 1xQUxQ*x1xQUxQ\n",
      "n=2: (0.0, 0.0, 0.0, 0.0) 0UxQ*x0UxQ\n",
      "n=3: (0.0, 0.0, 0.0, 0.0) 0UxQ*x0UxQ\n",
      "n=4: (0.5000000000000001, 0.0, 0.0, 0.0) -1xQUxQ*x-1xQUxQ\n",
      "sum= (1.0000000000000002, 0.0, 0.0, 0.0) 1xQUxQ*x1xQUxQ+0UxQ*x0UxQ+0UxQ*x0UxQ+-1xQUxQ*x-1xQUxQ\n",
      "\n"
     ]
    }
   ],
   "source": [
    "sigma('x').print_state('σx', 1)\n",
    "sigma('y').print_state('σy', 1)\n",
    "sigma('z').print_state('σz', 1)\n",
    "sigma('z').norm_squared().print_state(\"σz's norm\", 1)"
   ]
  },
  {
   "cell_type": "code",
   "execution_count": 29,
   "metadata": {},
   "outputs": [
    {
     "name": "stdout",
     "output_type": "stream",
     "text": [
      "σxy\n",
      "n=1: (0.0, 0.0, 0.0, 0.0) 0UxQ+0UxQUxQ*x0UxQ+0UxQUxQ\n",
      "n=2: (0.5000000000000002, 0.0, 0.0, 0.0) 1xQUxQ+ixQUxQUxQ*x1xQUxQ+ixQUxQUxQ\n",
      "n=3: (0.5000000000000002, 0.0, 0.0, 0.0) 1xQUxQ+-ixQUxQUxQ*x1xQUxQ+-ixQUxQUxQ\n",
      "n=4: (0.0, 0.0, 0.0, 0.0) 0UxQ+0UxQUxQ*x0UxQ+0UxQUxQ\n",
      "sum= (1.0000000000000004, 0.0, 0.0, 0.0) 0UxQ+0UxQUxQ*x0UxQ+0UxQUxQ+1xQUxQ+ixQUxQUxQ*x1xQUxQ+ixQUxQUxQ+1xQUxQ+-ixQUxQUxQ*x1xQUxQ+-ixQUxQUxQ+0UxQ+0UxQUxQ*x0UxQ+0UxQUxQ\n",
      "\n",
      "σxy\n",
      "n=1: (0.0, 0.0, 0.0, 0.0) 0UxQ+0UxQUxQUxQ*x0UxQ+0UxQUxQUxQ\n",
      "n=2: (0.5, 0.0, 0.0, 0.0) 1xQUxQ+ixQUxQUxQUxQ*x1xQUxQ+ixQUxQUxQUxQ\n",
      "n=3: (0.5, 0.0, 0.0, 0.0) 1xQUxQ+-ixQUxQUxQUxQ*x1xQUxQ+-ixQUxQUxQUxQ\n",
      "n=4: (0.0, 0.0, 0.0, 0.0) 0UxQ+0UxQUxQUxQ*x0UxQ+0UxQUxQUxQ\n",
      "sum= (1.0, 0.0, 0.0, 0.0) 0UxQ+0UxQUxQUxQ*x0UxQ+0UxQUxQUxQ+1xQUxQ+ixQUxQUxQUxQ*x1xQUxQ+ixQUxQUxQUxQ+1xQUxQ+-ixQUxQUxQUxQ*x1xQUxQ+-ixQUxQUxQUxQ+0UxQ+0UxQUxQUxQ*x0UxQ+0UxQUxQUxQ\n",
      "\n"
     ]
    }
   ],
   "source": [
    "sigma('xy').norm_squared().print_state('σxy', 1)\n",
    "sigma('xy').normalize().norm_squared().print_state('σxy', 1)"
   ]
  },
  {
   "cell_type": "markdown",
   "metadata": {},
   "source": [
    "It is important not to lose sight about what is going on here. There is a nice picture of a sphere at the end of the lecture:"
   ]
  },
  {
   "cell_type": "markdown",
   "metadata": {},
   "source": [
    "![](images/lecture_3/c3_p89_q1.jpg)"
   ]
  },
  {
   "cell_type": "markdown",
   "metadata": {},
   "source": [
    "It is easy for a mind to take the easy road and think spin has something to do with this sphere and spherical coordinates, or x, y, and z for that matter. Spin has two states, that is all it is about. Deciding which one to use for $\\sigma_x$, $\\sigma_y$, and $\\sigma_z$ was arbitrary. In fact, the representation for $\\sigma_x$ and $\\sigma_z$ only involved time-ish numbers. Oddly enough it was $\\sigma_y$ that involved $x$. One could have easily used $j$ which is \"y-ish\", but that deeply does not matter. Everyone does this calculation since it makes the two states of spin feel like they are part of space-time. With quaternion series quantum mechanics, that need is less needed since space-time is always there."
   ]
  },
  {
   "cell_type": "markdown",
   "metadata": {},
   "source": [
    "## Epilog: So What Is Spin?"
   ]
  },
  {
   "cell_type": "markdown",
   "metadata": {},
   "source": [
    "As I have already argued, spin is not about the three sphere. The three sigmas are about covering all the possibilities. Instead, by looking at the three representations under study (out of an infinite number of possibilities), what spin operators do is rearrange two  state dimensions. The three spin operators ($\\sigma_x$, $\\sigma_y$, and $\\sigma_z$) as a team is cover all possible variations (a covering set). Let's look at what each one does, one at a time, starting with $\\sigma_x$. "
   ]
  },
  {
   "cell_type": "code",
   "execution_count": 30,
   "metadata": {},
   "outputs": [
    {
     "name": "stdout",
     "output_type": "stream",
     "text": [
      "A\n",
      "n=1: (At1, Ax1, Ay1, Az1) a₁\n",
      "n=2: (At2, Ax2, Ay2, Az2) a₂\n",
      "\n",
      "σx\n",
      "n=1: (0.0, 0.0, 0.0, 0.0) 0UxQ\n",
      "n=2: (0.7071067811865476, 0.0, 0.0, 0.0) 1xQUxQ\n",
      "n=3: (0.7071067811865476, 0.0, 0.0, 0.0) 1xQUxQ\n",
      "n=4: (0.0, 0.0, 0.0, 0.0) 0UxQ\n",
      "\n",
      "σx|A>\n",
      "n=1: (0.707106781186548*At2, 0.707106781186548*Ax2, 0.707106781186548*Ay2, 0.707106781186548*Az2) 0UxQxa₁+1xQUxQxa₂\n",
      "n=2: (0.707106781186548*At1, 0.707106781186548*Ax1, 0.707106781186548*Ay1, 0.707106781186548*Az1) 1xQUxQxa₁+0UxQxa₂\n"
     ]
    }
   ],
   "source": [
    "A = qt.QHStates([Aq1, Aq2])\n",
    "A.print_state(\"A\", 1, quiet=True)\n",
    "sigma('x').print_state('σx', 1, quiet=True)\n",
    "σxA = A.Euclidean_product(\"ket\", operator=sigma('x'))\n",
    "σxA.print_state(\"σx|A>\", quiet=True)"
   ]
  },
  {
   "cell_type": "markdown",
   "metadata": {},
   "source": [
    "All the first spin operator $\\sigma_x$ does is take the first state and put it in the second states place while doing the reverse for the second state. The third operator $\\sigma_z$ is also darn simple."
   ]
  },
  {
   "cell_type": "code",
   "execution_count": 31,
   "metadata": {},
   "outputs": [
    {
     "name": "stdout",
     "output_type": "stream",
     "text": [
      "σz|A>\n",
      "n=1: (0.707106781186548*At1, 0.707106781186548*Ax1, 0.707106781186548*Ay1, 0.707106781186548*Az1) 1xQUxQxa₁+0UxQxa₂\n",
      "n=2: (-0.707106781186548*At2, -0.707106781186548*Ax2, -0.707106781186548*Ay2, -0.707106781186548*Az2) 0UxQxa₁+-1xQUxQxa₂\n"
     ]
    }
   ],
   "source": [
    "σzA = A.Euclidean_product(\"ket\", operator=sigma('z'))\n",
    "σzA.print_state(\"σz|A>\", quiet=True)"
   ]
  },
  {
   "cell_type": "markdown",
   "metadata": {},
   "source": [
    "Both states stay in place. The difference is that the second term flips signs. It is easy enough to imagine a different representation where it was the first term that flips signs. Just one more to go."
   ]
  },
  {
   "cell_type": "code",
   "execution_count": 32,
   "metadata": {},
   "outputs": [
    {
     "name": "stdout",
     "output_type": "stream",
     "text": [
      "σz|A>\n",
      "n=1: (-0.707106781186548*Ax2, 0.707106781186548*At2, -0.707106781186548*Az2, 0.707106781186548*Ay2) 0UxQxa₁+ixQUxQxa₂\n",
      "n=2: (0.707106781186548*Ax1, -0.707106781186548*At1, 0.707106781186548*Az1, -0.707106781186548*Ay1) -ixQUxQxa₁+0UxQxa₂\n"
     ]
    }
   ],
   "source": [
    "σyA = A.Euclidean_product(\"ket\", operator=sigma('y'))\n",
    "σyA.print_state(\"σz|A>\", quiet=True)"
   ]
  },
  {
   "cell_type": "markdown",
   "metadata": {},
   "source": [
    "Notice that the states \"stayed together\" in the sense that the first state space is made up of only the 2's, while the second state space has 1's. This time the t and x numbers switched spots. If this pattern is generally true, then one can expect a mixing between the positions, but not the two states per se. Time to do an experiment."
   ]
  },
  {
   "cell_type": "code",
   "execution_count": 33,
   "metadata": {},
   "outputs": [
    {
     "name": "stdout",
     "output_type": "stream",
     "text": [
      "σxy|A>\n",
      "n=1: (0.5*At2 - 0.5*Ax2, 0.5*At2 + 0.5*Ax2, 0.5*Ay2 - 0.5*Az2, 0.5*Ay2 + 0.5*Az2) 0UxQ+0UxQUxQxa₁+1xQUxQ+ixQUxQUxQxa₂\n",
      "n=2: (0.5*At1 + 0.5*Ax1, -0.5*At1 + 0.5*Ax1, 0.5*Ay1 + 0.5*Az1, -0.5*Ay1 + 0.5*Az1) 1xQUxQ+-ixQUxQUxQxa₁+0UxQ+0UxQUxQxa₂\n",
      "\n",
      "σxz|A>\n",
      "n=1: (0.5*At1 + 0.5*At2, 0.5*Ax1 + 0.5*Ax2, 0.5*Ay1 + 0.5*Ay2, 0.5*Az1 + 0.5*Az2) 0UxQ+1xQUxQUxQxa₁+1xQUxQ+0UxQUxQxa₂\n",
      "n=2: (0.5*At1 - 0.5*At2, 0.5*Ax1 - 0.5*Ax2, 0.5*Ay1 - 0.5*Ay2, 0.5*Az1 - 0.5*Az2) 1xQUxQ+0UxQUxQxa₁+0UxQ+-1xQUxQUxQxa₂\n",
      "\n",
      "σxyz|A>\n",
      "n=1: (0.5*At1 + 0.353553390593274*At2 - 0.353553390593274*Ax2, 0.353553390593274*At2 + 0.5*Ax1 + 0.353553390593274*Ax2, 0.5*Ay1 + 0.353553390593274*Ay2 - 0.353553390593274*Az2, 0.353553390593274*Ay2 + 0.5*Az1 + 0.353553390593274*Az2) 0UxQ+0UxQ+1xQUxQUxQxa₁+1xQUxQ+ixQUxQ+0UxQUxQxa₂\n",
      "n=2: (0.353553390593274*At1 - 0.5*At2 + 0.353553390593274*Ax1, -0.353553390593274*At1 + 0.353553390593274*Ax1 - 0.5*Ax2, 0.353553390593274*Ay1 - 0.5*Ay2 + 0.353553390593274*Az1, -0.353553390593274*Ay1 + 0.353553390593274*Az1 - 0.5*Az2) 1xQUxQ+-ixQUxQ+0UxQUxQxa₁+0UxQ+0UxQ+-1xQUxQUxQxa₂\n"
     ]
    }
   ],
   "source": [
    "σxyA = A.Euclidean_product(\"ket\", operator=sigma('xy', .1, .2))\n",
    "σxyA.print_state(\"σxy|A>\", 1, quiet=True)\n",
    "σxzA = A.Euclidean_product(\"ket\", operator=sigma('xz', .1, .2))\n",
    "σxzA.print_state(\"σxz|A>\", 1, quiet=True)\n",
    "σxyzA = A.Euclidean_product(\"ket\", operator=sigma('xyz', .1, .2))\n",
    "σxyzA.print_state(\"σxyz|A>\", quiet=True)"
   ]
  },
  {
   "cell_type": "markdown",
   "metadata": {},
   "source": [
    "The hypothesis was definitely **wrong**. I consider that a good thing. It means the ideas I am playing with are precise enough to be wrong. Too much work is just vague. The two states can mingle. I think the implication is that the two states can mingle in any possible way. I don't know how easy it will be to figure out the combination of sigmas will be needed to get to a certain state.\n",
    "\n",
    "Note that this analysis of spin is not dependent on the quaternion series approach to quantum mechanics. One has to look to see what each representation of the spin operator does to a two dimensional state space. That is not complicated, but I know that did not appear in QMTTM, and I don't recall seeing that done in other books on quantum mechanics. What is discussed is the operator $\\sigma_n$ as the combination of three orthonormal operators. Yet the implications are again not discussed, namely that information contained in the two states can be shuffled around.\n",
    "\n",
    "At this point, I don't feel comfortable with what a two state dimension system _is_. The spin operator mixes it around in any and all possible ways, but until I have a solid feeling about the two state dimensional system, I will not be able to answer the question posed in this epilogue, what is spin? Yet I do feel like my view on the topic is different from the standard approach in a good way because it is focused on what spin the operator does."
   ]
  }
 ],
 "metadata": {
  "kernelspec": {
   "display_name": "Python 3",
   "language": "python",
   "name": "python3"
  },
  "language_info": {
   "codemirror_mode": {
    "name": "ipython",
    "version": 3
   },
   "file_extension": ".py",
   "mimetype": "text/x-python",
   "name": "python",
   "nbconvert_exporter": "python",
   "pygments_lexer": "ipython3",
   "version": "3.5.1"
  }
 },
 "nbformat": 4,
 "nbformat_minor": 2
}
