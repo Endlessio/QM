{
 "cells": [
  {
   "cell_type": "markdown",
   "metadata": {},
   "source": [
    "# Quaternion Series as a Division Algebra"
   ]
  },
  {
   "cell_type": "markdown",
   "metadata": {},
   "source": [
    "I am studying quaternion series, hoping to apply them to quantum mechanics. It would be wrong to think of a quaternion series as a set of Quaternions. A set can be permuted and it is still the same set. A quaternion series is a totally ordered (possibly infinite) array. Each series has associated with it two integers called rows and columns. The product of the rows and columns must equal the length of the array.\n",
    "\n",
    "As suggested by the naming of rows and columns, there is much overlap between quaternion series and standard matrix algebra. The one difference will be in how products can be formed between series with the same values for rows and columns.\n",
    "\n",
    "I am calling each element in the array a state. Each state is a Quaternion in the full sense of the word as far as the addition and multiplication operators are concerned. Each state can be added, subtracted, multiplied, and divided by a state in the same position in the quaternion series.\n",
    "\n",
    "To be a division algebra, both the addition and multiplication operators must be shown to be group operators for quaternion series. Part of the motivaction is to treat the two operations - addition and multiplication - in a similar way. Both are just functions that take in to inputs and create one output. Eliminate any bias in how the two are treated.\n",
    "\n",
    "## Identities\n",
    "\n",
    "First things first: start with the identity for a 2 state system which I will make even a little easier by using only complex numbers (the \"quaternion\"-like properties are not relevant for this analysis).\n",
    "\n",
    "Load the needed libraries."
   ]
  },
  {
   "cell_type": "code",
   "execution_count": 1,
   "metadata": {},
   "outputs": [],
   "source": [
    "%%capture\n",
    "%matplotlib inline\n",
    "import numpy as np\n",
    "import sympy as sp\n",
    "import matplotlib.pyplot as plt\n",
    "import math\n",
    "import copy\n",
    "\n",
    "# To get equations the look like, well, equations, use the following.\n",
    "from sympy.interactive import printing\n",
    "printing.init_printing(use_latex=True)\n",
    "from IPython.display import display\n",
    "\n",
    "# Tools for manipulating quaternions.\n",
    "import Q_tools as qt;\n",
    "\n",
    "from IPython.core.display import display, HTML, Math, Latex\n",
    "display(HTML(\"<style>.container { width:100% !important; }</style>\"))"
   ]
  },
  {
   "cell_type": "markdown",
   "metadata": {},
   "source": [
    "I created a function to return the idenity given a dimeion."
   ]
  },
  {
   "cell_type": "code",
   "execution_count": 2,
   "metadata": {},
   "outputs": [
    {
     "name": "stdout",
     "output_type": "stream",
     "text": [
      "Identity for 2 state quaternion series.\n",
      "n=1: (1, 0, 0, 0) 1\n",
      "n=2: (1, 0, 0, 0) 1\n",
      "ket: 2/1\n",
      "\n"
     ]
    }
   ],
   "source": [
    "identity = qt.QHStates().identity(2)\n",
    "identity.print_state(\"Identity for 2 state quaternion series.\")"
   ]
  },
  {
   "cell_type": "markdown",
   "metadata": {},
   "source": [
    "Looks like I expected, a bunch of ones. Do you see an assumption? I did not when I wrote the code. The assumption was that the identity function should only return the multiplicative identity, not the additive one. What darn use is the additive identity, a big fat collection of zeros? That is a utilitarian critique (and a good one, I get it). But if one strives to really treat addition and multiplication similarly, a call to the function identity() should be able to return either the additive or multiplicative identity. Eliminate a natural bias in the code. I added a flag to the function, additive, that is set to False by default, but can be set to True with the following result:"
   ]
  },
  {
   "cell_type": "code",
   "execution_count": 3,
   "metadata": {},
   "outputs": [
    {
     "name": "stdout",
     "output_type": "stream",
     "text": [
      "Additive identity for 2 state quaternion series.\n",
      "n=1: (0, 0, 0, 0) \n",
      "n=2: (0, 0, 0, 0) \n",
      "ket: 2/1\n"
     ]
    }
   ],
   "source": [
    "additive_identity = qt.QHStates().identity(2, additive=True)\n",
    "additive_identity.print_state(\"Additive identity for 2 state quaternion series.\", 0, 1)"
   ]
  },
  {
   "cell_type": "markdown",
   "metadata": {},
   "source": [
    "An identity for an _operator_ will have to be different from that for a bra or ket quaternion series. The values must go along the \"diagonal\". Fortunately there is a flag for that."
   ]
  },
  {
   "cell_type": "code",
   "execution_count": 4,
   "metadata": {},
   "outputs": [
    {
     "name": "stdout",
     "output_type": "stream",
     "text": [
      "Diagonal multiplicative operator identity for 2 state quaternion series.\n",
      "n=1: (1, 0, 0, 0) 1\n",
      "n=2: (0, 0, 0, 0) 0\n",
      "n=3: (0, 0, 0, 0) 0\n",
      "n=4: (1, 0, 0, 0) 1\n",
      "op: 2/2\n",
      "\n",
      "Diagonal addtive operator identity for 2 state quaternion series.\n",
      "n=1: (0, 0, 0, 0) 0\n",
      "n=2: (0, 0, 0, 0) 0\n",
      "n=3: (0, 0, 0, 0) 0\n",
      "n=4: (0, 0, 0, 0) 0\n",
      "op: 2/2\n",
      "\n"
     ]
    }
   ],
   "source": [
    "diagonal_identity = qt.QHStates().identity(2, operator=True)\n",
    "diagonal_identity.print_state(\"Diagonal multiplicative operator identity for 2 state quaternion series.\")\n",
    "diagonal_additive_identity = qt.QHStates().identity(2, operator=True, additive=True)\n",
    "diagonal_additive_identity.print_state(\"Diagonal addtive operator identity for 2 state quaternion series.\")"
   ]
  },
  {
   "cell_type": "markdown",
   "metadata": {},
   "source": [
    "This covers the case of square operators. Non-square operators are needed if the bra has a different number of state dimensions from the ket vector. I have made no effort to deal with that case."
   ]
  },
  {
   "cell_type": "markdown",
   "metadata": {},
   "source": [
    "Let's show how these identities work for a simple two state quaternion series."
   ]
  },
  {
   "cell_type": "code",
   "execution_count": 5,
   "metadata": {},
   "outputs": [
    {
     "name": "stdout",
     "output_type": "stream",
     "text": [
      "cs: \n",
      "n=1: (1, 2, 0, 0) Q\n",
      "n=2: (3, 4, 0, 0) Q\n",
      "ket: 2/1\n",
      "\n"
     ]
    }
   ],
   "source": [
    "c1 = qt.QH([1, 2, 0, 0])\n",
    "c2 = qt.QH([3, 4, 0, 0])\n",
    "\n",
    "cs = qt.QHStates([c1, c2])\n",
    "\n",
    "cs.print_state(\"cs: \")"
   ]
  },
  {
   "cell_type": "code",
   "execution_count": 6,
   "metadata": {},
   "outputs": [
    {
     "name": "stdout",
     "output_type": "stream",
     "text": [
      "cs + additive identity:\n",
      "n=1: (1, 2, 0, 0) Q+0\n",
      "n=2: (3, 4, 0, 0) Q+0\n",
      "ket: 2/1\n",
      "\n"
     ]
    }
   ],
   "source": [
    "cs.add(additive_identity).print_state(\"cs + additive identity:\")"
   ]
  },
  {
   "cell_type": "code",
   "execution_count": 7,
   "metadata": {},
   "outputs": [
    {
     "name": "stdout",
     "output_type": "stream",
     "text": [
      "diagonal operator identity * cs:\n",
      "n=1: (1, 2, 0, 0) +1xQ+0xQ\n",
      "n=2: (3, 4, 0, 0) +0xQ+1xQ\n",
      "ket: 2/1\n",
      "\n"
     ]
    }
   ],
   "source": [
    "diagonal_identity.product(cs).print_state(\"diagonal operator identity * cs:\")"
   ]
  },
  {
   "cell_type": "markdown",
   "metadata": {},
   "source": [
    "Here already is an issue. With additive inverse, the two dimensional identity \"just worked\". One cannot add the diagonal additive identity with its four state dimensions to this two dimensional state.\n",
    "\n",
    "With the product, it is the four state dimensional diagonal operator that works as the identity since the result is still a quaternion series, in fact the same series.\n",
    "\n",
    "The software has been written so that if and only if two kets of the exact same dimension are used in the product function, then on on the left will be diagonalized. For two bras, the bra on the right will diagonalize. That is operationally how products are defined. Thus one can use the ket identity defined earlier and have it behave like we hope:"
   ]
  },
  {
   "cell_type": "code",
   "execution_count": 8,
   "metadata": {},
   "outputs": [
    {
     "name": "stdout",
     "output_type": "stream",
     "text": [
      "identity * cs:\n",
      "n=1: (1, 2, 0, 0) +1xQ+0xQ\n",
      "n=2: (3, 4, 0, 0) +0xQ+1xQ\n",
      "ket: 2/1\n",
      "\n",
      "cs * identity:\n",
      "n=1: (1, 2, 0, 0) +1xQ+0xQ\n",
      "n=2: (3, 4, 0, 0) +0xQ+1xQ\n",
      "ket: 2/1\n",
      "\n"
     ]
    }
   ],
   "source": [
    "identity.product(cs).print_state(\"identity * cs:\")\n",
    "identity.product(cs).print_state(\"cs * identity:\")"
   ]
  },
  {
   "cell_type": "markdown",
   "metadata": {},
   "source": [
    "The multiplicative identity will commute with all quaternions, an unusual property for a quaternion."
   ]
  },
  {
   "cell_type": "markdown",
   "metadata": {},
   "source": [
    "## 2. Inverses"
   ]
  },
  {
   "cell_type": "markdown",
   "metadata": {},
   "source": [
    "Move on the the additive and multiplicative inverses. At least this time addition will not be so prosaic. Calculate the inverse."
   ]
  },
  {
   "cell_type": "code",
   "execution_count": 9,
   "metadata": {},
   "outputs": [
    {
     "name": "stdout",
     "output_type": "stream",
     "text": [
      "cs_additive_inv\n",
      "n=1: (-1, -2, 0, 0) \n",
      "n=2: (-3, -4, 0, 0) \n",
      "ket: 2/1\n"
     ]
    }
   ],
   "source": [
    "cs_additive_inv = cs.inverse(additive=True)\n",
    "cs_additive_inv.print_state(\"cs_additive_inv\", 0, 1)"
   ]
  },
  {
   "cell_type": "markdown",
   "metadata": {},
   "source": [
    "Do the obvious to prove this is right:"
   ]
  },
  {
   "cell_type": "code",
   "execution_count": 10,
   "metadata": {},
   "outputs": [
    {
     "name": "stdout",
     "output_type": "stream",
     "text": [
      "cs_plus_additive_inv, should be zeroes\n",
      "n=1: (0, 0, 0, 0) \n",
      "n=2: (0, 0, 0, 0) \n",
      "ket: 2/1\n"
     ]
    }
   ],
   "source": [
    "cs_plus_additive_inv = cs.add(cs_additive_inv)\n",
    "cs_plus_additive_inv.print_state(\"cs_plus_additive_inv, should be zeroes\", 0, 1)"
   ]
  },
  {
   "cell_type": "code",
   "execution_count": 11,
   "metadata": {},
   "outputs": [
    {
     "name": "stdout",
     "output_type": "stream",
     "text": [
      "additive identity\n",
      "n=1: (0, 0, 0, 0) \n",
      "n=2: (0, 0, 0, 0) \n",
      "ket: 2/1\n",
      "\n"
     ]
    }
   ],
   "source": [
    "additive_identity = qt.QHStates().identity(2, additive=True)\n",
    "additive_identity.print_state(\"additive identity\", quiet=True)"
   ]
  },
  {
   "cell_type": "markdown",
   "metadata": {},
   "source": [
    "Now repeat the exercise, but for the multiplication operator."
   ]
  },
  {
   "cell_type": "code",
   "execution_count": 12,
   "metadata": {},
   "outputs": [
    {
     "name": "stdout",
     "output_type": "stream",
     "text": [
      "cs_multi_inv\n",
      "n=1: (0.2, -0.4, 0.0, 0.0) Q^-1\n",
      "n=2: (0.12, -0.16, 0.0, 0.0) Q^-1\n",
      "ket: 2/1\n",
      "\n"
     ]
    }
   ],
   "source": [
    "cs_multi_inv = cs.inverse(additive=False)\n",
    "cs_multi_inv.print_state(\"cs_multi_inv\")"
   ]
  },
  {
   "cell_type": "code",
   "execution_count": 13,
   "metadata": {},
   "outputs": [
    {
     "name": "stdout",
     "output_type": "stream",
     "text": [
      "cs_times_cs_inv\n",
      "n=1: (1.0, 0.0, 0.0, 0.0) +QxQ^-1+0xQ^-1\n",
      "n=2: (1.0, 0.0, 0.0, 0.0) +0xQ^-1+QxQ^-1\n",
      "ket: 2/1\n",
      "\n"
     ]
    }
   ],
   "source": [
    "cs_times_cs_inv = cs.product(cs_multi_inv)\n",
    "cs_times_cs_inv.print_state(\"cs_times_cs_inv\")"
   ]
  },
  {
   "cell_type": "markdown",
   "metadata": {},
   "source": [
    "What is really going on is that the inverse ket forms a diagonal. Since every non-zero quaternion has an inverse, a ket will always have an inverse - up to those pesky zeroes.\n",
    "\n",
    "A different way to accomplish the very same thing is to say the product of two kets is formed using a delta distribution.  The first time of a quaternion series would then be made of the product of first terms of the two input series and no other terms. "
   ]
  },
  {
   "cell_type": "code",
   "execution_count": 14,
   "metadata": {},
   "outputs": [
    {
     "name": "stdout",
     "output_type": "stream",
     "text": [
      "diagonal form of inverse\n",
      "n=1: (0.2, -0.4, 0.0, 0.0) \n",
      "n=2: (0, 0, 0, 0) \n",
      "n=3: (0, 0, 0, 0) \n",
      "n=4: (0.12, -0.16, 0.0, 0.0) \n",
      "op: 2/2\n"
     ]
    }
   ],
   "source": [
    "cs_multi_inv_diag = cs_multi_inv.diagonal(2)\n",
    "cs_multi_inv_diag.print_state(\"diagonal form of inverse\", 0, 1)"
   ]
  },
  {
   "cell_type": "code",
   "execution_count": 15,
   "metadata": {},
   "outputs": [
    {
     "name": "stdout",
     "output_type": "stream",
     "text": [
      "diag_inv * cs\n",
      "n=1: (1.0, 0.0, 0.0, 0.0) +Q^-1xQ+0xQ\n",
      "n=2: (1.0, 0.0, 0.0, 0.0) +0xQ+Q^-1xQ\n",
      "ket: 2/1\n",
      "\n"
     ]
    }
   ],
   "source": [
    "cs_times_diag_inv = cs_multi_inv_diag.product(cs)\n",
    "cs_times_diag_inv.print_state(\"diag_inv * cs\")"
   ]
  },
  {
   "cell_type": "markdown",
   "metadata": {},
   "source": [
    "That is the multiplicative identity discussed above."
   ]
  },
  {
   "cell_type": "markdown",
   "metadata": {},
   "source": [
    "## Addition, Multiplication, Vectors and Operators"
   ]
  },
  {
   "cell_type": "markdown",
   "metadata": {},
   "source": [
    "This is where working to write \"clean code\" rather than just code that works. The goals for clean code involve simplicity and directness. Both the identity() and inverse() functions have True/False flags for additive and operator. The additive inverse works if additive=True and operator=False. The multiplicative inverse works if additive=False and operator=True. Nice."
   ]
  },
  {
   "cell_type": "markdown",
   "metadata": {},
   "source": [
    "## 3. Closure"
   ]
  },
  {
   "cell_type": "markdown",
   "metadata": {},
   "source": [
    "Closure for addition is obvious. Let me just create three quaternion kets, add them up, show the result is another quaternion series. It is almost not worth the trouble, but the reason I do it is because the goal is to treat addition similar (but not exactly the same) as multiplication. If something can be done for addition, multiplication should follow - at least that is the proposal."
   ]
  },
  {
   "cell_type": "code",
   "execution_count": 16,
   "metadata": {},
   "outputs": [
    {
     "name": "stdout",
     "output_type": "stream",
     "text": [
      "1: q\n",
      "n=1: (1, -1, 3, 1) Q\n",
      "n=2: (-1, 2, 0, 1) Q\n",
      "ket: 2/1\n",
      "\n",
      "2: q\n",
      "n=1: (2, -2, 4, 4) Q\n",
      "n=2: (-2, 4, 1, 2) Q\n",
      "ket: 2/1\n",
      "\n",
      "3: q\n",
      "n=1: (3, -3, 5, 9) Q\n",
      "n=2: (-3, 6, 2, 3) Q\n",
      "ket: 2/1\n",
      "\n",
      "Sum of three quaternion series is a quaternion series\n",
      "n=1: (6, -6, 12, 14) \n",
      "n=2: (-6, 12, 3, 6) \n",
      "ket: 2/1\n"
     ]
    }
   ],
   "source": [
    "q3_orig = []\n",
    "\n",
    "for i in range(1, 4):\n",
    "    q3_orig.append(qt.QHStates([qt.QH([i, -i, i+2, i**2]), qt.QH([-i, 2 * i, i-1, i])]))\n",
    "\n",
    "for i, q in enumerate(q3_orig, 1):\n",
    "    q.print_state(\"{}: q\".format(i))\n",
    "    \n",
    "q3 = copy.deepcopy(q3_orig)\n",
    "\n",
    "q_sum = q3.pop()\n",
    "\n",
    "for q in q3:\n",
    "    q_sum = q_sum.add(q)\n",
    "    \n",
    "q_sum.print_state(\"Sum of three quaternion series is a quaternion series\", 0, 1)"
   ]
  },
  {
   "cell_type": "markdown",
   "metadata": {},
   "source": [
    "So now how does one show closure for multiplication? The hint comes from the work with identities and operators: multiplication must involve diagonal operators. "
   ]
  },
  {
   "cell_type": "code",
   "execution_count": 17,
   "metadata": {},
   "outputs": [
    {
     "name": "stdout",
     "output_type": "stream",
     "text": [
      "Product of two operators and a ket is a quaternion series, q1 q2|q3>\n",
      "n=1: (-168, 128, -104, -64) \n",
      "n=2: (86, -20, 2, -30) \n",
      "ket: 2/1\n",
      "\n"
     ]
    }
   ],
   "source": [
    "q3 = copy.deepcopy(q3_orig)\n",
    "\n",
    "q_prod = q3.pop()\n",
    "\n",
    "for q in reversed(q3):\n",
    "    q_prod = q.diagonal(2).product(q_prod)\n",
    "    \n",
    "q_prod.print_state(\"Product of two operators and a ket is a quaternion series, q1 q2|q3>\", quiet=True)"
   ]
  },
  {
   "cell_type": "markdown",
   "metadata": {},
   "source": [
    "Why did I feel it was necessary to add the reversed() function? What needs to be calculated is $q1 \\; q2 \\; |q3>$. The pop() function grabs q3 as the ket. Order matters, so the next product has to be with q2, then q1, requiring a reversed array."
   ]
  },
  {
   "cell_type": "markdown",
   "metadata": {},
   "source": [
    "## 4. Associative"
   ]
  },
  {
   "cell_type": "markdown",
   "metadata": {},
   "source": [
    "Just calculate it."
   ]
  },
  {
   "cell_type": "code",
   "execution_count": 18,
   "metadata": {},
   "outputs": [
    {
     "name": "stdout",
     "output_type": "stream",
     "text": [
      "(q1+q2) + q3\n",
      "n=1: (6, -6, 12, 14) Q+Q+Q\n",
      "n=2: (-6, 12, 3, 6) Q+Q+Q\n",
      "ket: 2/1\n",
      "\n",
      "q1 + (q2+q3)\n",
      "n=1: (6, -6, 12, 14) Q+Q+Q\n",
      "n=2: (-6, 12, 3, 6) Q+Q+Q\n",
      "ket: 2/1\n",
      "\n"
     ]
    }
   ],
   "source": [
    "q3 = copy.deepcopy(q3_orig)\n",
    "q3[0].add(q3[1]).add(q3[2]).print_state(\"(q1+q2) + q3\")\n",
    "q3[0].add(q3[1].add(q3[2])).print_state(\"q1 + (q2+q3)\")"
   ]
  },
  {
   "cell_type": "code",
   "execution_count": 19,
   "metadata": {},
   "outputs": [
    {
     "name": "stdout",
     "output_type": "stream",
     "text": [
      "(q1xq2) x q3\n",
      "n=1: (-168, 128, -104, -64) ++QxQ+0xQxQ+0xQ\n",
      "n=2: (86, -20, 2, -30) +0xQ++0xQ+QxQxQ\n",
      "ket: 2/1\n",
      "\n",
      "q1 x (q2xq3)\n",
      "n=1: (-168, 128, -104, -64) +Qx+QxQ+0xQ+0x+0xQ+QxQ\n",
      "n=2: (86, -20, 2, -30) +0x+QxQ+0xQ+Qx+0xQ+QxQ\n",
      "ket: 2/1\n",
      "\n"
     ]
    }
   ],
   "source": [
    "q3 = copy.deepcopy(q3_orig)\n",
    "q3[0].product(q3[1]).product(q3[2]).print_state(\"(q1xq2) x q3\")\n",
    "q3[0].product(q3[1].product(q3[2])).print_state(\"q1 x (q2xq3)\")"
   ]
  },
  {
   "cell_type": "markdown",
   "metadata": {},
   "source": [
    "This calculation shows how similarly addition and multiplicaiton are being treated by the code now. You will notice that the only change in the two above cells was \"add\" goes to product and \"+\" goes to \"x\". "
   ]
  },
  {
   "cell_type": "markdown",
   "metadata": {},
   "source": [
    "## Conclusion"
   ]
  },
  {
   "cell_type": "markdown",
   "metadata": {},
   "source": [
    "Quaternion series are not numbers like the real numbers, complex numbers and quaternions. Instead they start from quaternions and add more structure: the array, rows, and columns. Addition and multiplicaiton have been shown to be group operations on quaternion series, and thus this quaternion series are a division algebra. It is not obvious to me where there will turn out to be \"a good thing\". Yet my gut says this is better than just having addition as a group operation."
   ]
  }
 ],
 "metadata": {
  "kernelspec": {
   "display_name": "Python 3",
   "language": "python",
   "name": "python3"
  },
  "language_info": {
   "codemirror_mode": {
    "name": "ipython",
    "version": 3
   },
   "file_extension": ".py",
   "mimetype": "text/x-python",
   "name": "python",
   "nbconvert_exporter": "python",
   "pygments_lexer": "ipython3",
   "version": "3.5.1"
  }
 },
 "nbformat": 4,
 "nbformat_minor": 2
}
