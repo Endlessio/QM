{
 "cells": [
  {
   "cell_type": "markdown",
   "metadata": {},
   "source": [
    "# Calculating probabilities for \"Why are amplitudes complex?\""
   ]
  },
  {
   "cell_type": "markdown",
   "metadata": {},
   "source": [
    "Doug Sweetser <sweetser@alum.mit.edu>"
   ]
  },
  {
   "cell_type": "markdown",
   "metadata": {},
   "source": [
    "Scott Aaronson in his blog titled [\"Why are amplitudes complex?\"](https://www.scottaaronson.com/blog/?p=4021) set up a simple system to explore with quaternion series quantum mechanics. He came to the conclusion that superluminal travel was possible. This goes against so much experimental data, any further work with such a setup is not worthy of any more time.\n",
    "\n",
    "Let me repeat the calculation with my set of tools. Quaternions are a normed division algebra and I use the class QH to do all those operations. Quaternion series is a semi-group with inverses, and the class QHStates are used those.\n",
    "\n",
    "Load the needed libraries."
   ]
  },
  {
   "cell_type": "code",
   "execution_count": null,
   "metadata": {},
   "outputs": [],
   "source": [
    "%%capture\n",
    "%matplotlib inline\n",
    "import numpy as np\n",
    "import sympy as sp\n",
    "import matplotlib.pyplot as plt\n",
    "import math\n",
    "\n",
    "# To get equations the look like, well, equations, use the following.\n",
    "from sympy.interactive import printing\n",
    "printing.init_printing(use_latex=True)\n",
    "from IPython.display import display\n",
    "\n",
    "# Tools for manipulating quaternions.\n",
    "import Q_tools as qt\n",
    "from IPython.core.display import display, HTML, Math, Latex\n",
    "display(HTML(\"<style>.container { width:100% !important; }</style>\"))"
   ]
  },
  {
   "cell_type": "markdown",
   "metadata": {},
   "source": [
    "Only a few quaternions will be used, create some convenient abbreviations."
   ]
  },
  {
   "cell_type": "code",
   "execution_count": null,
   "metadata": {},
   "outputs": [],
   "source": [
    "q_0, q_1, q_i, q_j, q_k = qt.QH().q_0(), qt.QH().q_1(), qt.QH().q_i(), qt.QH().q_j(), qt.QH().q_k()\n",
    "q_half = qt.QHStates([qt.QH([1/2,0,0,0])])\n",
    "q_sqrt_half = qt.QHStates([qt.QH([sp.sqrt(1/2),0,0,0])])"
   ]
  },
  {
   "cell_type": "markdown",
   "metadata": {},
   "source": [
    "Alice and Bob's state vectors are |1> and |+>. Each can be written in whatever basis one choses. For Alice, let's use the easy one. "
   ]
  },
  {
   "cell_type": "code",
   "execution_count": null,
   "metadata": {},
   "outputs": [],
   "source": [
    "u = qt.QHStates([q_1, q_0])\n",
    "d = qt.QHStates([q_0, q_1])\n",
    "\n",
    "u.print_state(\"|u>\")\n",
    "d.print_state(\"|d>\")"
   ]
  },
  {
   "cell_type": "markdown",
   "metadata": {},
   "source": [
    "Form the ket |+> for Bob and confirm it is orthonormal:"
   ]
  },
  {
   "cell_type": "code",
   "execution_count": null,
   "metadata": {},
   "outputs": [],
   "source": [
    "udp = u.add(d)\n",
    "udn = u.dif(d)\n",
    "plus = q_sqrt_half.product(udp).ket()\n",
    "minus = q_sqrt_half.product(udn).ket()\n",
    "\n",
    "plus.print_state(\"|+>\", quiet=True)\n",
    "minus.print_state(\"|->\", quiet=True)\n",
    "plus.norm_squared().print_state(\"<+|+>\", quiet=True)\n",
    "minus.norm_squared().print_state(\"<-|->\", quiet=True)\n",
    "plus.bra().Euclidean_product(minus).print_state(\"<+|->\", quiet=True)"
   ]
  },
  {
   "cell_type": "markdown",
   "metadata": {},
   "source": [
    "Define the operators used in the blog."
   ]
  },
  {
   "cell_type": "code",
   "execution_count": null,
   "metadata": {},
   "outputs": [],
   "source": [
    "U = qt.QHStates([q_1, q_0, q_0, q_j]).op()\n",
    "U.print_state(\"U\", quiet=True)\n",
    "\n",
    "V = qt.QHStates([q_1, q_0, q_0, q_i]).op()\n",
    "V.print_state(\"V\", quiet=True)"
   ]
  },
  {
   "cell_type": "markdown",
   "metadata": {},
   "source": [
    "Calculate $<1|U|1>$, $<+|V|+>$, and their product, $<1|U|1><+|V|+>$"
   ]
  },
  {
   "cell_type": "code",
   "execution_count": null,
   "metadata": {},
   "outputs": [],
   "source": [
    "bracket = qt.QHStates().bracket\n",
    "\n",
    "one_U = bracket(u.bra(), U, u)\n",
    "plus_V = bracket(plus.bra(), V, plus)\n",
    "one_U_plus_V = one_U.product(plus_V)\n",
    "\n",
    "one_U.print_state(\"<1|U|1>\")\n",
    "plus_V.print_state(\"<+|V|+>\")\n",
    "one_U_plus_V.print_state(\"<1|U|1><+|V|+>\")"
   ]
  },
  {
   "cell_type": "markdown",
   "metadata": {},
   "source": [
    "Good news: the operator U is a Hermitian operator for the ket $|1>$ as indicated by the real value of of $<1|U|1>$. Notice how the imaginary $j$ of U is not used for this representation of $|1>$. This also means any old imaginary 3-vector could be used in the operator U - up to a normalization factor. Sounds like cheating (it is not though).\n",
    "\n",
    "Bad news: The assertion that V is a Hermitian operator for the ket |+> is not true since the value calculated for $<+|V|+>$ was not real. This doesn't have anything to do with any value be quaternions or not. The operator V cannot be an observable for the state $|+>$. Bummer.\n",
    "\n",
    "Can we ask a better question? If one starts with the state $|0>$, might there be an operator $V$ that would use an imaginary and still generate a real number? Without any more thought, do the calculation..."
   ]
  },
  {
   "cell_type": "code",
   "execution_count": null,
   "metadata": {},
   "outputs": [],
   "source": [
    "d_V = bracket(d.bra(), V, d)\n",
    "d_V.print_state(\"<0|V|0>\")"
   ]
  },
  {
   "cell_type": "markdown",
   "metadata": {},
   "source": [
    "Nice, only off by a factor of -i, simple to adjust."
   ]
  },
  {
   "cell_type": "code",
   "execution_count": null,
   "metadata": {},
   "outputs": [],
   "source": [
    "Vi = V.product(qt.QHStates([qt.QH().q_i(-1)])).op()\n",
    "Vi.print_state(\"Vi\")\n",
    "\n",
    "d_Vi = bracket(d.bra(), Vi, d)\n",
    "d_Vi.print_state(\"<0|Vi|0>\")"
   ]
  },
  {
   "cell_type": "markdown",
   "metadata": {},
   "source": [
    "$ Vi = \\begin{bmatrix}\n",
    "-i & 0 \\\\\n",
    "0 & 1 \n",
    "\\end{bmatrix}  $"
   ]
  },
  {
   "cell_type": "markdown",
   "metadata": {},
   "source": [
    "Now we can ask about odds of making an observation given Alice with a state $|1>$ and Bob with a state $|0>$ using the operators $U$ and $V$:"
   ]
  },
  {
   "cell_type": "code",
   "execution_count": null,
   "metadata": {},
   "outputs": [],
   "source": [
    "one_U.product(d_Vi).print_state(\"<1|U|1><0|Vi|0>\")"
   ]
  },
  {
   "cell_type": "markdown",
   "metadata": {},
   "source": [
    "Why is this certain to happen? There is not superposition of states and all the operators can do is play with the phase. The calculation could be made more interesting by using superpositions of states. The key thing to notice is more care is required to finding Hermitian operators.\n",
    "\n",
    "What does the suggested rotation operator do to this calculation? I have chosen to rotate the operators $U$ and $Vi$."
   ]
  },
  {
   "cell_type": "code",
   "execution_count": null,
   "metadata": {},
   "outputs": [],
   "source": [
    "jk = qt.QHStates([q_j, q_k, q_k, q_j], qs_type=\"op\")\n",
    "\n",
    "jk.print_state(\"jk operator\")"
   ]
  },
  {
   "cell_type": "markdown",
   "metadata": {},
   "source": [
    "$ jk = \\begin{bmatrix}\n",
    "j & k \\\\\n",
    "k & j \n",
    "\\end{bmatrix}  $"
   ]
  },
  {
   "cell_type": "markdown",
   "metadata": {},
   "source": [
    "Form the product of this rotation matrix with $U$ and $Vi$."
   ]
  },
  {
   "cell_type": "code",
   "execution_count": null,
   "metadata": {},
   "outputs": [],
   "source": [
    "jkU = jk.product(U).op()\n",
    "jkVi = jk.product(Vi).op()\n",
    "\n",
    "jkU.print_state(\"jk U\")\n",
    "jkVi.print_state(\"jk Vi\")"
   ]
  },
  {
   "cell_type": "markdown",
   "metadata": {},
   "source": [
    "Put these rotated operators to work. See if they generate real values as they must to be Hermitian operators."
   ]
  },
  {
   "cell_type": "code",
   "execution_count": null,
   "metadata": {},
   "outputs": [],
   "source": [
    "bracket(u.bra(), jkU, u).print_state(\"<1|jkU|1>\")\n",
    "bracket(d.bra(), jkVi, d).print_state(\"<0|jkVi|0>\")"
   ]
  },
  {
   "cell_type": "markdown",
   "metadata": {},
   "source": [
    "Both miss the mark by a factor of $-j$."
   ]
  },
  {
   "cell_type": "code",
   "execution_count": null,
   "metadata": {},
   "outputs": [],
   "source": [
    "jjkU = qt.QHStates([qt.QH().q_j(-1)]).product(jkU).op()\n",
    "jjkU.print_state(\"jjkU\")\n",
    "one_jjkU = bracket(u.bra(), jjkU, u)\n",
    "one_jjkU.print_state(\"<1|jjkU|1>\")"
   ]
  },
  {
   "cell_type": "markdown",
   "metadata": {},
   "source": [
    "$ jjkU = \\frac{1}{2}\\begin{bmatrix}\n",
    "1 & -i \\\\\n",
    "-k & j \n",
    "\\end{bmatrix}  $"
   ]
  },
  {
   "cell_type": "markdown",
   "metadata": {},
   "source": [
    "The operator $U$ was rotated, but that did not change the odds of seeing this state. There will be no way for Alice to send Bob a signal using a rotation.\n",
    "\n",
    "Complete the story with the other operator, $Vi$."
   ]
  },
  {
   "cell_type": "code",
   "execution_count": null,
   "metadata": {},
   "outputs": [],
   "source": [
    "jjkVi = qt.QHStates([qt.QH().q_j(-1)]).product(jkVi).op()\n",
    "jjkVi.print_state(\"jjkVi\")\n",
    "zero_jjkVi = bracket(d.bra(), jjkVi, d)\n",
    "zero_jjkVi.print_state(\"<0|jjkVi|0>\")"
   ]
  },
  {
   "cell_type": "markdown",
   "metadata": {},
   "source": [
    "$ \\frac{1}{2}\\begin{bmatrix}\n",
    "-i & -1 \\\\\n",
    "-i & 1 \n",
    "\\end{bmatrix}  $"
   ]
  },
  {
   "cell_type": "code",
   "execution_count": null,
   "metadata": {},
   "outputs": [],
   "source": [
    "one_jjkU.product(zero_jjkVi).print_state(\"<1|jjkU|1><0|jjkVi|0>\")"
   ]
  },
  {
   "cell_type": "markdown",
   "metadata": {},
   "source": [
    "The odds are not altered by the rotation."
   ]
  },
  {
   "cell_type": "code",
   "execution_count": null,
   "metadata": {},
   "outputs": [],
   "source": []
  }
 ],
 "metadata": {
  "language_info": {
   "name": "python",
   "pygments_lexer": "ipython3"
  }
 },
 "nbformat": 4,
 "nbformat_minor": 2
}
