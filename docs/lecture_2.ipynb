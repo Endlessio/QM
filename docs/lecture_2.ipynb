{
 "cells": [
  {
   "cell_type": "markdown",
   "metadata": {},
   "source": [
    "# Lecture 2: Quantum States"
   ]
  },
  {
   "cell_type": "markdown",
   "metadata": {},
   "source": [
    "email: dsweetser@alum.mit.edu"
   ]
  },
  {
   "cell_type": "markdown",
   "metadata": {},
   "source": [
    "With lecture 1 in the books, this one should be pretty simple and direct. The working hypothesis is that there is an equivalence relation between the way quantum mechanics is represented using a complex-valued vector space and quaternion series. Every calculation done the standard way in lecture 1 was done with quaternion series for the companion iPython notebook. Continue that process with Lecture 2 which fortunately is shorter. It is also simpler, focusing on spin, something that can be described as best we can do with two quantum states. Set up our math tools."
   ]
  },
  {
   "cell_type": "code",
   "execution_count": null,
   "metadata": {},
   "outputs": [],
   "source": [
    "%%capture\n",
    "%matplotlib inline\n",
    "import numpy as np\n",
    "import sympy as sp\n",
    "import matplotlib.pyplot as plt\n",
    "\n",
    "# To get equations the look like, well, equations, use the following.\n",
    "from sympy.interactive import printing\n",
    "printing.init_printing(use_latex=True)\n",
    "from IPython.display import display\n",
    "\n",
    "# Tools for manipulating quaternions.\n",
    "from QH import QH, QHStates\n",
    "\n",
    "from IPython.core.display import display, HTML, Math, Latex\n",
    "display(HTML(\"<style>.container { width:100% !important; }</style>\"))"
   ]
  },
  {
   "cell_type": "markdown",
   "metadata": {},
   "source": [
    "![](images/lecture_2/lecture_2_p_35_1.50.jpg)"
   ]
  },
  {
   "cell_type": "markdown",
   "metadata": {},
   "source": [
    "Exactly. I was happy to see that phrase be written in italics. Each moment in our lives either is before another moment, after another moment, or exactly the same moment. The set of moments of our lives is a completely ordered set. Now think about a room of people. Each as their ordered set of moments, but how should one organize both the time and place of all these people? The space-time location of all these people cannot form a completely ordered set. Once could design a way to order them, but there is no universal way to do so.\n",
    "\n",
    "Hydrogen is the most abundant atom in the Universe. Its quantum behavior is exceptionally precise as indicated by the atomic spectra Balmer series. If a hydrogen atom gets excited, due to the quantization of angular momentum, it can only emit light at precise frequencies. We cannot know when it will emit light, but the frequencies are fixed."
   ]
  },
  {
   "cell_type": "markdown",
   "metadata": {},
   "source": [
    "![](images/lecture_2/lecture_2_p_36_1.50.jpg)"
   ]
  },
  {
   "cell_type": "markdown",
   "metadata": {},
   "source": [
    "I am in the second class. My montra is that quantum mechanics as done today is formally exactly right, but it is not right enough. Most of the progress that needs to be done is in phase spaces that are not even written down. Instead of just the one Schrödinger equation, there are three mixed derivative differential equations that I can write down but do not understand how to use productively. That is for another Lecture. A new proposal I have for how gravity works, quaternion gravity, is based on terms that are not in the canonical lexicon of physics. That example however is not quantum mechanical other that to say if true, the graviton as a material expression of a gravity field does not exist. Instead, special relativity sets some precise rules about what equations can be used to describe Nature. Gravity imposes a different set of rules on all equations. I know these are huge claims not back up by supporting evidence here. Bottom line: things are great, and they can become greater, but it will require a crazy amount of work, hence these notebooks."
   ]
  },
  {
   "cell_type": "markdown",
   "metadata": {},
   "source": [
    "![](images/lecture_2/lecture_2_p_38_1.50.jpg)"
   ]
  },
  {
   "cell_type": "markdown",
   "metadata": {},
   "source": [
    "![](images/lecture_2/lecture_2_p_47_1.50.jpg)"
   ]
  },
  {
   "cell_type": "markdown",
   "metadata": {},
   "source": [
    "These two clips are actually some 11 pages apart. The authors made a decision to use the abtractions of $|u>$ and $|d>$ for from page 38 to 47 so the user would know that no matter what choice was made to represent those two states, it would flow to every statement that followed. That is how abstractions work. The first time I constructed this notebook, I actually used the imaginary $i$ in place of the real number $1$, so I know the abstraction works as is. \n",
    "\n",
    "The working hypothesis a (possibly infinite) series of quaternions has the same algebraic properties of Hilbert spaces when one uses the Euclidean product, $A^* B = \\sum_{1}^{n} a_n^* b_n$. For n=2:"
   ]
  },
  {
   "cell_type": "markdown",
   "metadata": {},
   "source": [
    "![AxB.png](images/lecture_2/AxB.png)"
   ]
  },
  {
   "cell_type": "markdown",
   "metadata": {},
   "source": [
    "When one forms a _bra_ from a _ket_, it is necessary to take the conjugate. The _bra_ is in a different location in space from the _ket_ due to this conjugation, so it is important to make a note of that difference. The land of conjugated values can only be seen in a mirror and not reached."
   ]
  },
  {
   "cell_type": "code",
   "execution_count": null,
   "metadata": {},
   "outputs": [],
   "source": [
    "q_0, q_1, q_i, q_j, q_k = QH().q_0(), QH().q_1(), QH().q_i(), QH().q_j(), QH().q_k()\n",
    "\n",
    "u = QHStates([q_1, q_0])\n",
    "d = QHStates([q_0, q_1])\n",
    "\n",
    "u.print_state(\"|u>\")\n",
    "d.print_state(\"|d>\")"
   ]
  },
  {
   "cell_type": "markdown",
   "metadata": {},
   "source": [
    "![](images/lecture_2/lecture_2_p_38_2.50.jpg)"
   ]
  },
  {
   "cell_type": "markdown",
   "metadata": {},
   "source": [
    "Construct a general A, not setting any values."
   ]
  },
  {
   "cell_type": "code",
   "execution_count": null,
   "metadata": {},
   "outputs": [],
   "source": [
    "At1, Ax1, Ay1, Az1 = sp.symbols(\"At1 Ax1 Ay1 Az1\")\n",
    "At2, Ax2, Ay2, Az2 = sp.symbols(\"At2 Ax2 Ay2 Az2\")\n",
    "Aq1 = QH([At1, Ax1, Ay1, Az1], qtype=\"a₁\")\n",
    "Aq2 = QH([At2, Ax2, Ay2, Az2], qtype=\"a₂\")\n",
    "A = QHStates([Aq1, Aq2])\n",
    "A.print_state(\"|A>\")"
   ]
  },
  {
   "cell_type": "markdown",
   "metadata": {},
   "source": [
    "Calculation the components."
   ]
  },
  {
   "cell_type": "code",
   "execution_count": null,
   "metadata": {},
   "outputs": [],
   "source": [
    "uA = u.bra().product(A)\n",
    "uA.print_state(\"<u|A>\")\n",
    "dA = d.bra().product(A)\n",
    "dA.print_state(\"<d|A>\")"
   ]
  },
  {
   "cell_type": "markdown",
   "metadata": {},
   "source": [
    "That was easy. As different basis vectors are constructed, the 8 values that go into $A$ will shift around."
   ]
  },
  {
   "cell_type": "markdown",
   "metadata": {},
   "source": [
    "![](images/lecture_2/lecture_2_p_39_1.50.jpg)"
   ]
  },
  {
   "cell_type": "markdown",
   "metadata": {},
   "source": [
    "Simpe enough to calculate."
   ]
  },
  {
   "cell_type": "markdown",
   "metadata": {},
   "source": [
    "![](images/lecture_2/lecture_2_p_39_2.50.jpg)"
   ]
  },
  {
   "cell_type": "code",
   "execution_count": null,
   "metadata": {},
   "outputs": [],
   "source": [
    "uA.bra().product(uA).display_q(\"|αu|²\")\n",
    "dA.bra().product(dA).display_q(\"|αd|²\")"
   ]
  },
  {
   "cell_type": "markdown",
   "metadata": {},
   "source": [
    "Everything evaluates to the expected positive real value. The up probability of spin is all from the first quaternion, while the down probability is all from the second quaternion. Quite clean and simple."
   ]
  },
  {
   "cell_type": "markdown",
   "metadata": {},
   "source": [
    "![](images/lecture_2/lecture_2_p_39_3.50.jpg)"
   ]
  },
  {
   "cell_type": "markdown",
   "metadata": {},
   "source": [
    "For this representation, it is obvious so I will do just one."
   ]
  },
  {
   "cell_type": "code",
   "execution_count": null,
   "metadata": {},
   "outputs": [],
   "source": [
    "ud = u.bra().product(d)\n",
    "ud.print_state(\"<u|d>\")\n",
    "du = d.bra().product(u)\n",
    "du.print_state(\"<d|u>\")"
   ]
  },
  {
   "cell_type": "markdown",
   "metadata": {},
   "source": [
    "![](images/lecture_2/lecture_2_p_40_1.50.jpg)"
   ]
  },
  {
   "cell_type": "markdown",
   "metadata": {},
   "source": [
    "Nice and clear, and easy to calculate."
   ]
  },
  {
   "cell_type": "markdown",
   "metadata": {},
   "source": [
    "![](images/lecture_2/lecture_2_p_40_2.50.jpg)"
   ]
  },
  {
   "cell_type": "markdown",
   "metadata": {},
   "source": [
    "Normalization is a simple enough trick to do."
   ]
  },
  {
   "cell_type": "code",
   "execution_count": null,
   "metadata": {},
   "outputs": [],
   "source": [
    "An = A.normalize().simple_q()\n",
    "An.display_q(\"A, normalized\")\n",
    "Anp = An.bra().product(An)\n",
    "Anp.qs[0].simple_q().display_q(\"<An|An>\")"
   ]
  },
  {
   "cell_type": "markdown",
   "metadata": {},
   "source": [
    "I am not sure why this was not able to simplify down to (1, 0, 0, 0)."
   ]
  },
  {
   "cell_type": "markdown",
   "metadata": {},
   "source": [
    "![](images/lecture_2/lecture_2_p_41_1.50.jpg)"
   ]
  },
  {
   "cell_type": "markdown",
   "metadata": {},
   "source": [
    "Define $|r>$ and $|L>$ using $|u>$ and $|d>$."
   ]
  },
  {
   "cell_type": "code",
   "execution_count": null,
   "metadata": {},
   "outputs": [],
   "source": [
    "sqrt_2op = QHStates([QH([sp.sqrt(1/2), 0, 0, 0])], qs_type=\"op\")\n",
    "\n",
    "u2 = sqrt_2op.product(u)\n",
    "d2 = sqrt_2op.product(d)\n",
    "\n",
    "r = u2.add(d2)\n",
    "L = u2.dif(d2)\n",
    "\n",
    "r.print_state(\"|r>\")\n",
    "L.print_state(\"|L>\")"
   ]
  },
  {
   "cell_type": "markdown",
   "metadata": {},
   "source": [
    "One thing to notices is how complicated the qtype became. For the up and down states, it was either zero or one.  Why is there a sum of four terms? Notices that three of the four terms are zeros. To multiply a quaternion series with two state dimensions by the one over the square root of two takes a diagonal quaternion series with four state dimensions. That requirement is effectively recorded in the qtype.\n",
    "\n",
    "Isn't there something wrong with the sum of $|L>$ being equal to zero? What really matters is taking the norm things, $<L|L>=1$, so the zero ket is not going to create any issues."
   ]
  },
  {
   "cell_type": "markdown",
   "metadata": {},
   "source": [
    "![](images/lecture_2/lecture_2_p_41_2.50.jpg)"
   ]
  },
  {
   "cell_type": "markdown",
   "metadata": {},
   "source": [
    "![](images/lecture_2/lecture_2_p_42_2.50.jpg)"
   ]
  },
  {
   "cell_type": "markdown",
   "metadata": {},
   "source": [
    "Just do it."
   ]
  },
  {
   "cell_type": "code",
   "execution_count": null,
   "metadata": {},
   "outputs": [],
   "source": [
    "r.bra().product(r).print_state(\"<r|r>\")\n",
    "L.bra().product(L).print_state(\"<L|L>\")\n",
    "r.bra().product(L).print_state(\"<r|L>\")"
   ]
  },
  {
   "cell_type": "markdown",
   "metadata": {},
   "source": [
    "Just for fun, calculate the probability amplitudes $<A|r>$ and $<A|L>$ to see how this basis mixes around the information in $A$ without destroying it."
   ]
  },
  {
   "cell_type": "code",
   "execution_count": null,
   "metadata": {},
   "outputs": [],
   "source": [
    "Ar = A.bra().product(r)\n",
    "Ar.print_state(\"<A|r>\", 1)\n",
    "\n",
    "AL = A.bra().product(L)\n",
    "AL.print_state(\"<A|L>\", 1)"
   ]
  },
  {
   "cell_type": "markdown",
   "metadata": {},
   "source": [
    "In the up and down representation of quaternion states, one row was all zeroes, nice and simple. Now every seat in the hockey arena is filled. The first element in both series are the same. The second terms all differ by a sign although the magnitudes are the same."
   ]
  },
  {
   "cell_type": "markdown",
   "metadata": {},
   "source": [
    "![](images/lecture_2/lecture_2_p_42_3.50.jpg)"
   ]
  },
  {
   "cell_type": "markdown",
   "metadata": {},
   "source": [
    "![](images/lecture_2/lecture_2_p_43_1.50.jpg)"
   ]
  },
  {
   "cell_type": "markdown",
   "metadata": {},
   "source": [
    "![](images/lecture_2/lecture_2_p_43_2.50.jpg)"
   ]
  },
  {
   "cell_type": "markdown",
   "metadata": {},
   "source": [
    "Oh my, so many conditions!"
   ]
  },
  {
   "cell_type": "markdown",
   "metadata": {},
   "source": [
    "![](images/lecture_2/lecture_2_p_44_1.50.jpg)"
   ]
  },
  {
   "cell_type": "markdown",
   "metadata": {},
   "source": [
    "This is not so bad. Let's build this, then see of all the conditions \"just work\"."
   ]
  },
  {
   "cell_type": "code",
   "execution_count": null,
   "metadata": {},
   "outputs": [],
   "source": [
    "one_root_two = sp.sqrt(1/2)\n",
    "q_2 = QHStates( [ QH([sp.sqrt(1/2), 0, 0, 0]) ] )\n",
    "q_2i = QHStates([QH([0, sp.sqrt(1/2), 0, 0])])\n",
    "\n",
    "i = q_2.product(u).add(q_2i.product(d))\n",
    "o = q_2.product(u).dif(q_2i.product(d))\n",
    "\n",
    "i.print_state(\"|i>\")\n",
    "o.print_state(\"|o>\")"
   ]
  },
  {
   "cell_type": "markdown",
   "metadata": {},
   "source": [
    "First check the normal and orthogonal properties."
   ]
  },
  {
   "cell_type": "code",
   "execution_count": null,
   "metadata": {},
   "outputs": [],
   "source": [
    "i.bra().product(i).print_state(\"<i|i>\")\n",
    "o.bra().product(o).print_state(\"<o|o>\")\n",
    "i.bra().product(o).print_state(\"<i|o>\")"
   ]
  },
  {
   "cell_type": "markdown",
   "metadata": {},
   "source": [
    "Great, these two are orthonormal quaternion series. Now to see how they relate to the other orthonomal series."
   ]
  },
  {
   "cell_type": "code",
   "execution_count": null,
   "metadata": {},
   "outputs": [],
   "source": [
    "ou = o.bra().product(u)\n",
    "uo = u.bra().product(o)\n",
    "ouuo = ou.product(uo)\n",
    "ouuo.print_state(\"<o|u><u|o>\")\n",
    "od = o.bra().product(d)\n",
    "do = d.bra().product(o)\n",
    "oddo = od.product(do)\n",
    "oddo.print_state(\"<o|d><d|o>\")\n",
    "iu = i.bra().product(u)\n",
    "ui = u.bra().product(i)\n",
    "iuui = iu.product(ui)\n",
    "iuui.print_state(\"<i|u><u|i>\")\n",
    "id = i.bra().product(d)\n",
    "di = d.bra().product(i)\n",
    "iddi = id.product(di)\n",
    "iddi.print_state(\"<i|d><d|i>\")"
   ]
  },
  {
   "cell_type": "code",
   "execution_count": null,
   "metadata": {},
   "outputs": [],
   "source": [
    "print(\"Equation 2.9\\n\")\n",
    "\n",
    "Or = o.bra().product(r)\n",
    "ro = r.bra().product(o)\n",
    "orro = Or.product(ro)\n",
    "orro.print_state(\"<o|r><r|o>\")\n",
    "oL = o.bra().product(L)\n",
    "Lo = L.bra().product(o)\n",
    "oLLo = oL.product(Lo)\n",
    "oLLo.print_state(\"<o|L><L|o>\")\n",
    "ir = i.bra().product(r)\n",
    "ri = r.bra().product(i)\n",
    "irri = ir.product(ri)\n",
    "irri.print_state(\"<i|r><r|i>\")\n",
    "iL = i.bra().product(L)\n",
    "Li = L.bra().product(i)\n",
    "iLLi = iL.product(Li)\n",
    "iLLi.print_state(\"<i|L><L|i>\")"
   ]
  },
  {
   "cell_type": "markdown",
   "metadata": {},
   "source": [
    "![](images/lecture_2/lecture_2_p_44_2.50.jpg)"
   ]
  },
  {
   "cell_type": "markdown",
   "metadata": {},
   "source": [
    "Some could view this very project as \"somewhat tedious\". There are so many details that have to be done exactly right to back up a claim that quaternion series can do everything that is right in quantum mechanics, before stepping out onto new ice to say here is something more we can do right. As an example, it took me a few hours to get the normalization done correctly. For a quaternion - not a quaternion series - I had a function to normalize it. For a quaternion series, I just called that function for each quaternion in the series. That produced an incorrect value for the quaternion series. In addition, I needed to normalize for the square root of the number of state dimensions. Once that detail was added, I got the right result for quaternion series.\n",
    "\n",
    "Off in my basement theoretical physics isolation chamber, I think Newtonian space-time physics should be done with quaternions. Newton himself could not have done classical physics using complex numbers or quaternions since they had not yet been invented. Search for \"quaternion baseball\" on YouTube if interested in the subject."
   ]
  },
  {
   "cell_type": "markdown",
   "metadata": {},
   "source": [
    "![](images/lecture_2/lecture_2_p_45_1.50.jpg)"
   ]
  },
  {
   "cell_type": "markdown",
   "metadata": {},
   "source": [
    "Time to get abstract, the wheelhouse of algebra. First define the symbols needed for the four unknown components."
   ]
  },
  {
   "cell_type": "code",
   "execution_count": null,
   "metadata": {},
   "outputs": [],
   "source": [
    "αt, αx, αy, αz = sp.symbols(\"αt αx αy αz\")\n",
    "βt, βx, βy, βz = sp.symbols(\"βt βx βy βz\")\n",
    "γt, γx, γy, γz = sp.symbols(\"γt γx γy γz\")\n",
    "δt, δx, δy, δz = sp.symbols(\"δt δx δy δz\")\n",
    "\n",
    "αq = QH([αt, αx, αy, αz])\n",
    "αs = QHStates([αq])\n",
    "αs.print_state(\"α component\")\n",
    "\n",
    "βq = QH([βt, βx, βy, βz])\n",
    "βs = QHStates([βq])\n",
    "βs.print_state(\"β component\")\n",
    "\n",
    "γq = QH([γt, γx, γy, γz])\n",
    "γs = QHStates([γq])\n",
    "γs.print_state(\"γ component\")\n",
    "\n",
    "δq = QH([δt, δx, δy, δz])\n",
    "δs = QHStates([δq])\n",
    "δs.print_state(\"δ component\")"
   ]
  },
  {
   "cell_type": "markdown",
   "metadata": {},
   "source": [
    "Define the kets $|i>$ and $|o>$."
   ]
  },
  {
   "cell_type": "code",
   "execution_count": null,
   "metadata": {},
   "outputs": [],
   "source": [
    "iαβ = αs.product(u).add(βs.product(d)).ket()\n",
    "iαβ.print_state(\"iαβ\")\n",
    "\n",
    "oγδ = γs.product(u).add(δs.product(d)).ket()\n",
    "oγδ.print_state(\"oγδ\")"
   ]
  },
  {
   "cell_type": "markdown",
   "metadata": {},
   "source": [
    "Notice we can extract the component alpha from $|i>$ by multiplying it by the bra $<u|$ because that bra is orthonormal to $<d|$. Beta, gamma, and delta components can be extracted the same way."
   ]
  },
  {
   "cell_type": "code",
   "execution_count": null,
   "metadata": {},
   "outputs": [],
   "source": [
    "alpha = u.bra().product(iαβ)\n",
    "alpha.print_state(\"alpha\")\n",
    "\n",
    "beta = d.bra().product(iαβ)\n",
    "beta.print_state(\"beta\")\n",
    "\n",
    "gamma = u.bra().product(oγδ)\n",
    "gamma.print_state(\"gamma\")\n",
    "\n",
    "delta = d.bra().product(oγδ)\n",
    "delta.print_state(\"delta\")"
   ]
  },
  {
   "cell_type": "markdown",
   "metadata": {},
   "source": [
    "With the four components precisely defined, we can start forming the products asked for in Exercise 2.3: a):"
   ]
  },
  {
   "cell_type": "code",
   "execution_count": null,
   "metadata": {},
   "outputs": [],
   "source": [
    "print(\"Exercise 2.3: a)\\n\")\n",
    "\n",
    "print(\"equation 2.8.1: <i|u><u|i> = 1/2 =? α* α\")\n",
    "\n",
    "iu = iαβ.bra().product(u)\n",
    "ui = u.bra().product(iαβ)\n",
    "iuui = iu.product(ui)\n",
    "iuui.display_q(\"<i|u><u|i>\")\n",
    "\n",
    "\n",
    "print(\"equation 2.8.2: <i|d><d|i> = 1/2 =? β* β\")\n",
    "\n",
    "id = iαβ.bra().product(d)\n",
    "di = d.bra().product(iαβ)\n",
    "iddi = id.product(di)\n",
    "iddi.display_q(\"<i|d><d|i>\")\n",
    "\n",
    "\n",
    "print(\"equation 2.8.3: <o|u><u|o> = 1/2 =? γ* γ\")\n",
    "\n",
    "ou = oγδ.bra().product(u)\n",
    "uo = u.bra().product(oγδ)\n",
    "ouuo = ou.product(uo)\n",
    "ouuo.display_q(\"<o|u><u|o>\")\n",
    "\n",
    "\n",
    "print(\"equation 2.8.4: <o|d><d|o> = 1/2 =? δ* δ\")\n",
    "\n",
    "od = oγδ.bra().product(d)\n",
    "do = d.bra().product(oγδ)\n",
    "oddo = od.product(do)\n",
    "oddo.display_q(\"<o|d><d|o>\")"
   ]
  },
  {
   "cell_type": "markdown",
   "metadata": {},
   "source": [
    "These products are all positive real numbers composed of each of the four components."
   ]
  },
  {
   "cell_type": "code",
   "execution_count": null,
   "metadata": {},
   "outputs": [],
   "source": [
    "print(\"Exercise 2.3: b)\\n\")\n",
    "\n",
    "print(\"equation 2.9.1: <o|r><r|o> = 1/2 =?\")\n",
    "\n",
    "OR = oγδ.bra().product(r)\n",
    "ro = r.bra().product(oγδ)\n",
    "orro = OR.product(ro)\n",
    "orro.qs[0].simple_q().display_q(\"<o|r><r|o>\")\n",
    "\n",
    "\n",
    "print(\"\\nequation 2.9.2: <o|L><L|o> = 1/2 =?\")\n",
    "\n",
    "oL = oγδ.bra().product(L)\n",
    "Lo = L.bra().product(oγδ)\n",
    "oLLo = oL.product(Lo)\n",
    "oLLo.qs[0].simple_q().display_q(\"<o|L><L|o>\")\n",
    "\n",
    "\n",
    "print(\"\\nequation 2.9.3: <i|r><r|i> = 1/2 =?\")\n",
    "\n",
    "ir = iαβ.bra().product(r)\n",
    "ri = r.bra().product(iαβ)\n",
    "irri = ir.product(ri)\n",
    "irri.qs[0].simple_q().display_q(\"<i|r><r|i>\")\n",
    "\n",
    "\n",
    "print(\"\\nequation 2.9.4: <i|L><L|i> = 1/2 =?\")\n",
    "\n",
    "iL = iαβ.bra().product(L)\n",
    "Li = L.bra().product(iαβ)\n",
    "iLLi = iL.product(Li)\n",
    "iLLi.qs[0].simple_q().display_q(\"<i|L><L|i>\")"
   ]
  },
  {
   "cell_type": "markdown",
   "metadata": {},
   "source": [
    "The first two have the sum of $\\gamma^* \\gamma$ and $\\delta^* \\delta$. The last two are $\\alpha^* \\alpha$ and $\\beta^* \\beta$. Those values were figured out in part a). A half of a half plus a half is equal to a half."
   ]
  },
  {
   "cell_type": "markdown",
   "metadata": {},
   "source": [
    "Each of the 4 kets, $|i>$, $|o>$, $|r>$, and $|L>$ are expressed in terms of the orthonormal basis vectors $|u>$ and $|d>$. The products look like this:"
   ]
  },
  {
   "cell_type": "code",
   "execution_count": null,
   "metadata": {},
   "outputs": [],
   "source": [
    "display(Math(r\"\"\"\\begin{align*}\n",
    "<o|r><r|o> &= \\frac{1}{2}(<u|\\overline{\\gamma} + <d|\\overline{\\delta})(|u> + |d>)(<u| + <d|)(\\gamma|u> + \\delta|d>) \\\\\n",
    "&= \\frac{1}{2}(\\overline{\\gamma} + \\overline{\\delta})(\\gamma + \\delta) \\\\\n",
    "&= \\frac{1}{2}(\\overline{\\gamma} \\gamma + \\overline{\\delta} \\delta + \\overline{\\gamma} \\delta + \\overline{\\delta} \\gamma) \\\\\n",
    "&= \\frac{1}{2}(1 + \\overline{\\delta} \\gamma + \\overline{\\gamma} \\delta ) = \\frac{1}{2}\\\\\n",
    "\\rm{ergo}\\quad 0 &= \\overline{\\delta} \\gamma + \\overline{\\gamma} \\delta\n",
    "\\end{align*}\"\"\"))"
   ]
  },
  {
   "cell_type": "code",
   "execution_count": null,
   "metadata": {},
   "outputs": [],
   "source": [
    "display(Math(r\"\"\"\\begin{align*}\n",
    "<o|L><L|o> &= \\frac{1}{2}(<u|\\overline{\\gamma} + <d|\\overline{\\delta})(|u> - |d>)(<u| - <d|)(\\gamma|u> + \\delta|d>) \\\\\n",
    "&= \\frac{1}{2}(\\overline{\\gamma} - \\overline{\\delta})(\\gamma - \\delta) \\\\\n",
    "&= \\frac{1}{2}(\\overline{\\gamma} \\gamma + \\overline{\\delta} \\delta - \\overline{\\gamma} \\delta - \\overline{\\delta} \\gamma) \\\\\n",
    "&= \\frac{1}{2}(1 - \\overline{\\delta} \\gamma - \\overline{\\gamma} \\delta ) = \\frac{1}{2}\\\\\n",
    "\\rm{ergo}\\quad 0 &= \\overline{\\delta} \\gamma + \\overline{\\gamma} \\delta\n",
    "\\end{align*}\"\"\"))"
   ]
  },
  {
   "cell_type": "code",
   "execution_count": null,
   "metadata": {},
   "outputs": [],
   "source": [
    "display(Math(r\"\"\"\\begin{align*} \n",
    "<i|r><r|i> &= \\frac{1}{2}(<u|\\overline{\\alpha} + <d|\\overline{\\beta})(|u> + |d>)(<u| + <d|)(\\alpha|u> + \\beta|d>) \\\\\n",
    "&= \\frac{1}{2}(\\overline{\\alpha} + \\overline{\\beta})(\\alpha + \\beta) \\\\\n",
    "&= \\frac{1}{2}(\\overline{\\alpha} \\alpha + \\overline{\\beta} \\beta + \\overline{\\alpha} \\beta + \\overline{\\beta} \\alpha) \\\\\n",
    "&= \\frac{1}{2}(1 + \\overline{\\beta} \\alpha + \\overline{\\alpha} \\beta ) = \\frac{1}{2}\\\\\n",
    "\\rm{ergo}\\quad 0 &= \\overline{\\beta} \\alpha + \\overline{\\alpha} \\beta\n",
    "\\end{align*}\"\"\"))"
   ]
  },
  {
   "cell_type": "code",
   "execution_count": null,
   "metadata": {},
   "outputs": [],
   "source": [
    "display(Math(r\"\"\"\\begin{align*}\n",
    "<i|L><L|i> &= \\frac{1}{2}(<u|\\overline{\\alpha} + <d|\\overline{\\beta})(|u> - |d>)(<u| - <d|)(\\alpha|u> + \\beta|d>) \\\\\n",
    "&= \\frac{1}{2}(\\overline{\\alpha} - \\overline{\\beta})(\\alpha - \\beta) \\\\\n",
    "&= \\frac{1}{2}(\\overline{\\alpha} \\alpha + \\overline{\\beta} \\beta - \\overline{\\alpha} \\beta - \\overline{\\beta} \\alpha) \\\\\n",
    "&= \\frac{1}{2}(1 - \\overline{\\beta} \\alpha - \\overline{\\alpha} \\beta ) = \\frac{1}{2}\\\\\n",
    "\\rm{ergo}\\quad 0 &= \\overline{\\beta} \\alpha + \\overline{\\alpha} \\beta\n",
    "\\end{align*}\"\"\"))"
   ]
  },
  {
   "cell_type": "markdown",
   "metadata": {},
   "source": [
    "Exercise 2.3: c). For any complex number $z$, $z = - z^*$ if and only if $z$ is a purely imaginary number. The conjugate operator flips the sign of the imaginary number, but not the real number. Ergo the real number must be equal to zero. $\\alpha^* \\beta + \\alpha \\beta^* = 0$, or $\\alpha^* \\beta = -\\alpha \\beta^*$. Based on this observation, we know the imaginary numbers $\\alpha^* \\beta$ and $\\gamma^* \\delta$ are pure imaginary numbers. "
   ]
  },
  {
   "cell_type": "markdown",
   "metadata": {},
   "source": [
    "## Conclusion\n",
    "\n",
    "So far so good. I also don't thing there is anything new here. Of course, I had to get ever detail right for the quaternion states or the project would have derailed. "
   ]
  }
 ],
 "metadata": {
  "language_info": {
   "name": "python",
   "pygments_lexer": "ipython3"
  }
 },
 "nbformat": 4,
 "nbformat_minor": 2
}
