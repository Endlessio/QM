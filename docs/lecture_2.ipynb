{
 "cells": [
  {
   "cell_type": "markdown",
   "metadata": {},
   "source": [
    "# Lecture 2: Quantum States"
   ]
  },
  {
   "cell_type": "markdown",
   "metadata": {},
   "source": [
    "email: dsweetser@alum.mit.edu"
   ]
  },
  {
   "cell_type": "markdown",
   "metadata": {},
   "source": [
    "With lecture 1 in the books, this one should be pretty simple and direct. The working hypothesis is that there is an equivalence relation between the way quantum mechanics is represented using a complex-valued vector space and quaternion series. Every calculation done the standard way in lecture 1 was done with quaternion series for the companion iPython notebook. Continue that process with Lecture 2 which fortunately is shorter. It is also simpler, focusing on spin, something that can be described as best we can do with two quantum states. Set up our math tools."
   ]
  },
  {
   "cell_type": "code",
   "execution_count": 1,
   "metadata": {},
   "outputs": [],
   "source": [
    "%%capture\n",
    "%matplotlib inline\n",
    "import numpy as np\n",
    "import sympy as sp\n",
    "import matplotlib.pyplot as plt\n",
    "\n",
    "# To get equations the look like, well, equations, use the following.\n",
    "from sympy.interactive import printing\n",
    "printing.init_printing(use_latex=True)\n",
    "from IPython.display import display\n",
    "\n",
    "# Tools for manipulating quaternions.\n",
    "import Q_tools as qt;\n",
    "\n",
    "from IPython.core.display import display, HTML\n",
    "display(HTML(\"<style>.container { width:100% !important; }</style>\"))"
   ]
  },
  {
   "cell_type": "markdown",
   "metadata": {},
   "source": [
    "![](images/lecture_2/lecture_2_p_35_1.50.jpg)"
   ]
  },
  {
   "cell_type": "markdown",
   "metadata": {},
   "source": [
    "Exactly. I was happy to see that phrase be written in italics. Each moment in our lives either is before another moment, after another moment, or exactly the same moment. The set of moments of our lives is a completely ordered set. Now think about a room of people. Each as their ordered set of moments, but how should one organize both the time and place of all these people? The space-time location of all these people cannot form a completely ordered set. Once could design a way to order them, but there is no universal way to do so.\n",
    "\n",
    "Hydrogen is the most abundant atom in the Universe. Its quantum behavior is exceptionally precise as indicated by the atomic spectra Balmer series. If a hydrogen atom gets excited, due to the quantization of angular momentum, it can only emit light at precise frequencies. We cannot know when it will emit light, but the frequencies are fixed."
   ]
  },
  {
   "cell_type": "markdown",
   "metadata": {},
   "source": [
    "![](images/lecture_2/lecture_2_p_36_1.50.jpg)"
   ]
  },
  {
   "cell_type": "markdown",
   "metadata": {},
   "source": [
    "I am in the second class. My montra is that quantum mechanics as done today is formally exactly right, but it is not right enough. Most of the progress that needs to be done is in phase spaces that are not even written down. Instead of just the one Schrödinger equation, there are three mixed derivative differentail equations that I can write down but do not understand how to use productively. That is for another Lecture. A new proposal I have for how gravity works, quaternion gravity, is based on terms that are not in the canonical lexicon of physics. That example however is not quantum mechanical other that to say if true, the graviton as a material expression of a gravity field does not exist. Instead, like special relativity sets some precise rules about what equations can be used to describe Nature, gravity imposes a different set of rules on equations. I know these are huge claims not back up by supporting evidence here. Bottom line: things are great, and they can become greater, but it will require a crazy amount of work."
   ]
  },
  {
   "cell_type": "markdown",
   "metadata": {},
   "source": [
    "![](images/lecture_2/lecture_2_p_38_1.50.jpg)"
   ]
  },
  {
   "cell_type": "markdown",
   "metadata": {},
   "source": [
    "![](images/lecture_2/lecture_2_p_47_1.50.jpg)"
   ]
  },
  {
   "cell_type": "markdown",
   "metadata": {},
   "source": [
    "These two clips are actually some 11 pages apart. The authors made a decision to use the abtractions of $|u>$ and $|d>$ for from page 38 to 47 so the user would know that no matter what choice was made to represent those two states, it would flow to every statement that followed. That is how abstractions work. The first time I constructed this notebook, I actually used the imaginary $i$ in place of the real number $1$, so I know the abstraction works as is. \n",
    "\n",
    "The working hypothesis a (possibly infinite) series of quaternions has the same algebraic properties of Hilbert spaces when one uses the Euclidean product, $A^* B = \\sum_{1}^{n} a_n^* b_n$. For n=2:"
   ]
  },
  {
   "cell_type": "markdown",
   "metadata": {},
   "source": [
    "![AxB.png](images/lecture_2/AxB.png)"
   ]
  },
  {
   "cell_type": "code",
   "execution_count": 2,
   "metadata": {},
   "outputs": [
    {
     "name": "stdout",
     "output_type": "stream",
     "text": [
      "u\n",
      "n=1: (1, 0, 0, 0) 1\n",
      "n=2: (0, 0, 0, 0) 0\n",
      "sum= (1, 0, 0, 0) 1+0\n",
      "\n",
      "d\n",
      "n=1: (0, 0, 0, 0) 0\n",
      "n=2: (1, 0, 0, 0) 1\n",
      "sum= (1, 0, 0, 0) 0+1\n"
     ]
    }
   ],
   "source": [
    "q_0, q_1, q_i, q_j, q_k = qt.QH().q_0(), qt.QH().q_1(), qt.QH().q_i(), qt.QH().q_j(), qt.QH().q_k()\n",
    "\n",
    "u = qt.QHStates([q_1, q_0])\n",
    "d = qt.QHStates([q_0, q_1])\n",
    "\n",
    "u.print_states(\"u\", True)\n",
    "d.print_states(\"d\")"
   ]
  },
  {
   "cell_type": "markdown",
   "metadata": {},
   "source": [
    "![](images/lecture_2/lecture_2_p_38_2.50.jpg)"
   ]
  },
  {
   "cell_type": "markdown",
   "metadata": {},
   "source": [
    "Construct a general A, not setting any values."
   ]
  },
  {
   "cell_type": "code",
   "execution_count": 3,
   "metadata": {},
   "outputs": [
    {
     "name": "stdout",
     "output_type": "stream",
     "text": [
      "A\n",
      "n=1: (A1t, A1x, A1y, A1z) a₁\n",
      "n=2: (A2t, A2x, A2y, A2z) a₂\n",
      "sum= (A1t + A2t, A1x + A2x, A1y + A2y, A1z + A2z) a₁+a₂\n"
     ]
    }
   ],
   "source": [
    "A1t, A1x, A1y, A1z = sp.symbols(\"A1t A1x A1y A1z\")\n",
    "A2t, A2x, A2y, A2z = sp.symbols(\"A2t A2x A2y A2z\")\n",
    "A1q = qt.QH([A1t, A1x, A1y, A1z], qtype=\"a₁\")\n",
    "A2q = qt.QH([A2t, A2x, A2y, A2z], qtype=\"a₂\")\n",
    "A = qt.QHStates([A1q, A2q])\n",
    "A.print_states(\"A\")"
   ]
  },
  {
   "cell_type": "markdown",
   "metadata": {},
   "source": [
    "Calculation the components."
   ]
  },
  {
   "cell_type": "code",
   "execution_count": 4,
   "metadata": {},
   "outputs": [
    {
     "name": "stdout",
     "output_type": "stream",
     "text": [
      "αu = <u|A>\n",
      "n=1: (A1t, A1x, A1y, A1z) 1*xa₁\n",
      "n=2: (0, 0, 0, 0) 0*xa₂\n",
      "sum= (A1t, A1x, A1y, A1z) 1*xa₁+0*xa₂\n",
      "\n",
      "αd = <d|A>\n",
      "n=1: (0, 0, 0, 0) 0*xa₁\n",
      "n=2: (A2t, A2x, A2y, A2z) 1*xa₂\n",
      "sum= (A2t, A2x, A2y, A2z) 0*xa₁+1*xa₂\n"
     ]
    }
   ],
   "source": [
    "uA = u.Euclidean_product(\"bra\", ket=A)\n",
    "dA = d.Euclidean_product(\"bra\", ket=A)\n",
    "uA.print_states(\"αu = <u|A>\",1)\n",
    "dA.print_states(\"αd = <d|A>\")"
   ]
  },
  {
   "cell_type": "markdown",
   "metadata": {},
   "source": [
    "That was easy. As different basis vectors are constructed, the 8 values that go into $A$ will shift around."
   ]
  },
  {
   "cell_type": "markdown",
   "metadata": {},
   "source": [
    "![](images/lecture_2/lecture_2_p_39_1.50.jpg)"
   ]
  },
  {
   "cell_type": "markdown",
   "metadata": {},
   "source": [
    "Simpe enough to calculate."
   ]
  },
  {
   "cell_type": "markdown",
   "metadata": {},
   "source": [
    "![](images/lecture_2/lecture_2_p_39_2.50.jpg)"
   ]
  },
  {
   "cell_type": "code",
   "execution_count": 5,
   "metadata": {},
   "outputs": [
    {
     "name": "stdout",
     "output_type": "stream",
     "text": [
      "|αu|²\n",
      "n=1: (A1t**2 + A1x**2 + A1y**2 + A1z**2, 0, 0, 0) 1*xa₁*x1*xa₁\n",
      "n=2: (0, 0, 0, 0) 0*xa₂*x0*xa₂\n",
      "sum= (A1t**2 + A1x**2 + A1y**2 + A1z**2, 0, 0, 0) 1*xa₁*x1*xa₁+0*xa₂*x0*xa₂\n",
      "\n",
      "|αd|²\n",
      "n=1: (0, 0, 0, 0) 0*xa₁*x0*xa₁\n",
      "n=2: (A2t**2 + A2x**2 + A2y**2 + A2z**2, 0, 0, 0) 1*xa₂*x1*xa₂\n",
      "sum= (A2t**2 + A2x**2 + A2y**2 + A2z**2, 0, 0, 0) 0*xa₁*x0*xa₁+1*xa₂*x1*xa₂\n"
     ]
    }
   ],
   "source": [
    "uA_norm_sq = uA.Euclidean_product(\"bra\", ket=uA)\n",
    "dA_norm_sq = dA.Euclidean_product(\"bra\", ket=dA)\n",
    "uA_norm_sq.print_states(\"|αu|²\", 1)\n",
    "dA_norm_sq.print_states(\"|αd|²\")"
   ]
  },
  {
   "cell_type": "markdown",
   "metadata": {},
   "source": [
    "Everything evaluates to the expected positive real value. The up probability of spin is all from the first quaternion, while the down probability is all from the second quaternion. Quite clean and simple."
   ]
  },
  {
   "cell_type": "markdown",
   "metadata": {},
   "source": [
    "![](images/lecture_2/lecture_2_p_39_3.50.jpg)"
   ]
  },
  {
   "cell_type": "markdown",
   "metadata": {},
   "source": [
    "For this representation, it is obvious so I will do just one."
   ]
  },
  {
   "cell_type": "code",
   "execution_count": 6,
   "metadata": {},
   "outputs": [
    {
     "name": "stdout",
     "output_type": "stream",
     "text": [
      "<u|d>\n",
      "n=1: (0, 0, 0, 0) 1*x0\n",
      "n=2: (0, 0, 0, 0) 0*x1\n",
      "sum= (0, 0, 0, 0) 1*x0+0*x1\n"
     ]
    }
   ],
   "source": [
    "ud = u.Euclidean_product(\"bra\", ket=d)\n",
    "ud.print_states(\"<u|d>\")"
   ]
  },
  {
   "cell_type": "markdown",
   "metadata": {},
   "source": [
    "![](images/lecture_2/lecture_2_p_40_1.50.jpg)"
   ]
  },
  {
   "cell_type": "markdown",
   "metadata": {},
   "source": [
    "Nice and clear, and easy to calculate."
   ]
  },
  {
   "cell_type": "markdown",
   "metadata": {},
   "source": [
    "![](images/lecture_2/lecture_2_p_40_2.50.jpg)"
   ]
  },
  {
   "cell_type": "markdown",
   "metadata": {},
   "source": [
    "Normalization is a simple enough trick to do."
   ]
  },
  {
   "cell_type": "code",
   "execution_count": 7,
   "metadata": {},
   "outputs": [
    {
     "name": "stdout",
     "output_type": "stream",
     "text": [
      "A, normalized\n",
      "n=1: (0.707106781186548*A1t*(A1t**2 + A1x**2 + A1y**2 + A1z**2)**(-0.5), 0.707106781186548*A1x*(A1t**2 + A1x**2 + A1y**2 + A1z**2)**(-0.5), 0.707106781186548*A1y*(A1t**2 + A1x**2 + A1y**2 + A1z**2)**(-0.5), 0.707106781186548*A1z*(A1t**2 + A1x**2 + A1y**2 + A1z**2)**(-0.5)) a₁UxQ\n",
      "n=2: (0.707106781186548*A2t*(A2t**2 + A2x**2 + A2y**2 + A2z**2)**(-0.5), 0.707106781186548*A2x*(A2t**2 + A2x**2 + A2y**2 + A2z**2)**(-0.5), 0.707106781186548*A2y*(A2t**2 + A2x**2 + A2y**2 + A2z**2)**(-0.5), 0.707106781186548*A2z*(A2t**2 + A2x**2 + A2y**2 + A2z**2)**(-0.5)) a₂UxQ\n",
      "sum= (0.707106781186548*A1t*(A1t**2 + A1x**2 + A1y**2 + A1z**2)**(-0.5) + 0.707106781186548*A2t*(A2t**2 + A2x**2 + A2y**2 + A2z**2)**(-0.5), 0.707106781186548*A1x*(A1t**2 + A1x**2 + A1y**2 + A1z**2)**(-0.5) + 0.707106781186548*A2x*(A2t**2 + A2x**2 + A2y**2 + A2z**2)**(-0.5), 0.707106781186548*A1y*(A1t**2 + A1x**2 + A1y**2 + A1z**2)**(-0.5) + 0.707106781186548*A2y*(A2t**2 + A2x**2 + A2y**2 + A2z**2)**(-0.5), 0.707106781186548*A1z*(A1t**2 + A1x**2 + A1y**2 + A1z**2)**(-0.5) + 0.707106781186548*A2z*(A2t**2 + A2x**2 + A2y**2 + A2z**2)**(-0.5)) a₁UxQ+a₂UxQ\n",
      "\n",
      "<An|An>\n",
      "n=1: (0.5*A1t**2*(A1t**2 + A1x**2 + A1y**2 + A1z**2)**(-1.0) + 0.5*A1x**2*(A1t**2 + A1x**2 + A1y**2 + A1z**2)**(-1.0) + 0.5*A1y**2*(A1t**2 + A1x**2 + A1y**2 + A1z**2)**(-1.0) + 0.5*A1z**2*(A1t**2 + A1x**2 + A1y**2 + A1z**2)**(-1.0), 0, 0, 0) a₁UxQ*xa₁UxQ\n",
      "n=2: (0.5*A2t**2*(A2t**2 + A2x**2 + A2y**2 + A2z**2)**(-1.0) + 0.5*A2x**2*(A2t**2 + A2x**2 + A2y**2 + A2z**2)**(-1.0) + 0.5*A2y**2*(A2t**2 + A2x**2 + A2y**2 + A2z**2)**(-1.0) + 0.5*A2z**2*(A2t**2 + A2x**2 + A2y**2 + A2z**2)**(-1.0), 0, 0, 0) a₂UxQ*xa₂UxQ\n",
      "sum= (0.5*A1t**2*(A1t**2 + A1x**2 + A1y**2 + A1z**2)**(-1.0) + 0.5*A1x**2*(A1t**2 + A1x**2 + A1y**2 + A1z**2)**(-1.0) + 0.5*A1y**2*(A1t**2 + A1x**2 + A1y**2 + A1z**2)**(-1.0) + 0.5*A1z**2*(A1t**2 + A1x**2 + A1y**2 + A1z**2)**(-1.0) + 0.5*A2t**2*(A2t**2 + A2x**2 + A2y**2 + A2z**2)**(-1.0) + 0.5*A2x**2*(A2t**2 + A2x**2 + A2y**2 + A2z**2)**(-1.0) + 0.5*A2y**2*(A2t**2 + A2x**2 + A2y**2 + A2z**2)**(-1.0) + 0.5*A2z**2*(A2t**2 + A2x**2 + A2y**2 + A2z**2)**(-1.0), 0, 0, 0) a₁UxQ*xa₁UxQ+a₂UxQ*xa₂UxQ\n",
      "simplified t, n=1:  0.500000000000000\n",
      "simplified x, n=1:  0\n",
      "simplified y, n=1:  0\n",
      "simplified z, n=1:  0\n",
      "simplified t, n=2:  0.500000000000000\n",
      "simplified x, n=2:  0\n",
      "simplified y, n=2:  0\n",
      "simplified z, n=2:  0\n"
     ]
    }
   ],
   "source": [
    "An = A.normalize()\n",
    "An.print_states(\"A, normalized\", 1)\n",
    "Anp = An.Euclidean_product(\"bra\", ket=An)\n",
    "Anp.print_states(\"<An|An>\")\n",
    "print(\"simplified t, n=1: \", sp.simplify(Anp.qs[0].t))\n",
    "print(\"simplified x, n=1: \", sp.simplify(Anp.qs[0].x))\n",
    "print(\"simplified y, n=1: \", sp.simplify(Anp.qs[0].y))\n",
    "print(\"simplified z, n=1: \", sp.simplify(Anp.qs[0].z))\n",
    "print(\"simplified t, n=2: \", sp.simplify(Anp.qs[1].t))\n",
    "print(\"simplified x, n=2: \", sp.simplify(Anp.qs[1].x))\n",
    "print(\"simplified y, n=2: \", sp.simplify(Anp.qs[1].y))\n",
    "print(\"simplified z, n=2: \", sp.simplify(Anp.qs[1].z))"
   ]
  },
  {
   "cell_type": "markdown",
   "metadata": {},
   "source": [
    "These expressions look crazy complex, but it simplifies down to two factors of a half whose sum is unity."
   ]
  },
  {
   "cell_type": "markdown",
   "metadata": {},
   "source": [
    "![](images/lecture_2/lecture_2_p_41_1.50.jpg)"
   ]
  },
  {
   "cell_type": "markdown",
   "metadata": {},
   "source": [
    "Define $|r>$ and $|L>$ using $|u>$ and $|d>$."
   ]
  },
  {
   "cell_type": "code",
   "execution_count": 8,
   "metadata": {},
   "outputs": [
    {
     "name": "stdout",
     "output_type": "stream",
     "text": [
      "r\n",
      "n=1: (0.707106781186548, 0, 0, 0) Qx1+0x0+Qx0+0x1\n",
      "n=2: (0.707106781186548, 0, 0, 0) 0x1+Qx0+0x0+Qx1\n",
      "sum= (1.41421356237310, 0, 0, 0) Qx1+0x0+Qx0+0x1+0x1+Qx0+0x0+Qx1\n",
      "\n",
      "L\n",
      "n=1: (0.707106781186548, 0, 0, 0) Qx1+0x0-Qx0+0x1\n",
      "n=2: (-0.707106781186548, 0, 0, 0) 0x1+Qx0-0x0+Qx1\n",
      "sum= (0, 0, 0, 0) Qx1+0x0-Qx0+0x1+0x1+Qx0-0x0+Qx1\n"
     ]
    }
   ],
   "source": [
    "sqrt_2op = qt.QHStates([qt.QH([sp.sqrt(1/2), 0, 0, 0])])\n",
    "\n",
    "u2 = u.Euclidean_product('ket', operator=sqrt_2op)\n",
    "d2 = d.Euclidean_product('ket', operator=sqrt_2op)\n",
    "\n",
    "r = u2.add(d2)\n",
    "L = u2.dif(d2)\n",
    "\n",
    "r.print_states(\"r\", True)\n",
    "L.print_states(\"L\")"
   ]
  },
  {
   "cell_type": "markdown",
   "metadata": {},
   "source": [
    "One thing to notices is how complicated the qtype became. For the up and down states, it was either zero or one.  Why is there a sum of four terms? Notices that three of the four terms are zeros. To multiply a quaternion series with two state dimensions by the one over the square root of two takes a diagonal quaternion series with four state dimensions. That requirement is effectively recorded in the qtype.\n",
    "\n",
    "Isn't there something wrong with the sum of $|L>$ being equal to zero? What really matters is squaring things, so this zero is not going to create any issues."
   ]
  },
  {
   "cell_type": "markdown",
   "metadata": {},
   "source": [
    "![](images/lecture_2/lecture_2_p_41_2.50.jpg)"
   ]
  },
  {
   "cell_type": "markdown",
   "metadata": {},
   "source": [
    "![](images/lecture_2/lecture_2_p_42_2.50.jpg)"
   ]
  },
  {
   "cell_type": "markdown",
   "metadata": {},
   "source": [
    "Just do it."
   ]
  },
  {
   "cell_type": "code",
   "execution_count": 9,
   "metadata": {},
   "outputs": [
    {
     "name": "stdout",
     "output_type": "stream",
     "text": [
      "<r|r>\n",
      "n=1: (0.500000000000000, 0, 0, 0) Qx1+0x0+Qx0+0x1*xQx1+0x0+Qx0+0x1\n",
      "n=2: (0.500000000000000, 0, 0, 0) 0x1+Qx0+0x0+Qx1*x0x1+Qx0+0x0+Qx1\n",
      "sum= (1.00000000000000, 0, 0, 0) Qx1+0x0+Qx0+0x1*xQx1+0x0+Qx0+0x1+0x1+Qx0+0x0+Qx1*x0x1+Qx0+0x0+Qx1\n",
      "\n",
      "<L|L>\n",
      "n=1: (0.500000000000000, 0, 0, 0) Qx1+0x0-Qx0+0x1*xQx1+0x0-Qx0+0x1\n",
      "n=2: (0.500000000000000, 0, 0, 0) 0x1+Qx0-0x0+Qx1*x0x1+Qx0-0x0+Qx1\n",
      "sum= (1.00000000000000, 0, 0, 0) Qx1+0x0-Qx0+0x1*xQx1+0x0-Qx0+0x1+0x1+Qx0-0x0+Qx1*x0x1+Qx0-0x0+Qx1\n",
      "\n",
      "<r|L>\n",
      "n=1: (0.500000000000000, 0, 0, 0) Qx1+0x0+Qx0+0x1*xQx1+0x0-Qx0+0x1\n",
      "n=2: (-0.500000000000000, 0, 0, 0) 0x1+Qx0+0x0+Qx1*x0x1+Qx0-0x0+Qx1\n",
      "sum= (0, 0, 0, 0) Qx1+0x0+Qx0+0x1*xQx1+0x0-Qx0+0x1+0x1+Qx0+0x0+Qx1*x0x1+Qx0-0x0+Qx1\n"
     ]
    }
   ],
   "source": [
    "r.Euclidean_product('bra', ket=r).print_states(\"<r|r>\", True)\n",
    "L.Euclidean_product('bra', ket=L).print_states(\"<L|L>\", True)\n",
    "r.Euclidean_product('bra', ket=L).print_states(\"<r|L>\")"
   ]
  },
  {
   "cell_type": "markdown",
   "metadata": {},
   "source": [
    "![](images/lecture_2/lecture_2_p_42_3.50.jpg)"
   ]
  },
  {
   "cell_type": "markdown",
   "metadata": {},
   "source": [
    "![](images/lecture_2/lecture_2_p_43_1.50.jpg)"
   ]
  },
  {
   "cell_type": "markdown",
   "metadata": {},
   "source": [
    "![](images/lecture_2/lecture_2_p_43_2.50.jpg)"
   ]
  },
  {
   "cell_type": "markdown",
   "metadata": {},
   "source": [
    "Oh my, so many conditions!"
   ]
  },
  {
   "cell_type": "markdown",
   "metadata": {},
   "source": [
    "![](images/lecture_2/lecture_2_p_44_1.50.jpg)"
   ]
  },
  {
   "cell_type": "markdown",
   "metadata": {},
   "source": [
    "This is not so bad. Let's build this, then see of all the conditions \"just work\"."
   ]
  },
  {
   "cell_type": "code",
   "execution_count": 10,
   "metadata": {},
   "outputs": [
    {
     "name": "stdout",
     "output_type": "stream",
     "text": [
      "i\n",
      "n=1: (0.707106781186548, 0, 0, 0) Qx1+0x0+Qx0+0x1\n",
      "n=2: (0, 0.707106781186548, 0, 0) 0x1+Qx0+0x0+Qx1\n",
      "sum= (0.707106781186548, 0.707106781186548, 0, 0) Qx1+0x0+Qx0+0x1+0x1+Qx0+0x0+Qx1\n",
      "\n",
      "o\n",
      "n=1: (0.707106781186548, 0, 0, 0) Qx1+0x0-Qx0+0x1\n",
      "n=2: (0, -0.707106781186548, 0, 0) 0x1+Qx0-0x0+Qx1\n",
      "sum= (0.707106781186548, -0.707106781186548, 0, 0) Qx1+0x0-Qx0+0x1+0x1+Qx0-0x0+Qx1\n",
      "\n"
     ]
    }
   ],
   "source": [
    "one_root_two = sp.sqrt(1/2)\n",
    "q_2 = qt.QHStates( [ qt.QH([sp.sqrt(1/2), 0, 0, 0]) ] )\n",
    "q_2i = qt.QHStates([qt.QH([0, sp.sqrt(1/2), 0, 0])])\n",
    "\n",
    "i = u.product(\"ket\", operator=q_2).add(d.product(\"ket\", operator=q_2i))\n",
    "o = u.product(\"ket\", operator=q_2).dif(d.product(\"ket\", operator=q_2i))\n",
    "\n",
    "i.print_states(\"i\", 1)\n",
    "o.print_states(\"o\", 1)"
   ]
  },
  {
   "cell_type": "markdown",
   "metadata": {},
   "source": [
    "First check the normal and orthogonal properties."
   ]
  },
  {
   "cell_type": "code",
   "execution_count": 11,
   "metadata": {},
   "outputs": [
    {
     "name": "stdout",
     "output_type": "stream",
     "text": [
      "<i|i>\n",
      "n=1: (0.500000000000000, 0, 0, 0) Qx1+0x0+Qx0+0x1*xQx1+0x0+Qx0+0x1\n",
      "n=2: (0.500000000000000, 0, 0, 0) 0x1+Qx0+0x0+Qx1*x0x1+Qx0+0x0+Qx1\n",
      "sum= (1.00000000000000, 0, 0, 0) Qx1+0x0+Qx0+0x1*xQx1+0x0+Qx0+0x1+0x1+Qx0+0x0+Qx1*x0x1+Qx0+0x0+Qx1\n",
      "\n",
      "<o|o>\n",
      "n=1: (0.500000000000000, 0, 0, 0) Qx1+0x0-Qx0+0x1*xQx1+0x0-Qx0+0x1\n",
      "n=2: (0.500000000000000, 0, 0, 0) 0x1+Qx0-0x0+Qx1*x0x1+Qx0-0x0+Qx1\n",
      "sum= (1.00000000000000, 0, 0, 0) Qx1+0x0-Qx0+0x1*xQx1+0x0-Qx0+0x1+0x1+Qx0-0x0+Qx1*x0x1+Qx0-0x0+Qx1\n",
      "\n",
      "<i|o>\n",
      "n=1: (0.500000000000000, 0, 0, 0) Qx1+0x0+Qx0+0x1*xQx1+0x0-Qx0+0x1\n",
      "n=2: (-0.500000000000000, 0, 0, 0) 0x1+Qx0+0x0+Qx1*x0x1+Qx0-0x0+Qx1\n",
      "sum= (0, 0, 0, 0) Qx1+0x0+Qx0+0x1*xQx1+0x0-Qx0+0x1+0x1+Qx0+0x0+Qx1*x0x1+Qx0-0x0+Qx1\n"
     ]
    }
   ],
   "source": [
    "i.Euclidean_product('bra', ket=i).print_states(\"<i|i>\", 1)\n",
    "o.Euclidean_product('bra', ket=o).print_states(\"<o|o>\", 1)\n",
    "i.Euclidean_product('bra', ket=o).print_states(\"<i|o>\")"
   ]
  },
  {
   "cell_type": "markdown",
   "metadata": {},
   "source": [
    "Great, these two are orthonormal quaternion series. Now to see how they relate to the other orthonomal series."
   ]
  },
  {
   "cell_type": "code",
   "execution_count": 12,
   "metadata": {},
   "outputs": [
    {
     "name": "stdout",
     "output_type": "stream",
     "text": [
      "<o|u><u|o>\n",
      "n=1: (0.500000000000000, 0, 0, 0) Qx1+0x0-Qx0+0x1*x1x1*xQx1+0x0-Qx0+0x1\n",
      "n=2: (0, 0, 0, 0) 0x1+Qx0-0x0+Qx1*x0x0*x0x1+Qx0-0x0+Qx1\n",
      "sum= (0.500000000000000, 0, 0, 0) Qx1+0x0-Qx0+0x1*x1x1*xQx1+0x0-Qx0+0x1+0x1+Qx0-0x0+Qx1*x0x0*x0x1+Qx0-0x0+Qx1\n",
      "\n",
      "<o|d><d|o>\n",
      "n=1: (0, 0, 0, 0) Qx1+0x0-Qx0+0x1*x0x0*xQx1+0x0-Qx0+0x1\n",
      "n=2: (0.500000000000000, 0, 0, 0) 0x1+Qx0-0x0+Qx1*x1x1*x0x1+Qx0-0x0+Qx1\n",
      "sum= (0.500000000000000, 0, 0, 0) Qx1+0x0-Qx0+0x1*x0x0*xQx1+0x0-Qx0+0x1+0x1+Qx0-0x0+Qx1*x1x1*x0x1+Qx0-0x0+Qx1\n",
      "\n",
      "<i|d><d|i>\n",
      "n=1: (0.500000000000000, 0, 0, 0) Qx1+0x0+Qx0+0x1*x1x1*xQx1+0x0+Qx0+0x1\n",
      "n=2: (0, 0, 0, 0) 0x1+Qx0+0x0+Qx1*x0x0*x0x1+Qx0+0x0+Qx1\n",
      "sum= (0.500000000000000, 0, 0, 0) Qx1+0x0+Qx0+0x1*x1x1*xQx1+0x0+Qx0+0x1+0x1+Qx0+0x0+Qx1*x0x0*x0x1+Qx0+0x0+Qx1\n",
      "\n",
      "<i|d><d|i>\n",
      "n=1: (0, 0, 0, 0) Qx1+0x0+Qx0+0x1*x0x0*xQx1+0x0+Qx0+0x1\n",
      "n=2: (0.500000000000000, 0, 0, 0) 0x1+Qx0+0x0+Qx1*x1x1*x0x1+Qx0+0x0+Qx1\n",
      "sum= (0.500000000000000, 0, 0, 0) Qx1+0x0+Qx0+0x1*x0x0*xQx1+0x0+Qx0+0x1+0x1+Qx0+0x0+Qx1*x1x1*x0x1+Qx0+0x0+Qx1\n"
     ]
    }
   ],
   "source": [
    "ou = o.Euclidean_product('bra', ket=u)\n",
    "uo = u.Euclidean_product('bra', ket=o)\n",
    "ouuo = ou.product('bra', ket=uo)\n",
    "ouuo.print_states(\"<o|u><u|o>\", 1)\n",
    "od = o.Euclidean_product('bra', ket=d)\n",
    "do = d.Euclidean_product('bra', ket=o)\n",
    "oddo = od.product('bra', ket=do)\n",
    "oddo.print_states(\"<o|d><d|o>\", 1)\n",
    "iu = i.Euclidean_product('bra', ket=u)\n",
    "ui = u.Euclidean_product('bra', ket=i)\n",
    "iuui = iu.product('bra', ket=ui)\n",
    "iuui.print_states(\"<i|d><d|i>\", 1)\n",
    "id = i.Euclidean_product('bra', ket=d)\n",
    "di = d.Euclidean_product('bra', ket=i)\n",
    "iddi = id.product('bra', ket=di)\n",
    "iddi.print_states(\"<i|d><d|i>\")"
   ]
  },
  {
   "cell_type": "markdown",
   "metadata": {},
   "source": [
    "Notice how both a Euclidean product and product are used in the calculation. The amplitudes as quaternion series can be multiplied together to get the correct final result. When I first did this calculation, one of the four was 0.3535, not 0.5. There was a typo in expression. Once correct, four down four to go."
   ]
  },
  {
   "cell_type": "code",
   "execution_count": 13,
   "metadata": {},
   "outputs": [
    {
     "name": "stdout",
     "output_type": "stream",
     "text": [
      "<o|r><r|o>\n",
      "n=1: (0.250000000000000, 0, 0, 0) Qx1+0x0-Qx0+0x1*xQx1+0x0+Qx0+0x1xQx1+0x0+Qx0+0x1*xQx1+0x0-Qx0+0x1\n",
      "n=2: (0.250000000000000, 0, 0, 0) 0x1+Qx0-0x0+Qx1*x0x1+Qx0+0x0+Qx1x0x1+Qx0+0x0+Qx1*x0x1+Qx0-0x0+Qx1\n",
      "sum= (0.500000000000000, 0, 0, 0) Qx1+0x0-Qx0+0x1*xQx1+0x0+Qx0+0x1xQx1+0x0+Qx0+0x1*xQx1+0x0-Qx0+0x1+0x1+Qx0-0x0+Qx1*x0x1+Qx0+0x0+Qx1x0x1+Qx0+0x0+Qx1*x0x1+Qx0-0x0+Qx1\n",
      "\n",
      "<o|L><L|o>\n",
      "n=1: (0.250000000000000, 0, 0, 0) Qx1+0x0-Qx0+0x1*xQx1+0x0-Qx0+0x1xQx1+0x0-Qx0+0x1*xQx1+0x0-Qx0+0x1\n",
      "n=2: (0.250000000000000, 0, 0, 0) 0x1+Qx0-0x0+Qx1*x0x1+Qx0-0x0+Qx1x0x1+Qx0-0x0+Qx1*x0x1+Qx0-0x0+Qx1\n",
      "sum= (0.500000000000000, 0, 0, 0) Qx1+0x0-Qx0+0x1*xQx1+0x0-Qx0+0x1xQx1+0x0-Qx0+0x1*xQx1+0x0-Qx0+0x1+0x1+Qx0-0x0+Qx1*x0x1+Qx0-0x0+Qx1x0x1+Qx0-0x0+Qx1*x0x1+Qx0-0x0+Qx1\n",
      "\n",
      "<i|r><r|i>\n",
      "n=1: (0.250000000000000, 0, 0, 0) Qx1+0x0+Qx0+0x1*xQx1+0x0+Qx0+0x1xQx1+0x0+Qx0+0x1*xQx1+0x0+Qx0+0x1\n",
      "n=2: (0.250000000000000, 0, 0, 0) 0x1+Qx0+0x0+Qx1*x0x1+Qx0+0x0+Qx1x0x1+Qx0+0x0+Qx1*x0x1+Qx0+0x0+Qx1\n",
      "sum= (0.500000000000000, 0, 0, 0) Qx1+0x0+Qx0+0x1*xQx1+0x0+Qx0+0x1xQx1+0x0+Qx0+0x1*xQx1+0x0+Qx0+0x1+0x1+Qx0+0x0+Qx1*x0x1+Qx0+0x0+Qx1x0x1+Qx0+0x0+Qx1*x0x1+Qx0+0x0+Qx1\n",
      "\n",
      "<i|L><L|i>\n",
      "n=1: (0.250000000000000, 0, 0, 0) Qx1+0x0+Qx0+0x1*xQx1+0x0-Qx0+0x1xQx1+0x0-Qx0+0x1*xQx1+0x0+Qx0+0x1\n",
      "n=2: (0.250000000000000, 0, 0, 0) 0x1+Qx0+0x0+Qx1*x0x1+Qx0-0x0+Qx1x0x1+Qx0-0x0+Qx1*x0x1+Qx0+0x0+Qx1\n",
      "sum= (0.500000000000000, 0, 0, 0) Qx1+0x0+Qx0+0x1*xQx1+0x0-Qx0+0x1xQx1+0x0-Qx0+0x1*xQx1+0x0+Qx0+0x1+0x1+Qx0+0x0+Qx1*x0x1+Qx0-0x0+Qx1x0x1+Qx0-0x0+Qx1*x0x1+Qx0+0x0+Qx1\n"
     ]
    }
   ],
   "source": [
    "Or = o.Euclidean_product('bra', ket=r)\n",
    "ro = r.Euclidean_product('bra', ket=o)\n",
    "orro = Or.product('bra', ket=ro)\n",
    "orro.print_states(\"<o|r><r|o>\", 1)\n",
    "oL = o.Euclidean_product('bra', ket=L)\n",
    "Lo = L.Euclidean_product('bra', ket=o)\n",
    "oLLo = oL.product('bra', ket=Lo)\n",
    "oLLo.print_states(\"<o|L><L|o>\", 1)\n",
    "ir = i.Euclidean_product('bra', ket=r)\n",
    "ri = r.Euclidean_product('bra', ket=i)\n",
    "irri = ir.product('bra', ket=ri)\n",
    "irri.print_states(\"<i|r><r|i>\", 1)\n",
    "iL = i.Euclidean_product('bra', ket=L)\n",
    "Li = L.Euclidean_product('bra', ket=i)\n",
    "iLLi = iL.product('bra', ket=Li)\n",
    "iLLi.print_states(\"<i|L><L|i>\")"
   ]
  },
  {
   "cell_type": "markdown",
   "metadata": {},
   "source": [
    "![](images/lecture_2/lecture_2_p_44_2.50.jpg)"
   ]
  },
  {
   "cell_type": "markdown",
   "metadata": {},
   "source": [
    "Some could view this project as \"somewhat tedious\". There are so many details that have to be done exactly right to back up a claim that quaternion series can do everything that is right in quantum mechanics, before stepping out onto new ice to say here is something more we can do right. As an example, it took me a few hours to get the normalization done correctly. For a quaternion - not a quaternion series - I had a function to normalize it. For a quaternion series, I just called that function for each quaternion in the series. That produced an incorrect value for the quaternion series. I needed to normalize for the square root of the number of state dimensions. Once that detail was added, I got the right result for quaternion series.\n",
    "\n",
    "Off in my basement theoretical physics isolation chamber, I think Newtonian space-time physics should be done with quaternions. Search for \"quaternion baseball\" on YouTube if interested in the subject."
   ]
  },
  {
   "cell_type": "markdown",
   "metadata": {},
   "source": [
    "![](images/lecture_2/lecture_2_p_45_1.50.jpg)"
   ]
  },
  {
   "cell_type": "markdown",
   "metadata": {},
   "source": [
    "Time to get abstract, the wheelhouse of algebra. First define the symbols needed for the four unknown components."
   ]
  },
  {
   "cell_type": "code",
   "execution_count": 14,
   "metadata": {},
   "outputs": [
    {
     "name": "stdout",
     "output_type": "stream",
     "text": [
      "α component\n",
      "n=1: (αt, αx, αy, αz) Q\n",
      "sum= (αt, αx, αy, αz) Q\n",
      "\n",
      "β component\n",
      "n=1: (βt, βx, βy, βz) Q\n",
      "sum= (βt, βx, βy, βz) Q\n",
      "\n",
      "γ component\n",
      "n=1: (γt, γx, γy, γz) Q\n",
      "sum= (γt, γx, γy, γz) Q\n",
      "\n",
      "δ component\n",
      "n=1: (δt, δx, δy, δz) Q\n",
      "sum= (δt, δx, δy, δz) Q\n"
     ]
    }
   ],
   "source": [
    "αt, αx, αy, αz = sp.symbols(\"αt αx αy αz\")\n",
    "βt, βx, βy, βz = sp.symbols(\"βt βx βy βz\")\n",
    "γt, γx, γy, γz = sp.symbols(\"γt γx γy γz\")\n",
    "δt, δx, δy, δz = sp.symbols(\"δt δx δy δz\")\n",
    "\n",
    "αq = qt.QH([αt, αx, αy, αz])\n",
    "αs = qt.QHStates([αq])\n",
    "αs.print_states(\"α component\", 1)\n",
    "\n",
    "βq = qt.QH([βt, βx, βy, βz])\n",
    "βs = qt.QHStates([βq])\n",
    "βs.print_states(\"β component\", 1)\n",
    "\n",
    "γq = qt.QH([γt, γx, γy, γz])\n",
    "γs = qt.QHStates([γq])\n",
    "γs.print_states(\"γ component\", 1)\n",
    "\n",
    "δq = qt.QH([δt, δx, δy, δz])\n",
    "δs = qt.QHStates([δq])\n",
    "δs.print_states(\"δ component\")"
   ]
  },
  {
   "cell_type": "markdown",
   "metadata": {},
   "source": [
    "Define the kets $|i>$ and $|o>$."
   ]
  },
  {
   "cell_type": "code",
   "execution_count": 15,
   "metadata": {},
   "outputs": [
    {
     "name": "stdout",
     "output_type": "stream",
     "text": [
      "iαβ\n",
      "n=1: (αt, αx, αy, αz) 1xQ+0x0+Qx0+0x1\n",
      "n=2: (βt, βx, βy, βz) 1x0+0xQ+0x0+Qx1\n",
      "sum= (αt + βt, αx + βx, αy + βy, αz + βz) 1xQ+0x0+Qx0+0x1+1x0+0xQ+0x0+Qx1\n",
      "\n",
      "oγδ\n",
      "n=1: (γt, γx, γy, γz) 1xQ+0x0+Qx0+0x1\n",
      "n=2: (δt, δx, δy, δz) 1x0+0xQ+0x0+Qx1\n",
      "sum= (γt + δt, γx + δx, γy + δy, γz + δz) 1xQ+0x0+Qx0+0x1+1x0+0xQ+0x0+Qx1\n"
     ]
    }
   ],
   "source": [
    "iαβ = u.product(\"bra\", operator=αs).add(d.product(\"ket\", operator=βs))\n",
    "iαβ.print_states(\"iαβ\", 1)\n",
    "\n",
    "oγδ = u.product(\"bra\", operator=γs).add(d.product(\"ket\", operator=δs))\n",
    "oγδ.print_states(\"oγδ\")"
   ]
  },
  {
   "cell_type": "markdown",
   "metadata": {},
   "source": [
    "Notice we can extract the component alpha from $|i>$ by multiplying it by the bra $<u|$ because that bra is orthonormal to $<d|$. Beta, gamma, and delta components can be extracted the same way."
   ]
  },
  {
   "cell_type": "code",
   "execution_count": 24,
   "metadata": {},
   "outputs": [
    {
     "name": "stdout",
     "output_type": "stream",
     "text": [
      "alpha\n",
      "n=1: (αt, αx, αy, αz) 1*x1xQ+0x0+Qx0+0x1\n",
      "n=2: (0, 0, 0, 0) 0*x1x0+0xQ+0x0+Qx1\n",
      "sum= (αt, αx, αy, αz) 1*x1xQ+0x0+Qx0+0x1+0*x1x0+0xQ+0x0+Qx1\n",
      "\n",
      "betaa\n",
      "n=1: (0, 0, 0, 0) 0*x1xQ+0x0+Qx0+0x1\n",
      "n=2: (βt, βx, βy, βz) 1*x1x0+0xQ+0x0+Qx1\n",
      "sum= (βt, βx, βy, βz) 0*x1xQ+0x0+Qx0+0x1+1*x1x0+0xQ+0x0+Qx1\n",
      "\n",
      "gamma\n",
      "n=1: (γt, γx, γy, γz) 1*x1xQ+0x0+Qx0+0x1\n",
      "n=2: (0, 0, 0, 0) 0*x1x0+0xQ+0x0+Qx1\n",
      "sum= (γt, γx, γy, γz) 1*x1xQ+0x0+Qx0+0x1+0*x1x0+0xQ+0x0+Qx1\n",
      "\n",
      "delta\n",
      "n=1: (0, 0, 0, 0) 0*x1xQ+0x0+Qx0+0x1\n",
      "n=2: (δt, δx, δy, δz) 1*x1x0+0xQ+0x0+Qx1\n",
      "sum= (δt, δx, δy, δz) 0*x1xQ+0x0+Qx0+0x1+1*x1x0+0xQ+0x0+Qx1\n"
     ]
    }
   ],
   "source": [
    "alpha = u.Euclidean_product(\"bra\", ket=iαβ)\n",
    "alpha.print_states(\"alpha\", 1)\n",
    "\n",
    "beta = d.Euclidean_product(\"bra\", ket=iαβ)\n",
    "beta.print_states(\"betaa\", 1)\n",
    "\n",
    "gamma = u.Euclidean_product(\"bra\", ket=oγδ)\n",
    "gamma.print_states(\"gamma\", 1)\n",
    "\n",
    "delta = d.Euclidean_product(\"bra\", ket=oγδ)\n",
    "delta.print_states(\"delta\")"
   ]
  },
  {
   "cell_type": "markdown",
   "metadata": {},
   "source": [
    "With the four components precisely defined, we can start forming the products asked for in Exercise 2.3: a):"
   ]
  },
  {
   "cell_type": "code",
   "execution_count": 26,
   "metadata": {},
   "outputs": [
    {
     "name": "stdout",
     "output_type": "stream",
     "text": [
      "Exercise 2.3: a)\n",
      "\n",
      "α* α\n",
      "n=1: (αt**2 + αx**2 + αy**2 + αz**2, 0, 0, 0) 1*x1xQ+0x0+Qx0+0x1*x1*x1xQ+0x0+Qx0+0x1\n",
      "n=2: (0, 0, 0, 0) 0*x1x0+0xQ+0x0+Qx1*x0*x1x0+0xQ+0x0+Qx1\n",
      "sum= (αt**2 + αx**2 + αy**2 + αz**2, 0, 0, 0) 1*x1xQ+0x0+Qx0+0x1*x1*x1xQ+0x0+Qx0+0x1+0*x1x0+0xQ+0x0+Qx1*x0*x1x0+0xQ+0x0+Qx1\n",
      "\n",
      "β* β\n",
      "n=1: (0, 0, 0, 0) 0*x1xQ+0x0+Qx0+0x1*x0*x1xQ+0x0+Qx0+0x1\n",
      "n=2: (βt**2 + βx**2 + βy**2 + βz**2, 0, 0, 0) 1*x1x0+0xQ+0x0+Qx1*x1*x1x0+0xQ+0x0+Qx1\n",
      "sum= (βt**2 + βx**2 + βy**2 + βz**2, 0, 0, 0) 0*x1xQ+0x0+Qx0+0x1*x0*x1xQ+0x0+Qx0+0x1+1*x1x0+0xQ+0x0+Qx1*x1*x1x0+0xQ+0x0+Qx1\n",
      "\n",
      "γ* γ\n",
      "n=1: (γt**2 + γx**2 + γy**2 + γz**2, 0, 0, 0) 1*x1xQ+0x0+Qx0+0x1*x1*x1xQ+0x0+Qx0+0x1\n",
      "n=2: (0, 0, 0, 0) 0*x1x0+0xQ+0x0+Qx1*x0*x1x0+0xQ+0x0+Qx1\n",
      "sum= (γt**2 + γx**2 + γy**2 + γz**2, 0, 0, 0) 1*x1xQ+0x0+Qx0+0x1*x1*x1xQ+0x0+Qx0+0x1+0*x1x0+0xQ+0x0+Qx1*x0*x1x0+0xQ+0x0+Qx1\n",
      "\n",
      "δ* δ\n",
      "n=1: (0, 0, 0, 0) 0*x1xQ+0x0+Qx0+0x1*x0*x1xQ+0x0+Qx0+0x1\n",
      "n=2: (δt**2 + δx**2 + δy**2 + δz**2, 0, 0, 0) 1*x1x0+0xQ+0x0+Qx1*x1*x1x0+0xQ+0x0+Qx1\n",
      "sum= (δt**2 + δx**2 + δy**2 + δz**2, 0, 0, 0) 0*x1xQ+0x0+Qx0+0x1*x0*x1xQ+0x0+Qx0+0x1+1*x1x0+0xQ+0x0+Qx1*x1*x1x0+0xQ+0x0+Qx1\n"
     ]
    }
   ],
   "source": [
    "print(\"Exercise 2.3: a)\\n\")\n",
    "\n",
    "aa = alpha.Euclidean_product(\"bra\", ket=alpha)\n",
    "aa.print_states(\"α* α\", 1)\n",
    "\n",
    "bb = beta.Euclidean_product(\"bra\", ket=beta)\n",
    "bb.print_states(\"β* β\", 1)\n",
    "\n",
    "gg = gamma.Euclidean_product(\"bra\", ket=gamma)\n",
    "gg.print_states(\"γ* γ\", 1)\n",
    "\n",
    "dd = delta.Euclidean_product(\"bra\", ket=delta)\n",
    "dd.print_states(\"δ* δ\")"
   ]
  },
  {
   "cell_type": "markdown",
   "metadata": {},
   "source": [
    "In the current state, my software deals better with actual numbers than with algebra. If I normalize the $|iαβ>$, I get \"NAN\". I am not able to normalize this the proper way, which would have two additional factors: a square root of two for the states, and the squared norm of $|iαβ>$. If the reader imagines putting those two in, then the result is 1/2 as it should be."
   ]
  },
  {
   "cell_type": "markdown",
   "metadata": {},
   "source": [
    "By visual inspection, the alpha component is orthogonal to beta, as well as gamma being orthogonal to delta."
   ]
  },
  {
   "cell_type": "code",
   "execution_count": 27,
   "metadata": {},
   "outputs": [
    {
     "name": "stdout",
     "output_type": "stream",
     "text": [
      "α* β\n",
      "n=1: (0, 0, 0, 0) 1*x1xQ+0x0+Qx0+0x1*x0*x1xQ+0x0+Qx0+0x1\n",
      "n=2: (0, 0, 0, 0) 0*x1x0+0xQ+0x0+Qx1*x1*x1x0+0xQ+0x0+Qx1\n",
      "sum= (0, 0, 0, 0) 1*x1xQ+0x0+Qx0+0x1*x0*x1xQ+0x0+Qx0+0x1+0*x1x0+0xQ+0x0+Qx1*x1*x1x0+0xQ+0x0+Qx1\n",
      "\n",
      "γ* δ\n",
      "n=1: (0, 0, 0, 0) 1*x1xQ+0x0+Qx0+0x1*x0*x1xQ+0x0+Qx0+0x1\n",
      "n=2: (0, 0, 0, 0) 0*x1x0+0xQ+0x0+Qx1*x1*x1x0+0xQ+0x0+Qx1\n",
      "sum= (0, 0, 0, 0) 1*x1xQ+0x0+Qx0+0x1*x0*x1xQ+0x0+Qx0+0x1+0*x1x0+0xQ+0x0+Qx1*x1*x1x0+0xQ+0x0+Qx1\n"
     ]
    }
   ],
   "source": [
    "print(\"Exercise 2.3: b)\")\n",
    "\n",
    "ab = alpha.Euclidean_product(\"bra\", ket=beta)\n",
    "ab.print_states(\"α* β\", 1)\n",
    "\n",
    "gd = gamma.Euclidean_product(\"bra\", ket=delta)\n",
    "gd.print_states(\"γ* δ\")"
   ]
  },
  {
   "cell_type": "markdown",
   "metadata": {},
   "source": [
    "Oops..."
   ]
  },
  {
   "cell_type": "code",
   "execution_count": 31,
   "metadata": {},
   "outputs": [
    {
     "name": "stdout",
     "output_type": "stream",
     "text": [
      "<i|u><u|i>\n",
      "n=1: (αt**2 + αx**2 + αy**2 + αz**2, 0, 0, 0) 1xQ+0x0+Qx0+0x1*x1x1*x1xQ+0x0+Qx0+0x1\n",
      "n=2: (0, 0, 0, 0) 1x0+0xQ+0x0+Qx1*x0x0*x1x0+0xQ+0x0+Qx1\n",
      "sum= (αt**2 + αx**2 + αy**2 + αz**2, 0, 0, 0) 1xQ+0x0+Qx0+0x1*x1x1*x1xQ+0x0+Qx0+0x1+1x0+0xQ+0x0+Qx1*x0x0*x1x0+0xQ+0x0+Qx1\n",
      "\n",
      "<i|d><d|i>\n",
      "n=1: (0, 0, 0, 0) 1xQ+0x0+Qx0+0x1*x0x0*x1xQ+0x0+Qx0+0x1\n",
      "n=2: (βt**2 + βx**2 + βy**2 + βz**2, 0, 0, 0) 1x0+0xQ+0x0+Qx1*x1x1*x1x0+0xQ+0x0+Qx1\n",
      "sum= (βt**2 + βx**2 + βy**2 + βz**2, 0, 0, 0) 1xQ+0x0+Qx0+0x1*x0x0*x1xQ+0x0+Qx0+0x1+1x0+0xQ+0x0+Qx1*x1x1*x1x0+0xQ+0x0+Qx1\n",
      "\n",
      "<o|u><u|o>\n",
      "n=1: (γt**2 + γx**2 + γy**2 + γz**2, 0, 0, 0) 1xQ+0x0+Qx0+0x1*x1x1*x1xQ+0x0+Qx0+0x1\n",
      "n=2: (0, 0, 0, 0) 1x0+0xQ+0x0+Qx1*x0x0*x1x0+0xQ+0x0+Qx1\n",
      "sum= (γt**2 + γx**2 + γy**2 + γz**2, 0, 0, 0) 1xQ+0x0+Qx0+0x1*x1x1*x1xQ+0x0+Qx0+0x1+1x0+0xQ+0x0+Qx1*x0x0*x1x0+0xQ+0x0+Qx1\n",
      "\n",
      "<o|d><d|o>\n",
      "n=1: (0, 0, 0, 0) 1xQ+0x0+Qx0+0x1*x1x0*x1xQ+0x0+Qx0+0x1\n",
      "n=2: (0, 0, 0, 0) 1x0+0xQ+0x0+Qx1*x0x1*x1x0+0xQ+0x0+Qx1\n",
      "sum= (0, 0, 0, 0) 1xQ+0x0+Qx0+0x1*x1x0*x1xQ+0x0+Qx0+0x1+1x0+0xQ+0x0+Qx1*x0x1*x1x0+0xQ+0x0+Qx1\n"
     ]
    }
   ],
   "source": [
    "iu = iαβ.Euclidean_product(\"bra\", ket=u)\n",
    "ui = u.Euclidean_product(\"bra\", ket=iαβ)\n",
    "iuui = iu.product(\"bra\", ket=ui)\n",
    "iuui.print_states(\"<i|u><u|i>\", 1)\n",
    "\n",
    "id = iαβ.Euclidean_product(\"bra\", ket=d)\n",
    "di = d.Euclidean_product(\"bra\", ket=iαβ)\n",
    "iddi = id.product(\"bra\", ket=di)\n",
    "iddi.print_states(\"<i|d><d|i>\", 1)\n",
    "\n",
    "ou = oγδ.Euclidean_product(\"bra\", ket=u)\n",
    "uo = u.Euclidean_product(\"bra\", ket=oγδ)\n",
    "ouuo = ou.product(\"bra\", ket=uo)\n",
    "ouuo.print_states(\"<o|u><u|o>\", 1)\n",
    "\n",
    "od = oγδ.Euclidean_product(\"bra\", ket=u)\n",
    "do = d.Euclidean_product(\"bra\", ket=oγδ)\n",
    "oddo = od.product(\"bra\", ket=do)\n",
    "oddo.print_states(\"<o|d><d|o>\")"
   ]
  },
  {
   "cell_type": "code",
   "execution_count": 32,
   "metadata": {},
   "outputs": [
    {
     "name": "stdout",
     "output_type": "stream",
     "text": [
      "<i|u><d|i>\n",
      "n=1: (0, 0, 0, 0) 1xQ+0x0+Qx0+0x1*x1*x0*x1xQ+0x0+Qx0+0x1\n",
      "n=2: (0, 0, 0, 0) 1x0+0xQ+0x0+Qx1*x0*x1*x1x0+0xQ+0x0+Qx1\n",
      "sum= (0, 0, 0, 0) 1xQ+0x0+Qx0+0x1*x1*x0*x1xQ+0x0+Qx0+0x1+1x0+0xQ+0x0+Qx1*x0*x1*x1x0+0xQ+0x0+Qx1\n",
      "\n",
      "<i|d><u|i>\n",
      "n=1: (0, 0, 0, 0) 1xQ+0x0+Qx0+0x1*x0*x1*x1xQ+0x0+Qx0+0x1\n",
      "n=2: (0, 0, 0, 0) 1x0+0xQ+0x0+Qx1*x1*x0*x1x0+0xQ+0x0+Qx1\n",
      "sum= (0, 0, 0, 0) 1xQ+0x0+Qx0+0x1*x0*x1*x1xQ+0x0+Qx0+0x1+1x0+0xQ+0x0+Qx1*x1*x0*x1x0+0xQ+0x0+Qx1\n"
     ]
    }
   ],
   "source": [
    "iudi = iu.Euclidean_product(\"bra\", ket=di)\n",
    "idui = id.Euclidean_product(\"bra\", ket=ui)\n",
    "\n",
    "iudi.print_states(\"<i|u><d|i>\", 1)\n",
    "idui.print_states(\"<i|d><u|i>\")"
   ]
  },
  {
   "cell_type": "code",
   "execution_count": null,
   "metadata": {},
   "outputs": [],
   "source": []
  }
 ],
 "metadata": {
  "kernelspec": {
   "display_name": "Python 3",
   "language": "python",
   "name": "python3"
  },
  "language_info": {
   "codemirror_mode": {
    "name": "ipython",
    "version": 3
   },
   "file_extension": ".py",
   "mimetype": "text/x-python",
   "name": "python",
   "nbconvert_exporter": "python",
   "pygments_lexer": "ipython3",
   "version": "3.5.1"
  }
 },
 "nbformat": 4,
 "nbformat_minor": 2
}
