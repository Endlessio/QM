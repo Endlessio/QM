{
 "cells": [
  {
   "cell_type": "code",
   "execution_count": 99,
   "metadata": {},
   "outputs": [],
   "source": [
    "%%capture\n",
    "%matplotlib inline\n",
    "import numpy as np\n",
    "import sympy as sp\n",
    "import matplotlib.pyplot as plt\n",
    "import math\n",
    "\n",
    "# To get equations the look like, well, equations, use the following.\n",
    "from sympy.interactive import printing\n",
    "printing.init_printing(use_latex=True)\n",
    "from IPython.display import display\n",
    "\n",
    "# Tools for manipulating quaternions.\n",
    "import Q_tools as qt;\n",
    "\n",
    "from IPython.core.display import display, HTML, Math, Latex\n",
    "display(HTML(\"<style>.container { width:100% !important; }</style>\"))"
   ]
  },
  {
   "cell_type": "code",
   "execution_count": 118,
   "metadata": {},
   "outputs": [],
   "source": [
    "def transpose(self, m=None, n=None):\n",
    "        \"\"\"Transposes a series.\"\"\"\n",
    "        \n",
    "        if m is None:\n",
    "            # test if it is square.\n",
    "            if math.sqrt(self.dim).is_integer():\n",
    "                m = sp.sqrt(self.dim)\n",
    "                n = m\n",
    "               \n",
    "        if n is None:\n",
    "            n = self.dim / m\n",
    "            \n",
    "        if m * n != self.dim:\n",
    "            return None\n",
    "        \n",
    "        matrix = [[0 for x in range(m)] for y in range(n)] \n",
    "        \n",
    "        qs = self.qs\n",
    "        qs_t = []\n",
    "        \n",
    "        for mi in range(m):\n",
    "            for ni in range(n):\n",
    "                matrix[ni][mi] = qs[n * mi + ni]\n",
    "                print(\"mi, ni, n, n * mi + ni: {}, {}, {}, {}\".format(mi, ni, n, n * mi + ni))\n",
    "        \n",
    "        qs_t = []\n",
    "        \n",
    "        for t in matrix:\n",
    "            for q in t:\n",
    "                qs_t.append(q)\n",
    "                \n",
    "        return(qt.QHStates(qs_t))"
   ]
  },
  {
   "cell_type": "code",
   "execution_count": 119,
   "metadata": {},
   "outputs": [
    {
     "name": "stdout",
     "output_type": "stream",
     "text": [
      "mi, ni, n, n * mi + ni: 0, 0, 3, 0\n",
      "mi, ni, n, n * mi + ni: 0, 1, 3, 1\n",
      "mi, ni, n, n * mi + ni: 0, 2, 3, 2\n",
      "mi, ni, n, n * mi + ni: 1, 0, 3, 3\n",
      "mi, ni, n, n * mi + ni: 1, 1, 3, 4\n",
      "mi, ni, n, n * mi + ni: 1, 2, 3, 5\n",
      "3,2\n",
      "n=1: (0, 0, 0, 0) Q\n",
      "n=2: (0, 0, 0, 3) Q\n",
      "n=3: (0, 1, 0, 0) Q\n",
      "n=4: (4, 0, 0, 0) Q\n",
      "n=5: (0, 0, 2, 0) Q\n",
      "n=6: (0, 5, 0, 0) Q\n",
      "sum= (4, 6, 2, 3) Q+Q+Q+Q+Q+Q\n",
      "mi, ni, n, n * mi + ni: 0, 0, 2, 0\n",
      "mi, ni, n, n * mi + ni: 0, 1, 2, 1\n",
      "mi, ni, n, n * mi + ni: 1, 0, 2, 2\n",
      "mi, ni, n, n * mi + ni: 1, 1, 2, 3\n",
      "mi, ni, n, n * mi + ni: 2, 0, 2, 4\n",
      "mi, ni, n, n * mi + ni: 2, 1, 2, 5\n",
      "3,2\n",
      "n=1: (0, 0, 0, 0) Q\n",
      "n=2: (0, 0, 2, 0) Q\n",
      "n=3: (4, 0, 0, 0) Q\n",
      "n=4: (0, 1, 0, 0) Q\n",
      "n=5: (0, 0, 0, 3) Q\n",
      "n=6: (0, 5, 0, 0) Q\n",
      "sum= (4, 6, 2, 3) Q+Q+Q+Q+Q+Q\n",
      "mi, ni, n, n * mi + ni: 0, 0, 2, 0\n",
      "mi, ni, n, n * mi + ni: 0, 1, 2, 1\n",
      "mi, ni, n, n * mi + ni: 1, 0, 2, 2\n",
      "mi, ni, n, n * mi + ni: 1, 1, 2, 3\n",
      "2x2\n",
      "n=1: (0, 0, 0, 0) Q\n",
      "n=2: (0, 0, 2, 0) Q\n",
      "n=3: (0, 1, 0, 0) Q\n",
      "n=4: (0, 0, 0, 3) Q\n",
      "sum= (0, 1, 2, 3) Q+Q+Q+Q\n"
     ]
    }
   ],
   "source": [
    "Op = qt.QHStates([qt.QH([0,0,0,0]),qt.QH([0,1,0,0]),qt.QH([0,0,2,0]),qt.QH([0,0,0,3]),qt.QH([4,0,0,0]),qt.\n",
    "                QH([0,5,0,0])])\n",
    "\n",
    "transpose(Op, 2,3).print_states(\"3,2\")\n",
    "\n",
    "Op = qt.QHStates([qt.QH([0,0,0,0]),qt.QH([0,1,0,0]),qt.QH([0,0,2,0]),qt.QH([0,0,0,3]),qt.QH([4,0,0,0]),qt.\n",
    "                QH([0,5,0,0])])\n",
    "\n",
    "transpose(Op, 3,2).print_states(\"3,2\")\n",
    "\n",
    "Op = qt.QHStates([qt.QH([0,0,0,0]),qt.QH([0,1,0,0]),qt.QH([0,0,2,0]),qt.QH([0,0,0,3])])\n",
    "\n",
    "transpose(Op).print_states(\"2x2\")"
   ]
  },
  {
   "cell_type": "code",
   "execution_count": 107,
   "metadata": {},
   "outputs": [],
   "source": [
    "transpose(Op,3,2)"
   ]
  },
  {
   "cell_type": "code",
   "execution_count": null,
   "metadata": {},
   "outputs": [],
   "source": []
  },
  {
   "cell_type": "code",
   "execution_count": 108,
   "metadata": {},
   "outputs": [],
   "source": [
    "def transpose(self, m=None, n=None):\n",
    "        \"\"\"Transposes a series.\"\"\"\n",
    "        \n",
    "        if m is None:\n",
    "            # test if it is square.\n",
    "            if math.sqrt(self.dim).is_integer():\n",
    "                m = sp.sqrt(self.dim)\n",
    "                n = m\n",
    "               \n",
    "        if n is None:\n",
    "            n = self.dim / m\n",
    "            \n",
    "        if m * n != self.dim:\n",
    "            return None\n",
    "        \n",
    "        matrix = [[0 for x in range(m)] for y in range(n)] \n",
    "        \n",
    "        qs = self.qs\n",
    "        qs_t = []\n",
    "        \n",
    "        for mi in range(m):\n",
    "            for ni in range(n):\n",
    "                matrix[ni][mi] = qs[mi  * ni + ni]\n",
    "        \n",
    "        qs_t = []\n",
    "        \n",
    "        for t in matrix:\n",
    "            for q in t:\n",
    "                qs_t.append(q)\n",
    "                \n",
    "        return QHStates(qs_t)"
   ]
  },
  {
   "cell_type": "code",
   "execution_count": null,
   "metadata": {},
   "outputs": [],
   "source": []
  }
 ],
 "metadata": {
  "kernelspec": {
   "display_name": "Python 3",
   "language": "python",
   "name": "python3"
  },
  "language_info": {
   "codemirror_mode": {
    "name": "ipython",
    "version": 3
   },
   "file_extension": ".py",
   "mimetype": "text/x-python",
   "name": "python",
   "nbconvert_exporter": "python",
   "pygments_lexer": "ipython3",
   "version": "3.5.1"
  }
 },
 "nbformat": 4,
 "nbformat_minor": 2
}
