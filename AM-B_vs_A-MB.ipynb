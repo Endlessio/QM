{
 "cells": [
  {
   "cell_type": "markdown",
   "metadata": {},
   "source": [
    "# Does (AM)B Really equal A(MB)?"
   ]
  },
  {
   "cell_type": "markdown",
   "metadata": {},
   "source": [
    "Import the needed libraries."
   ]
  },
  {
   "cell_type": "code",
   "execution_count": 1,
   "metadata": {},
   "outputs": [],
   "source": [
    "%%capture\n",
    "%matplotlib inline\n",
    "import numpy as np\n",
    "import sympy as sp\n",
    "import matplotlib.pyplot as plt\n",
    "\n",
    "# To get equations the look like, well, equations, use the following.\n",
    "from sympy.interactive import printing\n",
    "printing.init_printing(use_latex=True)\n",
    "from IPython.display import display\n",
    "\n",
    "# Tools for manipulating quaternions.\n",
    "import Q_tools as qt;\n",
    "\n",
    "from IPython.core.display import display, HTML\n",
    "display(HTML(\"<style>.container { width:100% !important; }</style>\"))"
   ]
  },
  {
   "cell_type": "markdown",
   "metadata": {},
   "source": [
    "Make it all abstract. Most of these were in the Lecture 3 notebook."
   ]
  },
  {
   "cell_type": "code",
   "execution_count": 3,
   "metadata": {},
   "outputs": [
    {
     "name": "stdout",
     "output_type": "stream",
     "text": [
      "A\n",
      "n=1: (At1, Ax1, Ay1, Az1) a₁\n",
      "n=2: (At2, Ax2, Ay2, Az2) a₂\n",
      "sum= (At1 + At2, Ax1 + Ax2, Ay1 + Ay2, Az1 + Az2) a₁+a₂\n",
      "\n",
      "B\n",
      "n=1: (Bt1, Bx1, Ay1, Bz1) b₁\n",
      "n=2: (Bt2, Bx2, By2, Bz2) b₂\n",
      "sum= (Bt1 + Bt2, Bx1 + Bx2, Ay1 + By2, Bz1 + Bz2) b₁+b₂\n",
      "\n",
      "M\n",
      "n=1: (Mt1, Mx1, My1, Mz1) m₁\n",
      "n=2: (Mt2, Mx2, My2, Mz2) m₂\n",
      "n=3: (Mt3, Mx3, My3, Mz3) m₃\n",
      "n=4: (Mt4, Mx4, My4, Mz4) m₄\n",
      "sum= (Mt1 + Mt2 + Mt3 + Mt4, Mx1 + Mx2 + Mx3 + Mx4, My1 + My2 + My3 + My4, Mz1 + Mz2 + Mz3 + Mz4) m₁+m₂+m₃+m₄\n",
      "\n"
     ]
    }
   ],
   "source": [
    "At1, Ax1, Ay1, Az1 = sp.symbols(\"At1 Ax1 Ay1 Az1\")\n",
    "At2, Ax2, Ay2, Az2 = sp.symbols(\"At2 Ax2 Ay2 Az2\")\n",
    "Aq1 = qt.QH([At1, Ax1, Ay1, Az1], qtype=\"a₁\")\n",
    "Aq2 = qt.QH([At2, Ax2, Ay2, Az2], qtype=\"a₂\")\n",
    "A = qt.QHStates([Aq1, Aq2])\n",
    "A.print_state(\"A\", 1)\n",
    "\n",
    "Bt1, Bx1, By1, Bz1 = sp.symbols(\"Bt1 Bx1 Ay1 Bz1\")\n",
    "Bt2, Bx2, By2, Bz2 = sp.symbols(\"Bt2 Bx2 By2 Bz2\")\n",
    "Bq1 = qt.QH([Bt1, Bx1, By1, Bz1], qtype=\"b₁\")\n",
    "Bq2 = qt.QH([Bt2, Bx2, By2, Bz2], qtype=\"b₂\")\n",
    "B = qt.QHStates([Bq1, Bq2])\n",
    "B.print_state(\"B\", 1)\n",
    "\n",
    "Mt1, Mx1, My1, Mz1 = sp.symbols(\"Mt1 Mx1 My1 Mz1\")\n",
    "Mt2, Mx2, My2, Mz2 = sp.symbols(\"Mt2 Mx2 My2 Mz2\")\n",
    "Mt3, Mx3, My3, Mz3 = sp.symbols(\"Mt3 Mx3 My3 Mz3\")\n",
    "Mt4, Mx4, My4, Mz4 = sp.symbols(\"Mt4 Mx4 My4 Mz4\")\n",
    "Mq1 = qt.QH([Mt1, Mx1, My1, Mz1], qtype=\"m₁\")\n",
    "Mq2 = qt.QH([Mt2, Mx2, My2, Mz2], qtype=\"m₂\")\n",
    "Mq3 = qt.QH([Mt3, Mx3, My3, Mz3], qtype=\"m₃\")\n",
    "Mq4 = qt.QH([Mt4, Mx4, My4, Mz4], qtype=\"m₄\")\n",
    "\n",
    "M = qt.QHStates([Mq1, Mq2, Mq3, Mq4])\n",
    "M.print_state(\"M\", 1)"
   ]
  },
  {
   "cell_type": "code",
   "execution_count": 10,
   "metadata": {},
   "outputs": [
    {
     "name": "stdout",
     "output_type": "stream",
     "text": [
      "AMthenB\n",
      "n=1: (-Ay1*(-At1*My1 - At2*My3 - Ax1*Mz1 - Ax2*Mz3 + Ay1*Mt1 + Ay2*Mt3 + Az1*Mx1 + Az2*Mx3) + Bt1*(At1*Mt1 + At2*Mt3 + Ax1*Mx1 + Ax2*Mx3 + Ay1*My1 + Ay2*My3 + Az1*Mz1 + Az2*Mz3) - Bx1*(-At1*Mx1 - At2*Mx3 + Ax1*Mt1 + Ax2*Mt3 + Ay1*Mz1 + Ay2*Mz3 - Az1*My1 - Az2*My3) - Bz1*(-At1*Mz1 - At2*Mz3 + Ax1*My1 + Ax2*My3 - Ay1*Mx1 - Ay2*Mx3 + Az1*Mt1 + Az2*Mt3), -Ay1*(-At1*Mz1 - At2*Mz3 + Ax1*My1 + Ax2*My3 - Ay1*Mx1 - Ay2*Mx3 + Az1*Mt1 + Az2*Mt3) + Bt1*(-At1*Mx1 - At2*Mx3 + Ax1*Mt1 + Ax2*Mt3 + Ay1*Mz1 + Ay2*Mz3 - Az1*My1 - Az2*My3) + Bx1*(At1*Mt1 + At2*Mt3 + Ax1*Mx1 + Ax2*Mx3 + Ay1*My1 + Ay2*My3 + Az1*Mz1 + Az2*Mz3) + Bz1*(-At1*My1 - At2*My3 - Ax1*Mz1 - Ax2*Mz3 + Ay1*Mt1 + Ay2*Mt3 + Az1*Mx1 + Az2*Mx3), Ay1*(At1*Mt1 + At2*Mt3 + Ax1*Mx1 + Ax2*Mx3 + Ay1*My1 + Ay2*My3 + Az1*Mz1 + Az2*Mz3) + Bt1*(-At1*My1 - At2*My3 - Ax1*Mz1 - Ax2*Mz3 + Ay1*Mt1 + Ay2*Mt3 + Az1*Mx1 + Az2*Mx3) + Bx1*(-At1*Mz1 - At2*Mz3 + Ax1*My1 + Ax2*My3 - Ay1*Mx1 - Ay2*Mx3 + Az1*Mt1 + Az2*Mt3) - Bz1*(-At1*Mx1 - At2*Mx3 + Ax1*Mt1 + Ax2*Mt3 + Ay1*Mz1 + Ay2*Mz3 - Az1*My1 - Az2*My3), Ay1*(-At1*Mx1 - At2*Mx3 + Ax1*Mt1 + Ax2*Mt3 + Ay1*Mz1 + Ay2*Mz3 - Az1*My1 - Az2*My3) + Bt1*(-At1*Mz1 - At2*Mz3 + Ax1*My1 + Ax2*My3 - Ay1*Mx1 - Ay2*Mx3 + Az1*Mt1 + Az2*Mt3) - Bx1*(-At1*My1 - At2*My3 - Ax1*Mz1 - Ax2*Mz3 + Ay1*Mt1 + Ay2*Mt3 + Az1*Mx1 + Az2*Mx3) + Bz1*(At1*Mt1 + At2*Mt3 + Ax1*Mx1 + Ax2*Mx3 + Ay1*My1 + Ay2*My3 + Az1*Mz1 + Az2*Mz3)) a₁*xm₁+a₂*xm₃*xb₁\n",
      "n=2: (Bt2*(At1*Mt2 + At2*Mt4 + Ax1*Mx2 + Ax2*Mx4 + Ay1*My2 + Ay2*My4 + Az1*Mz2 + Az2*Mz4) - Bx2*(-At1*Mx2 - At2*Mx4 + Ax1*Mt2 + Ax2*Mt4 + Ay1*Mz2 + Ay2*Mz4 - Az1*My2 - Az2*My4) - By2*(-At1*My2 - At2*My4 - Ax1*Mz2 - Ax2*Mz4 + Ay1*Mt2 + Ay2*Mt4 + Az1*Mx2 + Az2*Mx4) - Bz2*(-At1*Mz2 - At2*Mz4 + Ax1*My2 + Ax2*My4 - Ay1*Mx2 - Ay2*Mx4 + Az1*Mt2 + Az2*Mt4), Bt2*(-At1*Mx2 - At2*Mx4 + Ax1*Mt2 + Ax2*Mt4 + Ay1*Mz2 + Ay2*Mz4 - Az1*My2 - Az2*My4) + Bx2*(At1*Mt2 + At2*Mt4 + Ax1*Mx2 + Ax2*Mx4 + Ay1*My2 + Ay2*My4 + Az1*Mz2 + Az2*Mz4) - By2*(-At1*Mz2 - At2*Mz4 + Ax1*My2 + Ax2*My4 - Ay1*Mx2 - Ay2*Mx4 + Az1*Mt2 + Az2*Mt4) + Bz2*(-At1*My2 - At2*My4 - Ax1*Mz2 - Ax2*Mz4 + Ay1*Mt2 + Ay2*Mt4 + Az1*Mx2 + Az2*Mx4), Bt2*(-At1*My2 - At2*My4 - Ax1*Mz2 - Ax2*Mz4 + Ay1*Mt2 + Ay2*Mt4 + Az1*Mx2 + Az2*Mx4) + Bx2*(-At1*Mz2 - At2*Mz4 + Ax1*My2 + Ax2*My4 - Ay1*Mx2 - Ay2*Mx4 + Az1*Mt2 + Az2*Mt4) + By2*(At1*Mt2 + At2*Mt4 + Ax1*Mx2 + Ax2*Mx4 + Ay1*My2 + Ay2*My4 + Az1*Mz2 + Az2*Mz4) - Bz2*(-At1*Mx2 - At2*Mx4 + Ax1*Mt2 + Ax2*Mt4 + Ay1*Mz2 + Ay2*Mz4 - Az1*My2 - Az2*My4), Bt2*(-At1*Mz2 - At2*Mz4 + Ax1*My2 + Ax2*My4 - Ay1*Mx2 - Ay2*Mx4 + Az1*Mt2 + Az2*Mt4) - Bx2*(-At1*My2 - At2*My4 - Ax1*Mz2 - Ax2*Mz4 + Ay1*Mt2 + Ay2*Mt4 + Az1*Mx2 + Az2*Mx4) + By2*(-At1*Mx2 - At2*Mx4 + Ax1*Mt2 + Ax2*Mt4 + Ay1*Mz2 + Ay2*Mz4 - Az1*My2 - Az2*My4) + Bz2*(At1*Mt2 + At2*Mt4 + Ax1*Mx2 + Ax2*Mx4 + Ay1*My2 + Ay2*My4 + Az1*Mz2 + Az2*Mz4)) a₁*xm₂+a₂*xm₄*xb₂\n",
      "sum= (-Ay1*(-At1*My1 - At2*My3 - Ax1*Mz1 - Ax2*Mz3 + Ay1*Mt1 + Ay2*Mt3 + Az1*Mx1 + Az2*Mx3) + Bt1*(At1*Mt1 + At2*Mt3 + Ax1*Mx1 + Ax2*Mx3 + Ay1*My1 + Ay2*My3 + Az1*Mz1 + Az2*Mz3) + Bt2*(At1*Mt2 + At2*Mt4 + Ax1*Mx2 + Ax2*Mx4 + Ay1*My2 + Ay2*My4 + Az1*Mz2 + Az2*Mz4) - Bx1*(-At1*Mx1 - At2*Mx3 + Ax1*Mt1 + Ax2*Mt3 + Ay1*Mz1 + Ay2*Mz3 - Az1*My1 - Az2*My3) - Bx2*(-At1*Mx2 - At2*Mx4 + Ax1*Mt2 + Ax2*Mt4 + Ay1*Mz2 + Ay2*Mz4 - Az1*My2 - Az2*My4) - By2*(-At1*My2 - At2*My4 - Ax1*Mz2 - Ax2*Mz4 + Ay1*Mt2 + Ay2*Mt4 + Az1*Mx2 + Az2*Mx4) - Bz1*(-At1*Mz1 - At2*Mz3 + Ax1*My1 + Ax2*My3 - Ay1*Mx1 - Ay2*Mx3 + Az1*Mt1 + Az2*Mt3) - Bz2*(-At1*Mz2 - At2*Mz4 + Ax1*My2 + Ax2*My4 - Ay1*Mx2 - Ay2*Mx4 + Az1*Mt2 + Az2*Mt4), -Ay1*(-At1*Mz1 - At2*Mz3 + Ax1*My1 + Ax2*My3 - Ay1*Mx1 - Ay2*Mx3 + Az1*Mt1 + Az2*Mt3) + Bt1*(-At1*Mx1 - At2*Mx3 + Ax1*Mt1 + Ax2*Mt3 + Ay1*Mz1 + Ay2*Mz3 - Az1*My1 - Az2*My3) + Bt2*(-At1*Mx2 - At2*Mx4 + Ax1*Mt2 + Ax2*Mt4 + Ay1*Mz2 + Ay2*Mz4 - Az1*My2 - Az2*My4) + Bx1*(At1*Mt1 + At2*Mt3 + Ax1*Mx1 + Ax2*Mx3 + Ay1*My1 + Ay2*My3 + Az1*Mz1 + Az2*Mz3) + Bx2*(At1*Mt2 + At2*Mt4 + Ax1*Mx2 + Ax2*Mx4 + Ay1*My2 + Ay2*My4 + Az1*Mz2 + Az2*Mz4) - By2*(-At1*Mz2 - At2*Mz4 + Ax1*My2 + Ax2*My4 - Ay1*Mx2 - Ay2*Mx4 + Az1*Mt2 + Az2*Mt4) + Bz1*(-At1*My1 - At2*My3 - Ax1*Mz1 - Ax2*Mz3 + Ay1*Mt1 + Ay2*Mt3 + Az1*Mx1 + Az2*Mx3) + Bz2*(-At1*My2 - At2*My4 - Ax1*Mz2 - Ax2*Mz4 + Ay1*Mt2 + Ay2*Mt4 + Az1*Mx2 + Az2*Mx4), Ay1*(At1*Mt1 + At2*Mt3 + Ax1*Mx1 + Ax2*Mx3 + Ay1*My1 + Ay2*My3 + Az1*Mz1 + Az2*Mz3) + Bt1*(-At1*My1 - At2*My3 - Ax1*Mz1 - Ax2*Mz3 + Ay1*Mt1 + Ay2*Mt3 + Az1*Mx1 + Az2*Mx3) + Bt2*(-At1*My2 - At2*My4 - Ax1*Mz2 - Ax2*Mz4 + Ay1*Mt2 + Ay2*Mt4 + Az1*Mx2 + Az2*Mx4) + Bx1*(-At1*Mz1 - At2*Mz3 + Ax1*My1 + Ax2*My3 - Ay1*Mx1 - Ay2*Mx3 + Az1*Mt1 + Az2*Mt3) + Bx2*(-At1*Mz2 - At2*Mz4 + Ax1*My2 + Ax2*My4 - Ay1*Mx2 - Ay2*Mx4 + Az1*Mt2 + Az2*Mt4) + By2*(At1*Mt2 + At2*Mt4 + Ax1*Mx2 + Ax2*Mx4 + Ay1*My2 + Ay2*My4 + Az1*Mz2 + Az2*Mz4) - Bz1*(-At1*Mx1 - At2*Mx3 + Ax1*Mt1 + Ax2*Mt3 + Ay1*Mz1 + Ay2*Mz3 - Az1*My1 - Az2*My3) - Bz2*(-At1*Mx2 - At2*Mx4 + Ax1*Mt2 + Ax2*Mt4 + Ay1*Mz2 + Ay2*Mz4 - Az1*My2 - Az2*My4), Ay1*(-At1*Mx1 - At2*Mx3 + Ax1*Mt1 + Ax2*Mt3 + Ay1*Mz1 + Ay2*Mz3 - Az1*My1 - Az2*My3) + Bt1*(-At1*Mz1 - At2*Mz3 + Ax1*My1 + Ax2*My3 - Ay1*Mx1 - Ay2*Mx3 + Az1*Mt1 + Az2*Mt3) + Bt2*(-At1*Mz2 - At2*Mz4 + Ax1*My2 + Ax2*My4 - Ay1*Mx2 - Ay2*Mx4 + Az1*Mt2 + Az2*Mt4) - Bx1*(-At1*My1 - At2*My3 - Ax1*Mz1 - Ax2*Mz3 + Ay1*Mt1 + Ay2*Mt3 + Az1*Mx1 + Az2*Mx3) - Bx2*(-At1*My2 - At2*My4 - Ax1*Mz2 - Ax2*Mz4 + Ay1*Mt2 + Ay2*Mt4 + Az1*Mx2 + Az2*Mx4) + By2*(-At1*Mx2 - At2*Mx4 + Ax1*Mt2 + Ax2*Mt4 + Ay1*Mz2 + Ay2*Mz4 - Az1*My2 - Az2*My4) + Bz1*(At1*Mt1 + At2*Mt3 + Ax1*Mx1 + Ax2*Mx3 + Ay1*My1 + Ay2*My3 + Az1*Mz1 + Az2*Mz3) + Bz2*(At1*Mt2 + At2*Mt4 + Ax1*Mx2 + Ax2*Mx4 + Ay1*My2 + Ay2*My4 + Az1*Mz2 + Az2*Mz4)) a₁*xm₁+a₂*xm₃*xb₁+a₁*xm₂+a₂*xm₄*xb₂\n",
      "\n",
      "MBthenA\n",
      "n=1: (At1*(-Ay1*My1 + Bt1*Mt1 + Bt2*Mt2 - Bx1*Mx1 - Bx2*Mx2 - By2*My2 - Bz1*Mz1 - Bz2*Mz2) + Ax1*(-Ay1*Mz1 + Bt1*Mx1 + Bt2*Mx2 + Bx1*Mt1 + Bx2*Mt2 - By2*Mz2 + Bz1*My1 + Bz2*My2) + Ay1*(Ay1*Mt1 + Bt1*My1 + Bt2*My2 + Bx1*Mz1 + Bx2*Mz2 + By2*Mt2 - Bz1*Mx1 - Bz2*Mx2) + Az1*(Ay1*Mx1 + Bt1*Mz1 + Bt2*Mz2 - Bx1*My1 - Bx2*My2 + By2*Mx2 + Bz1*Mt1 + Bz2*Mt2), At1*(-Ay1*Mz1 + Bt1*Mx1 + Bt2*Mx2 + Bx1*Mt1 + Bx2*Mt2 - By2*Mz2 + Bz1*My1 + Bz2*My2) - Ax1*(-Ay1*My1 + Bt1*Mt1 + Bt2*Mt2 - Bx1*Mx1 - Bx2*Mx2 - By2*My2 - Bz1*Mz1 - Bz2*Mz2) - Ay1*(Ay1*Mx1 + Bt1*Mz1 + Bt2*Mz2 - Bx1*My1 - Bx2*My2 + By2*Mx2 + Bz1*Mt1 + Bz2*Mt2) + Az1*(Ay1*Mt1 + Bt1*My1 + Bt2*My2 + Bx1*Mz1 + Bx2*Mz2 + By2*Mt2 - Bz1*Mx1 - Bz2*Mx2), At1*(Ay1*Mt1 + Bt1*My1 + Bt2*My2 + Bx1*Mz1 + Bx2*Mz2 + By2*Mt2 - Bz1*Mx1 - Bz2*Mx2) + Ax1*(Ay1*Mx1 + Bt1*Mz1 + Bt2*Mz2 - Bx1*My1 - Bx2*My2 + By2*Mx2 + Bz1*Mt1 + Bz2*Mt2) - Ay1*(-Ay1*My1 + Bt1*Mt1 + Bt2*Mt2 - Bx1*Mx1 - Bx2*Mx2 - By2*My2 - Bz1*Mz1 - Bz2*Mz2) - Az1*(-Ay1*Mz1 + Bt1*Mx1 + Bt2*Mx2 + Bx1*Mt1 + Bx2*Mt2 - By2*Mz2 + Bz1*My1 + Bz2*My2), At1*(Ay1*Mx1 + Bt1*Mz1 + Bt2*Mz2 - Bx1*My1 - Bx2*My2 + By2*Mx2 + Bz1*Mt1 + Bz2*Mt2) - Ax1*(Ay1*Mt1 + Bt1*My1 + Bt2*My2 + Bx1*Mz1 + Bx2*Mz2 + By2*Mt2 - Bz1*Mx1 - Bz2*Mx2) + Ay1*(-Ay1*Mz1 + Bt1*Mx1 + Bt2*Mx2 + Bx1*Mt1 + Bx2*Mt2 - By2*Mz2 + Bz1*My1 + Bz2*My2) - Az1*(-Ay1*My1 + Bt1*Mt1 + Bt2*Mt2 - Bx1*Mx1 - Bx2*Mx2 - By2*My2 - Bz1*Mz1 - Bz2*Mz2)) a₁*xm₁xb₁+m₂xb₂\n",
      "n=2: (At2*(-Ay1*My3 + Bt1*Mt3 + Bt2*Mt4 - Bx1*Mx3 - Bx2*Mx4 - By2*My4 - Bz1*Mz3 - Bz2*Mz4) + Ax2*(-Ay1*Mz3 + Bt1*Mx3 + Bt2*Mx4 + Bx1*Mt3 + Bx2*Mt4 - By2*Mz4 + Bz1*My3 + Bz2*My4) + Ay2*(Ay1*Mt3 + Bt1*My3 + Bt2*My4 + Bx1*Mz3 + Bx2*Mz4 + By2*Mt4 - Bz1*Mx3 - Bz2*Mx4) + Az2*(Ay1*Mx3 + Bt1*Mz3 + Bt2*Mz4 - Bx1*My3 - Bx2*My4 + By2*Mx4 + Bz1*Mt3 + Bz2*Mt4), At2*(-Ay1*Mz3 + Bt1*Mx3 + Bt2*Mx4 + Bx1*Mt3 + Bx2*Mt4 - By2*Mz4 + Bz1*My3 + Bz2*My4) - Ax2*(-Ay1*My3 + Bt1*Mt3 + Bt2*Mt4 - Bx1*Mx3 - Bx2*Mx4 - By2*My4 - Bz1*Mz3 - Bz2*Mz4) - Ay2*(Ay1*Mx3 + Bt1*Mz3 + Bt2*Mz4 - Bx1*My3 - Bx2*My4 + By2*Mx4 + Bz1*Mt3 + Bz2*Mt4) + Az2*(Ay1*Mt3 + Bt1*My3 + Bt2*My4 + Bx1*Mz3 + Bx2*Mz4 + By2*Mt4 - Bz1*Mx3 - Bz2*Mx4), At2*(Ay1*Mt3 + Bt1*My3 + Bt2*My4 + Bx1*Mz3 + Bx2*Mz4 + By2*Mt4 - Bz1*Mx3 - Bz2*Mx4) + Ax2*(Ay1*Mx3 + Bt1*Mz3 + Bt2*Mz4 - Bx1*My3 - Bx2*My4 + By2*Mx4 + Bz1*Mt3 + Bz2*Mt4) - Ay2*(-Ay1*My3 + Bt1*Mt3 + Bt2*Mt4 - Bx1*Mx3 - Bx2*Mx4 - By2*My4 - Bz1*Mz3 - Bz2*Mz4) - Az2*(-Ay1*Mz3 + Bt1*Mx3 + Bt2*Mx4 + Bx1*Mt3 + Bx2*Mt4 - By2*Mz4 + Bz1*My3 + Bz2*My4), At2*(Ay1*Mx3 + Bt1*Mz3 + Bt2*Mz4 - Bx1*My3 - Bx2*My4 + By2*Mx4 + Bz1*Mt3 + Bz2*Mt4) - Ax2*(Ay1*Mt3 + Bt1*My3 + Bt2*My4 + Bx1*Mz3 + Bx2*Mz4 + By2*Mt4 - Bz1*Mx3 - Bz2*Mx4) + Ay2*(-Ay1*Mz3 + Bt1*Mx3 + Bt2*Mx4 + Bx1*Mt3 + Bx2*Mt4 - By2*Mz4 + Bz1*My3 + Bz2*My4) - Az2*(-Ay1*My3 + Bt1*Mt3 + Bt2*Mt4 - Bx1*Mx3 - Bx2*Mx4 - By2*My4 - Bz1*Mz3 - Bz2*Mz4)) a₂*xm₃xb₁+m₄xb₂\n",
      "sum= (At1*(-Ay1*My1 + Bt1*Mt1 + Bt2*Mt2 - Bx1*Mx1 - Bx2*Mx2 - By2*My2 - Bz1*Mz1 - Bz2*Mz2) + At2*(-Ay1*My3 + Bt1*Mt3 + Bt2*Mt4 - Bx1*Mx3 - Bx2*Mx4 - By2*My4 - Bz1*Mz3 - Bz2*Mz4) + Ax1*(-Ay1*Mz1 + Bt1*Mx1 + Bt2*Mx2 + Bx1*Mt1 + Bx2*Mt2 - By2*Mz2 + Bz1*My1 + Bz2*My2) + Ax2*(-Ay1*Mz3 + Bt1*Mx3 + Bt2*Mx4 + Bx1*Mt3 + Bx2*Mt4 - By2*Mz4 + Bz1*My3 + Bz2*My4) + Ay1*(Ay1*Mt1 + Bt1*My1 + Bt2*My2 + Bx1*Mz1 + Bx2*Mz2 + By2*Mt2 - Bz1*Mx1 - Bz2*Mx2) + Ay2*(Ay1*Mt3 + Bt1*My3 + Bt2*My4 + Bx1*Mz3 + Bx2*Mz4 + By2*Mt4 - Bz1*Mx3 - Bz2*Mx4) + Az1*(Ay1*Mx1 + Bt1*Mz1 + Bt2*Mz2 - Bx1*My1 - Bx2*My2 + By2*Mx2 + Bz1*Mt1 + Bz2*Mt2) + Az2*(Ay1*Mx3 + Bt1*Mz3 + Bt2*Mz4 - Bx1*My3 - Bx2*My4 + By2*Mx4 + Bz1*Mt3 + Bz2*Mt4), At1*(-Ay1*Mz1 + Bt1*Mx1 + Bt2*Mx2 + Bx1*Mt1 + Bx2*Mt2 - By2*Mz2 + Bz1*My1 + Bz2*My2) + At2*(-Ay1*Mz3 + Bt1*Mx3 + Bt2*Mx4 + Bx1*Mt3 + Bx2*Mt4 - By2*Mz4 + Bz1*My3 + Bz2*My4) - Ax1*(-Ay1*My1 + Bt1*Mt1 + Bt2*Mt2 - Bx1*Mx1 - Bx2*Mx2 - By2*My2 - Bz1*Mz1 - Bz2*Mz2) - Ax2*(-Ay1*My3 + Bt1*Mt3 + Bt2*Mt4 - Bx1*Mx3 - Bx2*Mx4 - By2*My4 - Bz1*Mz3 - Bz2*Mz4) - Ay1*(Ay1*Mx1 + Bt1*Mz1 + Bt2*Mz2 - Bx1*My1 - Bx2*My2 + By2*Mx2 + Bz1*Mt1 + Bz2*Mt2) - Ay2*(Ay1*Mx3 + Bt1*Mz3 + Bt2*Mz4 - Bx1*My3 - Bx2*My4 + By2*Mx4 + Bz1*Mt3 + Bz2*Mt4) + Az1*(Ay1*Mt1 + Bt1*My1 + Bt2*My2 + Bx1*Mz1 + Bx2*Mz2 + By2*Mt2 - Bz1*Mx1 - Bz2*Mx2) + Az2*(Ay1*Mt3 + Bt1*My3 + Bt2*My4 + Bx1*Mz3 + Bx2*Mz4 + By2*Mt4 - Bz1*Mx3 - Bz2*Mx4), At1*(Ay1*Mt1 + Bt1*My1 + Bt2*My2 + Bx1*Mz1 + Bx2*Mz2 + By2*Mt2 - Bz1*Mx1 - Bz2*Mx2) + At2*(Ay1*Mt3 + Bt1*My3 + Bt2*My4 + Bx1*Mz3 + Bx2*Mz4 + By2*Mt4 - Bz1*Mx3 - Bz2*Mx4) + Ax1*(Ay1*Mx1 + Bt1*Mz1 + Bt2*Mz2 - Bx1*My1 - Bx2*My2 + By2*Mx2 + Bz1*Mt1 + Bz2*Mt2) + Ax2*(Ay1*Mx3 + Bt1*Mz3 + Bt2*Mz4 - Bx1*My3 - Bx2*My4 + By2*Mx4 + Bz1*Mt3 + Bz2*Mt4) - Ay1*(-Ay1*My1 + Bt1*Mt1 + Bt2*Mt2 - Bx1*Mx1 - Bx2*Mx2 - By2*My2 - Bz1*Mz1 - Bz2*Mz2) - Ay2*(-Ay1*My3 + Bt1*Mt3 + Bt2*Mt4 - Bx1*Mx3 - Bx2*Mx4 - By2*My4 - Bz1*Mz3 - Bz2*Mz4) - Az1*(-Ay1*Mz1 + Bt1*Mx1 + Bt2*Mx2 + Bx1*Mt1 + Bx2*Mt2 - By2*Mz2 + Bz1*My1 + Bz2*My2) - Az2*(-Ay1*Mz3 + Bt1*Mx3 + Bt2*Mx4 + Bx1*Mt3 + Bx2*Mt4 - By2*Mz4 + Bz1*My3 + Bz2*My4), At1*(Ay1*Mx1 + Bt1*Mz1 + Bt2*Mz2 - Bx1*My1 - Bx2*My2 + By2*Mx2 + Bz1*Mt1 + Bz2*Mt2) + At2*(Ay1*Mx3 + Bt1*Mz3 + Bt2*Mz4 - Bx1*My3 - Bx2*My4 + By2*Mx4 + Bz1*Mt3 + Bz2*Mt4) - Ax1*(Ay1*Mt1 + Bt1*My1 + Bt2*My2 + Bx1*Mz1 + Bx2*Mz2 + By2*Mt2 - Bz1*Mx1 - Bz2*Mx2) - Ax2*(Ay1*Mt3 + Bt1*My3 + Bt2*My4 + Bx1*Mz3 + Bx2*Mz4 + By2*Mt4 - Bz1*Mx3 - Bz2*Mx4) + Ay1*(-Ay1*Mz1 + Bt1*Mx1 + Bt2*Mx2 + Bx1*Mt1 + Bx2*Mt2 - By2*Mz2 + Bz1*My1 + Bz2*My2) + Ay2*(-Ay1*Mz3 + Bt1*Mx3 + Bt2*Mx4 + Bx1*Mt3 + Bx2*Mt4 - By2*Mz4 + Bz1*My3 + Bz2*My4) - Az1*(-Ay1*My1 + Bt1*Mt1 + Bt2*Mt2 - Bx1*Mx1 - Bx2*Mx2 - By2*My2 - Bz1*Mz1 - Bz2*Mz2) - Az2*(-Ay1*My3 + Bt1*Mt3 + Bt2*Mt4 - Bx1*Mx3 - Bx2*Mx4 - By2*My4 - Bz1*Mz3 - Bz2*Mz4)) a₁*xm₁xb₁+m₂xb₂+a₂*xm₃xb₁+m₄xb₂\n"
     ]
    },
    {
     "ename": "TypeError",
     "evalue": "can't convert expression to float",
     "output_type": "error",
     "traceback": [
      "\u001b[0;31m---------------------------------------------------------------------------\u001b[0m",
      "\u001b[0;31mTypeError\u001b[0m                                 Traceback (most recent call last)",
      "\u001b[0;32m<ipython-input-10-35fdb8c7f91f>\u001b[0m in \u001b[0;36m<module>\u001b[0;34m()\u001b[0m\n\u001b[1;32m      3\u001b[0m \u001b[0mAMthenB\u001b[0m\u001b[0;34m.\u001b[0m\u001b[0mprint_states\u001b[0m\u001b[0;34m(\u001b[0m\u001b[0;34m\"AMthenB\"\u001b[0m\u001b[0;34m,\u001b[0m \u001b[0;36m1\u001b[0m\u001b[0;34m)\u001b[0m\u001b[0;34m\u001b[0m\u001b[0m\n\u001b[1;32m      4\u001b[0m \u001b[0mMBthenA\u001b[0m\u001b[0;34m.\u001b[0m\u001b[0mprint_states\u001b[0m\u001b[0;34m(\u001b[0m\u001b[0;34m\"MBthenA\"\u001b[0m\u001b[0;34m)\u001b[0m\u001b[0;34m\u001b[0m\u001b[0m\n\u001b[0;32m----> 5\u001b[0;31m \u001b[0mAMthenB\u001b[0m\u001b[0;34m.\u001b[0m\u001b[0mequals\u001b[0m\u001b[0;34m(\u001b[0m\u001b[0mMBthenA\u001b[0m\u001b[0;34m)\u001b[0m\u001b[0;34m\u001b[0m\u001b[0m\n\u001b[0m",
      "\u001b[0;32m~/workspace/QM/docs/Q_tools.py\u001b[0m in \u001b[0;36mequals\u001b[0;34m(self, q1)\u001b[0m\n\u001b[1;32m   6743\u001b[0m \u001b[0;34m\u001b[0m\u001b[0m\n\u001b[1;32m   6744\u001b[0m         \u001b[0;32mfor\u001b[0m \u001b[0mselfq\u001b[0m\u001b[0;34m,\u001b[0m \u001b[0mq1q\u001b[0m \u001b[0;32min\u001b[0m \u001b[0mzip\u001b[0m\u001b[0;34m(\u001b[0m\u001b[0mself\u001b[0m\u001b[0;34m.\u001b[0m\u001b[0mqs\u001b[0m\u001b[0;34m,\u001b[0m \u001b[0mq1\u001b[0m\u001b[0;34m.\u001b[0m\u001b[0mqs\u001b[0m\u001b[0;34m)\u001b[0m\u001b[0;34m:\u001b[0m\u001b[0;34m\u001b[0m\u001b[0m\n\u001b[0;32m-> 6745\u001b[0;31m             \u001b[0;32mif\u001b[0m \u001b[0;32mnot\u001b[0m \u001b[0mselfq\u001b[0m\u001b[0;34m.\u001b[0m\u001b[0mequals\u001b[0m\u001b[0;34m(\u001b[0m\u001b[0mq1q\u001b[0m\u001b[0;34m)\u001b[0m\u001b[0;34m:\u001b[0m\u001b[0;34m\u001b[0m\u001b[0m\n\u001b[0m\u001b[1;32m   6746\u001b[0m                 \u001b[0mresult\u001b[0m \u001b[0;34m=\u001b[0m \u001b[0;32mFalse\u001b[0m\u001b[0;34m\u001b[0m\u001b[0m\n\u001b[1;32m   6747\u001b[0m \u001b[0;34m\u001b[0m\u001b[0m\n",
      "\u001b[0;32m~/workspace/QM/docs/Q_tools.py\u001b[0m in \u001b[0;36mequals\u001b[0;34m(self, q1)\u001b[0m\n\u001b[1;32m    308\u001b[0m         \u001b[0mq1_t\u001b[0m\u001b[0;34m,\u001b[0m \u001b[0mq1_x\u001b[0m\u001b[0;34m,\u001b[0m \u001b[0mq1_y\u001b[0m\u001b[0;34m,\u001b[0m \u001b[0mq1_z\u001b[0m \u001b[0;34m=\u001b[0m \u001b[0msp\u001b[0m\u001b[0;34m.\u001b[0m\u001b[0mexpand\u001b[0m\u001b[0;34m(\u001b[0m\u001b[0mq1\u001b[0m\u001b[0;34m.\u001b[0m\u001b[0mt\u001b[0m\u001b[0;34m)\u001b[0m\u001b[0;34m,\u001b[0m \u001b[0msp\u001b[0m\u001b[0;34m.\u001b[0m\u001b[0mexpand\u001b[0m\u001b[0;34m(\u001b[0m\u001b[0mq1\u001b[0m\u001b[0;34m.\u001b[0m\u001b[0mx\u001b[0m\u001b[0;34m)\u001b[0m\u001b[0;34m,\u001b[0m \u001b[0msp\u001b[0m\u001b[0;34m.\u001b[0m\u001b[0mexpand\u001b[0m\u001b[0;34m(\u001b[0m\u001b[0mq1\u001b[0m\u001b[0;34m.\u001b[0m\u001b[0my\u001b[0m\u001b[0;34m)\u001b[0m\u001b[0;34m,\u001b[0m \u001b[0msp\u001b[0m\u001b[0;34m.\u001b[0m\u001b[0mexpand\u001b[0m\u001b[0;34m(\u001b[0m\u001b[0mq1\u001b[0m\u001b[0;34m.\u001b[0m\u001b[0mz\u001b[0m\u001b[0;34m)\u001b[0m\u001b[0;34m\u001b[0m\u001b[0m\n\u001b[1;32m    309\u001b[0m \u001b[0;34m\u001b[0m\u001b[0m\n\u001b[0;32m--> 310\u001b[0;31m         \u001b[0;32mif\u001b[0m \u001b[0mmath\u001b[0m\u001b[0;34m.\u001b[0m\u001b[0misclose\u001b[0m\u001b[0;34m(\u001b[0m\u001b[0mself_t\u001b[0m\u001b[0;34m,\u001b[0m \u001b[0mq1_t\u001b[0m\u001b[0;34m)\u001b[0m \u001b[0;32mand\u001b[0m \u001b[0mmath\u001b[0m\u001b[0;34m.\u001b[0m\u001b[0misclose\u001b[0m\u001b[0;34m(\u001b[0m\u001b[0mself_x\u001b[0m\u001b[0;34m,\u001b[0m \u001b[0mq1_x\u001b[0m\u001b[0;34m)\u001b[0m \u001b[0;32mand\u001b[0m \u001b[0mmath\u001b[0m\u001b[0;34m.\u001b[0m\u001b[0misclose\u001b[0m\u001b[0;34m(\u001b[0m\u001b[0mself_y\u001b[0m\u001b[0;34m,\u001b[0m \u001b[0mq1_y\u001b[0m\u001b[0;34m)\u001b[0m \u001b[0;32mand\u001b[0m \u001b[0mmath\u001b[0m\u001b[0;34m.\u001b[0m\u001b[0misclose\u001b[0m\u001b[0;34m(\u001b[0m\u001b[0mself_z\u001b[0m\u001b[0;34m,\u001b[0m \u001b[0mq1_z\u001b[0m\u001b[0;34m)\u001b[0m\u001b[0;34m:\u001b[0m\u001b[0;34m\u001b[0m\u001b[0m\n\u001b[0m\u001b[1;32m    311\u001b[0m             \u001b[0;32mreturn\u001b[0m \u001b[0;32mTrue\u001b[0m\u001b[0;34m\u001b[0m\u001b[0m\n\u001b[1;32m    312\u001b[0m \u001b[0;34m\u001b[0m\u001b[0m\n",
      "\u001b[0;32m/Library/anaconda/lib/python3.5/site-packages/sympy/core/expr.py\u001b[0m in \u001b[0;36m__float__\u001b[0;34m(self)\u001b[0m\n\u001b[1;32m    224\u001b[0m         \u001b[0;32mif\u001b[0m \u001b[0mresult\u001b[0m\u001b[0;34m.\u001b[0m\u001b[0mis_number\u001b[0m \u001b[0;32mand\u001b[0m \u001b[0mresult\u001b[0m\u001b[0;34m.\u001b[0m\u001b[0mas_real_imag\u001b[0m\u001b[0;34m(\u001b[0m\u001b[0;34m)\u001b[0m\u001b[0;34m[\u001b[0m\u001b[0;36m1\u001b[0m\u001b[0;34m]\u001b[0m\u001b[0;34m:\u001b[0m\u001b[0;34m\u001b[0m\u001b[0m\n\u001b[1;32m    225\u001b[0m             \u001b[0;32mraise\u001b[0m \u001b[0mTypeError\u001b[0m\u001b[0;34m(\u001b[0m\u001b[0;34m\"can't convert complex to float\"\u001b[0m\u001b[0;34m)\u001b[0m\u001b[0;34m\u001b[0m\u001b[0m\n\u001b[0;32m--> 226\u001b[0;31m         \u001b[0;32mraise\u001b[0m \u001b[0mTypeError\u001b[0m\u001b[0;34m(\u001b[0m\u001b[0;34m\"can't convert expression to float\"\u001b[0m\u001b[0;34m)\u001b[0m\u001b[0;34m\u001b[0m\u001b[0m\n\u001b[0m\u001b[1;32m    227\u001b[0m \u001b[0;34m\u001b[0m\u001b[0m\n\u001b[1;32m    228\u001b[0m     \u001b[0;32mdef\u001b[0m \u001b[0m__complex__\u001b[0m\u001b[0;34m(\u001b[0m\u001b[0mself\u001b[0m\u001b[0;34m)\u001b[0m\u001b[0;34m:\u001b[0m\u001b[0;34m\u001b[0m\u001b[0m\n",
      "\u001b[0;31mTypeError\u001b[0m: can't convert expression to float"
     ]
    }
   ],
   "source": [
    "AMthenB = A.Euclidean_product(\"bra\", operator=M).Euclidean_product(\"bra\", ket=B)\n",
    "MBthenA = B.Euclidean_product(\"ket\", operator=M).Euclidean_product(\"ket\", bra=A)\n",
    "AMthenB.print_state(\"AMthenB\", 1)\n",
    "MBthenA.print_state(\"MBthenA\")"
   ]
  },
  {
   "cell_type": "code",
   "execution_count": 12,
   "metadata": {},
   "outputs": [
    {
     "name": "stdout",
     "output_type": "stream",
     "text": [
      "A\n",
      "n=1: (1, 2, 3, 4) a₁\n",
      "n=2: (1, 2, 1, 2) a₂\n",
      "sum= (2, 4, 4, 6) a₁+a₂\n",
      "\n",
      "B\n",
      "n=1: (3, 2, 1, 0) b₁\n",
      "n=2: (1, 2, -1, -2) b₂\n",
      "sum= (4, 4, 0, -2) b₁+b₂\n",
      "\n",
      "M\n",
      "n=1: (3, 7, 3, 5) m₁\n",
      "n=2: (3, 2, 2, -1) m₂\n",
      "n=3: (3, 2, 1, 1) m₃\n",
      "n=4: (2, 1, 1, 4) m₄\n",
      "sum= (11, 12, 7, 9) m₁+m₂+m₃+m₄\n",
      "\n",
      "AMdaggerthenB\n",
      "n=1: (-162, -48, 8, 142) a₁*xm₁*+a₂*xm₂**xb₁\n",
      "n=2: (20, -24, 102, 20) a₁*xm₃*+a₂*xm₄**xb₂\n",
      "sum= (-142, -72, 110, 162) a₁*xm₁*+a₂*xm₂**xb₁+a₁*xm₃*+a₂*xm₄**xb₂\n",
      "\n",
      "MBthenA\n",
      "n=1: (122, 126, -44, 68) a₁*xm₁xb₁+m₂xb₂\n",
      "n=2: (66, 26, -32, -42) a₂*xm₃xb₁+m₄xb₂\n",
      "sum= (188, 152, -76, 26) a₁*xm₁xb₁+m₂xb₂+a₂*xm₃xb₁+m₄xb₂\n"
     ]
    }
   ],
   "source": [
    "At1, Ax1, Ay1, Az1 = sp.symbols(\"At1 Ax1 Ay1 Az1\")\n",
    "At2, Ax2, Ay2, Az2 = sp.symbols(\"At2 Ax2 Ay2 Az2\")\n",
    "Aq1 = qt.QH([1,2, 3, 4], qtype=\"a₁\")\n",
    "Aq2 = qt.QH([1, 2, 1, 2], qtype=\"a₂\")\n",
    "A = qt.QHStates([Aq1, Aq2])\n",
    "A.print_state(\"A\", 1)\n",
    "\n",
    "Bt1, Bx1, By1, Bz1 = sp.symbols(\"Bt1 Bx1 Ay1 Bz1\")\n",
    "Bt2, Bx2, By2, Bz2 = sp.symbols(\"Bt2 Bx2 By2 Bz2\")\n",
    "Bq1 = qt.QH([3, 2, 1, 0], qtype=\"b₁\")\n",
    "Bq2 = qt.QH([1,2,-1,-2], qtype=\"b₂\")\n",
    "B = qt.QHStates([Bq1, Bq2])\n",
    "B.print_state(\"B\", 1)\n",
    "\n",
    "Mt1, Mx1, My1, Mz1 = sp.symbols(\"Mt1 Mx1 My1 Mz1\")\n",
    "Mt2, Mx2, My2, Mz2 = sp.symbols(\"Mt2 Mx2 My2 Mz2\")\n",
    "Mt3, Mx3, My3, Mz3 = sp.symbols(\"Mt3 Mx3 My3 Mz3\")\n",
    "Mt4, Mx4, My4, Mz4 = sp.symbols(\"Mt4 Mx4 My4 Mz4\")\n",
    "Mq1 = qt.QH([3,7,3,5], qtype=\"m₁\")\n",
    "Mq2 = qt.QH([3, 2, 2, -1], qtype=\"m₂\")\n",
    "Mq3 = qt.QH([3,2,1,1], qtype=\"m₃\")\n",
    "Mq4 = qt.QH([2, 1, 1, 4], qtype=\"m₄\")\n",
    "\n",
    "M = qt.QHStates([Mq1, Mq2, Mq3, Mq4])\n",
    "M.print_state(\"M\", 1)\n",
    "\n",
    "AMdaggerthenB = A.Euclidean_product(\"bra\", operator=M.dagger()).Euclidean_product(\"bra\", ket=B)\n",
    "MBthenA = B.Euclidean_product(\"ket\", operator=M).Euclidean_product(\"ket\", bra=A)\n",
    "AMdaggerthenB.print_state(\"AMdaggerthenB\", 1)\n",
    "MBthenA.print_state(\"MBthenA\")"
   ]
  },
  {
   "cell_type": "markdown",
   "metadata": {},
   "source": [
    "FAIL."
   ]
  },
  {
   "cell_type": "code",
   "execution_count": null,
   "metadata": {},
   "outputs": [],
   "source": []
  }
 ],
 "metadata": {
  "kernelspec": {
   "display_name": "Python 3",
   "language": "python",
   "name": "python3"
  },
  "language_info": {
   "codemirror_mode": {
    "name": "ipython",
    "version": 3
   },
   "file_extension": ".py",
   "mimetype": "text/x-python",
   "name": "python",
   "nbconvert_exporter": "python",
   "pygments_lexer": "ipython3",
   "version": "3.6.7"
  }
 },
 "nbformat": 4,
 "nbformat_minor": 2
}
