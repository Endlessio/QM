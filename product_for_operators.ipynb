{
 "cells": [
  {
   "cell_type": "markdown",
   "metadata": {},
   "source": [
    "# Lecture N:"
   ]
  },
  {
   "cell_type": "markdown",
   "metadata": {},
   "source": [
    "Load the needed libraries."
   ]
  },
  {
   "cell_type": "code",
   "execution_count": 2,
   "metadata": {},
   "outputs": [],
   "source": [
    "%%capture\n",
    "%matplotlib inline\n",
    "import numpy as np\n",
    "import sympy as sp\n",
    "import matplotlib.pyplot as plt\n",
    "import math\n",
    "import copy\n",
    "import pprint\n",
    "\n",
    "# To get equations the look like, well, equations, use the following.\n",
    "from sympy.interactive import printing\n",
    "printing.init_printing(use_latex=True)\n",
    "from IPython.display import display\n",
    "\n",
    "# Tools for manipulating quaternions.\n",
    "import Q_tools as qt;\n",
    "\n",
    "from IPython.core.display import display, HTML, Math, Latex\n",
    "display(HTML(\"<style>.container { width:100% !important; }</style>\"))"
   ]
  },
  {
   "cell_type": "code",
   "execution_count": 3,
   "metadata": {},
   "outputs": [
    {
     "name": "stdout",
     "output_type": "stream",
     "text": [
      "/Users/doug/workspace/QM/docs\r\n"
     ]
    }
   ],
   "source": [
    "!pwd"
   ]
  },
  {
   "cell_type": "code",
   "execution_count": 28,
   "metadata": {},
   "outputs": [],
   "source": [
    "def product(self, product_type, bra=None, ket=None, operator=None, kind=\"\", reverse=False):\n",
    "    \"\"\"Forms the quaternion product for each state.\"\"\"\n",
    "        \n",
    "    if product_type == 'bra':\n",
    "        bra = self\n",
    "    elif product_type == 'ket':\n",
    "        ket = self\n",
    "    elif product_type == 'operator':\n",
    "        if operator is None:\n",
    "            operator = self\n",
    "    else:\n",
    "        print(\"Oops, need to set product_type to bra, ket, or operator.\")\n",
    "        return None\n",
    "        \n",
    "    def _is_square(n):\n",
    "        return n**0.5 == int(n**0.5)\n",
    "    \n",
    "    def _check_dimensions(op_dim=0, state_1_dim=0, state_2_dim=0, equals=False):\n",
    "        \"\"\"Make sure the states and operators are the right sizes. The operator dimension is either\n",
    "               equal to 1 or the product of the bra and ket dimensions.\"\"\"\n",
    "\n",
    "        oops = ''\n",
    "            \n",
    "        if equals:\n",
    "            if state_1_dim != state_2_dim:\n",
    "                oops = \"states have different dimensions: {} != {}\".format(state_1_dim, state_2_dim)\n",
    "                    \n",
    "        elif state_2_dim == 0:\n",
    "            if (op_dim % state_1_dim != 0) and (op_dim != 1):\n",
    "                oops = \"Operator dimensions don't divide nicely by the state vector: {} % {}\".format(\n",
    "                    op_dim, state_1_dim)\n",
    "                    \n",
    "        else:\n",
    "            if (op_dim != state_1_dim * state_2_dim) and (op_dim == 1 and (state_1_dim != state_2_dim)):\n",
    "                oops = \"Operator dimensions do not equal the product of the states: {} != {} * {}\".format(\n",
    "                   op_dim, state_1_dim, state_2_dim)\n",
    "                    \n",
    "        if oops:\n",
    "            print(oops)\n",
    "            return False\n",
    "            \n",
    "        else:\n",
    "            return True\n",
    "        \n",
    "    new_states = []\n",
    "    dot_product_flag = False\n",
    "        \n",
    "    if bra is None and operator is None:\n",
    "        return ket\n",
    "        \n",
    "    elif ket is None and operator is None:\n",
    "        return bra\n",
    "        \n",
    "    # Op Op\n",
    "    elif bra is None and ket is None and operator:\n",
    "\n",
    "        # For now, operator multiplication works only on square matrices of equal size.\n",
    "        # It should be possible to multiply quaternion series whose dimensions share\n",
    "        # a common factor, but implimenting that would require more effort than I want to do now.        print(\"Op op\")\n",
    "        \n",
    "        if self.dim == operator.dim:\n",
    "            \n",
    "            if _is_square(self.dim):\n",
    "                \n",
    "                shared_size = int(self.dim**0.5)\n",
    "                outer_size_1 = shared_size\n",
    "                outer_size_2 = shared_size\n",
    "            else:\n",
    "                shared_size = 1\n",
    "                outer_size_1 = self.dim\n",
    "                outer_size_2 = operator.dim\n",
    "        \n",
    "        else:\n",
    "            print(\"Oops, only can dea with square operators for now.\")\n",
    "            return None\n",
    "            \n",
    "        print(\"shared_size\", shared_size)\n",
    "        print(\"outer_size_1\", outer_size_1)\n",
    "        print(\"outer_size_2\", outer_size_2)\n",
    "        # op_chunk_1 = [self.qs[x:x+outer_size_1] for x in range(0, self.dim, outer_size_1)]\n",
    "        op_chunk_1 = [self.qs[x:x+shared_size] for x in range(0, self.dim)]\n",
    "        op_chunk_2 = [operator.qs[x:x+shared_size] for x in range(0, operator.dim)]\n",
    "        \n",
    "        for op_c_1 in op_chunk_1:\n",
    "            print(\"a 1 chunk\")\n",
    "            \n",
    "            for op_c in op_c_1:\n",
    "                print(\"q: \", op_c)\n",
    "                \n",
    "        for op_c_2 in op_chunk_2:\n",
    "            print(\"a 2 chunk\")\n",
    "            \n",
    "            for op_c in op_c_2:\n",
    "                print(\"q: \", op_c)\n",
    "                \n",
    "        # Put in zeros.\n",
    "        result = [[qt.QH().q_0()] * outer_size_1] * outer_size_2\n",
    "        \n",
    "        print(\"i max: \", len(op_chunk_1))\n",
    "        print(\"j max: \", len(op_chunk_2[0]))\n",
    "        print(\"k max: \", len(op_chunk_2))\n",
    "\n",
    "                \n",
    "        for i in range(len(op_chunk_1)):\n",
    "   \n",
    "            # iterate through columns of Y\n",
    "            for j in range(len(op_chunk_2[0])):\n",
    "                   \n",
    "                # iterate through rows of Y\n",
    "                for k in range(len(op_chunk_2)):\n",
    "                            \n",
    "                    result[i][j] = result[i][j].add(op_chunk_1[i][k].product(op_chunk_2[k][j]))\n",
    "        \n",
    "        new_states = [item for sublist in result for item in sublist]\n",
    "                \n",
    "\n",
    "    # <A|B>                                                     \n",
    "    elif operator is None:\n",
    "        if _check_dimensions(state_1_dim=bra.dim, state_2_dim=ket.dim, equals=True):\n",
    "            dot_product_flag = True\n",
    "                \n",
    "            for b, k in zip(bra.qs, ket.qs):\n",
    "                new_states.append(b.product(k, kind, reverse))\n",
    "            \n",
    "    # Op|B>\n",
    "    elif bra is None:\n",
    "        if _check_dimensions(op_dim=operator.dim, state_1_dim=ket.dim):\n",
    "            if operator.dim == 1:\n",
    "                one_diagonal = operator.diagonal(ket.dim)                    \n",
    "                opb = one_diagonal.qs\n",
    "\n",
    "            else:\n",
    "                opb = operator.qs\n",
    "                        \n",
    "            for ops in zip(*[iter(opb)] * ket.dim):\n",
    "                ok = None\n",
    "                    \n",
    "                for op, k in zip(ops, ket.qs): \n",
    "                    if ok is None:\n",
    "                        ok = op.product(k, kind, reverse)\n",
    "                    else:\n",
    "                        ok = ok.add(op.product(k, kind, reverse))\n",
    "                            \n",
    "                new_states.append(ok)\n",
    "\n",
    "    # <A|Op\n",
    "    elif ket is None:\n",
    "        if _check_dimensions(op_dim=operator.dim, state_1_dim=bra.dim):\n",
    "            # Operator needs to be transposed.\n",
    "            opt = operator.transpose(bra.dim)\n",
    "                \n",
    "            if operator.dim == 1:\n",
    "                one_diagonal = operator.diagonal(bra.dim)                    \n",
    "                aop = one_diagonal.qs\n",
    "\n",
    "            else:\n",
    "                aop = opt.qs\n",
    "                        \n",
    "            for ops in zip(*[iter(aop)]*bra.dim):\n",
    "                bop = None\n",
    "                    \n",
    "                for b, op in zip(bra.qs, ops):\n",
    "                    if bop is None:\n",
    "                        bop = b.product(op, kind, reverse)\n",
    "                    else:\n",
    "                        bop = bop.add(b.product(op, kind, reverse))\n",
    "                            \n",
    "                new_states.append(bop)\n",
    "\n",
    "    # <A|Op|B>\n",
    "    else:\n",
    "        if _check_dimensions(op_dim=operator.dim, state_1_dim=bra.dim, state_2_dim=ket.dim):\n",
    "            dot_product_flag = True\n",
    "            new_ket = []\n",
    "                \n",
    "            if operator.dim == 1:\n",
    "                one_diagonal = operator.diagonal(ket.dim)                    \n",
    "                opb = one_diagonal.qs\n",
    "\n",
    "            else:\n",
    "                opb = operator.qs                                             \n",
    "                                                             \n",
    "            for ops in zip(*[iter(opb)]*ket.dim):\n",
    "                ok = None\n",
    "                    \n",
    "                for op, k in zip(ops, ket.qs): \n",
    "                    if ok is None:\n",
    "                        ok = op.product(k, kind, reverse)\n",
    "                    else:\n",
    "                        ok = ok.add(op.product(k, kind, reverse))\n",
    "                    \n",
    "            new_ket.append(ok)   \n",
    "                \n",
    "            new_ket_state = qt.QHStates(new_ket)\n",
    "                    \n",
    "            for b, k in zip(bra.qs, new_ket_state.qs):\n",
    "                new_states.append(b.product(k, kind, reverse))\n",
    "              \n",
    "    # Return either the dot product or a new quaternion series.\n",
    "    if dot_product_flag:\n",
    "        dot_product = new_states.pop(0)\n",
    "                \n",
    "        for new_state in new_states:\n",
    "            dot_product = dot_product.add(new_state)\n",
    "                \n",
    "        return dot_product\n",
    "        \n",
    "    else:\n",
    "        return qt.QHStates(new_states)"
   ]
  },
  {
   "cell_type": "code",
   "execution_count": 29,
   "metadata": {},
   "outputs": [
    {
     "name": "stdout",
     "output_type": "stream",
     "text": [
      "shared_size 1\n",
      "outer_size_1 3\n",
      "outer_size_2 3\n",
      "a 1 chunk\n",
      "q:  (1, 0, 0, 0) Q\n",
      "a 1 chunk\n",
      "q:  (2, 0, 0, 0) Q\n",
      "a 1 chunk\n",
      "q:  (3, 0, 0, 0) Q\n",
      "a 2 chunk\n",
      "q:  (4, 0, 0, 0) Q\n",
      "a 2 chunk\n",
      "q:  (5, 0, 0, 0) Q\n",
      "a 2 chunk\n",
      "q:  (6, 0, 0, 0) Q\n",
      "i max:  3\n",
      "j max:  1\n",
      "k max:  3\n"
     ]
    },
    {
     "ename": "IndexError",
     "evalue": "list index out of range",
     "output_type": "error",
     "traceback": [
      "\u001b[0;31m---------------------------------------------------------------------------\u001b[0m",
      "\u001b[0;31mIndexError\u001b[0m                                Traceback (most recent call last)",
      "\u001b[0;32m<ipython-input-29-8a2781f2d8f6>\u001b[0m in \u001b[0;36m<module>\u001b[0;34m()\u001b[0m\n\u001b[1;32m      2\u001b[0m \u001b[0mq456\u001b[0m \u001b[0;34m=\u001b[0m \u001b[0mqt\u001b[0m\u001b[0;34m.\u001b[0m\u001b[0mQHStates\u001b[0m\u001b[0;34m(\u001b[0m\u001b[0;34m[\u001b[0m\u001b[0mqt\u001b[0m\u001b[0;34m.\u001b[0m\u001b[0mQH\u001b[0m\u001b[0;34m(\u001b[0m\u001b[0;34m[\u001b[0m\u001b[0;36m4\u001b[0m\u001b[0;34m,\u001b[0m \u001b[0;36m0\u001b[0m\u001b[0;34m,\u001b[0m \u001b[0;36m0\u001b[0m\u001b[0;34m,\u001b[0m \u001b[0;36m0\u001b[0m\u001b[0;34m]\u001b[0m\u001b[0;34m)\u001b[0m\u001b[0;34m,\u001b[0m\u001b[0mqt\u001b[0m\u001b[0;34m.\u001b[0m\u001b[0mQH\u001b[0m\u001b[0;34m(\u001b[0m\u001b[0;34m[\u001b[0m\u001b[0;36m5\u001b[0m\u001b[0;34m,\u001b[0m \u001b[0;36m0\u001b[0m\u001b[0;34m,\u001b[0m \u001b[0;36m0\u001b[0m\u001b[0;34m,\u001b[0m \u001b[0;36m0\u001b[0m\u001b[0;34m]\u001b[0m\u001b[0;34m)\u001b[0m\u001b[0;34m,\u001b[0m\u001b[0mqt\u001b[0m\u001b[0;34m.\u001b[0m\u001b[0mQH\u001b[0m\u001b[0;34m(\u001b[0m\u001b[0;34m[\u001b[0m\u001b[0;36m6\u001b[0m\u001b[0;34m,\u001b[0m \u001b[0;36m0\u001b[0m\u001b[0;34m,\u001b[0m \u001b[0;36m0\u001b[0m\u001b[0;34m,\u001b[0m \u001b[0;36m0\u001b[0m\u001b[0;34m]\u001b[0m\u001b[0;34m)\u001b[0m\u001b[0;34m]\u001b[0m\u001b[0;34m)\u001b[0m\u001b[0;34m\u001b[0m\u001b[0m\n\u001b[1;32m      3\u001b[0m \u001b[0;34m\u001b[0m\u001b[0m\n\u001b[0;32m----> 4\u001b[0;31m \u001b[0mq_prod\u001b[0m \u001b[0;34m=\u001b[0m \u001b[0mproduct\u001b[0m\u001b[0;34m(\u001b[0m\u001b[0mq123\u001b[0m\u001b[0;34m,\u001b[0m \u001b[0;34m\"operator\"\u001b[0m\u001b[0;34m,\u001b[0m \u001b[0moperator\u001b[0m\u001b[0;34m=\u001b[0m\u001b[0mq456\u001b[0m\u001b[0;34m)\u001b[0m\u001b[0;34m\u001b[0m\u001b[0m\n\u001b[0m\u001b[1;32m      5\u001b[0m \u001b[0;34m\u001b[0m\u001b[0m\n\u001b[1;32m      6\u001b[0m \u001b[0mq_prod\u001b[0m\u001b[0;34m.\u001b[0m\u001b[0mprint_state\u001b[0m\u001b[0;34m(\u001b[0m\u001b[0;34m\"q123 q456 9\"\u001b[0m\u001b[0;34m,\u001b[0m \u001b[0mquiet\u001b[0m\u001b[0;34m=\u001b[0m\u001b[0;32mTrue\u001b[0m\u001b[0;34m)\u001b[0m\u001b[0;34m\u001b[0m\u001b[0m\n",
      "\u001b[0;32m<ipython-input-28-c044e0adeb5f>\u001b[0m in \u001b[0;36mproduct\u001b[0;34m(self, product_type, bra, ket, operator, kind, reverse)\u001b[0m\n\u001b[1;32m    110\u001b[0m                 \u001b[0;32mfor\u001b[0m \u001b[0mk\u001b[0m \u001b[0;32min\u001b[0m \u001b[0mrange\u001b[0m\u001b[0;34m(\u001b[0m\u001b[0mlen\u001b[0m\u001b[0;34m(\u001b[0m\u001b[0mop_chunk_2\u001b[0m\u001b[0;34m)\u001b[0m\u001b[0;34m)\u001b[0m\u001b[0;34m:\u001b[0m\u001b[0;34m\u001b[0m\u001b[0m\n\u001b[1;32m    111\u001b[0m \u001b[0;34m\u001b[0m\u001b[0m\n\u001b[0;32m--> 112\u001b[0;31m                     \u001b[0mresult\u001b[0m\u001b[0;34m[\u001b[0m\u001b[0mi\u001b[0m\u001b[0;34m]\u001b[0m\u001b[0;34m[\u001b[0m\u001b[0mj\u001b[0m\u001b[0;34m]\u001b[0m \u001b[0;34m=\u001b[0m \u001b[0mresult\u001b[0m\u001b[0;34m[\u001b[0m\u001b[0mi\u001b[0m\u001b[0;34m]\u001b[0m\u001b[0;34m[\u001b[0m\u001b[0mj\u001b[0m\u001b[0;34m]\u001b[0m\u001b[0;34m.\u001b[0m\u001b[0madd\u001b[0m\u001b[0;34m(\u001b[0m\u001b[0mop_chunk_1\u001b[0m\u001b[0;34m[\u001b[0m\u001b[0mi\u001b[0m\u001b[0;34m]\u001b[0m\u001b[0;34m[\u001b[0m\u001b[0mk\u001b[0m\u001b[0;34m]\u001b[0m\u001b[0;34m.\u001b[0m\u001b[0mproduct\u001b[0m\u001b[0;34m(\u001b[0m\u001b[0mop_chunk_2\u001b[0m\u001b[0;34m[\u001b[0m\u001b[0mk\u001b[0m\u001b[0;34m]\u001b[0m\u001b[0;34m[\u001b[0m\u001b[0mj\u001b[0m\u001b[0;34m]\u001b[0m\u001b[0;34m)\u001b[0m\u001b[0;34m)\u001b[0m\u001b[0;34m\u001b[0m\u001b[0m\n\u001b[0m\u001b[1;32m    113\u001b[0m \u001b[0;34m\u001b[0m\u001b[0m\n\u001b[1;32m    114\u001b[0m         \u001b[0mnew_states\u001b[0m \u001b[0;34m=\u001b[0m \u001b[0;34m[\u001b[0m\u001b[0mitem\u001b[0m \u001b[0;32mfor\u001b[0m \u001b[0msublist\u001b[0m \u001b[0;32min\u001b[0m \u001b[0mresult\u001b[0m \u001b[0;32mfor\u001b[0m \u001b[0mitem\u001b[0m \u001b[0;32min\u001b[0m \u001b[0msublist\u001b[0m\u001b[0;34m]\u001b[0m\u001b[0;34m\u001b[0m\u001b[0m\n",
      "\u001b[0;31mIndexError\u001b[0m: list index out of range"
     ]
    }
   ],
   "source": [
    "q123 = qt.QHStates([qt.QH([1, 0, 0, 0]),qt.QH([2, 0, 0, 0]),qt.QH([3, 0, 0, 0])])\n",
    "q456 = qt.QHStates([qt.QH([4, 0, 0, 0]),qt.QH([5, 0, 0, 0]),qt.QH([6, 0, 0, 0])])\n",
    "\n",
    "q_prod = product(q123, \"operator\", operator=q456)\n",
    "    \n",
    "q_prod.print_state(\"q123 q456 9\", quiet=True)"
   ]
  },
  {
   "cell_type": "code",
   "execution_count": 14,
   "metadata": {},
   "outputs": [
    {
     "name": "stdout",
     "output_type": "stream",
     "text": [
      "q\n",
      "n=1: (1, -1, 3, 1) Q\n",
      "n=2: (-1, 2, 0, 1) Q\n",
      "\n",
      "q\n",
      "n=1: (2, -2, 4, 4) Q\n",
      "n=2: (-2, 4, 1, 2) Q\n",
      "\n",
      "q\n",
      "n=1: (3, -3, 5, 9) Q\n",
      "n=2: (-3, 6, 2, 3) Q\n",
      "\n"
     ]
    }
   ],
   "source": [
    "q3_orig = []\n",
    "\n",
    "for i in range(1, 4):\n",
    "    q3_orig.append(qt.QHStates([qt.QH([i, -i, i+2, i**2]), qt.QH([-i, 2 * i, i-1, i])]))\n",
    "\n",
    "for q in q3_orig:\n",
    "    q.print_state(\"q\", 1, 1)\n",
    "    \n",
    "q3 = copy.deepcopy(q3_orig)"
   ]
  },
  {
   "cell_type": "code",
   "execution_count": 15,
   "metadata": {},
   "outputs": [
    {
     "name": "stdout",
     "output_type": "stream",
     "text": [
      "Product of two operators and a ket is a quaternion series, q1 q2|q3>\n",
      "n=1: (-168, 128, -104, -64) QxQxQ+0xQ+0x0xQ+QxQ\n",
      "n=2: (86, -20, 2, -30) 0xQxQ+0xQ+Qx0xQ+QxQ\n"
     ]
    }
   ],
   "source": [
    "q3 = copy.deepcopy(q3_orig)\n",
    "\n",
    "q_prod = q3.pop()\n",
    "\n",
    "for q in reversed(q3):\n",
    "    q_prod = product(q_prod, \"ket\", operator=q.diagonal(2))\n",
    "    \n",
    "q_prod.print_state(\"Product of two operators and a ket is a quaternion series, q1 q2|q3>\", quiet=True)"
   ]
  },
  {
   "cell_type": "code",
   "execution_count": 6,
   "metadata": {},
   "outputs": [
    {
     "name": "stdout",
     "output_type": "stream",
     "text": [
      "q0d\n",
      "n=1: (1, -1, 3, 1) Q\n",
      "n=2: (0, 0, 0, 0) 0\n",
      "n=3: (0, 0, 0, 0) 0\n",
      "n=4: (-1, 2, 0, 1) Q\n",
      "sum= (0, 1, 3, 2) Q+0+0+Q\n",
      "q1d\n",
      "n=1: (2, -2, 4, 4) Q\n",
      "n=2: (0, 0, 0, 0) 0\n",
      "n=3: (0, 0, 0, 0) 0\n",
      "n=4: (-2, 4, 1, 2) Q\n",
      "sum= (0, 2, 5, 6) Q+0+0+Q\n",
      "operator 0 * 1\n",
      "n=1: (-16, 4, 12, 8) 0+QxQ+0x0+0xQ+Qx0\n",
      "n=2: (-8, -9, -1, -2) 0+Qx0+0xQ+0x0+QxQ\n",
      "n=3: (-16, 4, 12, 8) 0+QxQ+0x0+0xQ+Qx0\n",
      "n=4: (-8, -9, -1, -2) 0+Qx0+0xQ+0x0+QxQ\n",
      "sum= (-48, -10, 22, 12) 0+QxQ+0x0+0xQ+Qx0+0+Qx0+0xQ+0x0+QxQ+0+QxQ+0x0+0xQ+Qx0+0+Qx0+0xQ+0x0+QxQ\n"
     ]
    }
   ],
   "source": [
    "q3 = copy.deepcopy(q3_orig)\n",
    "q0d = q3[0].diagonal(2)\n",
    "q0d.print_state(\"q0d\")\n",
    "q1d = q3[1].diagonal(2)\n",
    "q1d.print_state(\"q1d\")\n",
    "op01 = product(q0d, \"operator\", operator=q1d)\n",
    "op01.print_state(\"operator 0 * 1\")"
   ]
  },
  {
   "cell_type": "code",
   "execution_count": 7,
   "metadata": {},
   "outputs": [
    {
     "name": "stdout",
     "output_type": "stream",
     "text": [
      "(-16, 4, 12, 8) QxQ\n"
     ]
    }
   ],
   "source": [
    "print(qt.QH([1,-1,3,1]).product(qt.QH([2,-2,4,4])))"
   ]
  },
  {
   "cell_type": "code",
   "execution_count": 8,
   "metadata": {},
   "outputs": [
    {
     "name": "stdout",
     "output_type": "stream",
     "text": [
      "(-16, 4, 12, 8) QxQ\n"
     ]
    }
   ],
   "source": [
    "print(qt.QH([1,-1,3,1]).product(qt.QH([2,-2,4,4])))"
   ]
  },
  {
   "cell_type": "code",
   "execution_count": 9,
   "metadata": {},
   "outputs": [
    {
     "name": "stdout",
     "output_type": "stream",
     "text": [
      "operator one state\n",
      "n=1: (-16, 4, 12, 8) 0+QxQ\n",
      "sum= (-16, 4, 12, 8) 0+QxQ\n"
     ]
    }
   ],
   "source": [
    "op1 = product(qt.QHStates([qt.QH([1,-1,3,1])]), \"operator\", operator=qt.QHStates([qt.QH([2,-2,4,4])]))\n",
    "op1.print_state(\"operator one state\")"
   ]
  },
  {
   "cell_type": "code",
   "execution_count": 10,
   "metadata": {},
   "outputs": [
    {
     "name": "stdout",
     "output_type": "stream",
     "text": [
      "Oops, only can dea with square operators for now.\n"
     ]
    },
    {
     "ename": "AttributeError",
     "evalue": "'NoneType' object has no attribute 'print_state'",
     "output_type": "error",
     "traceback": [
      "\u001b[0;31m---------------------------------------------------------------------------\u001b[0m",
      "\u001b[0;31mAttributeError\u001b[0m                            Traceback (most recent call last)",
      "\u001b[0;32m<ipython-input-10-2f183fe8ed2c>\u001b[0m in \u001b[0;36m<module>\u001b[0;34m()\u001b[0m\n\u001b[1;32m      1\u001b[0m \u001b[0mop1\u001b[0m \u001b[0;34m=\u001b[0m \u001b[0mproduct\u001b[0m\u001b[0;34m(\u001b[0m\u001b[0mqt\u001b[0m\u001b[0;34m.\u001b[0m\u001b[0mQHStates\u001b[0m\u001b[0;34m(\u001b[0m\u001b[0;34m[\u001b[0m\u001b[0mqt\u001b[0m\u001b[0;34m.\u001b[0m\u001b[0mQH\u001b[0m\u001b[0;34m(\u001b[0m\u001b[0;34m[\u001b[0m\u001b[0;36m1\u001b[0m\u001b[0;34m,\u001b[0m\u001b[0;34m-\u001b[0m\u001b[0;36m1\u001b[0m\u001b[0;34m,\u001b[0m\u001b[0;36m3\u001b[0m\u001b[0;34m,\u001b[0m\u001b[0;36m1\u001b[0m\u001b[0;34m]\u001b[0m\u001b[0;34m)\u001b[0m\u001b[0;34m,\u001b[0m \u001b[0mqt\u001b[0m\u001b[0;34m.\u001b[0m\u001b[0mQH\u001b[0m\u001b[0;34m(\u001b[0m\u001b[0;34m[\u001b[0m\u001b[0;36m2\u001b[0m\u001b[0;34m,\u001b[0m\u001b[0;36m0\u001b[0m\u001b[0;34m,\u001b[0m\u001b[0;36m0\u001b[0m\u001b[0;34m,\u001b[0m\u001b[0;36m0\u001b[0m\u001b[0;34m]\u001b[0m\u001b[0;34m)\u001b[0m\u001b[0;34m]\u001b[0m\u001b[0;34m)\u001b[0m\u001b[0;34m,\u001b[0m \u001b[0;34m\"operator\"\u001b[0m\u001b[0;34m,\u001b[0m \u001b[0moperator\u001b[0m\u001b[0;34m=\u001b[0m\u001b[0mqt\u001b[0m\u001b[0;34m.\u001b[0m\u001b[0mQHStates\u001b[0m\u001b[0;34m(\u001b[0m\u001b[0;34m[\u001b[0m\u001b[0mqt\u001b[0m\u001b[0;34m.\u001b[0m\u001b[0mQH\u001b[0m\u001b[0;34m(\u001b[0m\u001b[0;34m[\u001b[0m\u001b[0;36m2\u001b[0m\u001b[0;34m,\u001b[0m\u001b[0;34m-\u001b[0m\u001b[0;36m2\u001b[0m\u001b[0;34m,\u001b[0m\u001b[0;36m4\u001b[0m\u001b[0;34m,\u001b[0m\u001b[0;36m4\u001b[0m\u001b[0;34m]\u001b[0m\u001b[0;34m)\u001b[0m\u001b[0;34m]\u001b[0m\u001b[0;34m)\u001b[0m\u001b[0;34m)\u001b[0m\u001b[0;34m\u001b[0m\u001b[0m\n\u001b[0;32m----> 2\u001b[0;31m \u001b[0mop1\u001b[0m\u001b[0;34m.\u001b[0m\u001b[0mprint_state\u001b[0m\u001b[0;34m(\u001b[0m\u001b[0;34m\"operator 2x1 one state\"\u001b[0m\u001b[0;34m)\u001b[0m\u001b[0;34m\u001b[0m\u001b[0m\n\u001b[0m",
      "\u001b[0;31mAttributeError\u001b[0m: 'NoneType' object has no attribute 'print_state'"
     ]
    }
   ],
   "source": [
    "op1 = product(qt.QHStates([qt.QH([1,-1,3,1]), qt.QH([2,0,0,0])]), \"operator\", operator=qt.QHStates([qt.QH([2,-2,4,4])]))\n",
    "op1.print_state(\"operator 2x1 one state\")"
   ]
  },
  {
   "cell_type": "code",
   "execution_count": null,
   "metadata": {},
   "outputs": [],
   "source": [
    "math.gcd(3, 3)"
   ]
  },
  {
   "cell_type": "code",
   "execution_count": null,
   "metadata": {},
   "outputs": [],
   "source": [
    "def lcm(a, b):\n",
    "    return (a * b) // math.gcd(a, b)\n",
    "\n",
    "lcm(20, 8)"
   ]
  },
  {
   "cell_type": "code",
   "execution_count": null,
   "metadata": {},
   "outputs": [],
   "source": [
    "op1 = product(qt.QHStates([qt.QH([1,-1,3,1]), qt.QH([2,0,2,3])]), \"operator\", operator=qt.QHStates([qt.QH([1, 2, 3, 4]),qt.QH([2,-2,4,4])]))\n",
    "op1.print_state(\"operator 2x2 one state\")"
   ]
  },
  {
   "cell_type": "code",
   "execution_count": null,
   "metadata": {},
   "outputs": [],
   "source": []
  },
  {
   "cell_type": "code",
   "execution_count": null,
   "metadata": {},
   "outputs": [],
   "source": []
  }
 ],
 "metadata": {
  "kernelspec": {
   "display_name": "Python 3",
   "language": "python",
   "name": "python3"
  },
  "language_info": {
   "codemirror_mode": {
    "name": "ipython",
    "version": 3
   },
   "file_extension": ".py",
   "mimetype": "text/x-python",
   "name": "python",
   "nbconvert_exporter": "python",
   "pygments_lexer": "ipython3",
   "version": "3.5.1"
  }
 },
 "nbformat": 4,
 "nbformat_minor": 2
}
