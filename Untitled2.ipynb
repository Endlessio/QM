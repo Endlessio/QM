{
 "cells": [
  {
   "cell_type": "code",
   "execution_count": 4,
   "metadata": {},
   "outputs": [
    {
     "name": "stdout",
     "output_type": "stream",
     "text": [
      "v = (\n",
      "[\n",
      "    1.00 \n",
      "    0.00 \n",
      "   -0.00 \n",
      "   -0.00 \n",
      "]\n",
      "[\n",
      "]\n",
      "[\n",
      "]\n",
      "[\n",
      "]\n",
      ")\n",
      "u = \n",
      "[\n",
      "    1.00 \n",
      "    0.00 \n",
      "    0.00 \n",
      "    0.00 \n",
      "]\n",
      "[\n",
      "]\n",
      "[\n",
      "]\n",
      "[\n",
      "]\n",
      ")\n"
     ]
    }
   ],
   "source": [
    "a=((1,  1,  1,   1), # matrix A #\n",
    "     (2,  4,  8,  16),\n",
    "     (3,  9, 27,  81),\n",
    "     (4, 16, 64, 256))\n",
    " \n",
    "b=((  4  , -3  ,  4/3.,  -1/4. ), # matrix B #\n",
    "     (-13/3., 19/4., -7/3.,  11/24.),\n",
    "     (  3/2., -2.  ,  7/6.,  -1/4. ),\n",
    "     ( -1/6.,  1/4., -1/6.,   1/24.))\n",
    " \n",
    " \n",
    " \n",
    "def MatrixMul( mtx_a, mtx_b):\n",
    "    tpos_b = zip( *mtx_b)\n",
    "    rtn = [[ sum( ea*eb for ea,eb in zip(a,b)) for b in tpos_b] for a in mtx_a]\n",
    "    return rtn\n",
    " \n",
    " \n",
    "v = MatrixMul( a, b )\n",
    " \n",
    "print('v = (')\n",
    "for r in v:\n",
    "    print('[') \n",
    "    for val in r:\n",
    "        print('%8.2f '%val) \n",
    "    print(']')\n",
    "print(')')\n",
    " \n",
    " \n",
    "u = MatrixMul(b,a)\n",
    " \n",
    "print('u = ')\n",
    "for r in u:\n",
    "    print('[') \n",
    "    for val in r:\n",
    "        print('%8.2f '%val) \n",
    "    print(']')\n",
    "print(')')"
   ]
  },
  {
   "cell_type": "code",
   "execution_count": 8,
   "metadata": {},
   "outputs": [
    {
     "name": "stdout",
     "output_type": "stream",
     "text": [
      "m:  [[1], [2], [3], [4]]\n",
      "t:  (1, 2, 3, 4)\n"
     ]
    }
   ],
   "source": [
    "m = [[1], [2], [3], [4]]\n",
    "print(\"m: \", m)\n",
    "tm = zip( *m)\n",
    "\n",
    "for t in tm:\n",
    "    print(\"t: \", t)"
   ]
  },
  {
   "cell_type": "code",
   "execution_count": 10,
   "metadata": {},
   "outputs": [
    {
     "name": "stdout",
     "output_type": "stream",
     "text": [
      "ab:  [[4, 5, 6], [], []]\n",
      "ba:  [[32]]\n"
     ]
    }
   ],
   "source": [
    "# 3 rows, 1 column\n",
    "a=[[1], [2], [3]]\n",
    "# 1 row, 3 columns\n",
    "b=[[4, 5, 6]]\n",
    "\n",
    "# ab is: 3.1 * 1.3 = 3x3 matrix, 9 elements\n",
    "ab = MatrixMul(a, b)\n",
    "\n",
    "# ba is: 1.3 * 3.1 = 1x1 matrix, 1 element\n",
    "ba = MatrixMul(b, a)\n",
    "\n",
    "print(\"ab: \", ab)\n",
    "print(\"ba: \", ba)"
   ]
  },
  {
   "cell_type": "code",
   "execution_count": null,
   "metadata": {},
   "outputs": [],
   "source": []
  }
 ],
 "metadata": {
  "kernelspec": {
   "display_name": "Python 3",
   "language": "python",
   "name": "python3"
  },
  "language_info": {
   "codemirror_mode": {
    "name": "ipython",
    "version": 3
   },
   "file_extension": ".py",
   "mimetype": "text/x-python",
   "name": "python",
   "nbconvert_exporter": "python",
   "pygments_lexer": "ipython3",
   "version": "3.5.1"
  }
 },
 "nbformat": 4,
 "nbformat_minor": 2
}
