{
 "cells": [
  {
   "cell_type": "markdown",
   "metadata": {},
   "source": [
    "# Reflections on Gauss' Notebook Using Quaternions"
   ]
  },
  {
   "cell_type": "markdown",
   "metadata": {},
   "source": [
    "Gauss did this work around 1819. He recorded it in [one of his notebooks|https://books.google.com/books?id=aecGAAAAYAAJ&pg=PA357#v=onepage&q&f=false], pages 357-361 that got published in 1900. He did not consider it refined to the level of publishable material.\n",
    "\n",
    "He had cracked the problem of rotations in 3D space."
   ]
  },
  {
   "cell_type": "markdown",
   "metadata": {},
   "source": [
    "## Section I.1: Transformations of Space"
   ]
  },
  {
   "cell_type": "markdown",
   "metadata": {},
   "source": [
    "![Mutations of Space/Transformation of space](images/Gauss/100.mutations_of_space.png)"
   ]
  },
  {
   "cell_type": "markdown",
   "metadata": {},
   "source": [
    "    Mutations of Space\n",
    "    Transformations of Space"
   ]
  },
  {
   "cell_type": "markdown",
   "metadata": {},
   "source": [
    "In his notebooks, he did not bother to explain why he started in a particular place. He just \"went for it\", where it is hard core math."
   ]
  },
  {
   "cell_type": "markdown",
   "metadata": {},
   "source": [
    "![](images/Gauss/110.first_transformations.png)"
   ]
  },
  {
   "cell_type": "markdown",
   "metadata": {},
   "source": [
    "    Set... a, b, c, d\n",
    "    \n",
    "    so is... 3x3 matrix\n",
    "    \n",
    "    the general transformation of space coordinates, or if a, b, c, d mean what they\n",
    "    want, then 9 magnitudes of the schemes have the folloing proportions... 3x3 matrix"
   ]
  },
  {
   "cell_type": "markdown",
   "metadata": {},
   "source": [
    "There is not need for further explanation so long as you have the math skills of Gauss... which would be nobody else. In Goldstein's book, \"Classical Mechanics: Second Edition\", chapter 4 is devoted to rigid body motion. He takes 25 pages to get to equation 4-67 which is a slight variation on the last 3x3 matrix. There may be 9 terms, but they are not all independent because this is an orthogonal transformation. As such, the product of the off-diagonal terms need to be zero: $$(ad + bc)(bc -ad) = b^2 c^2 - a^2 d^2 = 0$$. No doubt Gauss knew that and just let the math speak for itself.\n",
    "\n",
    "What jumped out of the page for me was the definition of a, b, c, and d. In the C_Star_algebra notebook, I wrote:\n",
    "\n",
    "    I (probably re-)invented the first and second conjugates.\n",
    "    \n",
    "$$ A^{*1} \\equiv (i q i)^* [= (-t, x, -y, -z)]$$\n",
    "$$ A^{*2} \\equiv (j q j)^* [= (-t, -x, y, -z)]$$\n",
    "    \n",
    "Yup! Gauss was using the negatives of the first, second, and third conjugates. Let me demonstrate that."
   ]
  },
  {
   "cell_type": "code",
   "execution_count": 1,
   "metadata": {},
   "outputs": [],
   "source": [
    "%%capture\n",
    "%matplotlib inline\n",
    "import numpy as np\n",
    "import sympy as sp\n",
    "import matplotlib.pyplot as plt\n",
    "import math\n",
    "\n",
    "# To get equations the look like, well, equations, use the following.\n",
    "from sympy.interactive import printing\n",
    "printing.init_printing(use_latex=True)\n",
    "from IPython.display import display\n",
    "\n",
    "# Tools for manipulating quaternions.\n",
    "import Q_tools as qt;\n",
    "\n",
    "from IPython.core.display import display, HTML, Math, Latex\n",
    "display(HTML(\"<style>.container { width:100% !important; }</style>\"))"
   ]
  },
  {
   "cell_type": "markdown",
   "metadata": {},
   "source": [
    "Square roots cause hassles, so I am going to work with the square of these terms. All the operations will be done from one initial quaternion taking various conjugates."
   ]
  },
  {
   "cell_type": "code",
   "execution_count": 2,
   "metadata": {},
   "outputs": [
    {
     "name": "stdout",
     "output_type": "stream",
     "text": [
      "a²\n",
      "(0.500000000000000, -0.5*p, -0.5*q, -0.5*r) Q*xQ\n",
      "\n",
      "b²\n",
      "(0.500000000000000, -0.5*p, 0.5*q, 0.5*r) -Q*1xQ\n",
      "\n",
      "c²\n",
      "(0.500000000000000, 0.5*p, -0.5*q, 0.5*r) -Q*2xQ\n",
      "\n",
      "d²\n",
      "(0.500000000000000, 0.5*p, 0.5*q, -0.5*r) Q**1*2xQ\n"
     ]
    }
   ],
   "source": [
    "p, q, r = sp.symbols(\"p q r\")\n",
    "Q = qt.QH([1, p, q, r])\n",
    "half = qt.QH([1/2, 0, 0, 0])\n",
    "a2 = Q.conj().product(half)\n",
    "b2 = Q.conj(1).flip_signs().product(half)\n",
    "c2 = Q.conj(2).flip_signs().product(half)\n",
    "d2 = Q.conj().conj(1).conj(2).product(half)\n",
    "\n",
    "a2.print_state(\"a²\", 1)\n",
    "b2.print_state(\"b²\", 1)\n",
    "c2.print_state(\"c²\", 1)\n",
    "d2.print_state(\"d²\")"
   ]
  },
  {
   "cell_type": "markdown",
   "metadata": {},
   "source": [
    "I have not used these various conjugates in many equations, so it is a huge amount of fun to see Gauss putting them to use. I doubt few look at the final 3x3 matrix and see what it means exactly. All it takes is a little algebra. First the three off diagonal terms:"
   ]
  },
  {
   "cell_type": "code",
   "execution_count": 3,
   "metadata": {},
   "outputs": [
    {
     "name": "stdout",
     "output_type": "stream",
     "text": [
      "(cc + dd - aa - bb)/2\n",
      "(0, 1.0*p, 0, 0) -Q*2xQx-Q*2xQ+Q**1*2xQxQ**1*2xQ-Q*xQxQ*xQ--Q*1xQx-Q*1xQxQ\n",
      "\n",
      "(bb + dd - aa - cc)/2\n",
      "(0, 0, 1.0*q, 0) -Q*1xQx-Q*1xQ+Q**1*2xQxQ**1*2xQ-Q*xQxQ*xQ--Q*2xQx-Q*2xQxQ\n",
      "\n",
      "(bb + cc - aa - dd)/2\n",
      "(0, 0, 0, 1.0*r) -Q*1xQx-Q*1xQ+-Q*2xQx-Q*2xQ-Q*xQxQ*xQ-Q**1*2xQxQ**1*2xQxQ\n"
     ]
    }
   ],
   "source": [
    "aa = a2.product(a2)\n",
    "bb = b2.product(b2)\n",
    "cc = c2.product(c2)\n",
    "dd = d2.product(d2)\n",
    "\n",
    "ccddaabb = cc.add(dd).dif(aa).dif(bb).product(half)\n",
    "bbddaacc = bb.add(dd).dif(aa).dif(cc).product(half)\n",
    "bbccaadd = bb.add(cc).dif(aa).dif(dd).product(half)\n",
    "\n",
    "ccddaabb.print_state(\"(cc + dd - aa - bb)/2\", 1)\n",
    "bbddaacc.print_state(\"(bb + dd - aa - cc)/2\", 1)\n",
    "bbccaadd.print_state(\"(bb + cc - aa - dd)/2\")"
   ]
  },
  {
   "cell_type": "markdown",
   "metadata": {},
   "source": [
    "OK, this was no surprise since it can be seen looking at the previous 3x3 matrix. Look at the off diagonal terms one pair at a time."
   ]
  },
  {
   "cell_type": "code",
   "execution_count": 4,
   "metadata": {},
   "outputs": [
    {
     "name": "stdout",
     "output_type": "stream",
     "text": [
      "ad + bc\n",
      "(0.5*p**2 + 0.5*q**2 - 0.5*r**2 + 0.5, 1.0*q*r, 0, 0) Q*xQxQ**1*2xQ+-Q*1xQx-Q*2xQ\n",
      "\n",
      "bc - ad\n",
      "(0, 0, 1.0*p*r, 1.0*r) -Q*1xQx-Q*2xQ-Q*xQxQ**1*2xQ\n"
     ]
    }
   ],
   "source": [
    "ad = a2.product(d2)\n",
    "bc = b2.product(c2)\n",
    "\n",
    "adbc = ad.add(bc)\n",
    "bcad = bc.dif(ad)\n",
    "\n",
    "adbc.print_state(\"ad + bc\", 1)\n",
    "bcad.print_state(\"bc - ad\")"
   ]
  },
  {
   "cell_type": "markdown",
   "metadata": {},
   "source": [
    "How neat, two terms are zeros and the zeros do not overlap. Form the product of the two:"
   ]
  },
  {
   "cell_type": "code",
   "execution_count": 5,
   "metadata": {},
   "outputs": [
    {
     "name": "stdout",
     "output_type": "stream",
     "text": [
      "(ad + bc)(bc - ad)\n",
      "(0, 0, 1.0*p*r*(0.5*p**2 + 0.5*q**2 - 0.5*r**2 + 0.5) - 1.0*q*r**2, 1.0*p*q*r**2 + 1.0*r*(0.5*p**2 + 0.5*q**2 - 0.5*r**2 + 0.5)) \n"
     ]
    }
   ],
   "source": [
    "adbc.product(bcad).print_state(\"(ad + bc)(bc - ad)\", quiet=True)"
   ]
  },
  {
   "cell_type": "markdown",
   "metadata": {},
   "source": [
    "These two are _orthagonal_ because the first term is zero. The phase terms are complicated, but often in physics, the phase is ignored. Not a good practice, but common."
   ]
  },
  {
   "cell_type": "code",
   "execution_count": 6,
   "metadata": {},
   "outputs": [
    {
     "name": "stdout",
     "output_type": "stream",
     "text": [
      "ac - bd\n",
      "(0, 0, -1.0*q, 1.0*p*q) Q*xQx-Q*2xQ--Q*1xQxQ**1*2xQ\n",
      "\n",
      "-ac - bd\n",
      "(-0.5*p**2 + 0.5*q**2 - 0.5*r**2 - 0.5, 1.0*q*r, 0, 0) -Q*xQx-Q*2xQ--Q*1xQxQ**1*2xQ\n",
      "\n",
      "(ac - bd)(-ac - bd)\n",
      "(0, 0, 1.0*p*q**2*r - 1.0*q*(-0.5*p**2 + 0.5*q**2 - 0.5*r**2 - 0.5), 1.0*p*q*(-0.5*p**2 + 0.5*q**2 - 0.5*r**2 - 0.5) + 1.0*q**2*r) \n"
     ]
    }
   ],
   "source": [
    "ac = a2.product(c2)\n",
    "bd = b2.product(d2)\n",
    "\n",
    "acbd  = ac.dif(bd)\n",
    "nacbd = ac.flip_signs().dif(bd)\n",
    "\n",
    "acbd.print_state(\"ac - bd\", 1)\n",
    "nacbd.print_state(\"-ac - bd\", 1)\n",
    "acbd.product(nacbd).print_state(\"(ac - bd)(-ac - bd)\", quiet=True)"
   ]
  },
  {
   "cell_type": "code",
   "execution_count": 7,
   "metadata": {},
   "outputs": [
    {
     "name": "stdout",
     "output_type": "stream",
     "text": [
      "ab + cd\n",
      "(-0.5*p**2 + 0.5*q**2 + 0.5*r**2 + 0.5, 0, 1.0*p*r, 0) Q*xQx-Q*1xQ+-Q*2xQxQ**1*2xQ\n",
      "\n",
      "cd - ab\n",
      "(0, 1.0*p, 0, 1.0*p*q) -Q*2xQxQ**1*2xQ-Q*xQx-Q*1xQ\n",
      "\n",
      "(ab + cd)(cd - ab)\n",
      "(0, 1.0*p**2*q*r + 1.0*p*(-0.5*p**2 + 0.5*q**2 + 0.5*r**2 + 0.5), 0, -1.0*p**2*r + 1.0*p*q*(-0.5*p**2 + 0.5*q**2 + 0.5*r**2 + 0.5)) \n"
     ]
    }
   ],
   "source": [
    "ab = a2.product(b2)\n",
    "cd = c2.product(d2)\n",
    "\n",
    "abcd  = ab.add(cd)\n",
    "cdab = cd.dif(ab)\n",
    "\n",
    "abcd.print_state(\"ab + cd\", 1)\n",
    "cdab.print_state(\"cd - ab\", 1)\n",
    "abcd.product(cdab).print_state(\"(ab + cd)(cd - ab)\", quiet=True)"
   ]
  },
  {
   "cell_type": "markdown",
   "metadata": {},
   "source": [
    "## Section I.2: Another Transformation"
   ]
  },
  {
   "cell_type": "markdown",
   "metadata": {},
   "source": [
    "Gauss was aware of how arbitrary the signs were. In section 2, he looks at a different possibility."
   ]
  },
  {
   "cell_type": "markdown",
   "metadata": {},
   "source": [
    "![](images/Gauss/120.second_transformations.png)"
   ]
  },
  {
   "cell_type": "code",
   "execution_count": 8,
   "metadata": {},
   "outputs": [
    {
     "name": "stdout",
     "output_type": "stream",
     "text": [
      "A²\n",
      "(0.500000000000000, 0.5*p, 0.5*q, 0.5*r) QxQ\n",
      "\n",
      "B²\n",
      "(0.500000000000000, 0.5*p, -0.5*q, -0.5*r) -Q**1xQ\n",
      "\n",
      "C²\n",
      "(0.500000000000000, -0.5*p, 0.5*q, -0.5*r) -Q**2xQ\n",
      "\n",
      "D²\n",
      "(0.500000000000000, -0.5*p, -0.5*q, 0.5*r) Q*1*2xQ\n"
     ]
    }
   ],
   "source": [
    "A2 = Q.product(half)\n",
    "B2 = Q.conj().conj(1).flip_signs().product(half)\n",
    "C2 = Q.conj().conj(2).flip_signs().product(half)\n",
    "D2 = Q.conj(1).conj(2).product(half)\n",
    "\n",
    "A2.print_state(\"A²\", 1)\n",
    "B2.print_state(\"B²\", 1)\n",
    "C2.print_state(\"C²\", 1)\n",
    "D2.print_state(\"D²\")"
   ]
  },
  {
   "cell_type": "markdown",
   "metadata": {},
   "source": [
    "Generating this variation was simple: I either add or subtracted one conjugate operator from section 1. Look at one diagonal and one off diagonal term:"
   ]
  },
  {
   "cell_type": "code",
   "execution_count": 9,
   "metadata": {},
   "outputs": [
    {
     "name": "stdout",
     "output_type": "stream",
     "text": [
      "AA + BB - CC - DD\n",
      "(0, 1.0*p, 0, 0) QxQxQxQ+-Q**1xQx-Q**1xQ--Q**2xQx-Q**2xQ-Q*1*2xQxQ*1*2xQxQ\n"
     ]
    }
   ],
   "source": [
    "AA = A2.product(A2)\n",
    "BB = B2.product(B2)\n",
    "CC = C2.product(C2)\n",
    "DD = D2.product(D2)\n",
    "\n",
    "AABBCCDD = AA.add(BB).dif(CC).dif(DD).product(half)\n",
    "AABBCCDD.print_state(\"AA + BB - CC - DD\")"
   ]
  },
  {
   "cell_type": "code",
   "execution_count": 10,
   "metadata": {},
   "outputs": [
    {
     "name": "stdout",
     "output_type": "stream",
     "text": [
      "-ad - bc\n",
      "(-0.5*p**2 - 0.5*q**2 + 0.5*r**2 - 0.5, -1.0*q*r, 0, 0) -QxQxQ*1*2xQ--Q**1xQx-Q**2xQ\n",
      "\n",
      "ad - bc\n",
      "(0, 0, -1.0*p*r, 1.0*r) QxQxQ*1*2xQ--Q**1xQx-Q**2xQ\n"
     ]
    }
   ],
   "source": [
    "AD = A2.product(D2)\n",
    "BC = B2.product(C2)\n",
    "\n",
    "nADBC = AD.flip_signs().dif(BC)\n",
    "ADBC = AD.dif(BC)\n",
    "\n",
    "nADBC.print_state(\"-ad - bc\", 1)\n",
    "ADBC.print_state(\"ad - bc\")"
   ]
  },
  {
   "cell_type": "markdown",
   "metadata": {},
   "source": [
    "No surprises."
   ]
  },
  {
   "cell_type": "markdown",
   "metadata": {},
   "source": [
    "## Section I.3: The Multiplication Rule for Quaternions"
   ]
  },
  {
   "cell_type": "markdown",
   "metadata": {},
   "source": [
    "Since there are many sorts of transformations of space out there, Gauss figured out how to combine them.\n",
    "\n",
    "Gauss is not going to use the work \"quaternion\" since it remains in the King James Bible and not in the lexicon of mathematicians. He used the word \"scale\", but I will substitute scale -> quaternion in the text below:"
   ]
  },
  {
   "cell_type": "markdown",
   "metadata": {},
   "source": [
    "![](images/Gauss/130.quaternion_multiplication.png)"
   ]
  },
  {
   "cell_type": "markdown",
   "metadata": {},
   "source": [
    "    The product of two transformations, \n",
    "    the first of which is a quaternion, \n",
    "    the second of which corresponds to a quaternion, \n",
    "    produces a new quaternion:"
   ]
  },
  {
   "cell_type": "code",
   "execution_count": 11,
   "metadata": {},
   "outputs": [
    {
     "name": "stdout",
     "output_type": "stream",
     "text": [
      "q2 x q1\n",
      "(a*α - b*β - c*γ - d*δ, a*β + b*α - c*δ + d*γ, a*γ + b*δ + c*α - d*β, a*δ - b*γ + c*β + d*α) QxQ\n"
     ]
    }
   ],
   "source": [
    "a, b, c, d = sp.symbols(\"a b c d\")\n",
    "α, β, γ, δ = sp.symbols(\"α β γ δ\")\n",
    "q1 = qt.QH([a, b, c, d])\n",
    "q2 = qt.QH([α, β, γ, δ])\n",
    "q2q1 = q2.product(q1)\n",
    "q2q1.print_state(\"q2 x q1\")"
   ]
  },
  {
   "cell_type": "markdown",
   "metadata": {},
   "source": [
    "The first time through I did not get the answer correct. Gauss looked at this as a way of combining transformations of space. He was not thinking of this as the product of two numbers as we do today. Only in this order is the answer the same as Gauss wrote. Still there is no doubt this is a quaternion product."
   ]
  },
  {
   "cell_type": "markdown",
   "metadata": {},
   "source": [
    "## Section I.4: Bring in the Half Angles"
   ]
  },
  {
   "cell_type": "markdown",
   "metadata": {},
   "source": [
    "Gauss recognized this was a general rule. There is some sort of divide, between a and b, c, d, variables that can be anything at all. Gauss decides to write in trig functions."
   ]
  },
  {
   "cell_type": "markdown",
   "metadata": {},
   "source": [
    "![](images/Gauss/140.half_angles.png)"
   ]
  },
  {
   "cell_type": "markdown",
   "metadata": {},
   "source": [
    "    If the coordinates of the stationary point ξ, η, ζ have an\n",
    "    magnitude = nn, rotation = λ, then one can set"
   ]
  },
  {
   "cell_type": "markdown",
   "metadata": {},
   "source": [
    "Gauss understoon rotations in a plane using cosines and sines. I am not quite understanding what the \"nn\" accomplishes. This is a magnitude, how high or low the trig function goes. If b, c, d have their own values of ξ, η, and ζ, then the amplitude of $a$ can be anything. There looks like 5 values one is free to set: the four amplitudes and the angle λ. He may be thinking of 3D space as the central thing going on with his transformations.\n",
    "\n",
    "Gauss does not comment in his notebook about the factor of a half on the angle. It takes 6π to return home for a quaternion, a topic that has been discussed extensively. At this juncture, he knows it is needed."
   ]
  },
  {
   "cell_type": "markdown",
   "metadata": {},
   "source": [
    "## Section I.5 WTF"
   ]
  },
  {
   "cell_type": "markdown",
   "metadata": {},
   "source": [
    "I don't understand this section. I will detail a few things I do."
   ]
  },
  {
   "cell_type": "markdown",
   "metadata": {},
   "source": [
    "![](images/Gauss/150.wtf.png)"
   ]
  },
  {
   "cell_type": "markdown",
   "metadata": {},
   "source": [
    "    We write:\n",
    "    so is:"
   ]
  },
  {
   "cell_type": "markdown",
   "metadata": {},
   "source": [
    "The product of two quaternions is being analyzed to find relationships between the product and the things that go into it. Each term can be isolated using different combinations of conjugates. He also calculates the norm of both quaternions going into the product."
   ]
  },
  {
   "cell_type": "code",
   "execution_count": 12,
   "metadata": {},
   "outputs": [
    {
     "name": "stdout",
     "output_type": "stream",
     "text": [
      "A\n",
      "(1.0*a*α - 1.0*b*β - 1.0*c*γ - 1.0*d*δ, 0, 0, 0) QxQ+QxQ*xQ\n",
      "\n",
      "B\n",
      "(0, 1.0*a*β + 1.0*b*α - 1.0*c*δ + 1.0*d*γ, 0, 0) QxQ+QxQ*1xQ\n",
      "\n",
      "C\n",
      "(0, 0, 1.0*a*γ + 1.0*b*δ + 1.0*c*α - 1.0*d*β, 0) QxQ+QxQ*2xQ\n",
      "\n",
      "D\n",
      "(0, 0, 0, 1.0*a*δ - 1.0*b*γ + 1.0*c*β + 1.0*d*α) QxQ-QxQ**1*2xQ\n",
      "\n",
      "||m||\n",
      "(α**2 + β**2 + γ**2 + δ**2, 0, 0, 0) ||Q||^2\n",
      "\n",
      "||μ||\n",
      "(a**2 + b**2 + c**2 + d**2, 0, 0, 0) ||Q||^2\n"
     ]
    }
   ],
   "source": [
    "A = q2q1.add(q2q1.conj()).product(half)\n",
    "B = q2q1.add(q2q1.conj(1)).product(half)\n",
    "C = q2q1.add(q2q1.conj(2)).product(half)\n",
    "D = q2q1.dif(q2q1.conj().conj(1).conj(2)).product(half)\n",
    "m = q2.norm_squared()\n",
    "μ = q1.norm_squared()\n",
    "A.print_state(\"A\", 1)\n",
    "B.print_state(\"B\", 1)\n",
    "C.print_state(\"C\", 1)\n",
    "D.print_state(\"D\", 1)\n",
    "m.print_state(\"||m||\", 1)\n",
    "μ.print_state(\"||μ||\")\n"
   ]
  },
  {
   "cell_type": "markdown",
   "metadata": {},
   "source": [
    "So far, so good. Using different combinations of conjugates, I can isolate each sum or difference. Work on the first two lines:"
   ]
  },
  {
   "cell_type": "code",
   "execution_count": 17,
   "metadata": {},
   "outputs": [
    {
     "name": "stdout",
     "output_type": "stream",
     "text": [
      "C + D = q1xq2 + q1xq2 ⃰ ⃰¹\n",
      "(0, 0, 1.0*a*γ + 1.0*b*δ + 1.0*c*α - 1.0*d*β, 1.0*a*δ - 1.0*b*γ + 1.0*c*β + 1.0*d*α) QxQ+QxQ*1*xQ\n",
      "\n",
      "A + B= q1xq2 - q1xq2 ⃰ ⃰¹\n",
      "(1.0*a*α - 1.0*b*β - 1.0*c*γ - 1.0*d*δ, 1.0*a*β + 1.0*b*α - 1.0*c*δ + 1.0*d*γ, 0, 0) QxQ-QxQ*1*xQ\n",
      "\n",
      "c + d = q1 + q1x ⃰ ⃰¹\n",
      "(0, 0, 1.0*c, 1.0*d) Q+Q**1xQ\n",
      "\n",
      "a + b = q1 - q1x ⃰ ⃰¹\n",
      "(1.0*a, 1.0*b, 0, 0) Q-Q**1xQ\n"
     ]
    }
   ],
   "source": [
    "CD = q2q1.add(q2q1.conj(1).conj()).product(half)\n",
    "CD.print_state(\"C + D = q1xq2 + q1xq2 ⃰ ⃰¹\", 1)\n",
    "AB = q2q1.dif(q2q1.conj(1).conj()).product(half)\n",
    "AB.print_state(\"A + B= q1xq2 - q1xq2 ⃰ ⃰¹\", 1)\n",
    "cd = q1.add(q1.conj().conj(1)).product(half)\n",
    "cd.print_state(\"c + d = q1 + q1 ⃰ ⃰¹\", 1)\n",
    "ab = q1.dif(q1.conj().conj(1)).product(half)\n",
    "ab.print_state(\"a + b = q1 - q1 ⃰ ⃰¹\")"
   ]
  },
  {
   "cell_type": "markdown",
   "metadata": {},
   "source": [
    "Now the greek letter set."
   ]
  },
  {
   "cell_type": "code",
   "execution_count": 20,
   "metadata": {},
   "outputs": [
    {
     "name": "stdout",
     "output_type": "stream",
     "text": [
      "C - D = q1xq2 ⃰ ⃰¹ ⃰² + q1xq2 ⃰²\n",
      "(0, 0, 1.0*a*γ + 1.0*b*δ + 1.0*c*α - 1.0*d*β, -1.0*a*δ + 1.0*b*γ - 1.0*c*β - 1.0*d*α) \n",
      "\n",
      "a + b = q2 - q2 ⃰ ⃰¹\n",
      "(1.0*α, 1.0*β, 0, 0) \n",
      "\n",
      "γ - δ = q2 ⃰ ⃰¹ ⃰² + q2 ⃰²\n",
      "(0, 0, 1.0*γ, -1.0*δ) \n",
      "\n"
     ]
    }
   ],
   "source": [
    "CmD = q2q1.conj().conj(1).conj(2).add(q2q1.conj(2)).product(half)\n",
    "αβ = q2.dif(q2.conj().conj(1)).product(half)\n",
    "γmδ = q2.conj().conj(1).conj(2).add(q2.conj(2)).product(half)\n",
    "\n",
    "CmD.print_state(\"C - D = q1xq2 ⃰ ⃰¹ ⃰² + q1xq2 ⃰²\", 1, 1)\n",
    "αβ.print_state(\"a + b = q2 - q2 ⃰ ⃰¹\", 1, 1)\n",
    "γmδ.print_state(\"γ - δ = q2 ⃰ ⃰¹ ⃰² + q2 ⃰²\", 1, 1)"
   ]
  },
  {
   "cell_type": "markdown",
   "metadata": {},
   "source": [
    "**This is not what Gauss wrote**. Just want to make that clear. He had an additional factor of $i$ on the second term. "
   ]
  }
 ],
 "metadata": {
  "kernelspec": {
   "display_name": "Python 3",
   "language": "python",
   "name": "python3"
  },
  "language_info": {
   "codemirror_mode": {
    "name": "ipython",
    "version": 3
   },
   "file_extension": ".py",
   "mimetype": "text/x-python",
   "name": "python",
   "nbconvert_exporter": "python",
   "pygments_lexer": "ipython3",
   "version": "3.6.7"
  }
 },
 "nbformat": 4,
 "nbformat_minor": 2
}
