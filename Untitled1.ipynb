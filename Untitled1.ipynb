{
 "cells": [
  {
   "cell_type": "code",
   "execution_count": 1,
   "metadata": {},
   "outputs": [],
   "source": [
    "%%capture\n",
    "%matplotlib inline\n",
    "import numpy as np\n",
    "import sympy as sp\n",
    "import matplotlib.pyplot as plt\n",
    "import math\n",
    "\n",
    "# To get equations the look like, well, equations, use the following.\n",
    "from sympy.interactive import printing\n",
    "printing.init_printing(use_latex=True)\n",
    "from IPython.display import display\n",
    "\n",
    "# Tools for manipulating quaternions.\n",
    "import Q_tools as qt;\n",
    "\n",
    "from IPython.core.display import display, HTML, Math, Latex\n",
    "display(HTML(\"<style>.container { width:100% !important; }</style>\"))"
   ]
  },
  {
   "cell_type": "markdown",
   "metadata": {},
   "source": [
    "Try to figure out the identity_op() function for QHStates."
   ]
  },
  {
   "cell_type": "code",
   "execution_count": null,
   "metadata": {},
   "outputs": [],
   "source": []
  },
  {
   "cell_type": "code",
   "execution_count": 6,
   "metadata": {},
   "outputs": [],
   "source": [
    "def identity_op(dim):\n",
    "    \"\"\"Identity operator for states.\"\"\"\n",
    "    \n",
    "    q_1 = qt.QHStates([qt.QH().q_1()])\n",
    "    return qt.QHStates.diagonal(q_1, dim)"
   ]
  },
  {
   "cell_type": "code",
   "execution_count": 7,
   "metadata": {},
   "outputs": [
    {
     "name": "stdout",
     "output_type": "stream",
     "text": [
      "op 3\n",
      "n=1: (1, 0, 0, 0) 1\n",
      "n=2: (0, 0, 0, 0) 0\n",
      "n=3: (0, 0, 0, 0) 0\n",
      "n=4: (0, 0, 0, 0) 0\n",
      "n=5: (1, 0, 0, 0) 1\n",
      "n=6: (0, 0, 0, 0) 0\n",
      "n=7: (0, 0, 0, 0) 0\n",
      "n=8: (0, 0, 0, 0) 0\n",
      "n=9: (1, 0, 0, 0) 1\n",
      "sum= (3, 0, 0, 0) 1+0+0+0+1+0+0+0+1\n"
     ]
    }
   ],
   "source": [
    "identity_op(3).print_state(\"op 3\")"
   ]
  },
  {
   "cell_type": "code",
   "execution_count": 9,
   "metadata": {},
   "outputs": [
    {
     "name": "stdout",
     "output_type": "stream",
     "text": [
      "A\n",
      "n=1: (At1, Ax1, Ay1, Az1) a₁\n",
      "n=2: (At2, Ax2, Ay2, Az2) a₂\n",
      "sum= (At1 + At2, Ax1 + Ax2, Ay1 + Ay2, Az1 + Az2) a₁+a₂\n",
      "\n"
     ]
    }
   ],
   "source": [
    "At1, Ax1, Ay1, Az1 = sp.symbols(\"At1 Ax1 Ay1 Az1\")\n",
    "At2, Ax2, Ay2, Az2 = sp.symbols(\"At2 Ax2 Ay2 Az2\")\n",
    "Aq1 = qt.QH([At1, Ax1, Ay1, Az1], qtype=\"a₁\")\n",
    "Aq2 = qt.QH([At2, Ax2, Ay2, Az2], qtype=\"a₂\")\n",
    "A = qt.QHStates([Aq1, Aq2])\n",
    "A.print_state(\"A\", 1)"
   ]
  },
  {
   "cell_type": "code",
   "execution_count": 11,
   "metadata": {},
   "outputs": [
    {
     "name": "stdout",
     "output_type": "stream",
     "text": [
      "i2A\n",
      "n=1: (At1, Ax1, Ay1, Az1) 1xa₁+0xa₂\n",
      "n=2: (At2, Ax2, Ay2, Az2) 0xa₁+1xa₂\n",
      "sum= (At1 + At2, Ax1 + Ax2, Ay1 + Ay2, Az1 + Az2) 1xa₁+0xa₂+0xa₁+1xa₂\n"
     ]
    }
   ],
   "source": [
    "i2 = identity_op(2)\n",
    "i2A = A.Euclidean_product(\"ket\", operator=i2)\n",
    "i2A.print_state(\"i2A\")"
   ]
  },
  {
   "cell_type": "code",
   "execution_count": null,
   "metadata": {},
   "outputs": [],
   "source": []
  }
 ],
 "metadata": {
  "kernelspec": {
   "display_name": "Python 3",
   "language": "python",
   "name": "python3"
  },
  "language_info": {
   "codemirror_mode": {
    "name": "ipython",
    "version": 3
   },
   "file_extension": ".py",
   "mimetype": "text/x-python",
   "name": "python",
   "nbconvert_exporter": "python",
   "pygments_lexer": "ipython3",
   "version": "3.5.1"
  }
 },
 "nbformat": 4,
 "nbformat_minor": 2
}
